{
 "cells": [
  {
   "cell_type": "code",
   "execution_count": 5,
   "metadata": {
    "id": "d_hAe96_Ht8U"
   },
   "outputs": [],
   "source": [
    "import sys\n",
    "import os\n",
    "\n",
    "# sklearn\n",
    "from sklearn.metrics import precision_recall_fscore_support\n",
    "from sklearn.model_selection import train_test_split\n",
    "from sklearn.preprocessing import LabelEncoder\n",
    "\n",
    "from interpret_text.experimental.classical import ClassicalTextExplainer\n"
   ]
  },
  {
   "cell_type": "code",
   "execution_count": 6,
   "metadata": {
    "colab": {
     "base_uri": "https://localhost:8080/"
    },
    "id": "8eWwMEx4Je1H",
    "outputId": "c42107f9-0dba-4bb5-e3a1-36c3489922fa"
   },
   "outputs": [],
   "source": [
    "import pandas as pd"
   ]
  },
  {
   "cell_type": "code",
   "execution_count": 7,
   "metadata": {
    "colab": {
     "base_uri": "https://localhost:8080/"
    },
    "id": "rD3cx2NOKQgU",
    "outputId": "8f3a748c-621e-4c9d-f157-3ec70f7c50bb"
   },
   "outputs": [
    {
     "data": {
      "text/plain": [
       "0              ৭৫ হামলার আসামী কে এই গডফাদার কালা মন্দির?\n",
       "1       রাজাকারদের মন্ত্রী বানানোর দায়ে তার আরও কঠিন ব...\n",
       "2       বৃটিশ নাগরিকদের বাংলাদেশ ভ্রমনে সতর্কতা জারী ২...\n",
       "3        বলদ নয়াদিগন্ত কালকে রিপোর্ট করলো হিলারী শপথ ন...\n",
       "4       অসভ্য বর্বর বেহায়া ভোট ডাকাত সকল প্রকার খারাপ ...\n",
       "                              ...                        \n",
       "5882    কতটা!জানোয়ার হলে দাদা নামের কুলাঙ্গার তার সাত ...\n",
       "5883    ঐ শুয়োরের মুখে কোষে দুটা জুতার বারি মার ঐ খান...\n",
       "5884          তাকে বলে দিও, লিঙ্গ মুখে নিলে বাচ্চা হয় না \n",
       "5885      হেসে লাভ নাই, এইবার মাইর খাবা। কোন মাফ পাবা না।\n",
       "5886    মাহি যে ব্যক্তি একটা মেম্বার হওয়ার যোগ্য না বে...\n",
       "Name: text, Length: 5887, dtype: object"
      ]
     },
     "execution_count": 7,
     "metadata": {},
     "output_type": "execute_result"
    }
   ],
   "source": [
    "train = pd.read_csv('../../DeepHateLingo/input/train.csv')\n",
    "train.head()\n",
    "\n",
    "x_train = train['text']\n",
    "y_train = train['target']\n",
    "x_train"
   ]
  },
  {
   "cell_type": "code",
   "execution_count": 8,
   "metadata": {
    "colab": {
     "base_uri": "https://localhost:8080/"
    },
    "id": "0q4eTwj7LAL2",
    "outputId": "d617bf00-cad9-4cb1-8db7-8d72bf5d3257"
   },
   "outputs": [
    {
     "data": {
      "text/plain": [
       "0       মুশরিকদের হত্যা কর যেখানেই তাদের পাও এবং তাদের...\n",
       "1                      কোথায় মহারানী আর কোথায় চুতমারানী? \n",
       "2       হিন্দু বা কাফের দের সাতে হাত মিলিয়ে সারা দুনিয়...\n",
       "3       নিজের তো সব গেছেই এখন মেয়েটার জীবন শেষ করতে আক...\n",
       "4       এই ছবি পুরো জাতীকে লজ্জা দেয়, আজ ঢাকায় ট্রাক থ...\n",
       "                              ...                        \n",
       "1195    কুদ্দুস বলতো গরু আমাদের কি দেয়? স্যার, গরু আমা...\n",
       "1196    ওরা দুজন আগের জন্মে মুসলমান ছিল এই জন্মে হিন্দ...\n",
       "1197    মুহম্মদ দুনিয়াতেই মাগিবাজি লম্পটগিরি করল তার উ...\n",
       "1198           কেনেন, লাগান, ভুলে যান। আরাম করে চুদে দেন।\n",
       "1199    এক পক্ষ হয়রানির শিকার সময়ের সাহসী শিক্ষক হালিম...\n",
       "Name: text, Length: 1200, dtype: object"
      ]
     },
     "execution_count": 8,
     "metadata": {},
     "output_type": "execute_result"
    }
   ],
   "source": [
    "test = pd.read_csv('../../DeepHateLingo/input/test.csv')\n",
    "test.head()\n",
    "\n",
    "x_test = test['text']\n",
    "y_test = test['target']\n",
    "x_test"
   ]
  },
  {
   "cell_type": "code",
   "execution_count": 9,
   "metadata": {
    "colab": {
     "base_uri": "https://localhost:8080/"
    },
    "id": "l-9zW_ZVLLPF",
    "outputId": "1ec9a4f5-eca9-4574-9682-67053b3a22ec"
   },
   "outputs": [
    {
     "data": {
      "text/plain": [
       "0                 বীর্যপাতের আগে সে হিরো, আর পরে সে জিরো\n",
       "1      এই টাকলা, এদিকে শোন ভদ্র ভাবে কথা বল মাননীয় বা...\n",
       "2                 তোদের জ¦লবে আমার তাতেই চলবে। কি বুজলি?\n",
       "3                            আপনার গরম লাগে না শরম লাগে?\n",
       "4      নিজের আল্লাহ রি চরিত্রটা দেখ ৭২ হুরের লোভে তরা...\n",
       "                             ...                        \n",
       "995            আমরা লুটে পুটে খাই, তাই আনন্দের সীমা নাই \n",
       "996    সব মিমারদের চরিত্র খারাপ, তাতে আমার বাল ছিড়া গ...\n",
       "997    এই ম্যাইয়ারে হেমায়েতপুর থেইকা খোলা অবস্থায় ছাই...\n",
       "998    অভিজিৎ রায় হত্যাকান্ড। খুনিরা দিব্যি চলে গেল, ...\n",
       "999      পুরো আরবরা কেন পরাজিত? আরবদের ইতিহাস জানতে হবে।\n",
       "Name: text, Length: 1000, dtype: object"
      ]
     },
     "execution_count": 9,
     "metadata": {},
     "output_type": "execute_result"
    }
   ],
   "source": [
    "validation = pd.read_csv('../../DeepHateLingo/input/validation.csv')\n",
    "validation.head()\n",
    "\n",
    "x_valid = validation['text']\n",
    "y_valid = validation['target']\n",
    "x_valid"
   ]
  },
  {
   "cell_type": "code",
   "execution_count": 10,
   "metadata": {
    "id": "3bRIQlv_V2g7"
   },
   "outputs": [],
   "source": [
    "X_train, X_test, y_train, y_test = train_test_split(x_train, y_train, train_size=0.8, test_size=0.2)"
   ]
  },
  {
   "cell_type": "code",
   "execution_count": 14,
   "metadata": {},
   "outputs": [],
   "source": [
    "# Create explainer object that contains default glassbox classifier and explanation methods\n",
    "explainer = ClassicalTextExplainer()\n",
    "label_encoder = LabelEncoder()"
   ]
  },
  {
   "cell_type": "code",
   "execution_count": 15,
   "metadata": {
    "id": "h25FWPXEWzYP"
   },
   "outputs": [],
   "source": [
    "y_train = label_encoder.fit_transform(y_train)\n",
    "y_test = label_encoder.transform(y_test)"
   ]
  },
  {
   "cell_type": "code",
   "execution_count": 16,
   "metadata": {
    "colab": {
     "base_uri": "https://localhost:8080/"
    },
    "id": "99kuFkeALbs1",
    "outputId": "92dd2fa8-5301-4bef-c35c-6bc281778c5f"
   },
   "outputs": [
    {
     "name": "stdout",
     "output_type": "stream",
     "text": [
      "X_train shape =(4709,)\n",
      "y_train shape =(4709,)\n",
      "X_train data structure = <class 'pandas.core.series.Series'>\n"
     ]
    }
   ],
   "source": [
    "print(\"X_train shape =\" + str(X_train.shape))\n",
    "print(\"y_train shape =\" + str(y_train.shape))\n",
    "print(\"X_train data structure = \" + str(type(X_train)))"
   ]
  },
  {
   "cell_type": "code",
   "execution_count": 17,
   "metadata": {
    "colab": {
     "base_uri": "https://localhost:8080/"
    },
    "id": "JeMz9jqnLjKN",
    "outputId": "43c69efc-652a-4959-f612-d60a5ffcbb16"
   },
   "outputs": [
    {
     "name": "stderr",
     "output_type": "stream",
     "text": [
      "The parameter 'token_pattern' will not be used since 'tokenizer' is not None'\n",
      "The max_iter was reached which means the coef_ did not converge\n",
      "The max_iter was reached which means the coef_ did not converge\n",
      "The max_iter was reached which means the coef_ did not converge\n",
      "The max_iter was reached which means the coef_ did not converge\n"
     ]
    }
   ],
   "source": [
    "classifier, best_params = explainer.fit(X_train, y_train)"
   ]
  },
  {
   "cell_type": "code",
   "execution_count": 18,
   "metadata": {
    "colab": {
     "base_uri": "https://localhost:8080/"
    },
    "id": "aTtTKFdJLpM3",
    "outputId": "39b5b160-a809-4f9a-bbae-7de2312c9ba0"
   },
   "outputs": [
    {
     "name": "stdout",
     "output_type": "stream",
     "text": [
      "best classifier: {'C': 10000, 'multi_class': 'multinomial', 'solver': 'saga'}\n"
     ]
    }
   ],
   "source": [
    "# obtain best classifier and hyper params\n",
    "print(\"best classifier: \" + str(best_params))"
   ]
  },
  {
   "cell_type": "code",
   "execution_count": 19,
   "metadata": {
    "id": "F45uER1XLr6d"
   },
   "outputs": [],
   "source": [
    "#mean_accuracy = classifier.score(x_test, y_test, sample_weight=None)\n",
    "#print(\"accuracy = \" + str(mean_accuracy * 100) + \"%\")\n",
    "y_pred = classifier.predict(X_test)\n",
    "[precision, recall, fscore, support] = precision_recall_fscore_support(y_test, y_pred,average='macro')"
   ]
  },
  {
   "cell_type": "code",
   "execution_count": 20,
   "metadata": {
    "id": "2OXJCRw8Ot-2"
   },
   "outputs": [],
   "source": [
    "# for testing\n",
    "from scrapbook.api import glue\n",
    "\n",
    "working_dir = os.getcwd()"
   ]
  },
  {
   "cell_type": "code",
   "execution_count": 22,
   "metadata": {},
   "outputs": [],
   "source": [
    "mean_accuracy = classifier.score(X_test, y_test, sample_weight=None)"
   ]
  },
  {
   "cell_type": "code",
   "execution_count": 23,
   "metadata": {
    "colab": {
     "base_uri": "https://localhost:8080/",
     "height": 35
    },
    "id": "F3rE9T5EL4Vn",
    "outputId": "5a277737-1bde-47c4-a91a-774cebdd386c"
   },
   "outputs": [
    {
     "data": {
      "application/scrapbook.scrap.json+json": {
       "data": 0.7852292020373515,
       "encoder": "json",
       "name": "accuracy",
       "version": 1
      }
     },
     "metadata": {
      "scrapbook": {
       "data": true,
       "display": false,
       "name": "accuracy"
      }
     },
     "output_type": "display_data"
    },
    {
     "data": {
      "application/scrapbook.scrap.json+json": {
       "data": 0.779819377693524,
       "encoder": "json",
       "name": "precision",
       "version": 1
      }
     },
     "metadata": {
      "scrapbook": {
       "data": true,
       "display": false,
       "name": "precision"
      }
     },
     "output_type": "display_data"
    },
    {
     "data": {
      "application/scrapbook.scrap.json+json": {
       "data": 0.7152975046823749,
       "encoder": "json",
       "name": "recall",
       "version": 1
      }
     },
     "metadata": {
      "scrapbook": {
       "data": true,
       "display": false,
       "name": "recall"
      }
     },
     "output_type": "display_data"
    },
    {
     "data": {
      "application/scrapbook.scrap.json+json": {
       "data": 0.7401923211049852,
       "encoder": "json",
       "name": "f1",
       "version": 1
      }
     },
     "metadata": {
      "scrapbook": {
       "data": true,
       "display": false,
       "name": "f1"
      }
     },
     "output_type": "display_data"
    },
    {
     "name": "stdout",
     "output_type": "stream",
     "text": [
      "[precision, recall, fscore, support] = [0.779819377693524, 0.7152975046823749, 0.7401923211049852, None]\n"
     ]
    }
   ],
   "source": [
    "glue(\"accuracy\", mean_accuracy)\n",
    "glue(\"precision\", precision)\n",
    "glue(\"recall\", recall)\n",
    "glue(\"f1\", fscore)\n",
    "print(\"[precision, recall, fscore, support] = \" + str([precision, recall, fscore, support]))"
   ]
  },
  {
   "cell_type": "code",
   "execution_count": 24,
   "metadata": {
    "id": "jVdrYNxfL9Gy"
   },
   "outputs": [],
   "source": [
    "# Enter any document or a document and label pair that needs to be interpreted\n",
    "document = \"কয়েকবছর আগে ভারতের নির্বাচনে চরম সাম্প্রদায়িক কট্টরপন্থী দল বিজেপির নেতা মোদী রাষ্ট্রীয় ক্ষমতায় আসীন হলে আমাদের দেশের বিএনপির বাধঁ ভাঙ্গা উল্লাস দেখে মনে হয়েছিল যে মোদী এবার সোনিয়া গান্ধীর চরম আস্থাভাজন হাসিনা সরকার কে চিৎপটাং করে খালেদা জিয়া কে মসনদে বসিয়ে দিবে কিন্তু হায় সে আশায় গুড়ে বালি দিয়ে মোদী আর ও বেশী দীর্ঘ দিন হাসিনা সরকারকে ক্ষমতায় থাকার পথ সুগম করে দিল\""
   ]
  },
  {
   "cell_type": "code",
   "execution_count": 34,
   "metadata": {},
   "outputs": [],
   "source": [
    "doc2 = \"খানকি তোদের জন্য বাংলার যুবগয়া আজ খায়াপ বড বড দুধ আর পাছা ঢাকের রাখ মাগি\"\n",
    "doc3 = \"ছাত্রলীগকে সন্ত্রাসী সংগঠন হিসেবে ষোষনা করে ছাত্রলীগের রাজনীতি নিষিদ্ধ ঘোষনা করা হোক\""
   ]
  },
  {
   "cell_type": "code",
   "execution_count": 25,
   "metadata": {
    "id": "4R-6_cWQMBQV"
   },
   "outputs": [],
   "source": [
    "# Obtain the top feature ids for the selected class label\n",
    "explainer.preprocessor.labelEncoder = label_encoder"
   ]
  },
  {
   "cell_type": "code",
   "execution_count": 35,
   "metadata": {
    "id": "sXExoxplR6zO"
   },
   "outputs": [],
   "source": [
    "local_explanation = explainer.explain_local(doc3)"
   ]
  },
  {
   "cell_type": "code",
   "execution_count": 36,
   "metadata": {
    "colab": {
     "base_uri": "https://localhost:8080/",
     "height": 35,
     "referenced_widgets": [
      "78acb1c284b24563bd2c8f7f525ce37e"
     ]
    },
    "id": "KSTDTUhAMFWg",
    "outputId": "387fa94e-0ca2-43e5-d8ba-a4ff2b460ae5"
   },
   "outputs": [
    {
     "data": {
      "application/vnd.jupyter.widget-view+json": {
       "model_id": "d96441fdc3894b4a9b5bd6ca19684ef0",
       "version_major": 2,
       "version_minor": 0
      },
      "text/plain": [
       "ExplanationWidget(value={'text': ['ছাত্রলীগকে', 'সন্ত্রাসী', 'সংগঠন', 'হিসেবে', 'ষোষনা', 'করে', 'ছাত্রলীগের', …"
      ]
     },
     "metadata": {},
     "output_type": "display_data"
    },
    {
     "data": {
      "text/plain": [
       "<interpret_text.experimental.widget.ExplanationDashboard.ExplanationDashboard at 0x7ffb885f6b10>"
      ]
     },
     "execution_count": 36,
     "metadata": {},
     "output_type": "execute_result"
    }
   ],
   "source": [
    "y = classifier.predict(doc3)\n",
    "predicted_label = label_encoder.inverse_transform(y)\n",
    "local_explanation = explainer.explain_local(doc3, predicted_label)\n",
    "\n",
    "from interpret_text.experimental.widget import ExplanationDashboard\n",
    "ExplanationDashboard(local_explanation)"
   ]
  },
  {
   "cell_type": "code",
   "execution_count": null,
   "metadata": {},
   "outputs": [],
   "source": [
    "ছাত্রলীগকে সন্ত্রাসী সংগঠন হিসেবে ষোষনা করে ছাত্রলীগের রাজনীতি নিষিদ্ধ ঘোষনা করা হোক"
   ]
  }
 ],
 "metadata": {
  "colab": {
   "name": "Untitled0.ipynb",
   "provenance": []
  },
  "kernelspec": {
   "display_name": "Python 3",
   "language": "python",
   "name": "python3"
  },
  "language_info": {
   "codemirror_mode": {
    "name": "ipython",
    "version": 3
   },
   "file_extension": ".py",
   "mimetype": "text/x-python",
   "name": "python",
   "nbconvert_exporter": "python",
   "pygments_lexer": "ipython3",
   "version": "3.8.5"
  },
  "widgets": {
   "application/vnd.jupyter.widget-state+json": {
    "78acb1c284b24563bd2c8f7f525ce37e": {
     "model_module": "interpret-text-widget",
     "model_name": "ExplanationModel",
     "state": {
      "_dom_classes": [],
      "_model_module": "interpret-text-widget",
      "_model_module_version": "^0.1.0",
      "_model_name": "ExplanationModel",
      "_view_count": null,
      "_view_module": "interpret-text-widget",
      "_view_module_version": "^0.1.1",
      "_view_name": "ExplanationView",
      "layout": "IPY_MODEL_9a9ca002bfe7429e819be2783db3bdac",
      "value": {
       "classNames": [
        0,
        1,
        2,
        3
       ],
       "localExplanations": [
        0.00699800162424668,
        0.10559848971834275,
        2.2050347415984053,
        0.242866509564822,
        0.2008675709644241,
        -0.12701737767484378,
        0.026774859854940533,
        -0.007726143305508279,
        0.1410628681017664,
        0.2918903293524868,
        0.11150974152905357,
        0.19280073017174632,
        0.25521599088049474,
        0.026774859854940533,
        0.043648724333460086,
        0.17207476982396958,
        0.7070437232118999,
        -0.08158826489238645,
        0.026774859854940533,
        0.22549229522420405,
        -0.023419218107383868,
        -0.08577614871329921,
        -0.038312903656739485,
        -0.0320915805917073,
        -0.020711646642955325,
        0.11150974152905357,
        -0.013644604985901728,
        0.07277231063619392,
        0.026774859854940533,
        0.2008675709644241,
        0.026774859854940533,
        -0.008101567864737664,
        0.3562247906664416,
        -0.38914349686677147,
        0.026774859854940533,
        -0.177542668620974,
        -0.4921993357772324,
        -0.42357889147421957,
        -0.38914349686677147,
        0.026774859854940533,
        0.02305942416462371,
        0.20312087475710008,
        0.3010330005534624,
        0.14239417846791644,
        -0.034157349620590534,
        0.048347991633474335,
        0.026774859854940533,
        -0.0004999974750457045,
        -0.2522949477357815,
        0.11150974152905357,
        0.007257997979457842,
        -0.15646220788732593,
        0.3776010419343474,
        0.026774859854940533,
        0.20869322608247398,
        -0.008101567864737664,
        0.012262748924453507,
        0.25521599088049474,
        -0.08979067868050344,
        0.2374847783374564,
        0.026774859854940533,
        -0.177542668620974,
        0.4118905892519778
       ],
       "prediction": [
        1,
        1,
        1,
        0
       ],
       "text": [
        "কয়েকবছর",
        "আগে",
        "ভারতের",
        "নির্বাচনে",
        "চরম",
        "সাম্প্রদায়িক",
        "কট্টরপন্থী",
        "দল",
        "বিজেপির",
        "নেতা",
        "মোদী",
        "রাষ্ট্রীয়",
        "ক্ষমতায়",
        "আসীন",
        "হলে",
        "আমাদের",
        "দেশের",
        "বিএনপির",
        "বাধঁ",
        "ভাঙ্গা",
        "উল্লাস",
        "দেখে",
        "মনে",
        "হয়েছিল",
        "যে",
        "মোদী",
        "এবার",
        "সোনিয়া",
        "গান্ধীর",
        "চরম",
        "আস্থাভাজন",
        "হাসিনা",
        "সরকার",
        "কে",
        "চিৎপটাং",
        "করে",
        "খালেদা",
        "জিয়া",
        "কে",
        "মসনদে",
        "বসিয়ে",
        "দিবে",
        "কিন্তু",
        "হায়",
        "সে",
        "আশায়",
        "গুড়ে",
        "বালি",
        "দিয়ে",
        "মোদী",
        "আর",
        "ও",
        "বেশী",
        "দীর্ঘ",
        "দিন",
        "হাসিনা",
        "সরকারকে",
        "ক্ষমতায়",
        "থাকার",
        "পথ",
        "সুগম",
        "করে",
        "দিল"
       ]
      }
     }
    }
   }
  }
 },
 "nbformat": 4,
 "nbformat_minor": 1
}
