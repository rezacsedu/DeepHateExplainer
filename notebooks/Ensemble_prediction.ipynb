{
 "cells": [
  {
   "cell_type": "code",
   "execution_count": 1,
   "metadata": {
    "colab": {
     "base_uri": "https://localhost:8080/"
    },
    "executionInfo": {
     "elapsed": 913,
     "status": "ok",
     "timestamp": 1606938700668,
     "user": {
      "displayName": "Sumon Kanti",
      "photoUrl": "",
      "userId": "05416831200802014787"
     },
     "user_tz": -480
    },
    "id": "EBO9jpH-bGYX",
    "outputId": "647fc916-420a-46c9-8cfd-52a1ea4f1c61"
   },
   "outputs": [],
   "source": [
    "import pandas as pd\n",
    "import sys\n",
    "import json\n",
    "import os\n",
    "import re\n",
    "# split the data into train and validation\n",
    "from sklearn.model_selection import train_test_split\n",
    "import warnings\n",
    "from collections import Counter\n",
    "warnings.filterwarnings(\"ignore\")"
   ]
  },
  {
   "cell_type": "code",
   "execution_count": 2,
   "metadata": {
    "executionInfo": {
     "elapsed": 892,
     "status": "ok",
     "timestamp": 1606938712278,
     "user": {
      "displayName": "Sumon Kanti",
      "photoUrl": "",
      "userId": "05416831200802014787"
     },
     "user_tz": -480
    },
    "id": "Ygd2dJ9FboLe"
   },
   "outputs": [],
   "source": [
    "bert_path = \"../../DeepHateLingo/training-script/bangla-bert-base/output/\"\n",
    "xlm_path = \"../../DeepHateLingo/training-script/xlm-roberta/output/\"\n",
    "bangla_bert = pd.read_csv(f\"{bert_path}six_bangla_bert_last_two_pred_3e5.csv\")\n",
    "mbert_cased = pd.read_csv(f\"{bert_path}six_bert_base_multilingual_cased_last_four_pred_2e5.csv\")\n",
    "mbert_uncased = pd.read_csv(f\"{bert_path}six_bert_base_multilingual_uncased_last_two_pred_5e5.csv\")\n",
    "roberta = pd.read_csv(f\"{xlm_path}five_xlm_roberta_pool_pred_2e5.csv\")"
   ]
  },
  {
   "cell_type": "code",
   "execution_count": 3,
   "metadata": {
    "executionInfo": {
     "elapsed": 1036,
     "status": "ok",
     "timestamp": 1606938715003,
     "user": {
      "displayName": "Sumon Kanti",
      "photoUrl": "",
      "userId": "05416831200802014787"
     },
     "user_tz": -480
    },
    "id": "nP6JpH7bi2qD"
   },
   "outputs": [],
   "source": [
    "target = []\n",
    "bangla_bert_pred  = []\n",
    "mbert_cased_pred = []\n",
    "mbert_uncased_pred = []\n",
    "roberta_pred = []\n",
    "for _id in range(len(bangla_bert)):\n",
    "    target.append(bangla_bert['target'][_id])\n",
    "    bangla_bert_pred.append(bangla_bert['y_pred'][_id])\n",
    "    mbert_cased_pred.append(mbert_cased['y_pred'][_id])\n",
    "    mbert_uncased_pred.append(mbert_uncased['y_pred'][_id])\n",
    "    roberta_pred.append(roberta['y_pred'][_id])"
   ]
  },
  {
   "cell_type": "code",
   "execution_count": 4,
   "metadata": {
    "executionInfo": {
     "elapsed": 894,
     "status": "ok",
     "timestamp": 1606938716413,
     "user": {
      "displayName": "Sumon Kanti",
      "photoUrl": "",
      "userId": "05416831200802014787"
     },
     "user_tz": -480
    },
    "id": "mLSJZqqnjaMh"
   },
   "outputs": [],
   "source": [
    "mx_vote_df = pd.DataFrame()\n",
    "mx_vote_df['target'] = target\n",
    "mx_vote_df['bangla-bert'] = bangla_bert_pred\n",
    "mx_vote_df['mbert-cased'] = mbert_cased_pred\n",
    "mx_vote_df['mbert-uncased'] = mbert_uncased_pred\n",
    "mx_vote_df['roberta'] = roberta_pred"
   ]
  },
  {
   "cell_type": "code",
   "execution_count": 5,
   "metadata": {
    "colab": {
     "base_uri": "https://localhost:8080/",
     "height": 363
    },
    "executionInfo": {
     "elapsed": 868,
     "status": "ok",
     "timestamp": 1606938719329,
     "user": {
      "displayName": "Sumon Kanti",
      "photoUrl": "",
      "userId": "05416831200802014787"
     },
     "user_tz": -480
    },
    "id": "u5yok6mylICr",
    "outputId": "a119b111-031e-4221-be61-f40147cdce9e"
   },
   "outputs": [
    {
     "data": {
      "text/html": [
       "<div>\n",
       "<style scoped>\n",
       "    .dataframe tbody tr th:only-of-type {\n",
       "        vertical-align: middle;\n",
       "    }\n",
       "\n",
       "    .dataframe tbody tr th {\n",
       "        vertical-align: top;\n",
       "    }\n",
       "\n",
       "    .dataframe thead th {\n",
       "        text-align: right;\n",
       "    }\n",
       "</style>\n",
       "<table border=\"1\" class=\"dataframe\">\n",
       "  <thead>\n",
       "    <tr style=\"text-align: right;\">\n",
       "      <th></th>\n",
       "      <th>target</th>\n",
       "      <th>bangla-bert</th>\n",
       "      <th>mbert-cased</th>\n",
       "      <th>mbert-uncased</th>\n",
       "      <th>roberta</th>\n",
       "    </tr>\n",
       "  </thead>\n",
       "  <tbody>\n",
       "    <tr>\n",
       "      <th>0</th>\n",
       "      <td>2</td>\n",
       "      <td>2</td>\n",
       "      <td>0</td>\n",
       "      <td>0</td>\n",
       "      <td>2</td>\n",
       "    </tr>\n",
       "    <tr>\n",
       "      <th>1</th>\n",
       "      <td>0</td>\n",
       "      <td>0</td>\n",
       "      <td>0</td>\n",
       "      <td>0</td>\n",
       "      <td>0</td>\n",
       "    </tr>\n",
       "    <tr>\n",
       "      <th>2</th>\n",
       "      <td>2</td>\n",
       "      <td>2</td>\n",
       "      <td>2</td>\n",
       "      <td>2</td>\n",
       "      <td>2</td>\n",
       "    </tr>\n",
       "    <tr>\n",
       "      <th>3</th>\n",
       "      <td>0</td>\n",
       "      <td>0</td>\n",
       "      <td>0</td>\n",
       "      <td>0</td>\n",
       "      <td>0</td>\n",
       "    </tr>\n",
       "    <tr>\n",
       "      <th>4</th>\n",
       "      <td>1</td>\n",
       "      <td>0</td>\n",
       "      <td>0</td>\n",
       "      <td>0</td>\n",
       "      <td>0</td>\n",
       "    </tr>\n",
       "    <tr>\n",
       "      <th>5</th>\n",
       "      <td>2</td>\n",
       "      <td>2</td>\n",
       "      <td>2</td>\n",
       "      <td>2</td>\n",
       "      <td>2</td>\n",
       "    </tr>\n",
       "    <tr>\n",
       "      <th>6</th>\n",
       "      <td>3</td>\n",
       "      <td>3</td>\n",
       "      <td>3</td>\n",
       "      <td>3</td>\n",
       "      <td>3</td>\n",
       "    </tr>\n",
       "    <tr>\n",
       "      <th>7</th>\n",
       "      <td>0</td>\n",
       "      <td>0</td>\n",
       "      <td>0</td>\n",
       "      <td>0</td>\n",
       "      <td>0</td>\n",
       "    </tr>\n",
       "    <tr>\n",
       "      <th>8</th>\n",
       "      <td>1</td>\n",
       "      <td>1</td>\n",
       "      <td>1</td>\n",
       "      <td>1</td>\n",
       "      <td>1</td>\n",
       "    </tr>\n",
       "    <tr>\n",
       "      <th>9</th>\n",
       "      <td>0</td>\n",
       "      <td>0</td>\n",
       "      <td>0</td>\n",
       "      <td>0</td>\n",
       "      <td>0</td>\n",
       "    </tr>\n",
       "  </tbody>\n",
       "</table>\n",
       "</div>"
      ],
      "text/plain": [
       "   target  bangla-bert  mbert-cased  mbert-uncased  roberta\n",
       "0       2            2            0              0        2\n",
       "1       0            0            0              0        0\n",
       "2       2            2            2              2        2\n",
       "3       0            0            0              0        0\n",
       "4       1            0            0              0        0\n",
       "5       2            2            2              2        2\n",
       "6       3            3            3              3        3\n",
       "7       0            0            0              0        0\n",
       "8       1            1            1              1        1\n",
       "9       0            0            0              0        0"
      ]
     },
     "execution_count": 5,
     "metadata": {},
     "output_type": "execute_result"
    }
   ],
   "source": [
    "mx_vote_df[:10]"
   ]
  },
  {
   "cell_type": "code",
   "execution_count": 6,
   "metadata": {
    "colab": {
     "base_uri": "https://localhost:8080/"
    },
    "executionInfo": {
     "elapsed": 1002,
     "status": "ok",
     "timestamp": 1606938735543,
     "user": {
      "displayName": "Sumon Kanti",
      "photoUrl": "",
      "userId": "05416831200802014787"
     },
     "user_tz": -480
    },
    "id": "uCkCoM92lJfI",
    "outputId": "45ef5a84-764b-4cbd-db95-8b0dd153c44c"
   },
   "outputs": [
    {
     "name": "stdout",
     "output_type": "stream",
     "text": [
      "bangla_bert = \n",
      " 0    519\n",
      "3    360\n",
      "2    176\n",
      "1    145\n",
      "Name: y_pred, dtype: int64\n",
      "mbert_cased = \n",
      " 0    550\n",
      "3    351\n",
      "2    162\n",
      "1    137\n",
      "Name: y_pred, dtype: int64\n",
      "mbert_uncased = \n",
      " 0    521\n",
      "3    348\n",
      "2    178\n",
      "1    153\n",
      "Name: y_pred, dtype: int64\n",
      "roberta = \n",
      " 0    507\n",
      "3    364\n",
      "2    186\n",
      "1    143\n",
      "Name: y_pred, dtype: int64\n"
     ]
    }
   ],
   "source": [
    "print(\"bangla_bert = \\n\", bangla_bert.y_pred.value_counts())\n",
    "print(\"mbert_cased = \\n\", mbert_cased.y_pred.value_counts())\n",
    "print(\"mbert_uncased = \\n\", mbert_uncased.y_pred.value_counts())\n",
    "print(\"roberta = \\n\", roberta.y_pred.value_counts())"
   ]
  },
  {
   "cell_type": "code",
   "execution_count": 7,
   "metadata": {
    "colab": {
     "base_uri": "https://localhost:8080/"
    },
    "executionInfo": {
     "elapsed": 955,
     "status": "ok",
     "timestamp": 1606938740509,
     "user": {
      "displayName": "Sumon Kanti",
      "photoUrl": "",
      "userId": "05416831200802014787"
     },
     "user_tz": -480
    },
    "id": "WZiM3A1PlxIA",
    "outputId": "2665de0d-5458-4e09-d480-3995ac680e03"
   },
   "outputs": [
    {
     "name": "stdout",
     "output_type": "stream",
     "text": [
      "voting bangla-bert = \n",
      " 0    519\n",
      "3    360\n",
      "2    176\n",
      "1    145\n",
      "Name: bangla-bert, dtype: int64\n",
      "voting mbert-cased = \n",
      " 0    550\n",
      "3    351\n",
      "2    162\n",
      "1    137\n",
      "Name: mbert-cased, dtype: int64\n",
      "voting mbert-uncased = \n",
      " 0    521\n",
      "3    348\n",
      "2    178\n",
      "1    153\n",
      "Name: mbert-uncased, dtype: int64\n",
      "voting roberta = \n",
      " 0    507\n",
      "3    364\n",
      "2    186\n",
      "1    143\n",
      "Name: roberta, dtype: int64\n"
     ]
    }
   ],
   "source": [
    "print(\"voting bangla-bert = \\n\", mx_vote_df['bangla-bert'].value_counts())\n",
    "print(\"voting mbert-cased = \\n\", mx_vote_df['mbert-cased'].value_counts())\n",
    "print(\"voting mbert-uncased = \\n\", mx_vote_df['mbert-uncased'].value_counts())\n",
    "print(\"voting roberta = \\n\",mx_vote_df['roberta'].value_counts()) \t \t \t"
   ]
  },
  {
   "cell_type": "code",
   "execution_count": 8,
   "metadata": {},
   "outputs": [],
   "source": [
    "mx_vote_df = mx_vote_df[['target','bangla-bert','mbert-uncased','roberta']]"
   ]
  },
  {
   "cell_type": "code",
   "execution_count": 9,
   "metadata": {
    "executionInfo": {
     "elapsed": 929,
     "status": "ok",
     "timestamp": 1606938757174,
     "user": {
      "displayName": "Sumon Kanti",
      "photoUrl": "",
      "userId": "05416831200802014787"
     },
     "user_tz": -480
    },
    "id": "hwtyIKKfmG0A"
   },
   "outputs": [],
   "source": [
    "preds = []\n",
    "for index in range(len(mx_vote_df)):\n",
    "    values = mx_vote_df.iloc[index].values[1:]\n",
    "    sorted_x = sorted(Counter(values).items(), key=lambda kv: kv[1],reverse=True)\n",
    "    preds.append(sorted_x[0][0])\n",
    "##preds.append(math.floor(sum(values)/5))\n",
    "mx_vote_df['preds'] = preds"
   ]
  },
  {
   "cell_type": "code",
   "execution_count": 10,
   "metadata": {
    "colab": {
     "base_uri": "https://localhost:8080/",
     "height": 424
    },
    "executionInfo": {
     "elapsed": 911,
     "status": "ok",
     "timestamp": 1606938759177,
     "user": {
      "displayName": "Sumon Kanti",
      "photoUrl": "",
      "userId": "05416831200802014787"
     },
     "user_tz": -480
    },
    "id": "19DzFblOnvlO",
    "outputId": "56676519-316c-441c-c708-f3e987639fb0"
   },
   "outputs": [
    {
     "data": {
      "text/html": [
       "<div>\n",
       "<style scoped>\n",
       "    .dataframe tbody tr th:only-of-type {\n",
       "        vertical-align: middle;\n",
       "    }\n",
       "\n",
       "    .dataframe tbody tr th {\n",
       "        vertical-align: top;\n",
       "    }\n",
       "\n",
       "    .dataframe thead th {\n",
       "        text-align: right;\n",
       "    }\n",
       "</style>\n",
       "<table border=\"1\" class=\"dataframe\">\n",
       "  <thead>\n",
       "    <tr style=\"text-align: right;\">\n",
       "      <th></th>\n",
       "      <th>target</th>\n",
       "      <th>bangla-bert</th>\n",
       "      <th>mbert-uncased</th>\n",
       "      <th>roberta</th>\n",
       "      <th>preds</th>\n",
       "    </tr>\n",
       "  </thead>\n",
       "  <tbody>\n",
       "    <tr>\n",
       "      <th>0</th>\n",
       "      <td>2</td>\n",
       "      <td>2</td>\n",
       "      <td>0</td>\n",
       "      <td>2</td>\n",
       "      <td>2</td>\n",
       "    </tr>\n",
       "    <tr>\n",
       "      <th>1</th>\n",
       "      <td>0</td>\n",
       "      <td>0</td>\n",
       "      <td>0</td>\n",
       "      <td>0</td>\n",
       "      <td>0</td>\n",
       "    </tr>\n",
       "    <tr>\n",
       "      <th>2</th>\n",
       "      <td>2</td>\n",
       "      <td>2</td>\n",
       "      <td>2</td>\n",
       "      <td>2</td>\n",
       "      <td>2</td>\n",
       "    </tr>\n",
       "    <tr>\n",
       "      <th>3</th>\n",
       "      <td>0</td>\n",
       "      <td>0</td>\n",
       "      <td>0</td>\n",
       "      <td>0</td>\n",
       "      <td>0</td>\n",
       "    </tr>\n",
       "    <tr>\n",
       "      <th>4</th>\n",
       "      <td>1</td>\n",
       "      <td>0</td>\n",
       "      <td>0</td>\n",
       "      <td>0</td>\n",
       "      <td>0</td>\n",
       "    </tr>\n",
       "    <tr>\n",
       "      <th>...</th>\n",
       "      <td>...</td>\n",
       "      <td>...</td>\n",
       "      <td>...</td>\n",
       "      <td>...</td>\n",
       "      <td>...</td>\n",
       "    </tr>\n",
       "    <tr>\n",
       "      <th>1195</th>\n",
       "      <td>0</td>\n",
       "      <td>0</td>\n",
       "      <td>0</td>\n",
       "      <td>0</td>\n",
       "      <td>0</td>\n",
       "    </tr>\n",
       "    <tr>\n",
       "      <th>1196</th>\n",
       "      <td>0</td>\n",
       "      <td>0</td>\n",
       "      <td>2</td>\n",
       "      <td>2</td>\n",
       "      <td>2</td>\n",
       "    </tr>\n",
       "    <tr>\n",
       "      <th>1197</th>\n",
       "      <td>2</td>\n",
       "      <td>2</td>\n",
       "      <td>2</td>\n",
       "      <td>2</td>\n",
       "      <td>2</td>\n",
       "    </tr>\n",
       "    <tr>\n",
       "      <th>1198</th>\n",
       "      <td>0</td>\n",
       "      <td>0</td>\n",
       "      <td>0</td>\n",
       "      <td>0</td>\n",
       "      <td>0</td>\n",
       "    </tr>\n",
       "    <tr>\n",
       "      <th>1199</th>\n",
       "      <td>0</td>\n",
       "      <td>1</td>\n",
       "      <td>0</td>\n",
       "      <td>0</td>\n",
       "      <td>0</td>\n",
       "    </tr>\n",
       "  </tbody>\n",
       "</table>\n",
       "<p>1200 rows × 5 columns</p>\n",
       "</div>"
      ],
      "text/plain": [
       "      target  bangla-bert  mbert-uncased  roberta  preds\n",
       "0          2            2              0        2      2\n",
       "1          0            0              0        0      0\n",
       "2          2            2              2        2      2\n",
       "3          0            0              0        0      0\n",
       "4          1            0              0        0      0\n",
       "...      ...          ...            ...      ...    ...\n",
       "1195       0            0              0        0      0\n",
       "1196       0            0              2        2      2\n",
       "1197       2            2              2        2      2\n",
       "1198       0            0              0        0      0\n",
       "1199       0            1              0        0      0\n",
       "\n",
       "[1200 rows x 5 columns]"
      ]
     },
     "execution_count": 10,
     "metadata": {},
     "output_type": "execute_result"
    }
   ],
   "source": [
    "mx_vote_df"
   ]
  },
  {
   "cell_type": "code",
   "execution_count": 11,
   "metadata": {
    "colab": {
     "base_uri": "https://localhost:8080/"
    },
    "executionInfo": {
     "elapsed": 887,
     "status": "ok",
     "timestamp": 1606938780947,
     "user": {
      "displayName": "Sumon Kanti",
      "photoUrl": "",
      "userId": "05416831200802014787"
     },
     "user_tz": -480
    },
    "id": "ci40Zw3emOW_",
    "outputId": "b0a2a150-52d6-4fcb-eee3-305b6f9774f8"
   },
   "outputs": [
    {
     "name": "stdout",
     "output_type": "stream",
     "text": [
      "Accuracy:: 0.8766666666666667\n",
      "Mcc Score:: 0.8205216999232595\n",
      "Precision:: 0.8775601042666743\n",
      "Recall:: 0.8766666666666667\n",
      "F_score:: 0.8763746343903924\n",
      "classification_report:: \n",
      "               precision    recall  f1-score   support\n",
      "\n",
      "           0       0.91      0.90      0.91       524\n",
      "           1       0.82      0.74      0.78       157\n",
      "           2       0.79      0.90      0.84       159\n",
      "           3       0.89      0.89      0.89       360\n",
      "\n",
      "    accuracy                           0.88      1200\n",
      "   macro avg       0.85      0.86      0.85      1200\n",
      "weighted avg       0.88      0.88      0.88      1200\n",
      "\n"
     ]
    }
   ],
   "source": [
    "from sklearn import metrics\n",
    "from sklearn.metrics import confusion_matrix, classification_report, matthews_corrcoef\n",
    "y_test = mx_vote_df.target.values\n",
    "y_pred = mx_vote_df['preds'].values\n",
    "print('Accuracy::', metrics.accuracy_score(y_test, y_pred))\n",
    "print('Mcc Score::', matthews_corrcoef(y_test, y_pred))\n",
    "print('Precision::', metrics.precision_score(y_test, y_pred, average='weighted'))\n",
    "print('Recall::', metrics.recall_score(y_test, y_pred, average='weighted'))\n",
    "print('F_score::', metrics.f1_score(y_test, y_pred, average='weighted'))\n",
    "print('classification_report:: \\n', metrics.classification_report(y_test, y_pred))"
   ]
  },
  {
   "cell_type": "code",
   "execution_count": null,
   "metadata": {
    "id": "FkIEivmetCjq"
   },
   "outputs": [],
   "source": []
  }
 ],
 "metadata": {
  "colab": {
   "authorship_tag": "ABX9TyO3DMvjWrU5P4EmbBl0q0Np",
   "name": "voting.ipynb",
   "provenance": []
  },
  "kernelspec": {
   "display_name": "Python 3",
   "language": "python",
   "name": "python3"
  },
  "language_info": {
   "codemirror_mode": {
    "name": "ipython",
    "version": 3
   },
   "file_extension": ".py",
   "mimetype": "text/x-python",
   "name": "python",
   "nbconvert_exporter": "python",
   "pygments_lexer": "ipython3",
   "version": "3.8.5"
  }
 },
 "nbformat": 4,
 "nbformat_minor": 1
}
