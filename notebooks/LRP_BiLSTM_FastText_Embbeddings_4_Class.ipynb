{
 "cells": [
  {
   "cell_type": "code",
   "execution_count": 1,
   "metadata": {
    "colab": {
     "base_uri": "https://localhost:8080/",
     "height": 34
    },
    "colab_type": "code",
    "executionInfo": {
     "elapsed": 4474,
     "status": "ok",
     "timestamp": 1565545733751,
     "user": {
      "displayName": "Sohee Cho",
      "photoUrl": "",
      "userId": "08816341305221252497"
     },
     "user_tz": -540
    },
    "id": "VGY9I3QqWIvR",
    "outputId": "08719f79-0a3f-4ed9-fddc-40986a1543f2"
   },
   "outputs": [
    {
     "name": "stderr",
     "output_type": "stream",
     "text": [
      "Using TensorFlow backend.\n",
      "/usr/local/lib/python3.7/site-packages/tensorflow/python/framework/dtypes.py:516: FutureWarning: Passing (type, 1) or '1type' as a synonym of type is deprecated; in a future version of numpy, it will be understood as (type, (1,)) / '(1,)type'.\n",
      "  _np_qint8 = np.dtype([(\"qint8\", np.int8, 1)])\n",
      "/usr/local/lib/python3.7/site-packages/tensorflow/python/framework/dtypes.py:517: FutureWarning: Passing (type, 1) or '1type' as a synonym of type is deprecated; in a future version of numpy, it will be understood as (type, (1,)) / '(1,)type'.\n",
      "  _np_quint8 = np.dtype([(\"quint8\", np.uint8, 1)])\n",
      "/usr/local/lib/python3.7/site-packages/tensorflow/python/framework/dtypes.py:518: FutureWarning: Passing (type, 1) or '1type' as a synonym of type is deprecated; in a future version of numpy, it will be understood as (type, (1,)) / '(1,)type'.\n",
      "  _np_qint16 = np.dtype([(\"qint16\", np.int16, 1)])\n",
      "/usr/local/lib/python3.7/site-packages/tensorflow/python/framework/dtypes.py:519: FutureWarning: Passing (type, 1) or '1type' as a synonym of type is deprecated; in a future version of numpy, it will be understood as (type, (1,)) / '(1,)type'.\n",
      "  _np_quint16 = np.dtype([(\"quint16\", np.uint16, 1)])\n",
      "/usr/local/lib/python3.7/site-packages/tensorflow/python/framework/dtypes.py:520: FutureWarning: Passing (type, 1) or '1type' as a synonym of type is deprecated; in a future version of numpy, it will be understood as (type, (1,)) / '(1,)type'.\n",
      "  _np_qint32 = np.dtype([(\"qint32\", np.int32, 1)])\n",
      "/usr/local/lib/python3.7/site-packages/tensorflow/python/framework/dtypes.py:525: FutureWarning: Passing (type, 1) or '1type' as a synonym of type is deprecated; in a future version of numpy, it will be understood as (type, (1,)) / '(1,)type'.\n",
      "  np_resource = np.dtype([(\"resource\", np.ubyte, 1)])\n",
      "/home/rkarim/.local/lib/python3.7/site-packages/pandas/compat/__init__.py:97: UserWarning: Could not import the lzma module. Your installed Python is incomplete. Attempting to use lzma compression will result in a RuntimeError.\n",
      "  warnings.warn(msg)\n",
      "/usr/local/lib/python3.7/site-packages/tensorboard/compat/tensorflow_stub/dtypes.py:541: FutureWarning: Passing (type, 1) or '1type' as a synonym of type is deprecated; in a future version of numpy, it will be understood as (type, (1,)) / '(1,)type'.\n",
      "  _np_qint8 = np.dtype([(\"qint8\", np.int8, 1)])\n",
      "/usr/local/lib/python3.7/site-packages/tensorboard/compat/tensorflow_stub/dtypes.py:542: FutureWarning: Passing (type, 1) or '1type' as a synonym of type is deprecated; in a future version of numpy, it will be understood as (type, (1,)) / '(1,)type'.\n",
      "  _np_quint8 = np.dtype([(\"quint8\", np.uint8, 1)])\n",
      "/usr/local/lib/python3.7/site-packages/tensorboard/compat/tensorflow_stub/dtypes.py:543: FutureWarning: Passing (type, 1) or '1type' as a synonym of type is deprecated; in a future version of numpy, it will be understood as (type, (1,)) / '(1,)type'.\n",
      "  _np_qint16 = np.dtype([(\"qint16\", np.int16, 1)])\n",
      "/usr/local/lib/python3.7/site-packages/tensorboard/compat/tensorflow_stub/dtypes.py:544: FutureWarning: Passing (type, 1) or '1type' as a synonym of type is deprecated; in a future version of numpy, it will be understood as (type, (1,)) / '(1,)type'.\n",
      "  _np_quint16 = np.dtype([(\"quint16\", np.uint16, 1)])\n",
      "/usr/local/lib/python3.7/site-packages/tensorboard/compat/tensorflow_stub/dtypes.py:545: FutureWarning: Passing (type, 1) or '1type' as a synonym of type is deprecated; in a future version of numpy, it will be understood as (type, (1,)) / '(1,)type'.\n",
      "  _np_qint32 = np.dtype([(\"qint32\", np.int32, 1)])\n",
      "/usr/local/lib/python3.7/site-packages/tensorboard/compat/tensorflow_stub/dtypes.py:550: FutureWarning: Passing (type, 1) or '1type' as a synonym of type is deprecated; in a future version of numpy, it will be understood as (type, (1,)) / '(1,)type'.\n",
      "  np_resource = np.dtype([(\"resource\", np.ubyte, 1)])\n"
     ]
    }
   ],
   "source": [
    "from __future__ import print_function\n",
    "import numpy as np\n",
    "from numpy import newaxis as na\n",
    "import keras\n",
    "\n",
    "from keras.preprocessing import sequence\n",
    "from keras.models import Sequential\n",
    "from keras.layers import Dense, Dropout, Embedding, LSTM\n",
    "from keras.datasets import imdb\n",
    "from keras.models import Model\n",
    "from keras import backend as K\n",
    "\n",
    "import matplotlib.pyplot as plt\n",
    "from IPython.display import display, HTML"
   ]
  },
  {
   "cell_type": "code",
   "execution_count": 3,
   "metadata": {},
   "outputs": [],
   "source": [
    "import os\n",
    "import sys\n",
    "import numpy as np\n",
    "import keras\n",
    "from keras.preprocessing.text import Tokenizer\n",
    "from keras.utils import to_categorical\n",
    "from keras.preprocessing.sequence import pad_sequences\n",
    "from keras.layers import Activation, Conv2D, Input, Embedding, Reshape, MaxPool2D, Concatenate, Flatten, Dropout, Dense, Conv1D\n",
    "from keras.layers import MaxPool1D\n",
    "from keras.models import Model\n",
    "from keras.callbacks import ModelCheckpoint\n",
    "from keras.optimizers import Adam\n",
    "import warnings\n",
    "warnings.filterwarnings('ignore')\n",
    "\n",
    "from keras.layers import Embedding\n",
    "# preparing input to our model\n",
    "from keras.preprocessing.text import Tokenizer\n",
    "from keras.preprocessing.sequence import pad_sequences\n",
    "\n",
    "# keras layers\n",
    "from keras.models import Sequential\n",
    "from keras.layers import Embedding, Bidirectional, LSTM, GRU, Dense\n",
    "# preparing input to our model\n",
    "from keras.preprocessing.text import Tokenizer\n",
    "from keras.preprocessing.sequence import pad_sequences\n",
    "\n",
    "import pandas as pd\n",
    "\n",
    "# keras layers\n",
    "from keras.models import Sequential\n",
    "from keras.layers import Embedding, Conv1D, GlobalMaxPooling1D, Dense"
   ]
  },
  {
   "cell_type": "code",
   "execution_count": 4,
   "metadata": {},
   "outputs": [
    {
     "name": "stdout",
     "output_type": "stream",
     "text": [
      "<class 'pandas.core.frame.DataFrame'>\n",
      "RangeIndex: 5887 entries, 0 to 5886\n",
      "Data columns (total 3 columns):\n",
      " #   Column  Non-Null Count  Dtype \n",
      "---  ------  --------------  ----- \n",
      " 0   text    5887 non-null   object\n",
      " 1   label   5887 non-null   object\n",
      " 2   target  5887 non-null   int64 \n",
      "dtypes: int64(1), object(2)\n",
      "memory usage: 138.1+ KB\n"
     ]
    },
    {
     "data": {
      "text/html": [
       "<div>\n",
       "<style scoped>\n",
       "    .dataframe tbody tr th:only-of-type {\n",
       "        vertical-align: middle;\n",
       "    }\n",
       "\n",
       "    .dataframe tbody tr th {\n",
       "        vertical-align: top;\n",
       "    }\n",
       "\n",
       "    .dataframe thead th {\n",
       "        text-align: right;\n",
       "    }\n",
       "</style>\n",
       "<table border=\"1\" class=\"dataframe\">\n",
       "  <thead>\n",
       "    <tr style=\"text-align: right;\">\n",
       "      <th></th>\n",
       "      <th>text</th>\n",
       "      <th>label</th>\n",
       "      <th>target</th>\n",
       "    </tr>\n",
       "  </thead>\n",
       "  <tbody>\n",
       "    <tr>\n",
       "      <th>0</th>\n",
       "      <td>৭৫ হামলার আসামী কে এই গডফাদার কালা মন্দির?</td>\n",
       "      <td>Personal</td>\n",
       "      <td>0</td>\n",
       "    </tr>\n",
       "    <tr>\n",
       "      <th>1</th>\n",
       "      <td>রাজাকারদের মন্ত্রী বানানোর দায়ে তার আরও কঠিন ব...</td>\n",
       "      <td>Political</td>\n",
       "      <td>1</td>\n",
       "    </tr>\n",
       "    <tr>\n",
       "      <th>2</th>\n",
       "      <td>বৃটিশ নাগরিকদের বাংলাদেশ ভ্রমনে সতর্কতা জারী ২...</td>\n",
       "      <td>Geopolitical</td>\n",
       "      <td>3</td>\n",
       "    </tr>\n",
       "    <tr>\n",
       "      <th>3</th>\n",
       "      <td>বলদ নয়াদিগন্ত কালকে রিপোর্ট করলো হিলারী শপথ ন...</td>\n",
       "      <td>Political</td>\n",
       "      <td>1</td>\n",
       "    </tr>\n",
       "    <tr>\n",
       "      <th>4</th>\n",
       "      <td>অসভ্য বর্বর বেহায়া ভোট ডাকাত সকল প্রকার খারাপ ...</td>\n",
       "      <td>Geopolitical</td>\n",
       "      <td>3</td>\n",
       "    </tr>\n",
       "  </tbody>\n",
       "</table>\n",
       "</div>"
      ],
      "text/plain": [
       "                                                text         label  target\n",
       "0         ৭৫ হামলার আসামী কে এই গডফাদার কালা মন্দির?      Personal       0\n",
       "1  রাজাকারদের মন্ত্রী বানানোর দায়ে তার আরও কঠিন ব...     Political       1\n",
       "2  বৃটিশ নাগরিকদের বাংলাদেশ ভ্রমনে সতর্কতা জারী ২...  Geopolitical       3\n",
       "3   বলদ নয়াদিগন্ত কালকে রিপোর্ট করলো হিলারী শপথ ন...     Political       1\n",
       "4  অসভ্য বর্বর বেহায়া ভোট ডাকাত সকল প্রকার খারাপ ...  Geopolitical       3"
      ]
     },
     "execution_count": 4,
     "metadata": {},
     "output_type": "execute_result"
    }
   ],
   "source": [
    "# Let's import and prep the datasets\n",
    "\n",
    "train=pd.read_csv('../../DeepHateLingo/input/train.csv', sep=',', encoding='utf-8')\n",
    "test=pd.read_csv('../../DeepHateLingo/input/test.csv', sep=',', encoding='utf-8')\n",
    "\n",
    "train.info()\n",
    "train.head()"
   ]
  },
  {
   "cell_type": "code",
   "execution_count": 5,
   "metadata": {},
   "outputs": [
    {
     "name": "stdout",
     "output_type": "stream",
     "text": [
      "<class 'pandas.core.frame.DataFrame'>\n",
      "RangeIndex: 1200 entries, 0 to 1199\n",
      "Data columns (total 3 columns):\n",
      " #   Column  Non-Null Count  Dtype \n",
      "---  ------  --------------  ----- \n",
      " 0   text    1200 non-null   object\n",
      " 1   label   1200 non-null   object\n",
      " 2   target  1200 non-null   int64 \n",
      "dtypes: int64(1), object(2)\n",
      "memory usage: 28.2+ KB\n"
     ]
    },
    {
     "data": {
      "text/html": [
       "<div>\n",
       "<style scoped>\n",
       "    .dataframe tbody tr th:only-of-type {\n",
       "        vertical-align: middle;\n",
       "    }\n",
       "\n",
       "    .dataframe tbody tr th {\n",
       "        vertical-align: top;\n",
       "    }\n",
       "\n",
       "    .dataframe thead th {\n",
       "        text-align: right;\n",
       "    }\n",
       "</style>\n",
       "<table border=\"1\" class=\"dataframe\">\n",
       "  <thead>\n",
       "    <tr style=\"text-align: right;\">\n",
       "      <th></th>\n",
       "      <th>text</th>\n",
       "      <th>label</th>\n",
       "      <th>target</th>\n",
       "    </tr>\n",
       "  </thead>\n",
       "  <tbody>\n",
       "    <tr>\n",
       "      <th>0</th>\n",
       "      <td>মুশরিকদের হত্যা কর যেখানেই তাদের পাও এবং তাদের...</td>\n",
       "      <td>Religious</td>\n",
       "      <td>2</td>\n",
       "    </tr>\n",
       "    <tr>\n",
       "      <th>1</th>\n",
       "      <td>কোথায় মহারানী আর কোথায় চুতমারানী?</td>\n",
       "      <td>Personal</td>\n",
       "      <td>0</td>\n",
       "    </tr>\n",
       "    <tr>\n",
       "      <th>2</th>\n",
       "      <td>হিন্দু বা কাফের দের সাতে হাত মিলিয়ে সারা দুনিয়...</td>\n",
       "      <td>Religious</td>\n",
       "      <td>2</td>\n",
       "    </tr>\n",
       "    <tr>\n",
       "      <th>3</th>\n",
       "      <td>নিজের তো সব গেছেই এখন মেয়েটার জীবন শেষ করতে আক...</td>\n",
       "      <td>Personal</td>\n",
       "      <td>0</td>\n",
       "    </tr>\n",
       "    <tr>\n",
       "      <th>4</th>\n",
       "      <td>এই ছবি পুরো জাতীকে লজ্জা দেয়, আজ ঢাকায় ট্রাক থ...</td>\n",
       "      <td>Political</td>\n",
       "      <td>1</td>\n",
       "    </tr>\n",
       "  </tbody>\n",
       "</table>\n",
       "</div>"
      ],
      "text/plain": [
       "                                                text      label  target\n",
       "0  মুশরিকদের হত্যা কর যেখানেই তাদের পাও এবং তাদের...  Religious       2\n",
       "1                 কোথায় মহারানী আর কোথায় চুতমারানী?    Personal       0\n",
       "2  হিন্দু বা কাফের দের সাতে হাত মিলিয়ে সারা দুনিয়...  Religious       2\n",
       "3  নিজের তো সব গেছেই এখন মেয়েটার জীবন শেষ করতে আক...   Personal       0\n",
       "4  এই ছবি পুরো জাতীকে লজ্জা দেয়, আজ ঢাকায় ট্রাক থ...  Political       1"
      ]
     },
     "execution_count": 5,
     "metadata": {},
     "output_type": "execute_result"
    }
   ],
   "source": [
    "test.info()\n",
    "test.head()"
   ]
  },
  {
   "cell_type": "code",
   "execution_count": 6,
   "metadata": {},
   "outputs": [],
   "source": [
    "import csv \n",
    "\n",
    "stop_words='../../DeepHateLingo/input/stopwords-bn.txt'\n",
    "text_data=[]\n",
    "\n",
    "with open(stop_words,'r',encoding='utf-8') as temp_output_file:\n",
    "    reader=csv.reader(temp_output_file, delimiter='\\n')\n",
    "    for row in reader:\n",
    "        text_data.append(row)\n",
    "stop_word_list=[x[0] for x in text_data]"
   ]
  },
  {
   "cell_type": "code",
   "execution_count": 7,
   "metadata": {},
   "outputs": [],
   "source": [
    "from nltk.corpus import stopwords  \n",
    "from nltk.tokenize import word_tokenize  \n",
    "from nltk.tokenize.treebank import TreebankWordDetokenizer\n",
    "  \n",
    "stop_words = set(stop_word_list)  \n",
    "\n",
    "def textCleaner(example_sent): \n",
    "    word_tokens = word_tokenize(example_sent)  \n",
    "    #filtered_sentence = [w for w in word_tokens if not w in stop_words]\n",
    "    filtered_train = TreebankWordDetokenizer().detokenize(word_tokens)\n",
    "\n",
    "    return filtered_train        "
   ]
  },
  {
   "cell_type": "code",
   "execution_count": 8,
   "metadata": {},
   "outputs": [],
   "source": [
    "filtered_test = test['text'].apply(textCleaner)"
   ]
  },
  {
   "cell_type": "code",
   "execution_count": 9,
   "metadata": {},
   "outputs": [],
   "source": [
    "filtered_train = train['text'].apply(textCleaner)"
   ]
  },
  {
   "cell_type": "code",
   "execution_count": 10,
   "metadata": {},
   "outputs": [
    {
     "data": {
      "text/plain": [
       "0       মুশরিকদের হত্যা কর যেখানেই তাদের পাও এবং তাদের...\n",
       "1                       কোথায় মহারানী আর কোথায় চুতমারানী?\n",
       "2       হিন্দু বা কাফের দের সাতে হাত মিলিয়ে সারা দুনিয়...\n",
       "3       নিজের তো সব গেছেই এখন মেয়েটার জীবন শেষ করতে আক...\n",
       "4       এই ছবি পুরো জাতীকে লজ্জা দেয়, আজ ঢাকায় ট্রাক থ...\n",
       "                              ...                        \n",
       "1195    কুদ্দুস বলতো গরু আমাদের কি দেয়? স্যার, গরু আমা...\n",
       "1196    ওরা দুজন আগের জন্মে মুসলমান ছিল এই জন্মে হিন্দ...\n",
       "1197    মুহম্মদ দুনিয়াতেই মাগিবাজি লম্পটগিরি করল তার উ...\n",
       "1198           কেনেন, লাগান, ভুলে যান। আরাম করে চুদে দেন।\n",
       "1199    এক পক্ষ হয়রানির শিকার সময়ের সাহসী শিক্ষক হালিম...\n",
       "Name: text, Length: 1200, dtype: object"
      ]
     },
     "execution_count": 10,
     "metadata": {},
     "output_type": "execute_result"
    }
   ],
   "source": [
    "filtered_test"
   ]
  },
  {
   "cell_type": "code",
   "execution_count": 11,
   "metadata": {},
   "outputs": [
    {
     "data": {
      "text/plain": [
       "Personal        2561\n",
       "Geopolitical    1691\n",
       "Religious        908\n",
       "Political        727\n",
       "Name: label, dtype: int64"
      ]
     },
     "execution_count": 11,
     "metadata": {},
     "output_type": "execute_result"
    }
   ],
   "source": [
    "train['label'].value_counts()"
   ]
  },
  {
   "cell_type": "code",
   "execution_count": 12,
   "metadata": {},
   "outputs": [
    {
     "data": {
      "text/plain": [
       "0    2561\n",
       "3    1691\n",
       "2     908\n",
       "1     727\n",
       "Name: target, dtype: int64"
      ]
     },
     "execution_count": 12,
     "metadata": {},
     "output_type": "execute_result"
    }
   ],
   "source": [
    "train['target'].value_counts()"
   ]
  },
  {
   "cell_type": "code",
   "execution_count": 13,
   "metadata": {},
   "outputs": [],
   "source": [
    "from sklearn.model_selection import train_test_split\n",
    "\n",
    "x_train, x_val, y_train, y_val = train_test_split(filtered_train, train['target'].values, test_size=0.2, random_state=42)"
   ]
  },
  {
   "cell_type": "code",
   "execution_count": 14,
   "metadata": {},
   "outputs": [],
   "source": [
    "x_test, y_test = filtered_test, test['target'].values"
   ]
  },
  {
   "cell_type": "code",
   "execution_count": 15,
   "metadata": {},
   "outputs": [],
   "source": [
    "max_features = 10000\n",
    "\n",
    "maxlen = 20\n",
    "batch_size = 32"
   ]
  },
  {
   "cell_type": "code",
   "execution_count": 16,
   "metadata": {},
   "outputs": [
    {
     "name": "stdout",
     "output_type": "stream",
     "text": [
      "Unique words : 15677\n",
      "Shape of training data tensor: (4709, 20)\n",
      "Shape of training label tensor: (1178,)\n",
      "Shape of val data tensor: (1178, 20)\n",
      "Shape of val label tensor: (1178,)\n",
      "Shape of test data tensor: (1200, 20)\n",
      "Shape of test label tensor: (1200,)\n"
     ]
    }
   ],
   "source": [
    "tokenizer  = Tokenizer(num_words = max_features)\n",
    "tokenizer.fit_on_texts(x_train)\n",
    "\n",
    "train_seq =  tokenizer.texts_to_sequences(x_train)\n",
    "val_seq =  tokenizer.texts_to_sequences(x_val)\n",
    "test_seq = tokenizer.texts_to_sequences(x_test)\n",
    "\n",
    "word_index = tokenizer.word_index\n",
    "print(\"Unique words : {}\".format(len(word_index)))\n",
    "\n",
    "x_train = pad_sequences(train_seq, maxlen=maxlen, dtype='int32', padding='post') #maxlen = maxlen, padding='post')\n",
    "x_val = pad_sequences(val_seq, maxlen=maxlen, dtype='int32', padding='post') #maxlen = maxlen, padding='post')\n",
    "x_test = pad_sequences(test_seq, maxlen=maxlen, dtype='int32', padding='post') #maxlen = maxlen, padding='post')\n",
    "\n",
    "y_train = np.asarray(y_train)\n",
    "y_val = np.asarray(y_val)\n",
    "y_test = np.asarray(y_test)\n",
    "\n",
    "#y_train = to_categorical(np.asarray(y_train), num_classes=5)\n",
    "#y_val = to_categorical(np.asarray(y_val), num_classes=5)\n",
    "#y_test = to_categorical(np.asarray(y_test), num_classes=5)\n",
    "\n",
    "print('Shape of training data tensor:', x_train.shape)\n",
    "print('Shape of training label tensor:', y_val.shape)\n",
    "\n",
    "print('Shape of val data tensor:', x_val.shape)\n",
    "print('Shape of val label tensor:', y_val.shape)\n",
    "\n",
    "print('Shape of test data tensor:', x_test.shape)\n",
    "print('Shape of test label tensor:', y_test.shape)"
   ]
  },
  {
   "cell_type": "code",
   "execution_count": 17,
   "metadata": {},
   "outputs": [],
   "source": [
    "import pandas as pd\n",
    "import numpy as np\n",
    "from itertools import permutations\n",
    "from sklearn.model_selection import train_test_split\n",
    "from sklearn.model_selection import GridSearchCV\n",
    "from sklearn.neighbors import KNeighborsClassifier\n",
    "from sklearn.tree import DecisionTreeClassifier\n",
    "from sklearn.ensemble import RandomForestClassifier\n",
    "from sklearn.linear_model import LogisticRegression\n",
    "from sklearn.svm import SVC\n",
    "from sklearn.neural_network import MLPClassifier\n",
    "from sklearn.ensemble import AdaBoostClassifier\n",
    "from sklearn.naive_bayes import GaussianNB\n",
    "from sklearn.ensemble import GradientBoostingClassifier\n",
    "from sklearn.ensemble import AdaBoostClassifier\n",
    "from sklearn.ensemble import VotingClassifier\n",
    "from sklearn.tree import DecisionTreeClassifier\n",
    "from lightgbm import LGBMClassifier\n",
    "from nltk.stem import PorterStemmer"
   ]
  },
  {
   "cell_type": "code",
   "execution_count": 18,
   "metadata": {},
   "outputs": [],
   "source": [
    "from gensim.models.keyedvectors import KeyedVectors\n",
    "from gensim.models import Word2Vec\n",
    "\n",
    "word_vectors = Word2Vec.load('../../DeepHateLingo/models/Bengali_FastText_DIM20.model')\n",
    "#word_vectors = Word2Vec.load('./models/posts.bin')"
   ]
  },
  {
   "cell_type": "code",
   "execution_count": 19,
   "metadata": {},
   "outputs": [],
   "source": [
    "NUM_WORDS=20000\n",
    "EMBEDDING_DIM=20\n",
    "\n",
    "vocabulary_size=len(tokenizer.word_index)+1\n",
    "word_index=tokenizer.word_index\n",
    "embedding_matrix = np.zeros((vocabulary_size, EMBEDDING_DIM))\n",
    "\n",
    "for word, i in word_index.items():\n",
    "    if i>=NUM_WORDS:\n",
    "        continue\n",
    "    try:\n",
    "        embedding_vector=word_vectors[word]\n",
    "        embedding_matrix[i]=embedding_vector\n",
    "    except KeyError:\n",
    "        embedding_matrix[i]=np.random.normal(0,np.sqrt(0.25),EMBEDDING_DIM)\n",
    "\n",
    "del(word_vectors)"
   ]
  },
  {
   "cell_type": "code",
   "execution_count": 20,
   "metadata": {},
   "outputs": [
    {
     "name": "stdout",
     "output_type": "stream",
     "text": [
      "WARNING:tensorflow:From /usr/local/lib/python3.7/site-packages/keras/backend/tensorflow_backend.py:74: The name tf.get_default_graph is deprecated. Please use tf.compat.v1.get_default_graph instead.\n",
      "\n"
     ]
    }
   ],
   "source": [
    "embedding_layer=Embedding(vocabulary_size, EMBEDDING_DIM, weights=[embedding_matrix],trainable=False)"
   ]
  },
  {
   "cell_type": "code",
   "execution_count": 21,
   "metadata": {},
   "outputs": [],
   "source": [
    "from keras.models import Sequential\n",
    "from keras.layers import LSTM\n",
    "from keras.layers import Dense\n",
    "from keras.layers import TimeDistributed\n",
    "from keras.layers import Bidirectional\n",
    "from keras.layers import Embedding\n",
    "from keras.initializers import Constant\n",
    "from keras.layers import *"
   ]
  },
  {
   "cell_type": "code",
   "execution_count": 22,
   "metadata": {},
   "outputs": [],
   "source": [
    "def BiLSTM_Model():\n",
    "    model = Sequential()\n",
    "    model.add(embedding_layer)\n",
    "    model.add(SpatialDropout1D(0.5))\n",
    "    model.add(Bidirectional(LSTM(64, return_sequences=True)))\n",
    "    model.add(Dropout(0.2))\n",
    "    model.add(Bidirectional(LSTM(32)))\n",
    "    #model.add(Dropout(0.2))\n",
    "    model.add(Dense(units=128, activation='relu'))\n",
    "    model.add(Dropout(0.25))\n",
    "    model.add(Dense(units=4, activation='softmax'))\n",
    "    model.compile(loss = 'sparse_categorical_crossentropy', optimizer='adam', metrics = ['accuracy'])\n",
    "    \n",
    "    print(model.summary())\n",
    "    \n",
    "    return model     "
   ]
  },
  {
   "cell_type": "code",
   "execution_count": 23,
   "metadata": {},
   "outputs": [
    {
     "name": "stdout",
     "output_type": "stream",
     "text": [
      "WARNING:tensorflow:From /usr/local/lib/python3.7/site-packages/keras/backend/tensorflow_backend.py:517: The name tf.placeholder is deprecated. Please use tf.compat.v1.placeholder instead.\n",
      "\n",
      "WARNING:tensorflow:From /usr/local/lib/python3.7/site-packages/keras/backend/tensorflow_backend.py:4138: The name tf.random_uniform is deprecated. Please use tf.random.uniform instead.\n",
      "\n",
      "WARNING:tensorflow:From /usr/local/lib/python3.7/site-packages/keras/backend/tensorflow_backend.py:174: The name tf.get_default_session is deprecated. Please use tf.compat.v1.get_default_session instead.\n",
      "\n",
      "WARNING:tensorflow:From /usr/local/lib/python3.7/site-packages/keras/backend/tensorflow_backend.py:181: The name tf.ConfigProto is deprecated. Please use tf.compat.v1.ConfigProto instead.\n",
      "\n",
      "WARNING:tensorflow:From /usr/local/lib/python3.7/site-packages/keras/backend/tensorflow_backend.py:3445: calling dropout (from tensorflow.python.ops.nn_ops) with keep_prob is deprecated and will be removed in a future version.\n",
      "Instructions for updating:\n",
      "Please use `rate` instead of `keep_prob`. Rate should be set to `rate = 1 - keep_prob`.\n",
      "WARNING:tensorflow:From /usr/local/lib/python3.7/site-packages/keras/optimizers.py:790: The name tf.train.Optimizer is deprecated. Please use tf.compat.v1.train.Optimizer instead.\n",
      "\n",
      "_________________________________________________________________\n",
      "Layer (type)                 Output Shape              Param #   \n",
      "=================================================================\n",
      "embedding_1 (Embedding)      (None, None, 20)          313560    \n",
      "_________________________________________________________________\n",
      "spatial_dropout1d_1 (Spatial (None, None, 20)          0         \n",
      "_________________________________________________________________\n",
      "bidirectional_1 (Bidirection (None, None, 128)         43520     \n",
      "_________________________________________________________________\n",
      "dropout_1 (Dropout)          (None, None, 128)         0         \n",
      "_________________________________________________________________\n",
      "bidirectional_2 (Bidirection (None, 64)                41216     \n",
      "_________________________________________________________________\n",
      "dense_1 (Dense)              (None, 128)               8320      \n",
      "_________________________________________________________________\n",
      "dropout_2 (Dropout)          (None, 128)               0         \n",
      "_________________________________________________________________\n",
      "dense_2 (Dense)              (None, 4)                 516       \n",
      "=================================================================\n",
      "Total params: 407,132\n",
      "Trainable params: 93,572\n",
      "Non-trainable params: 313,560\n",
      "_________________________________________________________________\n",
      "None\n"
     ]
    }
   ],
   "source": [
    "model = BiLSTM_Model()"
   ]
  },
  {
   "cell_type": "code",
   "execution_count": 24,
   "metadata": {},
   "outputs": [
    {
     "name": "stdout",
     "output_type": "stream",
     "text": [
      "WARNING:tensorflow:From /usr/local/lib/python3.7/site-packages/tensorflow/python/ops/math_grad.py:1250: add_dispatch_support.<locals>.wrapper (from tensorflow.python.ops.array_ops) is deprecated and will be removed in a future version.\n",
      "Instructions for updating:\n",
      "Use tf.where in 2.0, which has the same broadcast rule as np.where\n",
      "Train on 4709 samples, validate on 1178 samples\n",
      "Epoch 1/50\n",
      "4709/4709 [==============================] - 5s 1ms/step - loss: 1.1624 - acc: 0.5271 - val_loss: 1.0279 - val_acc: 0.5857\n",
      "Epoch 2/50\n",
      "4709/4709 [==============================] - 3s 659us/step - loss: 1.0607 - acc: 0.5776 - val_loss: 0.9618 - val_acc: 0.6171\n",
      "Epoch 3/50\n",
      "4709/4709 [==============================] - 3s 662us/step - loss: 1.0454 - acc: 0.5772 - val_loss: 0.9382 - val_acc: 0.6375\n",
      "Epoch 4/50\n",
      "4709/4709 [==============================] - 3s 662us/step - loss: 1.0250 - acc: 0.5861 - val_loss: 0.9104 - val_acc: 0.6452\n",
      "Epoch 5/50\n",
      "4709/4709 [==============================] - 3s 662us/step - loss: 1.0002 - acc: 0.6099 - val_loss: 0.8723 - val_acc: 0.6545\n",
      "Epoch 6/50\n",
      "4709/4709 [==============================] - 3s 661us/step - loss: 0.9952 - acc: 0.6031 - val_loss: 0.8474 - val_acc: 0.6749\n",
      "Epoch 7/50\n",
      "4709/4709 [==============================] - 3s 661us/step - loss: 0.9668 - acc: 0.6139 - val_loss: 0.8523 - val_acc: 0.6630\n",
      "Epoch 8/50\n",
      "4709/4709 [==============================] - 3s 662us/step - loss: 0.9592 - acc: 0.6233 - val_loss: 0.8660 - val_acc: 0.6613\n",
      "Epoch 9/50\n",
      "4709/4709 [==============================] - 3s 661us/step - loss: 0.9438 - acc: 0.6233 - val_loss: 0.8288 - val_acc: 0.6808\n",
      "Epoch 10/50\n",
      "4709/4709 [==============================] - 3s 661us/step - loss: 0.9328 - acc: 0.6284 - val_loss: 0.8372 - val_acc: 0.6740\n",
      "Epoch 11/50\n",
      "4709/4709 [==============================] - 3s 662us/step - loss: 0.9373 - acc: 0.6296 - val_loss: 0.8357 - val_acc: 0.6715\n",
      "Epoch 12/50\n",
      "4709/4709 [==============================] - 3s 660us/step - loss: 0.9298 - acc: 0.6403 - val_loss: 0.8307 - val_acc: 0.6732\n",
      "Epoch 13/50\n",
      "4709/4709 [==============================] - 3s 660us/step - loss: 0.9262 - acc: 0.6405 - val_loss: 0.8283 - val_acc: 0.6834\n",
      "Epoch 14/50\n",
      "4709/4709 [==============================] - 3s 662us/step - loss: 0.9113 - acc: 0.6441 - val_loss: 0.8115 - val_acc: 0.6876\n",
      "Epoch 15/50\n",
      "4709/4709 [==============================] - 3s 664us/step - loss: 0.9055 - acc: 0.6460 - val_loss: 0.7932 - val_acc: 0.6944\n",
      "Epoch 16/50\n",
      "4709/4709 [==============================] - 3s 663us/step - loss: 0.8899 - acc: 0.6547 - val_loss: 0.7901 - val_acc: 0.7012\n",
      "Epoch 17/50\n",
      "4709/4709 [==============================] - 3s 663us/step - loss: 0.8922 - acc: 0.6509 - val_loss: 0.7775 - val_acc: 0.6986\n",
      "Epoch 18/50\n",
      "4709/4709 [==============================] - 3s 662us/step - loss: 0.8801 - acc: 0.6513 - val_loss: 0.7980 - val_acc: 0.6944\n",
      "Epoch 19/50\n",
      "4709/4709 [==============================] - 3s 663us/step - loss: 0.8899 - acc: 0.6568 - val_loss: 0.7637 - val_acc: 0.7037\n",
      "Epoch 20/50\n",
      "4709/4709 [==============================] - 3s 662us/step - loss: 0.8810 - acc: 0.6526 - val_loss: 0.7945 - val_acc: 0.6919\n",
      "Epoch 21/50\n",
      "4709/4709 [==============================] - 3s 661us/step - loss: 0.8692 - acc: 0.6592 - val_loss: 0.7982 - val_acc: 0.6944\n",
      "Epoch 22/50\n",
      "4709/4709 [==============================] - 3s 660us/step - loss: 0.8685 - acc: 0.6560 - val_loss: 0.7631 - val_acc: 0.7054\n",
      "Epoch 23/50\n",
      "4709/4709 [==============================] - 3s 665us/step - loss: 0.8787 - acc: 0.6585 - val_loss: 0.7984 - val_acc: 0.6995\n",
      "Epoch 24/50\n",
      "4709/4709 [==============================] - 3s 665us/step - loss: 0.8687 - acc: 0.6640 - val_loss: 0.7933 - val_acc: 0.6986\n",
      "Epoch 25/50\n",
      "4709/4709 [==============================] - 3s 665us/step - loss: 0.8643 - acc: 0.6725 - val_loss: 0.7838 - val_acc: 0.6961\n",
      "Epoch 26/50\n",
      "4709/4709 [==============================] - 3s 665us/step - loss: 0.8516 - acc: 0.6677 - val_loss: 0.7700 - val_acc: 0.7088\n",
      "Epoch 27/50\n",
      "4709/4709 [==============================] - 3s 665us/step - loss: 0.8545 - acc: 0.6698 - val_loss: 0.7705 - val_acc: 0.7088\n",
      "Epoch 28/50\n",
      "4709/4709 [==============================] - 3s 665us/step - loss: 0.8538 - acc: 0.6685 - val_loss: 0.7667 - val_acc: 0.7173\n",
      "Epoch 29/50\n",
      "4709/4709 [==============================] - 3s 665us/step - loss: 0.8426 - acc: 0.6776 - val_loss: 0.7536 - val_acc: 0.7139\n",
      "Epoch 30/50\n",
      "4709/4709 [==============================] - 3s 663us/step - loss: 0.8497 - acc: 0.6772 - val_loss: 0.7528 - val_acc: 0.7097\n",
      "Epoch 31/50\n",
      "4709/4709 [==============================] - 3s 664us/step - loss: 0.8435 - acc: 0.6772 - val_loss: 0.7435 - val_acc: 0.7207\n",
      "Epoch 32/50\n",
      "4709/4709 [==============================] - 3s 663us/step - loss: 0.8478 - acc: 0.6691 - val_loss: 0.7587 - val_acc: 0.7088\n",
      "Epoch 33/50\n",
      "4709/4709 [==============================] - 3s 664us/step - loss: 0.8336 - acc: 0.6779 - val_loss: 0.7512 - val_acc: 0.7080\n",
      "Epoch 34/50\n",
      "4709/4709 [==============================] - 3s 664us/step - loss: 0.8221 - acc: 0.6827 - val_loss: 0.7422 - val_acc: 0.7097\n",
      "Epoch 35/50\n",
      "4709/4709 [==============================] - 3s 663us/step - loss: 0.8237 - acc: 0.6808 - val_loss: 0.7487 - val_acc: 0.7088\n",
      "Epoch 36/50\n",
      "4709/4709 [==============================] - 3s 664us/step - loss: 0.8249 - acc: 0.6815 - val_loss: 0.7533 - val_acc: 0.7122\n",
      "Epoch 37/50\n",
      "4709/4709 [==============================] - 3s 668us/step - loss: 0.8261 - acc: 0.6764 - val_loss: 0.7569 - val_acc: 0.7071\n",
      "Epoch 38/50\n",
      "4709/4709 [==============================] - 3s 664us/step - loss: 0.8156 - acc: 0.6853 - val_loss: 0.7665 - val_acc: 0.7054\n",
      "Epoch 39/50\n",
      "4709/4709 [==============================] - 3s 664us/step - loss: 0.8154 - acc: 0.6808 - val_loss: 0.7572 - val_acc: 0.7156\n",
      "Epoch 40/50\n",
      "4709/4709 [==============================] - 3s 664us/step - loss: 0.8197 - acc: 0.6840 - val_loss: 0.7514 - val_acc: 0.7182\n",
      "Epoch 41/50\n",
      "4709/4709 [==============================] - 3s 664us/step - loss: 0.8085 - acc: 0.6957 - val_loss: 0.7331 - val_acc: 0.7301\n",
      "Epoch 42/50\n",
      "4709/4709 [==============================] - 3s 663us/step - loss: 0.8174 - acc: 0.6795 - val_loss: 0.7294 - val_acc: 0.7309\n",
      "Epoch 43/50\n",
      "4709/4709 [==============================] - 3s 663us/step - loss: 0.8087 - acc: 0.6842 - val_loss: 0.7350 - val_acc: 0.7241\n",
      "Epoch 44/50\n",
      "4709/4709 [==============================] - 3s 664us/step - loss: 0.8152 - acc: 0.6836 - val_loss: 0.7345 - val_acc: 0.7207\n",
      "Epoch 45/50\n",
      "4709/4709 [==============================] - 3s 663us/step - loss: 0.8269 - acc: 0.6789 - val_loss: 0.7531 - val_acc: 0.7165\n",
      "Epoch 46/50\n",
      "4709/4709 [==============================] - 3s 664us/step - loss: 0.7974 - acc: 0.6963 - val_loss: 0.7475 - val_acc: 0.7250\n",
      "Epoch 47/50\n",
      "4709/4709 [==============================] - 3s 663us/step - loss: 0.7982 - acc: 0.6948 - val_loss: 0.7389 - val_acc: 0.7258\n",
      "Epoch 48/50\n",
      "4709/4709 [==============================] - 3s 664us/step - loss: 0.7941 - acc: 0.6936 - val_loss: 0.7334 - val_acc: 0.7233\n",
      "Epoch 49/50\n",
      "4709/4709 [==============================] - 3s 663us/step - loss: 0.8175 - acc: 0.6893 - val_loss: 0.7363 - val_acc: 0.7165\n",
      "Epoch 50/50\n",
      "4709/4709 [==============================] - 3s 664us/step - loss: 0.7869 - acc: 0.6959 - val_loss: 0.7385 - val_acc: 0.7267\n"
     ]
    }
   ],
   "source": [
    "history = model.fit(x_train, y_train, batch_size=batch_size, epochs=50, verbose=1, validation_data=(x_val, y_val))"
   ]
  },
  {
   "cell_type": "code",
   "execution_count": 25,
   "metadata": {},
   "outputs": [
    {
     "data": {
      "image/png": "[encoded data removed]",
      "text/plain": [
       "<Figure size 432x288 with 1 Axes>"
      ]
     },
     "metadata": {
      "needs_background": "light"
     },
     "output_type": "display_data"
    }
   ],
   "source": [
    "import matplotlib.pyplot as plt\n",
    "\n",
    "plt.plot(history.history['acc'], label=\"Accuracy\")\n",
    "plt.plot(history.history['val_acc'], label=\"Validation accuracy\")\n",
    "plt.title('Accuracy')\n",
    "plt.xlabel('Epoch')\n",
    "plt.ylabel('Accuracy')\n",
    "plt.legend()\n",
    "plt.tight_layout()\n",
    "plt.show()"
   ]
  },
  {
   "cell_type": "code",
   "execution_count": 26,
   "metadata": {},
   "outputs": [
    {
     "data": {
      "image/png": "[encoded data removed]",
      "text/plain": [
       "<Figure size 432x288 with 1 Axes>"
      ]
     },
     "metadata": {
      "needs_background": "light"
     },
     "output_type": "display_data"
    }
   ],
   "source": [
    "import matplotlib.pyplot as plt\n",
    "\n",
    "plt.plot(history.history['loss'], label=\"Train loss\")\n",
    "plt.plot(history.history['val_loss'], label=\"Validation loss\")\n",
    "plt.title('Loss')\n",
    "plt.xlabel('Epoch')\n",
    "plt.ylabel('Loss')\n",
    "plt.legend()\n",
    "plt.tight_layout()\n",
    "plt.show()"
   ]
  },
  {
   "cell_type": "code",
   "execution_count": 27,
   "metadata": {},
   "outputs": [],
   "source": [
    "from sklearn.metrics import classification_report\n",
    "\n",
    "y_pred = model.predict(x_test)\n",
    "y_pred = np.argmax(y_pred, axis=1)"
   ]
  },
  {
   "cell_type": "code",
   "execution_count": 28,
   "metadata": {},
   "outputs": [
    {
     "data": {
      "text/plain": [
       "array([2, 0, 2, ..., 0, 0, 0])"
      ]
     },
     "execution_count": 28,
     "metadata": {},
     "output_type": "execute_result"
    }
   ],
   "source": [
    "y_pred"
   ]
  },
  {
   "cell_type": "code",
   "execution_count": 29,
   "metadata": {},
   "outputs": [
    {
     "name": "stdout",
     "output_type": "stream",
     "text": [
      "              precision    recall  f1-score   support\n",
      "\n",
      "    Personal       0.77      0.89      0.82       524\n",
      "Geopolitical       0.57      0.57      0.57       157\n",
      "   Religious       0.57      0.42      0.48       159\n",
      "   Political       0.77      0.69      0.73       360\n",
      "\n",
      "    accuracy                           0.73      1200\n",
      "   macro avg       0.67      0.64      0.65      1200\n",
      "weighted avg       0.72      0.72      0.72      1200\n",
      "\n"
     ]
    }
   ],
   "source": [
    "categories = ['Personal', 'Geopolitical','Religious','Political']\n",
    "print(classification_report(y_test, y_pred, target_names=categories))"
   ]
  },
  {
   "cell_type": "code",
   "execution_count": 30,
   "metadata": {},
   "outputs": [
    {
     "data": {
      "text/plain": [
       "0    524\n",
       "3    360\n",
       "2    159\n",
       "1    157\n",
       "Name: target, dtype: int64"
      ]
     },
     "execution_count": 30,
     "metadata": {},
     "output_type": "execute_result"
    }
   ],
   "source": [
    "test['target'].value_counts()"
   ]
  },
  {
   "cell_type": "code",
   "execution_count": 31,
   "metadata": {
    "colab": {},
    "colab_type": "code",
    "id": "lRTbt2fjnguz"
   },
   "outputs": [],
   "source": [
    "def get_layer_output(layer_name, data):\n",
    "    # https://keras.io/getting-started/faq/#how-can-i-obtain-the-output-of-an-intermediate-layer\n",
    "    intermediate_layer_model = keras.Model(inputs=model.input,\n",
    "                                     outputs=model.get_layer(layer_name).output)\n",
    "    return intermediate_layer_model.predict(data)  "
   ]
  },
  {
   "cell_type": "code",
   "execution_count": 32,
   "metadata": {},
   "outputs": [
    {
     "name": "stdout",
     "output_type": "stream",
     "text": [
      "embedding_1/embeddings:0\n",
      "bidirectional_1/forward_lstm_1/kernel:0\n",
      "bidirectional_1/forward_lstm_1/recurrent_kernel:0\n",
      "bidirectional_1/forward_lstm_1/bias:0\n",
      "bidirectional_1/backward_lstm_1/kernel:0\n",
      "bidirectional_1/backward_lstm_1/recurrent_kernel:0\n",
      "bidirectional_1/backward_lstm_1/bias:0\n",
      "bidirectional_2/forward_lstm_2/kernel:0\n",
      "bidirectional_2/forward_lstm_2/recurrent_kernel:0\n",
      "bidirectional_2/forward_lstm_2/bias:0\n",
      "bidirectional_2/backward_lstm_2/kernel:0\n",
      "bidirectional_2/backward_lstm_2/recurrent_kernel:0\n",
      "bidirectional_2/backward_lstm_2/bias:0\n",
      "dense_1/kernel:0\n",
      "dense_1/bias:0\n",
      "dense_2/kernel:0\n",
      "dense_2/bias:0\n"
     ]
    }
   ],
   "source": [
    "names = [weight.name for layer in model.layers for weight in layer.weights]\n",
    "weights = model.get_weights()\n",
    "\n",
    "for name, weight in zip(names, weights):\n",
    "    print(name)\n",
    "    #print(weight)"
   ]
  },
  {
   "cell_type": "code",
   "execution_count": 33,
   "metadata": {},
   "outputs": [],
   "source": [
    "# suppress scientific notation\n",
    "np.set_printoptions(suppress=True)\n",
    "for name, weight in zip(names, weights):\n",
    "    if name == 'bidirectional_1/backward_lstm_1/kernel:0':\n",
    "        kernel_0 = weight\n",
    "    if name == 'bidirectional_1/backward_lstm_1/recurrent_kernel:0':\n",
    "        recurrent_kernel_0 = weight\n",
    "    if name == 'bidirectional_1/backward_lstm_1/bias:0':\n",
    "        bias_0 = weight\n",
    "    elif name == 'dense_1/kernel:0':\n",
    "        output = weight"
   ]
  },
  {
   "cell_type": "code",
   "execution_count": 34,
   "metadata": {
    "colab": {
     "base_uri": "https://localhost:8080/",
     "height": 84
    },
    "colab_type": "code",
    "executionInfo": {
     "elapsed": 356422,
     "status": "ok",
     "timestamp": 1565546085988,
     "user": {
      "displayName": "Sohee Cho",
      "photoUrl": "",
      "userId": "08816341305221252497"
     },
     "user_tz": -540
    },
    "id": "4LE6JlVDzHF7",
    "outputId": "757b2190-4814-4485-f5ed-d0f69870c328"
   },
   "outputs": [
    {
     "name": "stdout",
     "output_type": "stream",
     "text": [
      "kernel_0 (20, 256)\n",
      "recurrent_kernel_0 (64, 256)\n",
      "bias_0 (256,)\n",
      "output (64, 128)\n"
     ]
    }
   ],
   "source": [
    "print(\"kernel_0\", kernel_0.shape)\n",
    "print(\"recurrent_kernel_0\", recurrent_kernel_0.shape)\n",
    "print(\"bias_0\", bias_0.shape)\n",
    "print(\"output\", output.shape)\n",
    "\n",
    "# self.Wxh_Left (240, 60)\n",
    "# self.Whh_Left (240, 60)\n",
    "# self.bxh_Left (240,)\n",
    "# self.Why_Left (5, 60)"
   ]
  },
  {
   "cell_type": "code",
   "execution_count": 35,
   "metadata": {
    "colab": {
     "base_uri": "https://localhost:8080/",
     "height": 84
    },
    "colab_type": "code",
    "executionInfo": {
     "elapsed": 356831,
     "status": "ok",
     "timestamp": 1565546086438,
     "user": {
      "displayName": "Sohee Cho",
      "photoUrl": "",
      "userId": "08816341305221252497"
     },
     "user_tz": -540
    },
    "id": "V-NDrc-jo3ur",
    "outputId": "b5bd21bc-e307-4956-c0bb-032f7f203c9a"
   },
   "outputs": [
    {
     "name": "stdout",
     "output_type": "stream",
     "text": [
      "Wxh (256, 20)\n",
      "Whh (256, 64)\n",
      "bxh (256,)\n",
      "Why (128, 64)\n"
     ]
    }
   ],
   "source": [
    "Wxh = kernel_0.T  # shape 4d*e\n",
    "Whh = recurrent_kernel_0.T  # shape 4d\n",
    "bxh = bias_0.T  # shape 4d \n",
    "Why = output.T\n",
    "\n",
    "print(\"Wxh\", Wxh.shape)\n",
    "print(\"Whh\", Whh.shape)\n",
    "print(\"bxh\", bxh.shape)\n",
    "print(\"Why\", Why.shape)"
   ]
  },
  {
   "cell_type": "code",
   "execution_count": 36,
   "metadata": {
    "colab": {},
    "colab_type": "code",
    "id": "PYpTfpUrlHn1"
   },
   "outputs": [],
   "source": [
    "def html_heatmap (words, scores, cmap_name=\"bwr\"):\n",
    "    \"\"\"\n",
    "    Return word-level heatmap in HTML format,\n",
    "    with words being the list of words (as string),\n",
    "    scores the corresponding list of word-level relevance values,\n",
    "    and cmap_name the name of the matplotlib diverging colormap.\n",
    "    \"\"\"\n",
    "    \n",
    "    colormap  = plt.get_cmap(cmap_name)\n",
    "     \n",
    "    #assert len(words)==len(scores)\n",
    "    max_s     = max(scores)\n",
    "    min_s     = min(scores)\n",
    "    \n",
    "    output_text = \"\"\n",
    "    \n",
    "    for idx, w in enumerate(words):\n",
    "        score       = rescale_score_by_abs(scores[idx], max_s, min_s)\n",
    "        output_text = output_text + span_word(w, score, colormap) + \" \"\n",
    "    \n",
    "    return output_text + \"\\n\"\n",
    "\n",
    "def rescale_score_by_abs (score, max_score, min_score):\n",
    "    \"\"\"\n",
    "    Normalize the relevance value (=score), accordingly to the extremal relevance values (max_score and min_score), \n",
    "    for visualization with a diverging colormap.\n",
    "    i.e. rescale positive relevance to the range [0.5, 1.0], and negative relevance to the range [0.0, 0.5],\n",
    "    using the highest absolute relevance for linear interpolation.\n",
    "    \"\"\"\n",
    "    \n",
    "    # CASE 1: positive AND negative scores occur --------------------\n",
    "    if max_score>0 and min_score<0:\n",
    "    \n",
    "        if max_score >= abs(min_score):   # deepest color is positive\n",
    "            if score>=0:\n",
    "                return 0.5 + 0.5*(score/max_score)\n",
    "            else:\n",
    "                return 0.5 - 0.5*(abs(score)/max_score)\n",
    "\n",
    "        else:                             # deepest color is negative\n",
    "            if score>=0:\n",
    "                return 0.5 + 0.5*(score/abs(min_score))\n",
    "            else:\n",
    "                return 0.5 - 0.5*(score/min_score)   \n",
    "    \n",
    "    # CASE 2: ONLY positive scores occur -----------------------------       \n",
    "    elif max_score>0 and min_score>=0: \n",
    "        if max_score == min_score:\n",
    "            return 1.0\n",
    "        else:\n",
    "            return 0.5 + 0.5*(score/max_score)\n",
    "    \n",
    "    # CASE 3: ONLY negative scores occur -----------------------------\n",
    "    elif max_score<=0 and min_score<0: \n",
    "        if max_score == min_score:\n",
    "            return 0.0\n",
    "        else:\n",
    "            return 0.5 - 0.5*(score/min_score)\n",
    "          \n",
    "\n",
    "def getRGB (c_tuple):\n",
    "    return \"#%02x%02x%02x\"%(int(c_tuple[0]*255), int(c_tuple[1]*255), int(c_tuple[2]*255))\n",
    "\n",
    "     \n",
    "def span_word (word, score, colormap):\n",
    "    return \"<span style=\\\"background-color:\"+getRGB(colormap(score))+\"\\\">\"+word+\"</span>\""
   ]
  },
  {
   "cell_type": "code",
   "execution_count": 37,
   "metadata": {
    "colab": {},
    "colab_type": "code",
    "id": "7UO-d4c0krKw"
   },
   "outputs": [],
   "source": [
    "def lrp_linear(hin, w, b, hout, Rout, bias_nb_units, eps, bias_factor=0.0, debug=False):\n",
    "    \"\"\"\n",
    "    LRP for a linear layer with input dim D and output dim M.\n",
    "    Args:\n",
    "    - hin:            forward pass input, of shape (D,)\n",
    "    - w:              connection weights, of shape (D, M)\n",
    "    - b:              biases, of shape (M,)\n",
    "    - hout:           forward pass output, of shape (M,) (unequal to np.dot(w.T,hin)+b if more than one incoming layer!)\n",
    "    - Rout:           relevance at layer output, of shape (M,)\n",
    "    - bias_nb_units:  total number of connected lower-layer units (onto which the bias/stabilizer contribution is redistributed for sanity check)\n",
    "    - eps:            stabilizer (small positive number)\n",
    "    - bias_factor:    set to 1.0 to check global relevance conservation, otherwise use 0.0 to ignore bias/stabilizer redistribution (recommended)\n",
    "    Returns:\n",
    "    - Rin:            relevance at layer input, of shape (D,)\n",
    "    \"\"\"\n",
    "    sign_out = np.where(hout[na,:]>=0, 1., -1.) # shape (1, M)\n",
    "    \n",
    "    numer    = (w * hin[:,na]) + ( bias_factor * (b[na,:]*1. + eps*sign_out*1.) / bias_nb_units ) # shape (D, M)\n",
    "    # Note: here we multiply the bias_factor with both the bias b and the stabilizer eps since in fact\n",
    "    # using the term (b[na,:]*1. + eps*sign_out*1.) / bias_nb_units in the numerator is only useful for sanity check\n",
    "    # (in the initial paper version we were using (bias_factor*b[na,:]*1. + eps*sign_out*1.) / bias_nb_units instead)\n",
    "    \n",
    "    denom    = hout[na,:] + (eps*sign_out*1.)   # shape (1, M)\n",
    "    \n",
    "    message  = (numer/denom) * Rout[na,:]       # shape (D, M)\n",
    "    \n",
    "    Rin      = message.sum(axis=1)              # shape (D,)\n",
    "    \n",
    "    if debug:\n",
    "        print(\"local diff: \", Rout.sum() - Rin.sum())\n",
    "    # Note: \n",
    "    # - local  layer   relevance conservation if bias_factor==1.0 and bias_nb_units==D (i.e. when only one incoming layer)\n",
    "    # - global network relevance conservation if bias_factor==1.0 and bias_nb_units set accordingly to the total number of lower-layer connections \n",
    "    # -> can be used for sanity check\n",
    "    \n",
    "    return Rin"
   ]
  },
  {
   "cell_type": "code",
   "execution_count": 38,
   "metadata": {
    "colab": {},
    "colab_type": "code",
    "id": "mg0xvtSNkrHy"
   },
   "outputs": [],
   "source": [
    "def LRP(target_data, target_class) :\n",
    "    \n",
    "    #원본 소스에서 E embedding은 전체에 대한 단어 사전이고, x는 embedding된 인풋이다.  \n",
    "    # w_indices [109, 11995, 25, 18263, 25, 973, 3138, 6389, 372]\n",
    "\n",
    "    x = get_layer_output('embedding_1', target_data).squeeze(axis=1)\n",
    "    e = x.shape[1]\n",
    "\n",
    "   ################# forword\n",
    "    T = target_data.shape[0]\n",
    "    d = int(256/4)  # hidden units\n",
    "    C = Why.shape[0] # number of classes\n",
    "    \n",
    "    idx    = np.hstack((np.arange(0,d), np.arange(2*d,4*d))).astype(int) # indices of gates i,f,o together\n",
    "    idx_i, idx_g, idx_f, idx_o = np.arange(0,d), np.arange(d,2*d), np.arange(2*d,3*d), np.arange(3*d,4*d) # indices of gates i,g,f,o separately\n",
    "\n",
    "    h  = np.zeros((T,d))\n",
    "    c  = np.zeros((T,d))\n",
    "\n",
    "    gates_xh  = np.zeros((T, 4*d))  \n",
    "    gates_hh  = np.zeros((T, 4*d)) \n",
    "    gates_pre = np.zeros((T, 4*d))  \n",
    "    gates     = np.zeros((T, 4*d))  \n",
    "\n",
    "    for t in range(T):\n",
    "        gates_xh[t]     = np.dot(Wxh, x[t])\n",
    "        gates_hh[t]     = np.dot(Whh, h[t-1])\n",
    "        gates_pre[t]    = gates_xh[t] + gates_hh[t] + bxh\n",
    "        gates[t, idx]    = 1.0/(1.0 + np.exp(- gates_pre[t,idx]))\n",
    "        gates[t,idx_g]  = np.tanh(gates_pre[t,idx_g]) \n",
    "        c[t]            = gates[t,idx_f]*c[t-1] + gates[t,idx_i]*gates[t,idx_g]\n",
    "        h[t]            = gates[t,idx_o]*np.tanh(c[t])\n",
    "\n",
    "    s = np.dot(Why, h[t])    \n",
    "\n",
    "    ################# backwork\n",
    "    dx     = np.zeros(x.shape)\n",
    "\n",
    "    dh          = np.zeros((T, d))\n",
    "    dc          = np.zeros((T, d))\n",
    "    dgates_pre  = np.zeros((T, 4*d))  # gates pre-activation\n",
    "    dgates      = np.zeros((T, 4*d))  # gates activation\n",
    "\n",
    "    ds               = np.zeros((C))\n",
    "    ds[target_class] = 1.0\n",
    "    dy               = ds.copy()\n",
    "\n",
    "    #맨처음을 0으로 시작하지 않게 위한조치\n",
    "    dh[T-1]     = np.dot(Why.T, dy)\n",
    "\n",
    "    for t in reversed(range(T)): \n",
    "        dgates[t,idx_o]    = dh[t] * np.tanh(c[t])  # do[t]\n",
    "        dc[t]             += dh[t] * gates[t,idx_o] * (1.-(np.tanh(c[t]))**2) # dc[t]\n",
    "        dgates[t,idx_f]    = dc[t] * c[t-1]         # df[t]\n",
    "        dc[t-1]            = dc[t] * gates[t,idx_f] # dc[t-1]\n",
    "        dgates[t,idx_i]    = dc[t] * gates[t,idx_g] # di[t]\n",
    "        dgates[t,idx_g]    = dc[t] * gates[t,idx_i] # dg[t]\n",
    "        dgates_pre[t,idx]  = dgates[t,idx] * gates[t,idx] * (1.0 - gates[t,idx]) # d ifo pre[t]\n",
    "        dgates_pre[t,idx_g]= dgates[t,idx_g] *  (1.-(gates[t,idx_g])**2) # d g pre[t]\n",
    "        dh[t-1]            = np.dot(Whh.T, dgates_pre[t])\n",
    "        dx[t]              = np.dot(Wxh.T, dgates_pre[t])\n",
    "\n",
    "    ################# LRP\n",
    "    eps=0.001 \n",
    "    bias_factor=0.0\n",
    "    Rx  = np.zeros(x.shape)\n",
    "    Rh  = np.zeros((T+1, d))\n",
    "    Rc  = np.zeros((T+1, d))\n",
    "    Rg  = np.zeros((T,   d)) # gate g only\n",
    "\n",
    "    Rout_mask            = np.zeros((C))\n",
    "    Rout_mask[target_class] = 1.0  \n",
    "\n",
    "    # format reminder: lrp_linear(hin, w, b, hout, Rout, bias_nb_units, eps, bias_factor)\n",
    "    Rh[T-1]  = lrp_linear(h[T-1], Why.T, np.zeros((C)), s, s*Rout_mask, 2*d, eps, bias_factor, debug=False)  \n",
    "\n",
    "    for t in reversed(range(T)):\n",
    "        Rc[t]   += Rh[t]\n",
    "        Rc[t-1]  = lrp_linear(gates[t,idx_f]*c[t-1], np.identity(d), np.zeros((d)), c[t], Rc[t], 2*d, eps, bias_factor, debug=False)\n",
    "        Rg[t]    = lrp_linear(gates[t,idx_i]*gates[t,idx_g], np.identity(d), np.zeros((d)), c[t], Rc[t], 2*d, eps, bias_factor, debug=False)\n",
    "        Rx[t]    = lrp_linear(x[t], Wxh[idx_g].T, bxh[idx_g], gates_pre[t,idx_g], Rg[t], d+e, eps, bias_factor, debug=False)\n",
    "        Rh[t-1]  = lrp_linear(h[t-1], Whh[idx_g].T, bxh[idx_g], gates_pre[t,idx_g], Rg[t], d+e, eps, bias_factor, debug=False)    \n",
    "\n",
    "    return s, dx, Rx, Rh[-1].sum()"
   ]
  },
  {
   "cell_type": "code",
   "execution_count": 39,
   "metadata": {},
   "outputs": [],
   "source": [
    "#word_index = imdb.get_word_index()\n",
    "index_word = {v:k for k,v in word_index.items()}\n",
    "\n",
    "#values = ','.join(str(v) for v in value_list)\n",
    "\n",
    "def index_to_word(word):\n",
    "    full_sentence = ' '.join(index_word.get(w) for w in word)\n",
    "    return full_sentence.split()"
   ]
  },
  {
   "cell_type": "code",
   "execution_count": 40,
   "metadata": {},
   "outputs": [],
   "source": [
    "def int_to_str(target_class):\n",
    "    if target_class == 0:\n",
    "        return \"Personal\"\n",
    "    elif target_class == 1:\n",
    "        return \"Political\"\n",
    "    elif target_class == 2:\n",
    "        return \"Religious\"\n",
    "    elif target_class == 3:\n",
    "        return \"Geopolitical\"\n",
    "    else:\n",
    "        return \"Fake\""
   ]
  },
  {
   "cell_type": "code",
   "execution_count": 41,
   "metadata": {
    "colab": {},
    "colab_type": "code",
    "id": "sSKVxHqZkrAo"
   },
   "outputs": [],
   "source": [
    "predictions = model.predict(x_test)"
   ]
  },
  {
   "cell_type": "code",
   "execution_count": 42,
   "metadata": {
    "colab": {},
    "colab_type": "code",
    "id": "6xaMVDankq9P"
   },
   "outputs": [],
   "source": [
    "per_list = []\n",
    "geo_list = []\n",
    "reli_list = []\n",
    "poli_list = []\n",
    "\n",
    "categories = ['Personal', 'Geopolitical','Religious','Political']\n",
    "\n",
    "for i in range(len(y_test)):\n",
    "    if np.argmax(predictions[i]) == 0:\n",
    "        per_list.append(i)\n",
    "    elif np.argmax(predictions[i]) == 1:\n",
    "        geo_list.append(i)\n",
    "    elif np.argmax(predictions[i]) == 2:\n",
    "        reli_list.append(i)\n",
    "    else:\n",
    "        poli_list.append(i)"
   ]
  },
  {
   "cell_type": "code",
   "execution_count": 43,
   "metadata": {},
   "outputs": [],
   "source": [
    "index_word = {v: k for k, v in word_index.items()} # map back\n",
    "seqs = x_test\n",
    "words = []\n",
    "\n",
    "def seqToWords():\n",
    "    for seq in seqs:\n",
    "        if len(seq):\n",
    "            words.append(index_word.get(seq[0]))\n",
    "        else:\n",
    "            words.append(' ')    \n",
    "            \n",
    "    return words"
   ]
  },
  {
   "cell_type": "code",
   "execution_count": 44,
   "metadata": {},
   "outputs": [],
   "source": [
    "words = seqToWords()"
   ]
  },
  {
   "cell_type": "code",
   "execution_count": 45,
   "metadata": {},
   "outputs": [],
   "source": [
    "# Creating a reverse dictionary\n",
    "reverse_word_map = dict(map(reversed, word_index.items()))\n",
    "\n",
    "# Function takes a tokenized sentence and returns the words\n",
    "def sequence_to_text(list_of_indices):\n",
    "    # Looking up words in dictionary\n",
    "    words = [reverse_word_map.get(letter) for letter in list_of_indices]\n",
    "    \n",
    "    return words"
   ]
  },
  {
   "cell_type": "code",
   "execution_count": 46,
   "metadata": {
    "colab": {
     "base_uri": "https://localhost:8080/",
     "height": 1000
    },
    "colab_type": "code",
    "executionInfo": {
     "elapsed": 375920,
     "status": "ok",
     "timestamp": 1565546105786,
     "user": {
      "displayName": "Sohee Cho",
      "photoUrl": "",
      "userId": "08816341305221252497"
     },
     "user_tz": -540
    },
    "id": "Lp8fEvobkq7P",
    "outputId": "6b133b5c-ee05-40b1-f488-92776935170d"
   },
   "outputs": [],
   "source": [
    "def explainer(class_list):   \n",
    "    for index, i in enumerate(class_list):\n",
    "    \n",
    "        target_data = x_test[i]\n",
    "        print(target_data)\n",
    "        print(target_data.shape)\n",
    "        target_class = np.argmax(y_test[i])\n",
    "\n",
    "        scores, Gx, Rx, R_rest = LRP(target_data, target_class)\n",
    "    \n",
    "        R_words          = np.sum(Rx, axis=1)                       # compute word-level LRP relevances\n",
    "        R_words_SA       = (np.linalg.norm(Gx,ord=2, axis=0))**2   # compute word-level Sensitivity Analysis relevances\n",
    "        R_words_GI       = np.dot(target_data, Gx) \n",
    "    \n",
    "        try:\n",
    "            words = index_to_word(target_data)\n",
    "            #continue\n",
    "        #words = seqToWords()\n",
    "        except:\n",
    "            continue\n",
    "\n",
    "        if len(words) > 0 :\n",
    "            print(\"Predicted label:\", int_to_str(np.argmax(predictions[i])), \"Actual label:\", int_to_str(target_class))\n",
    "\n",
    "            print(\"LRP heatmap:\")\n",
    "            display(HTML(html_heatmap(words, R_words)))\n",
    "\n",
    "            print(\"SA heatmap:\")\n",
    "            display(HTML(html_heatmap(words, R_words_SA)))\n",
    "\n",
    "            print(\"GI heatmap:\")\n",
    "            display(HTML(html_heatmap(words, R_words_GI)))\n",
    "\n",
    "            print(\"-----------------------------------------------------------\")\n",
    "\n",
    "        if index == 50: \n",
    "            break"
   ]
  },
  {
   "cell_type": "code",
   "execution_count": 47,
   "metadata": {},
   "outputs": [
    {
     "name": "stdout",
     "output_type": "stream",
     "text": [
      "The degree to which each word affects the prediction of being religious hates...\n",
      "[  94  254   38 2537   88   38 3773 2486  433   88   38 1314   38 1494\n",
      "   15   29    0    0    0    0]\n",
      "(20,)\n",
      "[  51  206  959  124 1729  270  375 3767 1586  139   29 9610    0    0\n",
      "    0    0    0    0    0    0]\n",
      "(20,)\n",
      "[3316 1557  153  321  655   43 1958 1054  129   78    1    0    0    0\n",
      "    0    0    0    0    0    0]\n",
      "(20,)\n",
      "[101  70 311 923   2  50   1   0   0   0   0   0   0   0   0   0   0   0\n",
      "   0   0]\n",
      "(20,)\n",
      "[ 210 8224  491  372  526 6608  456    0    0    0    0    0    0    0\n",
      "    0    0    0    0    0    0]\n",
      "(20,)\n",
      "[ 210 8224  491  372  526 6608    0    0    0    0    0    0    0    0\n",
      "    0    0    0    0    0    0]\n",
      "(20,)\n",
      "[1591 3295 2513   28  210    3 3687 6020 1557 6020 1489 3295 2513    0\n",
      "    0    0    0    0    0    0]\n",
      "(20,)\n",
      "[919 201 163   0   0   0   0   0   0   0   0   0   0   0   0   0   0   0\n",
      "   0   0]\n",
      "(20,)\n",
      "[7356 1794  371   16    3  715 7357   26  145    0    0    0    0    0\n",
      "    0    0    0    0    0    0]\n",
      "(20,)\n",
      "[ 167  124  182   18  792    2    3   66   43   13  308  829    2   38\n",
      "  792    2 3938 1997    0    0]\n",
      "(20,)\n",
      "[1027  335 1027  335  837 1097 2616 1097 2616  547   67    0    0    0\n",
      "    0    0    0    0    0    0]\n",
      "(20,)\n",
      "[1015  105   24   49 7427 7022  515    6 3244   71   78    1    0    0\n",
      "    0    0    0    0    0    0]\n",
      "(20,)\n",
      "[3765 1326 8941 2803  738  372  131   32    0    0    0    0    0    0\n",
      "    0    0    0    0    0    0]\n",
      "(20,)\n",
      "[   5  189 4349   61   15  107  623  606    0    0    0    0    0    0\n",
      "    0    0    0    0    0    0]\n",
      "(20,)\n",
      "[ 378   14 2105  503 6087  355  441  101   38  118 1018 1422  187    3\n",
      "  281  867  187   54 4936  187]\n",
      "(20,)\n",
      "Predicted label: Religious Actual label: Personal\n",
      "LRP heatmap:\n"
     ]
    },
    {
     "data": {
      "text/html": [
       "<span style=\"background-color:#fffefe\">ভুল</span> <span style=\"background-color:#fffefe\">যে</span> <span style=\"background-color:#fefeff\">দুনিয়ার</span> <span style=\"background-color:#fffefe\">সবচেয়ে</span> <span style=\"background-color:#fafaff\">জাতিকে</span> <span style=\"background-color:#fffafa\">সাহায্য</span> <span style=\"background-color:#fafaff\">করেছিল</span> <span style=\"background-color:#fcfcff\">যারা</span> <span style=\"background-color:#fcfcff\">তাদের</span> <span style=\"background-color:#f6f6ff\">মা</span> <span style=\"background-color:#ff9c9c\">বোনদের</span> <span style=\"background-color:#ffc3c3\">সমর্থন</span> <span style=\"background-color:#b3b3ff\">করে।</span> <span style=\"background-color:#ffa0a0\">আর</span> <span style=\"background-color:#ffa6a6\">বন্ধু</span> <span style=\"background-color:#ff0000\">দেশকে</span> <span style=\"background-color:#ff3131\">করে।</span> <span style=\"background-color:#fff4f4\">মত</span> <span style=\"background-color:#5959ff\">বিরোধিতা</span> <span style=\"background-color:#b8b8ff\">করে।</span> \n"
      ],
      "text/plain": [
       "<IPython.core.display.HTML object>"
      ]
     },
     "metadata": {},
     "output_type": "display_data"
    },
    {
     "name": "stdout",
     "output_type": "stream",
     "text": [
      "SA heatmap:\n"
     ]
    },
    {
     "data": {
      "text/html": [
       "<span style=\"background-color:#ffc3c3\">ভুল</span> <span style=\"background-color:#ffc2c2\">যে</span> <span style=\"background-color:#ff0000\">দুনিয়ার</span> <span style=\"background-color:#fff8f8\">সবচেয়ে</span> <span style=\"background-color:#ff9292\">জাতিকে</span> <span style=\"background-color:#ffbaba\">সাহায্য</span> <span style=\"background-color:#fffafa\">করেছিল</span> <span style=\"background-color:#ff6464\">যারা</span> <span style=\"background-color:#ffd0d0\">তাদের</span> <span style=\"background-color:#ffc3c3\">মা</span> <span style=\"background-color:#ffdede\">বোনদের</span> <span style=\"background-color:#ffc8c8\">সমর্থন</span> <span style=\"background-color:#ff4040\">করে।</span> <span style=\"background-color:#ff2020\">আর</span> <span style=\"background-color:#ffb6b6\">বন্ধু</span> <span style=\"background-color:#fff0f0\">দেশকে</span> <span style=\"background-color:#ffb2b2\">করে।</span> <span style=\"background-color:#ffe2e2\">মত</span> <span style=\"background-color:#ffd6d6\">বিরোধিতা</span> <span style=\"background-color:#ffdcdc\">করে।</span> \n"
      ],
      "text/plain": [
       "<IPython.core.display.HTML object>"
      ]
     },
     "metadata": {},
     "output_type": "display_data"
    },
    {
     "name": "stdout",
     "output_type": "stream",
     "text": [
      "GI heatmap:\n"
     ]
    },
    {
     "data": {
      "text/html": [
       "<span style=\"background-color:#ffa8a8\">ভুল</span> <span style=\"background-color:#ffb8b8\">যে</span> <span style=\"background-color:#4646ff\">দুনিয়ার</span> <span style=\"background-color:#f8f8ff\">সবচেয়ে</span> <span style=\"background-color:#7c7cff\">জাতিকে</span> <span style=\"background-color:#ff8a8a\">সাহায্য</span> <span style=\"background-color:#fff2f2\">করেছিল</span> <span style=\"background-color:#7676ff\">যারা</span> <span style=\"background-color:#ff9292\">তাদের</span> <span style=\"background-color:#9c9cff\">মা</span> <span style=\"background-color:#ffc2c2\">বোনদের</span> <span style=\"background-color:#fafaff\">সমর্থন</span> <span style=\"background-color:#ff8686\">করে।</span> <span style=\"background-color:#ff0000\">আর</span> <span style=\"background-color:#6e6eff\">বন্ধু</span> <span style=\"background-color:#ffcaca\">দেশকে</span> <span style=\"background-color:#9393ff\">করে।</span> <span style=\"background-color:#ececff\">মত</span> <span style=\"background-color:#ffacac\">বিরোধিতা</span> <span style=\"background-color:#ffc6c6\">করে।</span> \n"
      ],
      "text/plain": [
       "<IPython.core.display.HTML object>"
      ]
     },
     "metadata": {},
     "output_type": "display_data"
    },
    {
     "name": "stdout",
     "output_type": "stream",
     "text": [
      "-----------------------------------------------------------\n",
      "[  95  584 4624 1529   66   15   66   39  254  907 3484 1610 2545  718\n",
      " 1286 1087 2173    0    0    0]\n",
      "(20,)\n",
      "[  78    3  709  104 6171  168   78   93  398  461    2   37   82  295\n",
      " 1173   33   19   33   37  563]\n",
      "(20,)\n",
      "Predicted label: Religious Actual label: Personal\n",
      "LRP heatmap:\n"
     ]
    },
    {
     "data": {
      "text/html": [
       "<span style=\"background-color:#fefeff\">পারে</span> <span style=\"background-color:#fefeff\">আর</span> <span style=\"background-color:#fffcfc\">দিনের</span> <span style=\"background-color:#fffefe\">মতো</span> <span style=\"background-color:#f8f8ff\">উজ্জ্বল</span> <span style=\"background-color:#fefeff\">বলতে</span> <span style=\"background-color:#fcfcff\">পারে</span> <span style=\"background-color:#fafaff\">তখন</span> <span style=\"background-color:#ffe8e8\">এটাই</span> <span style=\"background-color:#ffd6d6\">প্রমান</span> <span style=\"background-color:#fcfcff\">করে</span> <span style=\"background-color:#fff2f2\">আমাদের</span> <span style=\"background-color:#e3e3ff\">সরকার</span> <span style=\"background-color:#fffcfc\">আপনাদের</span> <span style=\"background-color:#fffafa\">সাথেই</span> <span style=\"background-color:#8080ff\">আছে</span> <span style=\"background-color:#ffbebe\">সাথে</span> <span style=\"background-color:#0000ff\">আছে</span> <span style=\"background-color:#6969ff\">আমাদের</span> <span style=\"background-color:#3636ff\">প্রধান</span> \n"
      ],
      "text/plain": [
       "<IPython.core.display.HTML object>"
      ]
     },
     "metadata": {},
     "output_type": "display_data"
    },
    {
     "name": "stdout",
     "output_type": "stream",
     "text": [
      "SA heatmap:\n"
     ]
    },
    {
     "data": {
      "text/html": [
       "<span style=\"background-color:#ffecec\">পারে</span> <span style=\"background-color:#fffafa\">আর</span> <span style=\"background-color:#ffd0d0\">দিনের</span> <span style=\"background-color:#ffdede\">মতো</span> <span style=\"background-color:#ffd8d8\">উজ্জ্বল</span> <span style=\"background-color:#fff8f8\">বলতে</span> <span style=\"background-color:#ffb3b3\">পারে</span> <span style=\"background-color:#ff9090\">তখন</span> <span style=\"background-color:#ffe4e4\">এটাই</span> <span style=\"background-color:#fff4f4\">প্রমান</span> <span style=\"background-color:#ffecec\">করে</span> <span style=\"background-color:#ff0000\">আমাদের</span> <span style=\"background-color:#fff0f0\">সরকার</span> <span style=\"background-color:#ff2c2c\">আপনাদের</span> <span style=\"background-color:#ffd2d2\">সাথেই</span> <span style=\"background-color:#ffecec\">আছে</span> <span style=\"background-color:#ff8a8a\">সাথে</span> <span style=\"background-color:#ff9c9c\">আছে</span> <span style=\"background-color:#ffe6e6\">আমাদের</span> <span style=\"background-color:#ffd2d2\">প্রধান</span> \n"
      ],
      "text/plain": [
       "<IPython.core.display.HTML object>"
      ]
     },
     "metadata": {},
     "output_type": "display_data"
    },
    {
     "name": "stdout",
     "output_type": "stream",
     "text": [
      "GI heatmap:\n"
     ]
    },
    {
     "data": {
      "text/html": [
       "<span style=\"background-color:#acacff\">পারে</span> <span style=\"background-color:#fff0f0\">আর</span> <span style=\"background-color:#ffdada\">দিনের</span> <span style=\"background-color:#7e7eff\">মতো</span> <span style=\"background-color:#f8f8ff\">উজ্জ্বল</span> <span style=\"background-color:#d0d0ff\">বলতে</span> <span style=\"background-color:#ffacac\">পারে</span> <span style=\"background-color:#6e6eff\">তখন</span> <span style=\"background-color:#f6f6ff\">এটাই</span> <span style=\"background-color:#ffdcdc\">প্রমান</span> <span style=\"background-color:#e6e6ff\">করে</span> <span style=\"background-color:#0000ff\">আমাদের</span> <span style=\"background-color:#ffe2e2\">সরকার</span> <span style=\"background-color:#ff1111\">আপনাদের</span> <span style=\"background-color:#7474ff\">সাথেই</span> <span style=\"background-color:#ffb6b6\">আছে</span> <span style=\"background-color:#b6b6ff\">সাথে</span> <span style=\"background-color:#ff6666\">আছে</span> <span style=\"background-color:#ffd2d2\">আমাদের</span> <span style=\"background-color:#9e9eff\">প্রধান</span> \n"
      ],
      "text/plain": [
       "<IPython.core.display.HTML object>"
      ]
     },
     "metadata": {},
     "output_type": "display_data"
    },
    {
     "name": "stdout",
     "output_type": "stream",
     "text": [
      "-----------------------------------------------------------\n",
      "[  49 8588    3   51 2698   16    1 6348    0    0    0    0    0    0\n",
      "    0    0    0    0    0    0]\n",
      "(20,)\n",
      "[ 101  313   45   24   49  124 4789   23  404  149  634  634  879    2\n",
      "   27   14   49  124  990 9033]\n",
      "(20,)\n",
      "Predicted label: Religious Actual label: Personal\n",
      "LRP heatmap:\n"
     ]
    },
    {
     "data": {
      "text/html": [
       "<span style=\"background-color:#fffefe\">যারা</span> <span style=\"background-color:#fffefe\">পুলিশ</span> <span style=\"background-color:#fffefe\">এ</span> <span style=\"background-color:#fefeff\">কোন</span> <span style=\"background-color:#fffefe\">মুসলিম</span> <span style=\"background-color:#fefeff\">দের</span> <span style=\"background-color:#fffefe\">ধরষন</span> <span style=\"background-color:#fefeff\">এর</span> <span style=\"background-color:#fff8f8\">ঘটনা</span> <span style=\"background-color:#fff4f4\">দেখে</span> <span style=\"background-color:#ffeeee\">বাজে</span> <span style=\"background-color:#ffecec\">বাজে</span> <span style=\"background-color:#fffafa\">কমেন্ট</span> <span style=\"background-color:#eeeeff\">করে</span> <span style=\"background-color:#fffcfc\">বলে</span> <span style=\"background-color:#b3b3ff\">যে</span> <span style=\"background-color:#fffcfc\">মুসলিম</span> <span style=\"background-color:#c3c3ff\">দের</span> <span style=\"background-color:#ff0000\">চরিত্র</span> <span style=\"background-color:#ffd8d8\">এইরকম</span> \n"
      ],
      "text/plain": [
       "<IPython.core.display.HTML object>"
      ]
     },
     "metadata": {},
     "output_type": "display_data"
    },
    {
     "name": "stdout",
     "output_type": "stream",
     "text": [
      "SA heatmap:\n"
     ]
    },
    {
     "data": {
      "text/html": [
       "<span style=\"background-color:#ffe2e2\">যারা</span> <span style=\"background-color:#ffa2a2\">পুলিশ</span> <span style=\"background-color:#fff0f0\">এ</span> <span style=\"background-color:#ffe6e6\">কোন</span> <span style=\"background-color:#ff4444\">মুসলিম</span> <span style=\"background-color:#ffbaba\">দের</span> <span style=\"background-color:#ffecec\">ধরষন</span> <span style=\"background-color:#ffcccc\">এর</span> <span style=\"background-color:#ffe8e8\">ঘটনা</span> <span style=\"background-color:#ff1818\">দেখে</span> <span style=\"background-color:#fffcfc\">বাজে</span> <span style=\"background-color:#ffaaaa\">বাজে</span> <span style=\"background-color:#ffe0e0\">কমেন্ট</span> <span style=\"background-color:#ff0000\">করে</span> <span style=\"background-color:#ffb2b2\">বলে</span> <span style=\"background-color:#fff0f0\">যে</span> <span style=\"background-color:#ffeaea\">মুসলিম</span> <span style=\"background-color:#ff9898\">দের</span> <span style=\"background-color:#ffcece\">চরিত্র</span> <span style=\"background-color:#ffb3b3\">এইরকম</span> \n"
      ],
      "text/plain": [
       "<IPython.core.display.HTML object>"
      ]
     },
     "metadata": {},
     "output_type": "display_data"
    },
    {
     "name": "stdout",
     "output_type": "stream",
     "text": [
      "GI heatmap:\n"
     ]
    },
    {
     "data": {
      "text/html": [
       "<span style=\"background-color:#b3b3ff\">যারা</span> <span style=\"background-color:#ccccff\">পুলিশ</span> <span style=\"background-color:#fff8f8\">এ</span> <span style=\"background-color:#c8c8ff\">কোন</span> <span style=\"background-color:#4848ff\">মুসলিম</span> <span style=\"background-color:#ff8383\">দের</span> <span style=\"background-color:#f3f3ff\">ধরষন</span> <span style=\"background-color:#ffc0c0\">এর</span> <span style=\"background-color:#ffeaea\">ঘটনা</span> <span style=\"background-color:#ff0909\">দেখে</span> <span style=\"background-color:#fffcfc\">বাজে</span> <span style=\"background-color:#ffbebe\">বাজে</span> <span style=\"background-color:#b3b3ff\">কমেন্ট</span> <span style=\"background-color:#0000ff\">করে</span> <span style=\"background-color:#ffb3b3\">বলে</span> <span style=\"background-color:#d2d2ff\">যে</span> <span style=\"background-color:#ffcaca\">মুসলিম</span> <span style=\"background-color:#ffbaba\">দের</span> <span style=\"background-color:#ffa0a0\">চরিত্র</span> <span style=\"background-color:#9898ff\">এইরকম</span> \n"
      ],
      "text/plain": [
       "<IPython.core.display.HTML object>"
      ]
     },
     "metadata": {},
     "output_type": "display_data"
    },
    {
     "name": "stdout",
     "output_type": "stream",
     "text": [
      "-----------------------------------------------------------\n",
      "[  82  182  268   25   27    3 1466  268    2    5   82    6 1732 1155\n",
      "    0    0    0    0    0    0]\n",
      "(20,)\n",
      "[5673   90  678 5674   86    0    0    0    0    0    0    0    0    0\n",
      "    0    0    0    0    0    0]\n",
      "(20,)\n",
      "[ 241  374 1791 1542   26 2740  679  110  145    0    0    0    0    0\n",
      "    0    0    0    0    0    0]\n",
      "(20,)\n",
      "[  91  530  502  110   25   14 1231   77 1231  156 1536 4934 1649    0\n",
      "    0    0    0    0    0    0]\n",
      "(20,)\n",
      "[ 146  344 3076  159 2631   67 1512  104  200   29  131   93   90   67\n",
      " 1813 5259 3453    0    0    0]\n",
      "(20,)\n",
      "[   3   39  175  141  175  124  144    1   50  635  820  384    4  368\n",
      "  583   38 1118 1260   44  213]\n",
      "(20,)\n",
      "Predicted label: Religious Actual label: Personal\n",
      "LRP heatmap:\n"
     ]
    },
    {
     "data": {
      "text/html": [
       "<span style=\"background-color:#fafaff\">আর</span> <span style=\"background-color:#fffefe\">কিছু</span> <span style=\"background-color:#fefeff\">মুসলমান</span> <span style=\"background-color:#f2f2ff\">নাম</span> <span style=\"background-color:#fefeff\">মুসলমান</span> <span style=\"background-color:#fefeff\">দের</span> <span style=\"background-color:#f8f8ff\">ভাবে</span> <span style=\"background-color:#fff4f4\">না</span> <span style=\"background-color:#fffefe\">তারা</span> <span style=\"background-color:#e0e0ff\">মরে</span> <span style=\"background-color:#fffafa\">যাক</span> <span style=\"background-color:#e8e8ff\">তাতে</span> <span style=\"background-color:#ffd8d8\">কি</span> <span style=\"background-color:#f3f3ff\">আসে</span> <span style=\"background-color:#ffe6e6\">যায়</span> <span style=\"background-color:#dcdcff\">তাদের</span> <span style=\"background-color:#f0f0ff\">ভাব</span> <span style=\"background-color:#ffd6d6\">এমনি</span> <span style=\"background-color:#0000ff\">মনে</span> <span style=\"background-color:#ff2929\">হয়</span> \n"
      ],
      "text/plain": [
       "<IPython.core.display.HTML object>"
      ]
     },
     "metadata": {},
     "output_type": "display_data"
    },
    {
     "name": "stdout",
     "output_type": "stream",
     "text": [
      "SA heatmap:\n"
     ]
    },
    {
     "data": {
      "text/html": [
       "<span style=\"background-color:#ffc0c0\">আর</span> <span style=\"background-color:#ffd3d3\">কিছু</span> <span style=\"background-color:#ff3c3c\">মুসলমান</span> <span style=\"background-color:#ffecec\">নাম</span> <span style=\"background-color:#ffe6e6\">মুসলমান</span> <span style=\"background-color:#fff2f2\">দের</span> <span style=\"background-color:#ff0000\">ভাবে</span> <span style=\"background-color:#ffa0a0\">না</span> <span style=\"background-color:#ff6464\">তারা</span> <span style=\"background-color:#fff6f6\">মরে</span> <span style=\"background-color:#fff4f4\">যাক</span> <span style=\"background-color:#ffbebe\">তাতে</span> <span style=\"background-color:#fffafa\">কি</span> <span style=\"background-color:#ffe8e8\">আসে</span> <span style=\"background-color:#fff0f0\">যায়</span> <span style=\"background-color:#ffe2e2\">তাদের</span> <span style=\"background-color:#ff7070\">ভাব</span> <span style=\"background-color:#ffbcbc\">এমনি</span> <span style=\"background-color:#ff9696\">মনে</span> <span style=\"background-color:#ffeeee\">হয়</span> \n"
      ],
      "text/plain": [
       "<IPython.core.display.HTML object>"
      ]
     },
     "metadata": {},
     "output_type": "display_data"
    },
    {
     "name": "stdout",
     "output_type": "stream",
     "text": [
      "GI heatmap:\n"
     ]
    },
    {
     "data": {
      "text/html": [
       "<span style=\"background-color:#ff9e9e\">আর</span> <span style=\"background-color:#ff9e9e\">কিছু</span> <span style=\"background-color:#3232ff\">মুসলমান</span> <span style=\"background-color:#ffb0b0\">নাম</span> <span style=\"background-color:#ffd3d3\">মুসলমান</span> <span style=\"background-color:#c0c0ff\">দের</span> <span style=\"background-color:#4444ff\">ভাবে</span> <span style=\"background-color:#ffc8c8\">না</span> <span style=\"background-color:#ff6c6c\">তারা</span> <span style=\"background-color:#f3f3ff\">মরে</span> <span style=\"background-color:#c2c2ff\">যাক</span> <span style=\"background-color:#ffe2e2\">তাতে</span> <span style=\"background-color:#fffefe\">কি</span> <span style=\"background-color:#ffe2e2\">আসে</span> <span style=\"background-color:#ffeaea\">যায়</span> <span style=\"background-color:#fffcfc\">তাদের</span> <span style=\"background-color:#ff0000\">ভাব</span> <span style=\"background-color:#ff9696\">এমনি</span> <span style=\"background-color:#ff2828\">মনে</span> <span style=\"background-color:#ffdada\">হয়</span> \n"
      ],
      "text/plain": [
       "<IPython.core.display.HTML object>"
      ]
     },
     "metadata": {},
     "output_type": "display_data"
    },
    {
     "name": "stdout",
     "output_type": "stream",
     "text": [
      "-----------------------------------------------------------\n",
      "[1032 1255    5 1005  301    0    0    0    0    0    0    0    0    0\n",
      "    0    0    0    0    0    0]\n",
      "(20,)\n",
      "[   5   64  832   14  161  268  511    2  451 1418 6921 3475    0    0\n",
      "    0    0    0    0    0    0]\n",
      "(20,)\n",
      "[  72   51 2930  639   49 1448    0    0    0    0    0    0    0    0\n",
      "    0    0    0    0    0    0]\n",
      "(20,)\n",
      "[ 101 1824 1082 1302   38  757  194  194  766    0    0    0    0    0\n",
      "    0    0    0    0    0    0]\n",
      "(20,)\n",
      "[  55   47 6482    1   74  295   54   49  464  730   29 5236 6085 4742\n",
      "    0    0    0    0    0    0]\n",
      "(20,)\n",
      "[2484  339  566  843 2501    0    0    0    0    0    0    0    0    0\n",
      "    0    0    0    0    0    0]\n",
      "(20,)\n",
      "[  55 4429  228   55    5  986  870 3713  292   32    0    0    0    0\n",
      "    0    0    0    0    0    0]\n",
      "(20,)\n",
      "[1370  541 1108    3 6840 1600    0    0    0    0    0    0    0    0\n",
      "    0    0    0    0    0    0]\n",
      "(20,)\n",
      "[ 37  84  65  82  37  82 157  37   0   0   0   0   0   0   0   0   0   0\n",
      "   0   0]\n",
      "(20,)\n",
      "[4850  266  867 1007  588  147   11 1848  157  527  160  837 3626    0\n",
      "    0    0    0    0    0    0]\n",
      "(20,)\n",
      "[ 953  288   31   51  288 2205   16 1599    0    0    0    0    0    0\n",
      "    0    0    0    0    0    0]\n",
      "(20,)\n",
      "[1331   26  357   87    6  690 1508   79  204    0    0    0    0    0\n",
      "    0    0    0    0    0    0]\n",
      "(20,)\n",
      "[3398   34   25 2745 1638  357 1012  328   62  256  886    0    0    0\n",
      "    0    0    0    0    0    0]\n",
      "(20,)\n",
      "[ 107 2073    0    0    0    0    0    0    0    0    0    0    0    0\n",
      "    0    0    0    0    0    0]\n",
      "(20,)\n",
      "[ 142   72   81 2459   27 9355 9355    2  535    2    3   41   39    0\n",
      "    0    0    0    0    0    0]\n",
      "(20,)\n",
      "[4447 5673 5761 3765 4805 1149 5762 2054    9 1446   44  159    0    0\n",
      "    0    0    0    0    0    0]\n",
      "(20,)\n",
      "[2249  296   11   32   14   84   54 3195  156   64   84 1362  140  208\n",
      "    0    0    0    0    0    0]\n",
      "(20,)\n",
      "[ 151   49 2918  276    2 1189 1846 2435   77   49   41   77   90   51\n",
      "   29  121 1855 1319  809   98]\n",
      "(20,)\n",
      "Predicted label: Religious Actual label: Personal\n",
      "LRP heatmap:\n"
     ]
    },
    {
     "data": {
      "text/html": [
       "<span style=\"background-color:#fffefe\">করেছে</span> <span style=\"background-color:#fefeff\">মুসলিম</span> <span style=\"background-color:#fffefe\">ছেলেকে</span> <span style=\"background-color:#fffefe\">বিয়ে</span> <span style=\"background-color:#fefeff\">করে</span> <span style=\"background-color:#fffefe\">নামাজ</span> <span style=\"background-color:#fffcfc\">পড়েছে</span> <span style=\"background-color:#fffefe\">রেখেছে</span> <span style=\"background-color:#fcfcff\">সে</span> <span style=\"background-color:#fcfcff\">মুসলিম</span> <span style=\"background-color:#fcfcff\">এখন</span> <span style=\"background-color:#fcfcff\">সে</span> <span style=\"background-color:#fcfcff\">আবার</span> <span style=\"background-color:#fff4f4\">হিন্দু</span> <span style=\"background-color:#fffafa\">হয়ে</span> <span style=\"background-color:#fff4f4\">গেছে</span> <span style=\"background-color:#ffcece\">দু</span> <span style=\"background-color:#9a9aff\">ধর্মকে</span> <span style=\"background-color:#d2d2ff\">অপু</span> <span style=\"background-color:#ff0000\">করছে</span> \n"
      ],
      "text/plain": [
       "<IPython.core.display.HTML object>"
      ]
     },
     "metadata": {},
     "output_type": "display_data"
    },
    {
     "name": "stdout",
     "output_type": "stream",
     "text": [
      "SA heatmap:\n"
     ]
    },
    {
     "data": {
      "text/html": [
       "<span style=\"background-color:#fff8f8\">করেছে</span> <span style=\"background-color:#ffd8d8\">মুসলিম</span> <span style=\"background-color:#ffcece\">ছেলেকে</span> <span style=\"background-color:#ffeaea\">বিয়ে</span> <span style=\"background-color:#ffe6e6\">করে</span> <span style=\"background-color:#ffeeee\">নামাজ</span> <span style=\"background-color:#ffa8a8\">পড়েছে</span> <span style=\"background-color:#ff0000\">রেখেছে</span> <span style=\"background-color:#ffd6d6\">সে</span> <span style=\"background-color:#ff9393\">মুসলিম</span> <span style=\"background-color:#ffaaaa\">এখন</span> <span style=\"background-color:#ffe4e4\">সে</span> <span style=\"background-color:#ffecec\">আবার</span> <span style=\"background-color:#ffe6e6\">হিন্দু</span> <span style=\"background-color:#ffcaca\">হয়ে</span> <span style=\"background-color:#ff4949\">গেছে</span> <span style=\"background-color:#ff0808\">দু</span> <span style=\"background-color:#ffdada\">ধর্মকে</span> <span style=\"background-color:#fff6f6\">অপু</span> <span style=\"background-color:#ffe2e2\">করছে</span> \n"
      ],
      "text/plain": [
       "<IPython.core.display.HTML object>"
      ]
     },
     "metadata": {},
     "output_type": "display_data"
    },
    {
     "name": "stdout",
     "output_type": "stream",
     "text": [
      "GI heatmap:\n"
     ]
    },
    {
     "data": {
      "text/html": [
       "<span style=\"background-color:#fffcfc\">করেছে</span> <span style=\"background-color:#a8a8ff\">মুসলিম</span> <span style=\"background-color:#8e8eff\">ছেলেকে</span> <span style=\"background-color:#ffecec\">বিয়ে</span> <span style=\"background-color:#ffeaea\">করে</span> <span style=\"background-color:#fff4f4\">নামাজ</span> <span style=\"background-color:#0000ff\">পড়েছে</span> <span style=\"background-color:#ff2c2c\">রেখেছে</span> <span style=\"background-color:#ff9c9c\">সে</span> <span style=\"background-color:#ff0000\">মুসলিম</span> <span style=\"background-color:#ffc8c8\">এখন</span> <span style=\"background-color:#ffe4e4\">সে</span> <span style=\"background-color:#fffefe\">আবার</span> <span style=\"background-color:#ffc3c3\">হিন্দু</span> <span style=\"background-color:#cacaff\">হয়ে</span> <span style=\"background-color:#0606ff\">গেছে</span> <span style=\"background-color:#ff0c0c\">দু</span> <span style=\"background-color:#ff9393\">ধর্মকে</span> <span style=\"background-color:#ffe8e8\">অপু</span> <span style=\"background-color:#e8e8ff\">করছে</span> \n"
      ],
      "text/plain": [
       "<IPython.core.display.HTML object>"
      ]
     },
     "metadata": {},
     "output_type": "display_data"
    },
    {
     "name": "stdout",
     "output_type": "stream",
     "text": [
      "-----------------------------------------------------------\n",
      "[969 334 373 213  35 373   2  49   0   0   0   0   0   0   0   0   0   0\n",
      "   0   0]\n",
      "(20,)\n",
      "[  55   64   84  705  292   14   84 2837 6302 6303 6304 2838  187    0\n",
      "    0    0    0    0    0    0]\n",
      "(20,)\n",
      "[  81 1590 4135   65  175  810  496 6038 1135  104    0    0    0    0\n",
      "    0    0    0    0    0    0]\n",
      "(20,)\n",
      "[ 211  215 8213 1733  377  122 1506   35  128  641 1190    0    0    0\n",
      "    0    0    0    0    0    0]\n",
      "(20,)\n",
      "[  51 9281   18    4  338  233  760  135  457 9951    0    0    0    0\n",
      "    0    0    0    0    0    0]\n",
      "(20,)\n",
      "[ 178  503   83  416  344 1586   38 1634 4036  383   32    0    0    0\n",
      "    0    0    0    0    0    0]\n",
      "(20,)\n",
      "[ 219 1320  599  967 5264  599  967  116  167  599 1179   78    1    0\n",
      "    0    0    0    0    0    0]\n",
      "(20,)\n",
      "[  49   27  398   47   11   74   10  273 2833  563 2833 1558  909  717\n",
      "  110   11   60    0    0    0]\n",
      "(20,)\n",
      "[4619 3523 6175   61 8003   18  156   88   27  210 3024   93  732    9\n",
      "    8    0    0    0    0    0]\n",
      "(20,)\n",
      "[ 334  451  700  807  321 1949   38  697 1489   16   38  388 1316  263\n",
      "    0    0    0    0    0    0]\n",
      "(20,)\n",
      "[   5  119  636  469  211  598 1810  285  757    2  603 3863   25  380\n",
      "    0    0    0    0    0    0]\n",
      "(20,)\n",
      "[  12  155   51  342  755 5279 9565  155  904  133   54  415  131    1\n",
      "    3   91  411  918    9   78]\n",
      "(20,)\n",
      "Predicted label: Religious Actual label: Personal\n",
      "LRP heatmap:\n"
     ]
    },
    {
     "data": {
      "text/html": [
       "<span style=\"background-color:#fefeff\">আমি</span> <span style=\"background-color:#fefeff\">একজন</span> <span style=\"background-color:#fffefe\">হিন্দু</span> <span style=\"background-color:#fefeff\">হয়ে</span> <span style=\"background-color:#fffefe\">বলছি</span> <span style=\"background-color:#fffafa\">মুফতি</span> <span style=\"background-color:#fffafa\">মাসুদ</span> <span style=\"background-color:#fffcfc\">একজন</span> <span style=\"background-color:#fffefe\">মূর্খ</span> <span style=\"background-color:#fffcfc\">এদের</span> <span style=\"background-color:#fff2f2\">মত</span> <span style=\"background-color:#ffe0e0\">কখনো</span> <span style=\"background-color:#fff4f4\">যাবে</span> <span style=\"background-color:#ffe4e4\">না</span> <span style=\"background-color:#ffeeee\">আর</span> <span style=\"background-color:#dedeff\">আপনি</span> <span style=\"background-color:#cacaff\">ওকে</span> <span style=\"background-color:#ffcece\">বলছেন</span> <span style=\"background-color:#0000ff\">ও</span> <span style=\"background-color:#ff3c3c\">পারে</span> \n"
      ],
      "text/plain": [
       "<IPython.core.display.HTML object>"
      ]
     },
     "metadata": {},
     "output_type": "display_data"
    },
    {
     "name": "stdout",
     "output_type": "stream",
     "text": [
      "SA heatmap:\n"
     ]
    },
    {
     "data": {
      "text/html": [
       "<span style=\"background-color:#fff6f6\">আমি</span> <span style=\"background-color:#ff5e5e\">একজন</span> <span style=\"background-color:#ffa8a8\">হিন্দু</span> <span style=\"background-color:#ffbcbc\">হয়ে</span> <span style=\"background-color:#ffb2b2\">বলছি</span> <span style=\"background-color:#ffbcbc\">মুফতি</span> <span style=\"background-color:#ffb8b8\">মাসুদ</span> <span style=\"background-color:#ffe0e0\">একজন</span> <span style=\"background-color:#ff9696\">মূর্খ</span> <span style=\"background-color:#ff4646\">এদের</span> <span style=\"background-color:#ffd6d6\">মত</span> <span style=\"background-color:#ffcaca\">কখনো</span> <span style=\"background-color:#ff0000\">যাবে</span> <span style=\"background-color:#ffeeee\">না</span> <span style=\"background-color:#ff7474\">আর</span> <span style=\"background-color:#ffb0b0\">আপনি</span> <span style=\"background-color:#ff7070\">ওকে</span> <span style=\"background-color:#ffb8b8\">বলছেন</span> <span style=\"background-color:#ffe2e2\">ও</span> <span style=\"background-color:#ff8888\">পারে</span> \n"
      ],
      "text/plain": [
       "<IPython.core.display.HTML object>"
      ]
     },
     "metadata": {},
     "output_type": "display_data"
    },
    {
     "name": "stdout",
     "output_type": "stream",
     "text": [
      "GI heatmap:\n"
     ]
    },
    {
     "data": {
      "text/html": [
       "<span style=\"background-color:#d3d3ff\">আমি</span> <span style=\"background-color:#ff0000\">একজন</span> <span style=\"background-color:#babaff\">হিন্দু</span> <span style=\"background-color:#ffcece\">হয়ে</span> <span style=\"background-color:#bcbcff\">বলছি</span> <span style=\"background-color:#ffd6d6\">মুফতি</span> <span style=\"background-color:#ffcccc\">মাসুদ</span> <span style=\"background-color:#ffdada\">একজন</span> <span style=\"background-color:#fff6f6\">মূর্খ</span> <span style=\"background-color:#9898ff\">এদের</span> <span style=\"background-color:#9a9aff\">মত</span> <span style=\"background-color:#ff7e7e\">কখনো</span> <span style=\"background-color:#ff1111\">যাবে</span> <span style=\"background-color:#ffd2d2\">না</span> <span style=\"background-color:#f8f8ff\">আর</span> <span style=\"background-color:#ff9898\">আপনি</span> <span style=\"background-color:#ffe8e8\">ওকে</span> <span style=\"background-color:#ffcece\">বলছেন</span> <span style=\"background-color:#fff8f8\">ও</span> <span style=\"background-color:#acacff\">পারে</span> \n"
      ],
      "text/plain": [
       "<IPython.core.display.HTML object>"
      ]
     },
     "metadata": {},
     "output_type": "display_data"
    },
    {
     "name": "stdout",
     "output_type": "stream",
     "text": [
      "-----------------------------------------------------------\n",
      "[ 556  181   48 1421  667 1422  362   77 2361   92    0    0    0    0\n",
      "    0    0    0    0    0    0]\n",
      "(20,)\n",
      "[ 693 1008  847    6  297 5144 9082 4550    6  297  274  669    2   26\n",
      "  504    0    0    0    0    0]\n",
      "(20,)\n",
      "[3063 4903  520  328  129  145    0    0    0    0    0    0    0    0\n",
      "    0    0    0    0    0    0]\n",
      "(20,)\n",
      "[  67  334 7064   33 2205   15  342  131   22    0    0    0    0    0\n",
      "    0    0    0    0    0    0]\n",
      "(20,)\n",
      "[1015  465   24   49 7427 7022  515    6 3244   71   78   32    0    0\n",
      "    0    0    0    0    0    0]\n",
      "(20,)\n",
      "[ 12 239  18 106  46   4 144 898  20  82  13 167  81   0   0   0   0   0\n",
      "   0   0]\n",
      "(20,)\n",
      "[586 825 181 329 122  96   0   0   0   0   0   0   0   0   0   0   0   0\n",
      "   0   0]\n",
      "(20,)\n",
      "[ 173   85 4837 1720  872  841 3428  113  100  240  182   91   14  173\n",
      "  203  115 1440 3969  103 3248]\n",
      "(20,)\n",
      "Predicted label: Religious Actual label: Personal\n",
      "LRP heatmap:\n"
     ]
    },
    {
     "data": {
      "text/html": [
       "<span style=\"background-color:#fffefe\">ভিডিও</span> <span style=\"background-color:#fefeff\">টা</span> <span style=\"background-color:#fffefe\">অতীন্দ্র</span> <span style=\"background-color:#fffefe\">দা</span> <span style=\"background-color:#fffefe\">ভাইরাল</span> <span style=\"background-color:#fefeff\">করেছেন</span> <span style=\"background-color:#fffcfc\">সেটি</span> <span style=\"background-color:#fffefe\">ছিল</span> <span style=\"background-color:#fffafa\">একটি</span> <span style=\"background-color:#fff2f2\">যার</span> <span style=\"background-color:#eeeeff\">মুখে</span> <span style=\"background-color:#ffe8e8\">আপনি</span> <span style=\"background-color:#ffe6e6\">যে</span> <span style=\"background-color:#ffc8c8\">ভিডিও</span> <span style=\"background-color:#f0f0ff\">সেটা</span> <span style=\"background-color:#a0a0ff\">হলো</span> <span style=\"background-color:#a6a6ff\">অকৃতজ্ঞ</span> <span style=\"background-color:#fffcfc\">ফেমাস</span> <span style=\"background-color:#3c3cff\">রানু</span> <span style=\"background-color:#0000ff\">মন্ডলের</span> \n"
      ],
      "text/plain": [
       "<IPython.core.display.HTML object>"
      ]
     },
     "metadata": {},
     "output_type": "display_data"
    },
    {
     "name": "stdout",
     "output_type": "stream",
     "text": [
      "SA heatmap:\n"
     ]
    },
    {
     "data": {
      "text/html": [
       "<span style=\"background-color:#ffaeae\">ভিডিও</span> <span style=\"background-color:#ff5454\">টা</span> <span style=\"background-color:#ffa2a2\">অতীন্দ্র</span> <span style=\"background-color:#ffecec\">দা</span> <span style=\"background-color:#ffdcdc\">ভাইরাল</span> <span style=\"background-color:#ffacac\">করেছেন</span> <span style=\"background-color:#ff9898\">সেটি</span> <span style=\"background-color:#ffe2e2\">ছিল</span> <span style=\"background-color:#ffdcdc\">একটি</span> <span style=\"background-color:#ff7070\">যার</span> <span style=\"background-color:#fff2f2\">মুখে</span> <span style=\"background-color:#ff0000\">আপনি</span> <span style=\"background-color:#ffb3b3\">যে</span> <span style=\"background-color:#ff9696\">ভিডিও</span> <span style=\"background-color:#ffc8c8\">সেটা</span> <span style=\"background-color:#fff0f0\">হলো</span> <span style=\"background-color:#ffd2d2\">অকৃতজ্ঞ</span> <span style=\"background-color:#ff8383\">ফেমাস</span> <span style=\"background-color:#ffc0c0\">রানু</span> <span style=\"background-color:#ff6666\">মন্ডলের</span> \n"
      ],
      "text/plain": [
       "<IPython.core.display.HTML object>"
      ]
     },
     "metadata": {},
     "output_type": "display_data"
    },
    {
     "name": "stdout",
     "output_type": "stream",
     "text": [
      "GI heatmap:\n"
     ]
    },
    {
     "data": {
      "text/html": [
       "<span style=\"background-color:#7e7eff\">ভিডিও</span> <span style=\"background-color:#2a2aff\">টা</span> <span style=\"background-color:#ffa0a0\">অতীন্দ্র</span> <span style=\"background-color:#f3f3ff\">দা</span> <span style=\"background-color:#e3e3ff\">ভাইরাল</span> <span style=\"background-color:#ff8282\">করেছেন</span> <span style=\"background-color:#aeaeff\">সেটি</span> <span style=\"background-color:#f0f0ff\">ছিল</span> <span style=\"background-color:#a6a6ff\">একটি</span> <span style=\"background-color:#ff8080\">যার</span> <span style=\"background-color:#e6e6ff\">মুখে</span> <span style=\"background-color:#0000ff\">আপনি</span> <span style=\"background-color:#ffb0b0\">যে</span> <span style=\"background-color:#7171ff\">ভিডিও</span> <span style=\"background-color:#8282ff\">সেটা</span> <span style=\"background-color:#ffecec\">হলো</span> <span style=\"background-color:#ffe6e6\">অকৃতজ্ঞ</span> <span style=\"background-color:#6464ff\">ফেমাস</span> <span style=\"background-color:#7474ff\">রানু</span> <span style=\"background-color:#ff2828\">মন্ডলের</span> \n"
      ],
      "text/plain": [
       "<IPython.core.display.HTML object>"
      ]
     },
     "metadata": {},
     "output_type": "display_data"
    },
    {
     "name": "stdout",
     "output_type": "stream",
     "text": [
      "-----------------------------------------------------------\n",
      "[268  90   4 101  50   0   0   0   0   0   0   0   0   0   0   0   0   0\n",
      "   0   0]\n",
      "(20,)\n",
      "[2265 2726 3403   11    1 1098 1152   11  710 2712  166  174    0    0\n",
      "    0    0    0    0    0    0]\n",
      "(20,)\n",
      "[1634  372   96 2986    0    0    0    0    0    0    0    0    0    0\n",
      "    0    0    0    0    0    0]\n",
      "(20,)\n",
      "[ 463 4722  167 1424   32    0    0    0    0    0    0    0    0    0\n",
      "    0    0    0    0    0    0]\n",
      "(20,)\n",
      "[ 107 9899  500  387   61   15 1086   22  127    9   29  333    0    0\n",
      "    0    0    0    0    0    0]\n",
      "(20,)\n",
      "[  70 5979   45 1792    0    0    0    0    0    0    0    0    0    0\n",
      "    0    0    0    0    0    0]\n",
      "(20,)\n",
      "[ 391 1087    2   32   46   49   70  255   70  391 1087  187   53  161\n",
      "   70  391   25  372   89   32]\n",
      "(20,)\n",
      "Predicted label: Religious Actual label: Personal\n",
      "LRP heatmap:\n"
     ]
    },
    {
     "data": {
      "text/html": [
       "<span style=\"background-color:#fffefe\">নিয়া</span> <span style=\"background-color:#fefeff\">সমালোচনা</span> <span style=\"background-color:#fefeff\">করে</span> <span style=\"background-color:#fffefe\">না।</span> <span style=\"background-color:#fefeff\">কিন্তু</span> <span style=\"background-color:#fffafa\">মুসলিম</span> <span style=\"background-color:#fefeff\">ধর্ম</span> <span style=\"background-color:#fafaff\">অন্য</span> <span style=\"background-color:#f8f8ff\">ধর্ম</span> <span style=\"background-color:#fff4f4\">নিয়া</span> <span style=\"background-color:#ececff\">সমালোচনা</span> <span style=\"background-color:#c2c2ff\">করে।</span> <span style=\"background-color:#babaff\">ভাই</span> <span style=\"background-color:#c2c2ff\">নিজের</span> <span style=\"background-color:#fff0f0\">ধর্ম</span> <span style=\"background-color:#f8f8ff\">নিয়া</span> <span style=\"background-color:#f2f2ff\">কথা</span> <span style=\"background-color:#0000ff\">বলা</span> <span style=\"background-color:#ff1414\">যায়</span> <span style=\"background-color:#7171ff\">না।</span> \n"
      ],
      "text/plain": [
       "<IPython.core.display.HTML object>"
      ]
     },
     "metadata": {},
     "output_type": "display_data"
    },
    {
     "name": "stdout",
     "output_type": "stream",
     "text": [
      "SA heatmap:\n"
     ]
    },
    {
     "data": {
      "text/html": [
       "<span style=\"background-color:#ffecec\">নিয়া</span> <span style=\"background-color:#ff8888\">সমালোচনা</span> <span style=\"background-color:#ffe4e4\">করে</span> <span style=\"background-color:#ffacac\">না।</span> <span style=\"background-color:#ffa8a8\">কিন্তু</span> <span style=\"background-color:#ffdada\">মুসলিম</span> <span style=\"background-color:#fffcfc\">ধর্ম</span> <span style=\"background-color:#fffafa\">অন্য</span> <span style=\"background-color:#ffdada\">ধর্ম</span> <span style=\"background-color:#fff0f0\">নিয়া</span> <span style=\"background-color:#fff8f8\">সমালোচনা</span> <span style=\"background-color:#fff8f8\">করে।</span> <span style=\"background-color:#fff6f6\">ভাই</span> <span style=\"background-color:#fff4f4\">নিজের</span> <span style=\"background-color:#fffcfc\">ধর্ম</span> <span style=\"background-color:#ffcaca\">নিয়া</span> <span style=\"background-color:#ffdcdc\">কথা</span> <span style=\"background-color:#ff9393\">বলা</span> <span style=\"background-color:#ff7474\">যায়</span> <span style=\"background-color:#ff0000\">না।</span> \n"
      ],
      "text/plain": [
       "<IPython.core.display.HTML object>"
      ]
     },
     "metadata": {},
     "output_type": "display_data"
    },
    {
     "name": "stdout",
     "output_type": "stream",
     "text": [
      "GI heatmap:\n"
     ]
    },
    {
     "data": {
      "text/html": [
       "<span style=\"background-color:#ff0606\">নিয়া</span> <span style=\"background-color:#5050ff\">সমালোচনা</span> <span style=\"background-color:#ffe2e2\">করে</span> <span style=\"background-color:#e3e3ff\">না।</span> <span style=\"background-color:#aaaaff\">কিন্তু</span> <span style=\"background-color:#c3c3ff\">মুসলিম</span> <span style=\"background-color:#ff6e6e\">ধর্ম</span> <span style=\"background-color:#ff1c1c\">অন্য</span> <span style=\"background-color:#4848ff\">ধর্ম</span> <span style=\"background-color:#ff8e8e\">নিয়া</span> <span style=\"background-color:#fefeff\">সমালোচনা</span> <span style=\"background-color:#ccccff\">করে।</span> <span style=\"background-color:#4040ff\">ভাই</span> <span style=\"background-color:#fcfcff\">নিজের</span> <span style=\"background-color:#ff8888\">ধর্ম</span> <span style=\"background-color:#5656ff\">নিয়া</span> <span style=\"background-color:#ff4444\">কথা</span> <span style=\"background-color:#ffd2d2\">বলা</span> <span style=\"background-color:#9292ff\">যায়</span> <span style=\"background-color:#ff0000\">না।</span> \n"
      ],
      "text/plain": [
       "<IPython.core.display.HTML object>"
      ]
     },
     "metadata": {},
     "output_type": "display_data"
    },
    {
     "name": "stdout",
     "output_type": "stream",
     "text": [
      "-----------------------------------------------------------\n",
      "[ 133    6   73 2437  122  357    0    0    0    0    0    0    0    0\n",
      "    0    0    0    0    0    0]\n",
      "(20,)\n",
      "[8402  894  366   63   67   19  523   16  386  146  810   18 1281  159\n",
      "  202 3846  119  215   68   81]\n",
      "(20,)\n",
      "Predicted label: Religious Actual label: Personal\n",
      "LRP heatmap:\n"
     ]
    },
    {
     "data": {
      "text/html": [
       "<span style=\"background-color:#fefeff\">ধনি</span> <span style=\"background-color:#fffefe\">পুরো</span> <span style=\"background-color:#fefeff\">এসে</span> <span style=\"background-color:#fffefe\">পর</span> <span style=\"background-color:#fefeff\">তোদের</span> <span style=\"background-color:#fefeff\">সাথে</span> <span style=\"background-color:#fffefe\">খেলা</span> <span style=\"background-color:#fffcfc\">হবে</span> <span style=\"background-color:#fefeff\">দেখি</span> <span style=\"background-color:#fffafa\">তোরা</span> <span style=\"background-color:#fffcfc\">কতো</span> <span style=\"background-color:#fcfcff\">করতে</span> <span style=\"background-color:#f8f8ff\">পারিস</span> <span style=\"background-color:#f2f2ff\">পরে</span> <span style=\"background-color:#dadaff\">দেখা</span> <span style=\"background-color:#9393ff\">জাবে</span> <span style=\"background-color:#ff6c6c\">শালা</span> <span style=\"background-color:#0000ff\">মালাউনের</span> <span style=\"background-color:#fff8f8\">বাচ্চা</span> <span style=\"background-color:#babaff\">মালাউন</span> \n"
      ],
      "text/plain": [
       "<IPython.core.display.HTML object>"
      ]
     },
     "metadata": {},
     "output_type": "display_data"
    },
    {
     "name": "stdout",
     "output_type": "stream",
     "text": [
      "SA heatmap:\n"
     ]
    },
    {
     "data": {
      "text/html": [
       "<span style=\"background-color:#ffecec\">ধনি</span> <span style=\"background-color:#ffcece\">পুরো</span> <span style=\"background-color:#ffbebe\">এসে</span> <span style=\"background-color:#ff0000\">পর</span> <span style=\"background-color:#ffe8e8\">তোদের</span> <span style=\"background-color:#ff9e9e\">সাথে</span> <span style=\"background-color:#ffa6a6\">খেলা</span> <span style=\"background-color:#ffeeee\">হবে</span> <span style=\"background-color:#ffd6d6\">দেখি</span> <span style=\"background-color:#ffd0d0\">তোরা</span> <span style=\"background-color:#ffacac\">কতো</span> <span style=\"background-color:#ffd6d6\">করতে</span> <span style=\"background-color:#ffe6e6\">পারিস</span> <span style=\"background-color:#ffe8e8\">পরে</span> <span style=\"background-color:#ff5050\">দেখা</span> <span style=\"background-color:#ffe0e0\">জাবে</span> <span style=\"background-color:#fff4f4\">শালা</span> <span style=\"background-color:#ff5151\">মালাউনের</span> <span style=\"background-color:#ffcece\">বাচ্চা</span> <span style=\"background-color:#ff0e0e\">মালাউন</span> \n"
      ],
      "text/plain": [
       "<IPython.core.display.HTML object>"
      ]
     },
     "metadata": {},
     "output_type": "display_data"
    },
    {
     "name": "stdout",
     "output_type": "stream",
     "text": [
      "GI heatmap:\n"
     ]
    },
    {
     "data": {
      "text/html": [
       "<span style=\"background-color:#ff9393\">ধনি</span> <span style=\"background-color:#4949ff\">পুরো</span> <span style=\"background-color:#ff6161\">এসে</span> <span style=\"background-color:#ececff\">পর</span> <span style=\"background-color:#aaaaff\">তোদের</span> <span style=\"background-color:#ff5151\">সাথে</span> <span style=\"background-color:#e8e8ff\">খেলা</span> <span style=\"background-color:#e0e0ff\">হবে</span> <span style=\"background-color:#0a0aff\">দেখি</span> <span style=\"background-color:#c0c0ff\">তোরা</span> <span style=\"background-color:#0000ff\">কতো</span> <span style=\"background-color:#3a3aff\">করতে</span> <span style=\"background-color:#ff7171\">পারিস</span> <span style=\"background-color:#e6e6ff\">পরে</span> <span style=\"background-color:#6161ff\">দেখা</span> <span style=\"background-color:#e2e2ff\">জাবে</span> <span style=\"background-color:#ffcccc\">শালা</span> <span style=\"background-color:#fff6f6\">মালাউনের</span> <span style=\"background-color:#e6e6ff\">বাচ্চা</span> <span style=\"background-color:#ff5858\">মালাউন</span> \n"
      ],
      "text/plain": [
       "<IPython.core.display.HTML object>"
      ]
     },
     "metadata": {},
     "output_type": "display_data"
    },
    {
     "name": "stdout",
     "output_type": "stream",
     "text": [
      "-----------------------------------------------------------\n",
      "[ 956  338  157   38  255   70  511  378 2251   26   97  148    0    0\n",
      "    0    0    0    0    0    0]\n",
      "(20,)\n",
      "[  12   23 4662 1062  455    5  167    6    4   26  140    0    0    0\n",
      "    0    0    0    0    0    0]\n",
      "(20,)\n",
      "[1425 1472  737 2550 4771 2945 9788  517 2008  214 5312 9789 9790 1906\n",
      " 2550 4773   54 9791   18  145]\n",
      "(20,)\n",
      "Predicted label: Religious Actual label: Personal\n",
      "LRP heatmap:\n"
     ]
    },
    {
     "data": {
      "text/html": [
       "<span style=\"background-color:#fefeff\">নামধারী</span> <span style=\"background-color:#fffefe\">যেসব</span> <span style=\"background-color:#fefeff\">কুলাঙ্গার</span> <span style=\"background-color:#fefeff\">শ্যামল</span> <span style=\"background-color:#fefeff\">কান্তি</span> <span style=\"background-color:#fffcfc\">ভক্তের</span> <span style=\"background-color:#fffefe\">অনুকরণে</span> <span style=\"background-color:#fffcfc\">রাস্তায়</span> <span style=\"background-color:#fff8f8\">কান</span> <span style=\"background-color:#fffefe\">ধরে</span> <span style=\"background-color:#fff6f6\">দাঁড়িয়েছিল</span> <span style=\"background-color:#fff6f6\">এবারতো</span> <span style=\"background-color:#fefeff\">নাসিমের</span> <span style=\"background-color:#ffecec\">পায়ে</span> <span style=\"background-color:#ffe4e4\">শ্যামল</span> <span style=\"background-color:#ff8e8e\">কান্তির</span> <span style=\"background-color:#ececff\">মত</span> <span style=\"background-color:#9c9cff\">কুর্নিশ</span> <span style=\"background-color:#0000ff\">করতে</span> <span style=\"background-color:#d0d0ff\">হবে।</span> \n"
      ],
      "text/plain": [
       "<IPython.core.display.HTML object>"
      ]
     },
     "metadata": {},
     "output_type": "display_data"
    },
    {
     "name": "stdout",
     "output_type": "stream",
     "text": [
      "SA heatmap:\n"
     ]
    },
    {
     "data": {
      "text/html": [
       "<span style=\"background-color:#ffecec\">নামধারী</span> <span style=\"background-color:#ffdada\">যেসব</span> <span style=\"background-color:#ff4c4c\">কুলাঙ্গার</span> <span style=\"background-color:#ffecec\">শ্যামল</span> <span style=\"background-color:#ffeeee\">কান্তি</span> <span style=\"background-color:#ffe2e2\">ভক্তের</span> <span style=\"background-color:#ff6666\">অনুকরণে</span> <span style=\"background-color:#ff8c8c\">রাস্তায়</span> <span style=\"background-color:#ffbaba\">কান</span> <span style=\"background-color:#ffb3b3\">ধরে</span> <span style=\"background-color:#ffeeee\">দাঁড়িয়েছিল</span> <span style=\"background-color:#ffb3b3\">এবারতো</span> <span style=\"background-color:#ff9292\">নাসিমের</span> <span style=\"background-color:#ffe0e0\">পায়ে</span> <span style=\"background-color:#ffe0e0\">শ্যামল</span> <span style=\"background-color:#ffa0a0\">কান্তির</span> <span style=\"background-color:#ff0000\">মত</span> <span style=\"background-color:#ffeaea\">কুর্নিশ</span> <span style=\"background-color:#ff1e1e\">করতে</span> <span style=\"background-color:#ff6666\">হবে।</span> \n"
      ],
      "text/plain": [
       "<IPython.core.display.HTML object>"
      ]
     },
     "metadata": {},
     "output_type": "display_data"
    },
    {
     "name": "stdout",
     "output_type": "stream",
     "text": [
      "GI heatmap:\n"
     ]
    },
    {
     "data": {
      "text/html": [
       "<span style=\"background-color:#fff4f4\">নামধারী</span> <span style=\"background-color:#ffc6c6\">যেসব</span> <span style=\"background-color:#0000ff\">কুলাঙ্গার</span> <span style=\"background-color:#cacaff\">শ্যামল</span> <span style=\"background-color:#f2f2ff\">কান্তি</span> <span style=\"background-color:#ffa2a2\">ভক্তের</span> <span style=\"background-color:#f6f6ff\">অনুকরণে</span> <span style=\"background-color:#ffa2a2\">রাস্তায়</span> <span style=\"background-color:#f3f3ff\">কান</span> <span style=\"background-color:#ff6c6c\">ধরে</span> <span style=\"background-color:#eeeeff\">দাঁড়িয়েছিল</span> <span style=\"background-color:#ffcece\">এবারতো</span> <span style=\"background-color:#ff4848\">নাসিমের</span> <span style=\"background-color:#b2b2ff\">পায়ে</span> <span style=\"background-color:#babaff\">শ্যামল</span> <span style=\"background-color:#c8c8ff\">কান্তির</span> <span style=\"background-color:#e6e6ff\">মত</span> <span style=\"background-color:#e6e6ff\">কুর্নিশ</span> <span style=\"background-color:#2a2aff\">করতে</span> <span style=\"background-color:#c2c2ff\">হবে।</span> \n"
      ],
      "text/plain": [
       "<IPython.core.display.HTML object>"
      ]
     },
     "metadata": {},
     "output_type": "display_data"
    },
    {
     "name": "stdout",
     "output_type": "stream",
     "text": [
      "-----------------------------------------------------------\n",
      "[ 711   53   81 5205  514  850  192 6380 4666   16    0    0    0    0\n",
      "    0    0    0    0    0    0]\n",
      "(20,)\n",
      "[  24  416   80    3 1033  137   63  781  108  290  781 2764   83  738\n",
      "  102  337  738    0    0    0]\n",
      "(20,)\n",
      "[ 167 7976  461  254   28  167    0    0    0    0    0    0    0    0\n",
      "    0    0    0    0    0    0]\n",
      "(20,)\n",
      "[  51 2356  175  129  212   46  167    0    0    0    0    0    0    0\n",
      "    0    0    0    0    0    0]\n",
      "(20,)\n",
      "[1070    2 1605   41    5 8444    6   21 9637    3 2987 4088 5749  266\n",
      " 1068  318  479    9  156 5259]\n",
      "(20,)\n",
      "Predicted label: Religious Actual label: Personal\n",
      "LRP heatmap:\n"
     ]
    },
    {
     "data": {
      "text/html": [
       "<span style=\"background-color:#fefeff\">ক্ষতি</span> <span style=\"background-color:#fffefe\">করে</span> <span style=\"background-color:#fffefe\">ভেঙ্গে</span> <span style=\"background-color:#fffefe\">এখন</span> <span style=\"background-color:#fffefe\">এই</span> <span style=\"background-color:#fff8f8\">সম্প্রদায়</span> <span style=\"background-color:#fefeff\">কে</span> <span style=\"background-color:#fffafa\">একটা</span> <span style=\"background-color:#fefeff\">প্রতিশ্রুতি</span> <span style=\"background-color:#fff2f2\">আর</span> <span style=\"background-color:#fff2f2\">দুশমন</span> <span style=\"background-color:#dedeff\">দমনের</span> <span style=\"background-color:#f8f8ff\">মন্ত্র</span> <span style=\"background-color:#ffb8b8\">বাংলা</span> <span style=\"background-color:#ffd0d0\">সিনেমা</span> <span style=\"background-color:#c2c2ff\">যেমন</span> <span style=\"background-color:#ff6464\">রাজনীতি</span> <span style=\"background-color:#0000ff\">ও</span> <span style=\"background-color:#1616ff\">থাকে</span> <span style=\"background-color:#ffb0b0\">কস্ট</span> \n"
      ],
      "text/plain": [
       "<IPython.core.display.HTML object>"
      ]
     },
     "metadata": {},
     "output_type": "display_data"
    },
    {
     "name": "stdout",
     "output_type": "stream",
     "text": [
      "SA heatmap:\n"
     ]
    },
    {
     "data": {
      "text/html": [
       "<span style=\"background-color:#fff0f0\">ক্ষতি</span> <span style=\"background-color:#fffcfc\">করে</span> <span style=\"background-color:#ff0000\">ভেঙ্গে</span> <span style=\"background-color:#fff0f0\">এখন</span> <span style=\"background-color:#fff6f6\">এই</span> <span style=\"background-color:#ffeeee\">সম্প্রদায়</span> <span style=\"background-color:#ffeaea\">কে</span> <span style=\"background-color:#ffa0a0\">একটা</span> <span style=\"background-color:#fffcfc\">প্রতিশ্রুতি</span> <span style=\"background-color:#ff6e6e\">আর</span> <span style=\"background-color:#ffecec\">দুশমন</span> <span style=\"background-color:#fff4f4\">দমনের</span> <span style=\"background-color:#ff7c7c\">মন্ত্র</span> <span style=\"background-color:#ff7c7c\">বাংলা</span> <span style=\"background-color:#ffdcdc\">সিনেমা</span> <span style=\"background-color:#fffafa\">যেমন</span> <span style=\"background-color:#fff2f2\">রাজনীতি</span> <span style=\"background-color:#ffeaea\">ও</span> <span style=\"background-color:#fff6f6\">থাকে</span> <span style=\"background-color:#ffecec\">কস্ট</span> \n"
      ],
      "text/plain": [
       "<IPython.core.display.HTML object>"
      ]
     },
     "metadata": {},
     "output_type": "display_data"
    },
    {
     "name": "stdout",
     "output_type": "stream",
     "text": [
      "GI heatmap:\n"
     ]
    },
    {
     "data": {
      "text/html": [
       "<span style=\"background-color:#d2d2ff\">ক্ষতি</span> <span style=\"background-color:#f3f3ff\">করে</span> <span style=\"background-color:#0000ff\">ভেঙ্গে</span> <span style=\"background-color:#ffd3d3\">এখন</span> <span style=\"background-color:#dedeff\">এই</span> <span style=\"background-color:#ffc8c8\">সম্প্রদায়</span> <span style=\"background-color:#ffb2b2\">কে</span> <span style=\"background-color:#6e6eff\">একটা</span> <span style=\"background-color:#ffe2e2\">প্রতিশ্রুতি</span> <span style=\"background-color:#ff3939\">আর</span> <span style=\"background-color:#bcbcff\">দুশমন</span> <span style=\"background-color:#f0f0ff\">দমনের</span> <span style=\"background-color:#ff4e4e\">মন্ত্র</span> <span style=\"background-color:#ff4040\">বাংলা</span> <span style=\"background-color:#a0a0ff\">সিনেমা</span> <span style=\"background-color:#ffdcdc\">যেমন</span> <span style=\"background-color:#ccccff\">রাজনীতি</span> <span style=\"background-color:#ffb8b8\">ও</span> <span style=\"background-color:#fffafa\">থাকে</span> <span style=\"background-color:#ffbebe\">কস্ট</span> \n"
      ],
      "text/plain": [
       "<IPython.core.display.HTML object>"
      ]
     },
     "metadata": {},
     "output_type": "display_data"
    },
    {
     "name": "stdout",
     "output_type": "stream",
     "text": [
      "-----------------------------------------------------------\n",
      "[5855  107  841   23 1050  977   72   29 3136   37 1672 2703  225   93\n",
      " 8636 6121    3  586 1554 1266]\n",
      "(20,)\n",
      "Predicted label: Religious Actual label: Personal\n",
      "LRP heatmap:\n"
     ]
    },
    {
     "data": {
      "text/html": [
       "<span style=\"background-color:#fcfcff\">কাজী</span> <span style=\"background-color:#fcfcff\">ইসলাম</span> <span style=\"background-color:#fffefe\">করেছেন</span> <span style=\"background-color:#fafaff\">এর</span> <span style=\"background-color:#fefeff\">পেটের</span> <span style=\"background-color:#ececff\">দায়ে</span> <span style=\"background-color:#eeeeff\">বাংলাদেশে</span> <span style=\"background-color:#c2c2ff\">হয়ে</span> <span style=\"background-color:#ffe4e4\">গেলেন</span> <span style=\"background-color:#fff0f0\">আমাদের</span> <span style=\"background-color:#fcfcff\">মাথার</span> <span style=\"background-color:#fffafa\">কবি</span> <span style=\"background-color:#dedeff\">কারন</span> <span style=\"background-color:#f2f2ff\">তখন</span> <span style=\"background-color:#ffd0d0\">বাঙালীরা</span> <span style=\"background-color:#b0b0ff\">কলকাতা</span> <span style=\"background-color:#6c6cff\">আর</span> <span style=\"background-color:#fff4f4\">বাংলাদেশকে</span> <span style=\"background-color:#ffe0e0\">আলাদা</span> <span style=\"background-color:#ff0000\">চোখে</span> \n"
      ],
      "text/plain": [
       "<IPython.core.display.HTML object>"
      ]
     },
     "metadata": {},
     "output_type": "display_data"
    },
    {
     "name": "stdout",
     "output_type": "stream",
     "text": [
      "SA heatmap:\n"
     ]
    },
    {
     "data": {
      "text/html": [
       "<span style=\"background-color:#ffb3b3\">কাজী</span> <span style=\"background-color:#ffb2b2\">ইসলাম</span> <span style=\"background-color:#fff2f2\">করেছেন</span> <span style=\"background-color:#ffa8a8\">এর</span> <span style=\"background-color:#ff7474\">পেটের</span> <span style=\"background-color:#ffbebe\">দায়ে</span> <span style=\"background-color:#ffbcbc\">বাংলাদেশে</span> <span style=\"background-color:#ffe4e4\">হয়ে</span> <span style=\"background-color:#ff7676\">গেলেন</span> <span style=\"background-color:#ff9696\">আমাদের</span> <span style=\"background-color:#ff0404\">মাথার</span> <span style=\"background-color:#ff8e8e\">কবি</span> <span style=\"background-color:#ff5050\">কারন</span> <span style=\"background-color:#ff7676\">তখন</span> <span style=\"background-color:#ffdede\">বাঙালীরা</span> <span style=\"background-color:#ffbaba\">কলকাতা</span> <span style=\"background-color:#ffbebe\">আর</span> <span style=\"background-color:#ffe2e2\">বাংলাদেশকে</span> <span style=\"background-color:#ff4c4c\">আলাদা</span> <span style=\"background-color:#ff0000\">চোখে</span> \n"
      ],
      "text/plain": [
       "<IPython.core.display.HTML object>"
      ]
     },
     "metadata": {},
     "output_type": "display_data"
    },
    {
     "name": "stdout",
     "output_type": "stream",
     "text": [
      "GI heatmap:\n"
     ]
    },
    {
     "data": {
      "text/html": [
       "<span style=\"background-color:#fefeff\">কাজী</span> <span style=\"background-color:#8282ff\">ইসলাম</span> <span style=\"background-color:#fafaff\">করেছেন</span> <span style=\"background-color:#fffafa\">এর</span> <span style=\"background-color:#8383ff\">পেটের</span> <span style=\"background-color:#5050ff\">দায়ে</span> <span style=\"background-color:#e3e3ff\">বাংলাদেশে</span> <span style=\"background-color:#ffdcdc\">হয়ে</span> <span style=\"background-color:#ff6e6e\">গেলেন</span> <span style=\"background-color:#ff5454\">আমাদের</span> <span style=\"background-color:#ffa0a0\">মাথার</span> <span style=\"background-color:#ff9393\">কবি</span> <span style=\"background-color:#ff5050\">কারন</span> <span style=\"background-color:#8888ff\">তখন</span> <span style=\"background-color:#c3c3ff\">বাঙালীরা</span> <span style=\"background-color:#ff3838\">কলকাতা</span> <span style=\"background-color:#ffa3a3\">আর</span> <span style=\"background-color:#7e7eff\">বাংলাদেশকে</span> <span style=\"background-color:#5959ff\">আলাদা</span> <span style=\"background-color:#ff0000\">চোখে</span> \n"
      ],
      "text/plain": [
       "<IPython.core.display.HTML object>"
      ]
     },
     "metadata": {},
     "output_type": "display_data"
    },
    {
     "name": "stdout",
     "output_type": "stream",
     "text": [
      "-----------------------------------------------------------\n",
      "[  55   55 1015  479 1327   55  210  269  660  400  292   32    0    0\n",
      "    0    0    0    0    0    0]\n",
      "(20,)\n",
      "[  21 3607  167 2455 1961 1961  174 2158    2   48  269  254    0    0\n",
      "    0    0    0    0    0    0]\n",
      "(20,)\n",
      "[ 371  115  326 4900    0    0    0    0    0    0    0    0    0    0\n",
      "    0    0    0    0    0    0]\n",
      "(20,)\n",
      "[ 155  694  175   53   51   70   34  135  989   24   51 8472   99 1185\n",
      "    0    0    0    0    0    0]\n",
      "(20,)\n",
      "[8132 9189   23 4910 2099    3 8237   23 4910   45 1522   42    0    0\n",
      "    0    0    0    0    0    0]\n",
      "(20,)\n",
      "[  49  124  270   61  140  178   11    1   92  108 2013 6046 1962 1622\n",
      "  129   78   37  108 8542 1740]\n",
      "(20,)\n",
      "Predicted label: Religious Actual label: Personal\n",
      "LRP heatmap:\n"
     ]
    },
    {
     "data": {
      "text/html": [
       "<span style=\"background-color:#fffefe\">মুসলিম</span> <span style=\"background-color:#fffefe\">দের</span> <span style=\"background-color:#fffefe\">হাত</span> <span style=\"background-color:#fffefe\">করার</span> <span style=\"background-color:#fffefe\">দরকার</span> <span style=\"background-color:#fefeff\">হিন্দুদের</span> <span style=\"background-color:#fefeff\">হয়</span> <span style=\"background-color:#fefeff\">না</span> <span style=\"background-color:#fcfcff\">আপনার</span> <span style=\"background-color:#fffefe\">কাছে</span> <span style=\"background-color:#fffefe\">হজরত</span> <span style=\"background-color:#fcfcff\">মহম্মদ</span> <span style=\"background-color:#fefeff\">মহা</span> <span style=\"background-color:#fffcfc\">নবী</span> <span style=\"background-color:#fff4f4\">হতে</span> <span style=\"background-color:#fff6f6\">পারে</span> <span style=\"background-color:#fefeff\">আমাদের</span> <span style=\"background-color:#ffacac\">কাছে</span> <span style=\"background-color:#0c0cff\">নরকের</span> <span style=\"background-color:#0000ff\">কীট</span> \n"
      ],
      "text/plain": [
       "<IPython.core.display.HTML object>"
      ]
     },
     "metadata": {},
     "output_type": "display_data"
    },
    {
     "name": "stdout",
     "output_type": "stream",
     "text": [
      "SA heatmap:\n"
     ]
    },
    {
     "data": {
      "text/html": [
       "<span style=\"background-color:#ffdada\">মুসলিম</span> <span style=\"background-color:#ffcaca\">দের</span> <span style=\"background-color:#ffcece\">হাত</span> <span style=\"background-color:#ffe6e6\">করার</span> <span style=\"background-color:#ff9a9a\">দরকার</span> <span style=\"background-color:#ff7878\">হিন্দুদের</span> <span style=\"background-color:#ff3e3e\">হয়</span> <span style=\"background-color:#ffd2d2\">না</span> <span style=\"background-color:#ffcccc\">আপনার</span> <span style=\"background-color:#ff9c9c\">কাছে</span> <span style=\"background-color:#ffbebe\">হজরত</span> <span style=\"background-color:#ffdada\">মহম্মদ</span> <span style=\"background-color:#ffdede\">মহা</span> <span style=\"background-color:#ff7878\">নবী</span> <span style=\"background-color:#ffdcdc\">হতে</span> <span style=\"background-color:#fff4f4\">পারে</span> <span style=\"background-color:#ffd2d2\">আমাদের</span> <span style=\"background-color:#ff9696\">কাছে</span> <span style=\"background-color:#ff0000\">নরকের</span> <span style=\"background-color:#ffaeae\">কীট</span> \n"
      ],
      "text/plain": [
       "<IPython.core.display.HTML object>"
      ]
     },
     "metadata": {},
     "output_type": "display_data"
    },
    {
     "name": "stdout",
     "output_type": "stream",
     "text": [
      "GI heatmap:\n"
     ]
    },
    {
     "data": {
      "text/html": [
       "<span style=\"background-color:#d3d3ff\">মুসলিম</span> <span style=\"background-color:#b6b6ff\">দের</span> <span style=\"background-color:#ffe6e6\">হাত</span> <span style=\"background-color:#ffb6b6\">করার</span> <span style=\"background-color:#1212ff\">দরকার</span> <span style=\"background-color:#9393ff\">হিন্দুদের</span> <span style=\"background-color:#8a8aff\">হয়</span> <span style=\"background-color:#ffd0d0\">না</span> <span style=\"background-color:#ff8e8e\">আপনার</span> <span style=\"background-color:#ff0000\">কাছে</span> <span style=\"background-color:#fffcfc\">হজরত</span> <span style=\"background-color:#9292ff\">মহম্মদ</span> <span style=\"background-color:#ffd2d2\">মহা</span> <span style=\"background-color:#ffe6e6\">নবী</span> <span style=\"background-color:#ffd3d3\">হতে</span> <span style=\"background-color:#ffd0d0\">পারে</span> <span style=\"background-color:#ff8383\">আমাদের</span> <span style=\"background-color:#b2b2ff\">কাছে</span> <span style=\"background-color:#ffdcdc\">নরকের</span> <span style=\"background-color:#ff5858\">কীট</span> \n"
      ],
      "text/plain": [
       "<IPython.core.display.HTML object>"
      ]
     },
     "metadata": {},
     "output_type": "display_data"
    },
    {
     "name": "stdout",
     "output_type": "stream",
     "text": [
      "-----------------------------------------------------------\n",
      "[ 572   51 2537   94 2603  178  139   18  145    0    0    0    0    0\n",
      "    0    0    0    0    0    0]\n",
      "(20,)\n",
      "[8032 3950 1941 2211 2211   30 3296    4  621  107   70  217    0    0\n",
      "    0    0    0    0    0    0]\n",
      "(20,)\n",
      "[  49  569 2350  407  107   29  398   36  177    0    0    0    0    0\n",
      "    0    0    0    0    0    0]\n",
      "(20,)\n",
      "[9634  239 1465 4753   92   19  244  682   39   44 4560    1    0    0\n",
      "    0    0    0    0    0    0]\n",
      "(20,)\n",
      "[1330 4590  142  175 4267  190   94  151   24   51   23  163   80   23\n",
      "  225    4    0    0    0    0]\n",
      "(20,)\n",
      "[   5   64  215   68 6227   14  740   77 2930    0    0    0    0    0\n",
      "    0    0    0    0    0    0]\n",
      "(20,)\n",
      "[119 819  28  21 614   0   0   0   0   0   0   0   0   0   0   0   0   0\n",
      "   0   0]\n",
      "(20,)\n",
      "[ 713 1595 1177  832   31   54  134  614    1   55  161 1352 1021   55\n",
      "   37  268 1376  898    0    0]\n",
      "(20,)\n",
      "[  59 3064   47  255   59  613  368   74   37 2676 2494    0    0    0\n",
      "    0    0    0    0    0    0]\n",
      "(20,)\n",
      "[  49 1716 6633 2289  831 2944    0    0    0    0    0    0    0    0\n",
      "    0    0    0    0    0    0]\n",
      "(20,)\n",
      "[4717   24   70  701   51   49   27  879    2    1    0    0    0    0\n",
      "    0    0    0    0    0    0]\n",
      "(20,)\n",
      "[  49  415  686  286 2609  525  686  282  306 6054  878 8711    0    0\n",
      "    0    0    0    0    0    0]\n",
      "(20,)\n",
      "[2513  473 2987  235 3176    0    0    0    0    0    0    0    0    0\n",
      "    0    0    0    0    0    0]\n",
      "(20,)\n",
      "[  70    3 9973  243   83    3  243   83 2788 7592  969 2160  368    9\n",
      "   60    3  851    9    1    8]\n",
      "(20,)\n",
      "Predicted label: Religious Actual label: Personal\n",
      "LRP heatmap:\n"
     ]
    },
    {
     "data": {
      "text/html": [
       "<span style=\"background-color:#fffefe\">ধর্ম</span> <span style=\"background-color:#fefeff\">আর</span> <span style=\"background-color:#fefeff\">কৃষ্ণর</span> <span style=\"background-color:#fefeff\">চেয়ে</span> <span style=\"background-color:#fefeff\">বড়</span> <span style=\"background-color:#fefeff\">আর</span> <span style=\"background-color:#fefeff\">চেয়ে</span> <span style=\"background-color:#fffefe\">বড়</span> <span style=\"background-color:#fefeff\">মিয়া</span> <span style=\"background-color:#fffcfc\">খলিফা</span> <span style=\"background-color:#fefeff\">পৃথিবীতে</span> <span style=\"background-color:#fefeff\">কোনদিন</span> <span style=\"background-color:#f6f6ff\">আসে</span> <span style=\"background-color:#fffcfc\">ও</span> <span style=\"background-color:#f8f8ff\">নাই</span> <span style=\"background-color:#ececff\">আর</span> <span style=\"background-color:#e3e3ff\">আসবে</span> <span style=\"background-color:#ffbebe\">ও</span> <span style=\"background-color:#e0e0ff\">না</span> <span style=\"background-color:#0000ff\">।</span> \n"
      ],
      "text/plain": [
       "<IPython.core.display.HTML object>"
      ]
     },
     "metadata": {},
     "output_type": "display_data"
    },
    {
     "name": "stdout",
     "output_type": "stream",
     "text": [
      "SA heatmap:\n"
     ]
    },
    {
     "data": {
      "text/html": [
       "<span style=\"background-color:#fff6f6\">ধর্ম</span> <span style=\"background-color:#ff9292\">আর</span> <span style=\"background-color:#ff9292\">কৃষ্ণর</span> <span style=\"background-color:#ff2626\">চেয়ে</span> <span style=\"background-color:#ffbebe\">বড়</span> <span style=\"background-color:#fff2f2\">আর</span> <span style=\"background-color:#ff0000\">চেয়ে</span> <span style=\"background-color:#ffc8c8\">বড়</span> <span style=\"background-color:#ffeaea\">মিয়া</span> <span style=\"background-color:#fff6f6\">খলিফা</span> <span style=\"background-color:#ffdcdc\">পৃথিবীতে</span> <span style=\"background-color:#ff4848\">কোনদিন</span> <span style=\"background-color:#ff4848\">আসে</span> <span style=\"background-color:#ffa0a0\">ও</span> <span style=\"background-color:#ff2020\">নাই</span> <span style=\"background-color:#ffdcdc\">আর</span> <span style=\"background-color:#ffe0e0\">আসবে</span> <span style=\"background-color:#ff2828\">ও</span> <span style=\"background-color:#ffeeee\">না</span> <span style=\"background-color:#ffacac\">।</span> \n"
      ],
      "text/plain": [
       "<IPython.core.display.HTML object>"
      ]
     },
     "metadata": {},
     "output_type": "display_data"
    },
    {
     "name": "stdout",
     "output_type": "stream",
     "text": [
      "GI heatmap:\n"
     ]
    },
    {
     "data": {
      "text/html": [
       "<span style=\"background-color:#ffecec\">ধর্ম</span> <span style=\"background-color:#ff5454\">আর</span> <span style=\"background-color:#fefeff\">কৃষ্ণর</span> <span style=\"background-color:#b6b6ff\">চেয়ে</span> <span style=\"background-color:#9292ff\">বড়</span> <span style=\"background-color:#ffa3a3\">আর</span> <span style=\"background-color:#6e6eff\">চেয়ে</span> <span style=\"background-color:#0000ff\">বড়</span> <span style=\"background-color:#ffcece\">মিয়া</span> <span style=\"background-color:#ffbebe\">খলিফা</span> <span style=\"background-color:#d6d6ff\">পৃথিবীতে</span> <span style=\"background-color:#0808ff\">কোনদিন</span> <span style=\"background-color:#ffcaca\">আসে</span> <span style=\"background-color:#ff9c9c\">ও</span> <span style=\"background-color:#e2e2ff\">নাই</span> <span style=\"background-color:#d8d8ff\">আর</span> <span style=\"background-color:#ff8e8e\">আসবে</span> <span style=\"background-color:#ff0909\">ও</span> <span style=\"background-color:#8888ff\">না</span> <span style=\"background-color:#ffaeae\">।</span> \n"
      ],
      "text/plain": [
       "<IPython.core.display.HTML object>"
      ]
     },
     "metadata": {},
     "output_type": "display_data"
    },
    {
     "name": "stdout",
     "output_type": "stream",
     "text": [
      "-----------------------------------------------------------\n",
      "[7775 7776 7777  270  872  173   34 7778 4598 5413  240 1075   35  223\n",
      "   60  953  824  208    0    0]\n",
      "(20,)\n",
      "[3178  280   49 3863  755    5 1511   81  732   17 1894    0    0    0\n",
      "    0    0    0    0    0    0]\n",
      "(20,)\n",
      "[ 219  175   94   18   28  306 9363 3726    0    0    0    0    0    0\n",
      "    0    0    0    0    0    0]\n",
      "(20,)\n",
      "[6358 3599 3884  321   70 1678  222   61  113 2914    0    0    0    0\n",
      "    0    0    0    0    0    0]\n",
      "(20,)\n",
      "[  51 5226  517 5537 3191  580   91   29  956  764 1850   42    0    0\n",
      "    0    0    0    0    0    0]\n",
      "(20,)\n",
      "[3062  745 5438  107   34  248   61  444  158  507  873  330  447  133\n",
      " 2512    0    0    0    0    0]\n",
      "(20,)\n",
      "[ 959 7269 1646   81    4    9 1273    8  201  736 1416    0    0    0\n",
      "    0    0    0    0    0    0]\n",
      "(20,)\n",
      "[ 210   27   39  402   14  756 2246    2  203  116   70  129   78   32\n",
      "    0    0    0    0    0    0]\n",
      "(20,)\n",
      "[3618   84  302  473  196   75  638   25  372  658    0    0    0    0\n",
      "    0    0    0    0    0    0]\n",
      "(20,)\n",
      "[ 221 1718  140   36 5238   66 5984  250 1166    3 1709  294 2797 5984\n",
      "    0    0    0    0    0    0]\n",
      "(20,)\n",
      "[3251 5408 3630    3   51  163 1522  158    0    0    0    0    0    0\n",
      "    0    0    0    0    0    0]\n",
      "(20,)\n",
      "[6358 3599 3884  321   70 1678  222   61  113 2914  458    0    0    0\n",
      "    0    0    0    0    0    0]\n",
      "(20,)\n",
      "[1444  751 2547   70 1587   27  409   96 6628 6629   35  294   31  118\n",
      " 1018  397 2533  289  215   68]\n",
      "(20,)\n",
      "Predicted label: Religious Actual label: Personal\n",
      "LRP heatmap:\n"
     ]
    },
    {
     "data": {
      "text/html": [
       "<span style=\"background-color:#fefeff\">করস</span> <span style=\"background-color:#fffefe\">যৌন</span> <span style=\"background-color:#fffefe\">তোগ</span> <span style=\"background-color:#fffefe\">ধর্ম</span> <span style=\"background-color:#fefeff\">নেতারা</span> <span style=\"background-color:#fefeff\">বলে</span> <span style=\"background-color:#fafaff\">নারী</span> <span style=\"background-color:#f0f0ff\">হচ্ছে</span> <span style=\"background-color:#fafaff\">ভোগের</span> <span style=\"background-color:#fff8f8\">বস্তু</span> <span style=\"background-color:#fcfcff\">তার</span> <span style=\"background-color:#f8f8ff\">মানে</span> <span style=\"background-color:#eeeeff\">তোর</span> <span style=\"background-color:#bcbcff\">মা</span> <span style=\"background-color:#c6c6ff\">বোনদের</span> <span style=\"background-color:#ffb3b3\">জায়গা</span> <span style=\"background-color:#ff9696\">ফাক</span> <span style=\"background-color:#ffecec\">সালা</span> <span style=\"background-color:#0202ff\">মালাউনের</span> <span style=\"background-color:#ff0000\">বাচ্চা</span> \n"
      ],
      "text/plain": [
       "<IPython.core.display.HTML object>"
      ]
     },
     "metadata": {},
     "output_type": "display_data"
    },
    {
     "name": "stdout",
     "output_type": "stream",
     "text": [
      "SA heatmap:\n"
     ]
    },
    {
     "data": {
      "text/html": [
       "<span style=\"background-color:#ffe8e8\">করস</span> <span style=\"background-color:#ff5151\">যৌন</span> <span style=\"background-color:#ff7474\">তোগ</span> <span style=\"background-color:#ffdede\">ধর্ম</span> <span style=\"background-color:#ffe2e2\">নেতারা</span> <span style=\"background-color:#fff0f0\">বলে</span> <span style=\"background-color:#ff0000\">নারী</span> <span style=\"background-color:#fff0f0\">হচ্ছে</span> <span style=\"background-color:#ffc0c0\">ভোগের</span> <span style=\"background-color:#ffdcdc\">বস্তু</span> <span style=\"background-color:#ffc0c0\">তার</span> <span style=\"background-color:#ffecec\">মানে</span> <span style=\"background-color:#ffecec\">তোর</span> <span style=\"background-color:#fffafa\">মা</span> <span style=\"background-color:#ffdcdc\">বোনদের</span> <span style=\"background-color:#ffe6e6\">জায়গা</span> <span style=\"background-color:#ffdede\">ফাক</span> <span style=\"background-color:#ffaeae\">সালা</span> <span style=\"background-color:#fff8f8\">মালাউনের</span> <span style=\"background-color:#ffbebe\">বাচ্চা</span> \n"
      ],
      "text/plain": [
       "<IPython.core.display.HTML object>"
      ]
     },
     "metadata": {},
     "output_type": "display_data"
    },
    {
     "name": "stdout",
     "output_type": "stream",
     "text": [
      "GI heatmap:\n"
     ]
    },
    {
     "data": {
      "text/html": [
       "<span style=\"background-color:#8a8aff\">করস</span> <span style=\"background-color:#1e1eff\">যৌন</span> <span style=\"background-color:#ffbcbc\">তোগ</span> <span style=\"background-color:#ffaaaa\">ধর্ম</span> <span style=\"background-color:#ff9898\">নেতারা</span> <span style=\"background-color:#ffb8b8\">বলে</span> <span style=\"background-color:#e6e6ff\">নারী</span> <span style=\"background-color:#2e2eff\">হচ্ছে</span> <span style=\"background-color:#f3f3ff\">ভোগের</span> <span style=\"background-color:#0000ff\">বস্তু</span> <span style=\"background-color:#a2a2ff\">তার</span> <span style=\"background-color:#4848ff\">মানে</span> <span style=\"background-color:#c6c6ff\">তোর</span> <span style=\"background-color:#eaeaff\">মা</span> <span style=\"background-color:#bebeff\">বোনদের</span> <span style=\"background-color:#5454ff\">জায়গা</span> <span style=\"background-color:#ffd8d8\">ফাক</span> <span style=\"background-color:#ff6868\">সালা</span> <span style=\"background-color:#7474ff\">মালাউনের</span> <span style=\"background-color:#ff4949\">বাচ্চা</span> \n"
      ],
      "text/plain": [
       "<IPython.core.display.HTML object>"
      ]
     },
     "metadata": {},
     "output_type": "display_data"
    },
    {
     "name": "stdout",
     "output_type": "stream",
     "text": [
      "-----------------------------------------------------------\n",
      "[ 175  113    5 6755   51 1716 1762   56 8570   53  568  749  151  225\n",
      "   53  640 2715  201 1552   11]\n",
      "(20,)\n",
      "Predicted label: Religious Actual label: Personal\n",
      "LRP heatmap:\n"
     ]
    },
    {
     "data": {
      "text/html": [
       "<span style=\"background-color:#fffefe\">মুসলমান</span> <span style=\"background-color:#fffefe\">ছিল</span> <span style=\"background-color:#fffefe\">এই</span> <span style=\"background-color:#fefeff\">জন্মে</span> <span style=\"background-color:#fffefe\">হিন্দু</span> <span style=\"background-color:#fefeff\">হয়েও</span> <span style=\"background-color:#fffefe\">পারেনি</span> <span style=\"background-color:#fefeff\">তাই</span> <span style=\"background-color:#fcfcff\">মাসতুতো</span> <span style=\"background-color:#fcfcff\">ভাই</span> <span style=\"background-color:#fefeff\">বোন</span> <span style=\"background-color:#fafaff\">প্রেম</span> <span style=\"background-color:#f8f8ff\">করেছে</span> <span style=\"background-color:#f6f6ff\">কারন</span> <span style=\"background-color:#fafaff\">ভাই</span> <span style=\"background-color:#c0c0ff\">বোনের</span> <span style=\"background-color:#eeeeff\">বিবাহ</span> <span style=\"background-color:#1010ff\">মুসলমানদের</span> <span style=\"background-color:#ff0000\">মধ্যেই</span> <span style=\"background-color:#ffaaaa\">হয়</span> \n"
      ],
      "text/plain": [
       "<IPython.core.display.HTML object>"
      ]
     },
     "metadata": {},
     "output_type": "display_data"
    },
    {
     "name": "stdout",
     "output_type": "stream",
     "text": [
      "SA heatmap:\n"
     ]
    },
    {
     "data": {
      "text/html": [
       "<span style=\"background-color:#ffe8e8\">মুসলমান</span> <span style=\"background-color:#ffcaca\">ছিল</span> <span style=\"background-color:#ffd3d3\">এই</span> <span style=\"background-color:#ffa2a2\">জন্মে</span> <span style=\"background-color:#ff5858\">হিন্দু</span> <span style=\"background-color:#ffdede\">হয়েও</span> <span style=\"background-color:#ffb2b2\">পারেনি</span> <span style=\"background-color:#ff4e4e\">তাই</span> <span style=\"background-color:#ffe0e0\">মাসতুতো</span> <span style=\"background-color:#ff7474\">ভাই</span> <span style=\"background-color:#ffd8d8\">বোন</span> <span style=\"background-color:#ffa3a3\">প্রেম</span> <span style=\"background-color:#ff0000\">করেছে</span> <span style=\"background-color:#ffe4e4\">কারন</span> <span style=\"background-color:#ffeeee\">ভাই</span> <span style=\"background-color:#ffe6e6\">বোনের</span> <span style=\"background-color:#ffe4e4\">বিবাহ</span> <span style=\"background-color:#ff7e7e\">মুসলমানদের</span> <span style=\"background-color:#fff4f4\">মধ্যেই</span> <span style=\"background-color:#ffe2e2\">হয়</span> \n"
      ],
      "text/plain": [
       "<IPython.core.display.HTML object>"
      ]
     },
     "metadata": {},
     "output_type": "display_data"
    },
    {
     "name": "stdout",
     "output_type": "stream",
     "text": [
      "GI heatmap:\n"
     ]
    },
    {
     "data": {
      "text/html": [
       "<span style=\"background-color:#ffcece\">মুসলমান</span> <span style=\"background-color:#8686ff\">ছিল</span> <span style=\"background-color:#ffa6a6\">এই</span> <span style=\"background-color:#3636ff\">জন্মে</span> <span style=\"background-color:#b3b3ff\">হিন্দু</span> <span style=\"background-color:#e2e2ff\">হয়েও</span> <span style=\"background-color:#ffe8e8\">পারেনি</span> <span style=\"background-color:#dadaff\">তাই</span> <span style=\"background-color:#fffcfc\">মাসতুতো</span> <span style=\"background-color:#ffe4e4\">ভাই</span> <span style=\"background-color:#9a9aff\">বোন</span> <span style=\"background-color:#fff2f2\">প্রেম</span> <span style=\"background-color:#9393ff\">করেছে</span> <span style=\"background-color:#c0c0ff\">কারন</span> <span style=\"background-color:#8e8eff\">ভাই</span> <span style=\"background-color:#c3c3ff\">বোনের</span> <span style=\"background-color:#ffaeae\">বিবাহ</span> <span style=\"background-color:#ff0000\">মুসলমানদের</span> <span style=\"background-color:#d2d2ff\">মধ্যেই</span> <span style=\"background-color:#b3b3ff\">হয়</span> \n"
      ],
      "text/plain": [
       "<IPython.core.display.HTML object>"
      ]
     },
     "metadata": {},
     "output_type": "display_data"
    },
    {
     "name": "stdout",
     "output_type": "stream",
     "text": [
      "-----------------------------------------------------------\n"
     ]
    }
   ],
   "source": [
    "print(\"The degree to which each word affects the prediction of being religious hates...\")\n",
    "explainer(reli_list)"
   ]
  },
  {
   "cell_type": "code",
   "execution_count": 48,
   "metadata": {},
   "outputs": [
    {
     "name": "stdout",
     "output_type": "stream",
     "text": [
      "The degree to which each word affects the prediction of being geopolitical hates...\n",
      "[101 407   2  50 134  73   4   0   0   0   0   0   0   0   0   0   0   0\n",
      "   0   0]\n",
      "(20,)\n",
      "[  88  526  263    6   34 2318 1218   87    8    0    0    0    0    0\n",
      "    0    0    0    0    0    0]\n",
      "(20,)\n",
      "[1892   25 7089   24   73  232 2857  116    0    0    0    0    0    0\n",
      "    0    0    0    0    0    0]\n",
      "(20,)\n",
      "[  20 1195  843   66   12  555  573   22   66 4808 1806 2506  516   44\n",
      " 1292    5  459   73  540  143]\n",
      "(20,)\n",
      "Predicted label: Political Actual label: Personal\n",
      "LRP heatmap:\n"
     ]
    },
    {
     "data": {
      "text/html": [
       "<span style=\"background-color:#fafaff\">আমার</span> <span style=\"background-color:#fffefe\">শুনতে</span> <span style=\"background-color:#fcfcff\">খুবই</span> <span style=\"background-color:#fefeff\">ভালো</span> <span style=\"background-color:#fefeff\">আমি</span> <span style=\"background-color:#fefeff\">জানি</span> <span style=\"background-color:#fffcfc\">বর্তমান</span> <span style=\"background-color:#f6f6ff\">সব</span> <span style=\"background-color:#fffcfc\">ভালো</span> <span style=\"background-color:#fff2f2\">ভদ্র</span> <span style=\"background-color:#fffefe\">ধার্মিক</span> <span style=\"background-color:#fff4f4\">শিক্ষিত</span> <span style=\"background-color:#ffd0d0\">নিজেকে</span> <span style=\"background-color:#fffafa\">মনে</span> <span style=\"background-color:#eaeaff\">মতে</span> <span style=\"background-color:#f0f0ff\">এই</span> <span style=\"background-color:#b3b3ff\">রকম</span> <span style=\"background-color:#0000ff\">রাজাকার</span> <span style=\"background-color:#d6d6ff\">হওয়া</span> <span style=\"background-color:#ffc0c0\">উচিত</span> \n"
      ],
      "text/plain": [
       "<IPython.core.display.HTML object>"
      ]
     },
     "metadata": {},
     "output_type": "display_data"
    },
    {
     "name": "stdout",
     "output_type": "stream",
     "text": [
      "SA heatmap:\n"
     ]
    },
    {
     "data": {
      "text/html": [
       "<span style=\"background-color:#ffeaea\">আমার</span> <span style=\"background-color:#ff9a9a\">শুনতে</span> <span style=\"background-color:#ff9898\">খুবই</span> <span style=\"background-color:#ff7676\">ভালো</span> <span style=\"background-color:#ff4444\">আমি</span> <span style=\"background-color:#ff9898\">জানি</span> <span style=\"background-color:#ff5151\">বর্তমান</span> <span style=\"background-color:#ffeeee\">সব</span> <span style=\"background-color:#fffafa\">ভালো</span> <span style=\"background-color:#ff8e8e\">ভদ্র</span> <span style=\"background-color:#ffdada\">ধার্মিক</span> <span style=\"background-color:#ffdede\">শিক্ষিত</span> <span style=\"background-color:#ffaeae\">নিজেকে</span> <span style=\"background-color:#fff0f0\">মনে</span> <span style=\"background-color:#ffd0d0\">মতে</span> <span style=\"background-color:#ffa3a3\">এই</span> <span style=\"background-color:#ffe0e0\">রকম</span> <span style=\"background-color:#ff0000\">রাজাকার</span> <span style=\"background-color:#ff8080\">হওয়া</span> <span style=\"background-color:#fff6f6\">উচিত</span> \n"
      ],
      "text/plain": [
       "<IPython.core.display.HTML object>"
      ]
     },
     "metadata": {},
     "output_type": "display_data"
    },
    {
     "name": "stdout",
     "output_type": "stream",
     "text": [
      "GI heatmap:\n"
     ]
    },
    {
     "data": {
      "text/html": [
       "<span style=\"background-color:#eaeaff\">আমার</span> <span style=\"background-color:#ffbcbc\">শুনতে</span> <span style=\"background-color:#7474ff\">খুবই</span> <span style=\"background-color:#c8c8ff\">ভালো</span> <span style=\"background-color:#dcdcff\">আমি</span> <span style=\"background-color:#b6b6ff\">জানি</span> <span style=\"background-color:#ff7474\">বর্তমান</span> <span style=\"background-color:#ffc3c3\">সব</span> <span style=\"background-color:#ffcece\">ভালো</span> <span style=\"background-color:#ffbcbc\">ভদ্র</span> <span style=\"background-color:#a6a6ff\">ধার্মিক</span> <span style=\"background-color:#ffb0b0\">শিক্ষিত</span> <span style=\"background-color:#8686ff\">নিজেকে</span> <span style=\"background-color:#ffdede\">মনে</span> <span style=\"background-color:#ffbaba\">মতে</span> <span style=\"background-color:#dcdcff\">এই</span> <span style=\"background-color:#cacaff\">রকম</span> <span style=\"background-color:#ff0000\">রাজাকার</span> <span style=\"background-color:#ff7676\">হওয়া</span> <span style=\"background-color:#ffe4e4\">উচিত</span> \n"
      ],
      "text/plain": [
       "<IPython.core.display.HTML object>"
      ]
     },
     "metadata": {},
     "output_type": "display_data"
    },
    {
     "name": "stdout",
     "output_type": "stream",
     "text": [
      "-----------------------------------------------------------\n",
      "[1181  477  886   24 2116  153  734  886  105    0    0    0    0    0\n",
      "    0    0    0    0    0    0]\n",
      "(20,)\n",
      "[  24   66  120  841   91  617  376  282 3273    0    0    0    0    0\n",
      "    0    0    0    0    0    0]\n",
      "(20,)\n",
      "[ 207   34 2978   22   52    2  279  207    0    0    0    0    0    0\n",
      "    0    0    0    0    0    0]\n",
      "(20,)\n",
      "[1968 2396  154  350  242  157   72   24 1015  468 6011   56  154 3055\n",
      " 1221  353  134    0    0    0]\n",
      "(20,)\n",
      "[2913 3146  168  821   14   90  206   16 3405  229    0    0    0    0\n",
      "    0    0    0    0    0    0]\n",
      "(20,)\n",
      "[ 152  343   39 3343    4   50    4   73    0    0    0    0    0    0\n",
      "    0    0    0    0    0    0]\n",
      "(20,)\n",
      "[207 373   2 138 114   4   2   0   0   0   0   0   0   0   0   0   0   0\n",
      "   0   0]\n",
      "(20,)\n",
      "[   3  160  395  371   26   16  350 2142 5206    0    0    0    0    0\n",
      "    0    0    0    0    0    0]\n",
      "(20,)\n",
      "[ 843 1618   88 2103  155  410 2043  166  154  242  727  492   18   78\n",
      "  208    0    0    0    0    0]\n",
      "(20,)\n",
      "[7634 2089 4578  180 9692 4113  136    0    0    0    0    0    0    0\n",
      "    0    0    0    0    0    0]\n",
      "(20,)\n",
      "[ 226 5586   34  108  359 6105  136 2769    0    0    0    0    0    0\n",
      "    0    0    0    0    0    0]\n",
      "(20,)\n",
      "[4145  126   21   14 4801    2  935  935  185   76  527   26   89  480\n",
      "    0    0    0    0    0    0]\n",
      "(20,)\n",
      "[ 526  294   47   73   11   74 8765  294  259  524    0    0    0    0\n",
      "    0    0    0    0    0    0]\n",
      "(20,)\n",
      "[1754  806 1386 1182  470 3405 3633   29 1543  302   33   38  797 9318\n",
      " 1260    0    0    0    0    0]\n",
      "(20,)\n",
      "[2611 1465   18  106    0    0    0    0    0    0    0    0    0    0\n",
      "    0    0    0    0    0    0]\n",
      "(20,)\n",
      "[753 182 638  25 617 242  14 180 282 846 228  66   2 336   0   0   0   0\n",
      "   0   0]\n",
      "(20,)\n",
      "[4765  130  852 1435 1272    4    0    0    0    0    0    0    0    0\n",
      "    0    0    0    0    0    0]\n",
      "(20,)\n",
      "[ 251  617  242   13   64  242  401  376   88  887  195  548  181 1194\n",
      "    1    0    0    0    0    0]\n",
      "(20,)\n",
      "[1951  120  115  490  899  199   26 1983   76 1469   26   26    3   24\n",
      "  120   12 1951    0    0    0]\n",
      "(20,)\n",
      "[241 376 647 582 210 362   0   0   0   0   0   0   0   0   0   0   0   0\n",
      "   0   0]\n",
      "(20,)\n",
      "[ 670  270  113   27 4869   26  762 2162 1099  436 1424  553 1181 2097\n",
      "  558  250    9  480  706 1023]\n",
      "(20,)\n",
      "Predicted label: Political Actual label: Personal\n",
      "LRP heatmap:\n"
     ]
    },
    {
     "data": {
      "text/html": [
       "<span style=\"background-color:#fefeff\">শিবিরের</span> <span style=\"background-color:#fefeff\">হাত</span> <span style=\"background-color:#fffefe\">ছিল</span> <span style=\"background-color:#fefeff\">বলে</span> <span style=\"background-color:#fefeff\">ধারনা</span> <span style=\"background-color:#fffcfc\">করা</span> <span style=\"background-color:#fffefe\">হচ্ছে।</span> <span style=\"background-color:#fefeff\">তদন্ত</span> <span style=\"background-color:#fefeff\">রিপোর্ট</span> <span style=\"background-color:#fcfcff\">প্রকাশ</span> <span style=\"background-color:#fffefe\">পেলে</span> <span style=\"background-color:#f3f3ff\">আপনারা</span> <span style=\"background-color:#f8f8ff\">শুধুমাত্র</span> <span style=\"background-color:#fffefe\">ভি</span> <span style=\"background-color:#ff7979\">টি</span> <span style=\"background-color:#ffb6b6\">বি</span> <span style=\"background-color:#fff4f4\">ও</span> <span style=\"background-color:#7474ff\">মাধ্যমে</span> <span style=\"background-color:#ffdcdc\">জানতে</span> <span style=\"background-color:#ff0000\">পারবেন</span> \n"
      ],
      "text/plain": [
       "<IPython.core.display.HTML object>"
      ]
     },
     "metadata": {},
     "output_type": "display_data"
    },
    {
     "name": "stdout",
     "output_type": "stream",
     "text": [
      "SA heatmap:\n"
     ]
    },
    {
     "data": {
      "text/html": [
       "<span style=\"background-color:#ffeeee\">শিবিরের</span> <span style=\"background-color:#ffbaba\">হাত</span> <span style=\"background-color:#ffbebe\">ছিল</span> <span style=\"background-color:#ffc2c2\">বলে</span> <span style=\"background-color:#ffd6d6\">ধারনা</span> <span style=\"background-color:#ffa8a8\">করা</span> <span style=\"background-color:#ffdcdc\">হচ্ছে।</span> <span style=\"background-color:#ff9e9e\">তদন্ত</span> <span style=\"background-color:#ffa0a0\">রিপোর্ট</span> <span style=\"background-color:#ffc6c6\">প্রকাশ</span> <span style=\"background-color:#ffaaaa\">পেলে</span> <span style=\"background-color:#ff7474\">আপনারা</span> <span style=\"background-color:#ff0000\">শুধুমাত্র</span> <span style=\"background-color:#ffa8a8\">ভি</span> <span style=\"background-color:#ff9a9a\">টি</span> <span style=\"background-color:#ffdede\">বি</span> <span style=\"background-color:#ffb6b6\">ও</span> <span style=\"background-color:#ff1c1c\">মাধ্যমে</span> <span style=\"background-color:#ff7c7c\">জানতে</span> <span style=\"background-color:#fff0f0\">পারবেন</span> \n"
      ],
      "text/plain": [
       "<IPython.core.display.HTML object>"
      ]
     },
     "metadata": {},
     "output_type": "display_data"
    },
    {
     "name": "stdout",
     "output_type": "stream",
     "text": [
      "GI heatmap:\n"
     ]
    },
    {
     "data": {
      "text/html": [
       "<span style=\"background-color:#ffb6b6\">শিবিরের</span> <span style=\"background-color:#9e9eff\">হাত</span> <span style=\"background-color:#bcbcff\">ছিল</span> <span style=\"background-color:#b8b8ff\">বলে</span> <span style=\"background-color:#8282ff\">ধারনা</span> <span style=\"background-color:#1818ff\">করা</span> <span style=\"background-color:#d0d0ff\">হচ্ছে।</span> <span style=\"background-color:#0000ff\">তদন্ত</span> <span style=\"background-color:#ff9c9c\">রিপোর্ট</span> <span style=\"background-color:#ffaaaa\">প্রকাশ</span> <span style=\"background-color:#1010ff\">পেলে</span> <span style=\"background-color:#fff2f2\">আপনারা</span> <span style=\"background-color:#ff2424\">শুধুমাত্র</span> <span style=\"background-color:#6e6eff\">ভি</span> <span style=\"background-color:#3030ff\">টি</span> <span style=\"background-color:#ffc8c8\">বি</span> <span style=\"background-color:#ff1919\">ও</span> <span style=\"background-color:#3838ff\">মাধ্যমে</span> <span style=\"background-color:#6e6eff\">জানতে</span> <span style=\"background-color:#acacff\">পারবেন</span> \n"
      ],
      "text/plain": [
       "<IPython.core.display.HTML object>"
      ]
     },
     "metadata": {},
     "output_type": "display_data"
    },
    {
     "name": "stdout",
     "output_type": "stream",
     "text": [
      "-----------------------------------------------------------\n",
      "[ 184 2413    1   69   12  656    0    0    0    0    0    0    0    0\n",
      "    0    0    0    0    0    0]\n",
      "(20,)\n",
      "[ 242  408  180  286    2   77 1265 9382   18  343 2027 5194 5195  916\n",
      "   33  617  376   77  916   60]\n",
      "(20,)\n",
      "Predicted label: Political Actual label: Personal\n",
      "LRP heatmap:\n"
     ]
    },
    {
     "data": {
      "text/html": [
       "<span style=\"background-color:#fffefe\">লীগ</span> <span style=\"background-color:#fefeff\">যেভাবে</span> <span style=\"background-color:#fffefe\">ভোট</span> <span style=\"background-color:#fffefe\">চুরি</span> <span style=\"background-color:#fefeff\">করে</span> <span style=\"background-color:#fffefe\">সে</span> <span style=\"background-color:#fcfcff\">দিক</span> <span style=\"background-color:#fffefe\">বিবেচনা</span> <span style=\"background-color:#fcfcff\">করতে</span> <span style=\"background-color:#fefeff\">গেলে</span> <span style=\"background-color:#ffeeee\">হিরো</span> <span style=\"background-color:#f3f3ff\">আলমের</span> <span style=\"background-color:#fffefe\">যতোটুকু</span> <span style=\"background-color:#ffe4e4\">যোগ্যতা</span> <span style=\"background-color:#ffbebe\">আছে</span> <span style=\"background-color:#b0b0ff\">আওয়ামী</span> <span style=\"background-color:#2c2cff\">লীগের</span> <span style=\"background-color:#3636ff\">সে</span> <span style=\"background-color:#ff0000\">যোগ্যতা</span> <span style=\"background-color:#fff2f2\">নাই</span> \n"
      ],
      "text/plain": [
       "<IPython.core.display.HTML object>"
      ]
     },
     "metadata": {},
     "output_type": "display_data"
    },
    {
     "name": "stdout",
     "output_type": "stream",
     "text": [
      "SA heatmap:\n"
     ]
    },
    {
     "data": {
      "text/html": [
       "<span style=\"background-color:#ffcece\">লীগ</span> <span style=\"background-color:#ff3838\">যেভাবে</span> <span style=\"background-color:#ffb2b2\">ভোট</span> <span style=\"background-color:#ffa2a2\">চুরি</span> <span style=\"background-color:#ffb6b6\">করে</span> <span style=\"background-color:#ffd0d0\">সে</span> <span style=\"background-color:#ffe0e0\">দিক</span> <span style=\"background-color:#ffdcdc\">বিবেচনা</span> <span style=\"background-color:#ff8080\">করতে</span> <span style=\"background-color:#fff0f0\">গেলে</span> <span style=\"background-color:#ffd0d0\">হিরো</span> <span style=\"background-color:#ffbaba\">আলমের</span> <span style=\"background-color:#ffe0e0\">যতোটুকু</span> <span style=\"background-color:#ff9e9e\">যোগ্যতা</span> <span style=\"background-color:#ffb2b2\">আছে</span> <span style=\"background-color:#ff9696\">আওয়ামী</span> <span style=\"background-color:#ffd2d2\">লীগের</span> <span style=\"background-color:#ff0000\">সে</span> <span style=\"background-color:#ff6161\">যোগ্যতা</span> <span style=\"background-color:#ffc6c6\">নাই</span> \n"
      ],
      "text/plain": [
       "<IPython.core.display.HTML object>"
      ]
     },
     "metadata": {},
     "output_type": "display_data"
    },
    {
     "name": "stdout",
     "output_type": "stream",
     "text": [
      "GI heatmap:\n"
     ]
    },
    {
     "data": {
      "text/html": [
       "<span style=\"background-color:#3030ff\">লীগ</span> <span style=\"background-color:#ffb8b8\">যেভাবে</span> <span style=\"background-color:#0000ff\">ভোট</span> <span style=\"background-color:#d0d0ff\">চুরি</span> <span style=\"background-color:#8686ff\">করে</span> <span style=\"background-color:#e2e2ff\">সে</span> <span style=\"background-color:#4444ff\">দিক</span> <span style=\"background-color:#ffb0b0\">বিবেচনা</span> <span style=\"background-color:#ff7c7c\">করতে</span> <span style=\"background-color:#f8f8ff\">গেলে</span> <span style=\"background-color:#ffdede\">হিরো</span> <span style=\"background-color:#fff0f0\">আলমের</span> <span style=\"background-color:#fffcfc\">যতোটুকু</span> <span style=\"background-color:#ffc8c8\">যোগ্যতা</span> <span style=\"background-color:#ff7e7e\">আছে</span> <span style=\"background-color:#ffa2a2\">আওয়ামী</span> <span style=\"background-color:#f0f0ff\">লীগের</span> <span style=\"background-color:#ff6c6c\">সে</span> <span style=\"background-color:#ff9090\">যোগ্যতা</span> <span style=\"background-color:#ffa6a6\">নাই</span> \n"
      ],
      "text/plain": [
       "<IPython.core.display.HTML object>"
      ]
     },
     "metadata": {},
     "output_type": "display_data"
    },
    {
     "name": "stdout",
     "output_type": "stream",
     "text": [
      "-----------------------------------------------------------\n",
      "[3398   34  477 7309    0    0    0    0    0    0    0    0    0    0\n",
      "    0    0    0    0    0    0]\n",
      "(20,)\n",
      "[ 477   91  477 2371  556    0    0    0    0    0    0    0    0    0\n",
      "    0    0    0    0    0    0]\n",
      "(20,)\n",
      "[2195 4630  893    0    0    0    0    0    0    0    0    0    0    0\n",
      "    0    0    0    0    0    0]\n",
      "(20,)\n",
      "[ 123  137   73  113  815   41 1168    2   73 1353  145    0    0    0\n",
      "    0    0    0    0    0    0]\n",
      "(20,)\n",
      "[ 114 1509  180   30 4483  399  129  580   12   42  677 5043 1509 1099\n",
      "   71 2108    1    0    0    0]\n",
      "(20,)\n",
      "[  17   82  410  376  181  297 1217   36 1775 2448 7420  889  191 1290\n",
      "    8    0    0    0    0    0]\n",
      "(20,)\n",
      "[3716  405   47  218  219    8    0    0    0    0    0    0    0    0\n",
      "    0    0    0    0    0    0]\n",
      "(20,)\n",
      "[1019  505  206 1631  180    1 2110   12 1168    2  180 5044  898    1\n",
      " 1870  729 1831   12 3455    0]\n",
      "(20,)\n",
      "[9071 1167 9072   24  119    8    0    0    0    0    0    0    0    0\n",
      "    0    0    0    0    0    0]\n",
      "(20,)\n",
      "[ 115 3618 3305    0    0    0    0    0    0    0    0    0    0    0\n",
      "    0    0    0    0    0    0]\n",
      "(20,)\n",
      "[ 250  591  559  234  405    6  984   41 1200   19    5  978  250  591\n",
      "  559    6    0    0    0    0]\n",
      "(20,)\n",
      "[ 282 2315    9  263  466 5495  398   13  265    0    0    0    0    0\n",
      "    0    0    0    0    0    0]\n",
      "(20,)\n",
      "[  73 5906  592   15  980 2378 3397  386   84  863  800   89    0    0\n",
      "    0    0    0    0    0    0]\n",
      "(20,)\n",
      "[1156    4  423   29  314   63 1783  739 1434 1391  330 2382 1012   26\n",
      "  145    0    0    0    0    0]\n",
      "(20,)\n",
      "[ 617 2597  410  242  334 1505 1483   22   23 4995 4512  141    2 1468\n",
      "  639 6656 2403 1707  452 6138]\n",
      "(20,)\n",
      "Predicted label: Political Actual label: Personal\n",
      "LRP heatmap:\n"
     ]
    },
    {
     "data": {
      "text/html": [
       "<span style=\"background-color:#fefeff\">আওয়ামী</span> <span style=\"background-color:#fefeff\">বাহ</span> <span style=\"background-color:#fefeff\">ছাত্র</span> <span style=\"background-color:#fefeff\">লীগ</span> <span style=\"background-color:#fefeff\">যত</span> <span style=\"background-color:#fefeff\">যতো</span> <span style=\"background-color:#fffefe\">আকাম</span> <span style=\"background-color:#fefeff\">সব</span> <span style=\"background-color:#fcfcff\">এর</span> <span style=\"background-color:#fffefe\">পিছনেই</span> <span style=\"background-color:#fcfcff\">চেতনার</span> <span style=\"background-color:#fff8f8\">নাম</span> <span style=\"background-color:#eeeeff\">করে</span> <span style=\"background-color:#fafaff\">বেশ</span> <span style=\"background-color:#f8f8ff\">চলছে</span> <span style=\"background-color:#e3e3ff\">ব্যবসা।</span> <span style=\"background-color:#ff0000\">সাবাস</span> <span style=\"background-color:#ff5858\">বাংলাদেশ।</span> <span style=\"background-color:#f2f2ff\">জয়</span> <span style=\"background-color:#1414ff\">বাংলা।</span> \n"
      ],
      "text/plain": [
       "<IPython.core.display.HTML object>"
      ]
     },
     "metadata": {},
     "output_type": "display_data"
    },
    {
     "name": "stdout",
     "output_type": "stream",
     "text": [
      "SA heatmap:\n"
     ]
    },
    {
     "data": {
      "text/html": [
       "<span style=\"background-color:#ffc0c0\">আওয়ামী</span> <span style=\"background-color:#ffe6e6\">বাহ</span> <span style=\"background-color:#ffd6d6\">ছাত্র</span> <span style=\"background-color:#ffecec\">লীগ</span> <span style=\"background-color:#ffc3c3\">যত</span> <span style=\"background-color:#ffd6d6\">যতো</span> <span style=\"background-color:#ffcece\">আকাম</span> <span style=\"background-color:#ffdada\">সব</span> <span style=\"background-color:#ffd0d0\">এর</span> <span style=\"background-color:#ff7070\">পিছনেই</span> <span style=\"background-color:#ffb6b6\">চেতনার</span> <span style=\"background-color:#ffbaba\">নাম</span> <span style=\"background-color:#ff0000\">করে</span> <span style=\"background-color:#ffbaba\">বেশ</span> <span style=\"background-color:#ffc0c0\">চলছে</span> <span style=\"background-color:#ffb6b6\">ব্যবসা।</span> <span style=\"background-color:#ffa6a6\">সাবাস</span> <span style=\"background-color:#ff2929\">বাংলাদেশ।</span> <span style=\"background-color:#ffe4e4\">জয়</span> <span style=\"background-color:#ff3434\">বাংলা।</span> \n"
      ],
      "text/plain": [
       "<IPython.core.display.HTML object>"
      ]
     },
     "metadata": {},
     "output_type": "display_data"
    },
    {
     "name": "stdout",
     "output_type": "stream",
     "text": [
      "GI heatmap:\n"
     ]
    },
    {
     "data": {
      "text/html": [
       "<span style=\"background-color:#ffacac\">আওয়ামী</span> <span style=\"background-color:#f3f3ff\">বাহ</span> <span style=\"background-color:#e0e0ff\">ছাত্র</span> <span style=\"background-color:#ceceff\">লীগ</span> <span style=\"background-color:#dcdcff\">যত</span> <span style=\"background-color:#bcbcff\">যতো</span> <span style=\"background-color:#ffecec\">আকাম</span> <span style=\"background-color:#f6f6ff\">সব</span> <span style=\"background-color:#b3b3ff\">এর</span> <span style=\"background-color:#ff4040\">পিছনেই</span> <span style=\"background-color:#a6a6ff\">চেতনার</span> <span style=\"background-color:#ff8c8c\">নাম</span> <span style=\"background-color:#0000ff\">করে</span> <span style=\"background-color:#b2b2ff\">বেশ</span> <span style=\"background-color:#acacff\">চলছে</span> <span style=\"background-color:#ff8e8e\">ব্যবসা।</span> <span style=\"background-color:#ffbaba\">সাবাস</span> <span style=\"background-color:#ff5959\">বাংলাদেশ।</span> <span style=\"background-color:#ececff\">জয়</span> <span style=\"background-color:#ff5c5c\">বাংলা।</span> \n"
      ],
      "text/plain": [
       "<IPython.core.display.HTML object>"
      ]
     },
     "metadata": {},
     "output_type": "display_data"
    },
    {
     "name": "stdout",
     "output_type": "stream",
     "text": [
      "-----------------------------------------------------------\n",
      "[  45    3   21  393 3510  186    3  203  115 3090  242    0    0    0\n",
      "    0    0    0    0    0    0]\n",
      "(20,)\n",
      "[   4 1112    8  192   54  908 2147  106    8    0    0    0    0    0\n",
      "    0    0    0    0    0    0]\n",
      "(20,)\n",
      "[ 931 1920  400    3 2376    0    0    0    0    0    0    0    0    0\n",
      "    0    0    0    0    0    0]\n",
      "(20,)\n",
      "[   3  160  395  371   26   16  350 2142    0    0    0    0    0    0\n",
      "    0    0    0    0    0    0]\n",
      "(20,)\n",
      "[ 992   73   13  834  101 2481  529 3653    1  142    0    0    0    0\n",
      "    0    0    0    0    0    0]\n",
      "(20,)\n",
      "[   5   82 2839   42 1245 2163 2733    0    0    0    0    0    0    0\n",
      "    0    0    0    0    0    0]\n",
      "(20,)\n",
      "[ 833 5246   53   53  295 1658  241  376 3072  379  472    0    0    0\n",
      "    0    0    0    0    0    0]\n",
      "(20,)\n",
      "[ 154  242  242  373  242  242  494 2813    0    0    0    0    0    0\n",
      "    0    0    0    0    0    0]\n",
      "(20,)\n",
      "[ 910   23  128  106   49   29  252  382 1811  279    0    0    0    0\n",
      "    0    0    0    0    0    0]\n",
      "(20,)\n",
      "[   5  139  158  158 3764    0    0    0    0    0    0    0    0    0\n",
      "    0    0    0    0    0    0]\n",
      "(20,)\n",
      "[3612    4 1229 4904 4904   42  123    0    0    0    0    0    0    0\n",
      "    0    0    0    0    0    0]\n",
      "(20,)\n",
      "[3287  114 1384  513 4688 4631  128    1    5   59    0    0    0    0\n",
      "    0    0    0    0    0    0]\n",
      "(20,)\n",
      "[   1 1694 2939    2  237    4   11  138  114   38  184  216    1   42\n",
      "    0    0    0    0    0    0]\n",
      "(20,)\n",
      "[  72  130  229 1183   88  313  689    3  229 1088  189  560  694   43\n",
      "  306  673    2    0    0    0]\n",
      "(20,)\n",
      "[ 804  574    1  286  154  242    6  244  338 1839    0    0    0    0\n",
      "    0    0    0    0    0    0]\n",
      "(20,)\n",
      "[1302   10 2795  127 4630 1773  734  676  360  115  448   14 9104   64\n",
      "  227 1246  479  115  378  557]\n",
      "(20,)\n",
      "Predicted label: Political Actual label: Personal\n",
      "LRP heatmap:\n"
     ]
    },
    {
     "data": {
      "text/html": [
       "<span style=\"background-color:#fffefe\">হয়েছিল</span> <span style=\"background-color:#fefeff\">ভারতের</span> <span style=\"background-color:#fffefe\">নির্বাচনের</span> <span style=\"background-color:#fffcfc\">সময়</span> <span style=\"background-color:#fefeff\">নরেন্দ্র</span> <span style=\"background-color:#fffefe\">মোদির</span> <span style=\"background-color:#fafaff\">পক্ষে</span> <span style=\"background-color:#fefeff\">আসল</span> <span style=\"background-color:#fafaff\">সত্য</span> <span style=\"background-color:#fffcfc\">হলো</span> <span style=\"background-color:#fefeff\">বিএনপি</span> <span style=\"background-color:#ececff\">যে</span> <span style=\"background-color:#fff0f0\">উঠবে</span> <span style=\"background-color:#ffeeee\">সেই</span> <span style=\"background-color:#ffeeee\">কারণ</span> <span style=\"background-color:#a2a2ff\">বিএনপির</span> <span style=\"background-color:#ffe0e0\">রাজনীতি</span> <span style=\"background-color:#2222ff\">হলো</span> <span style=\"background-color:#0000ff\">ভুল</span> <span style=\"background-color:#3232ff\">র</span> \n"
      ],
      "text/plain": [
       "<IPython.core.display.HTML object>"
      ]
     },
     "metadata": {},
     "output_type": "display_data"
    },
    {
     "name": "stdout",
     "output_type": "stream",
     "text": [
      "SA heatmap:\n"
     ]
    },
    {
     "data": {
      "text/html": [
       "<span style=\"background-color:#ffeeee\">হয়েছিল</span> <span style=\"background-color:#ffcccc\">ভারতের</span> <span style=\"background-color:#fff6f6\">নির্বাচনের</span> <span style=\"background-color:#ffb0b0\">সময়</span> <span style=\"background-color:#ffe8e8\">নরেন্দ্র</span> <span style=\"background-color:#ffc3c3\">মোদির</span> <span style=\"background-color:#fffefe\">পক্ষে</span> <span style=\"background-color:#fffafa\">আসল</span> <span style=\"background-color:#fffafa\">সত্য</span> <span style=\"background-color:#fff6f6\">হলো</span> <span style=\"background-color:#ffcccc\">বিএনপি</span> <span style=\"background-color:#ffb3b3\">যে</span> <span style=\"background-color:#ffd2d2\">উঠবে</span> <span style=\"background-color:#ffcccc\">সেই</span> <span style=\"background-color:#ffecec\">কারণ</span> <span style=\"background-color:#ffe0e0\">বিএনপির</span> <span style=\"background-color:#ff0000\">রাজনীতি</span> <span style=\"background-color:#ffc3c3\">হলো</span> <span style=\"background-color:#ff9898\">ভুল</span> <span style=\"background-color:#ffeeee\">র</span> \n"
      ],
      "text/plain": [
       "<IPython.core.display.HTML object>"
      ]
     },
     "metadata": {},
     "output_type": "display_data"
    },
    {
     "name": "stdout",
     "output_type": "stream",
     "text": [
      "GI heatmap:\n"
     ]
    },
    {
     "data": {
      "text/html": [
       "<span style=\"background-color:#ffd2d2\">হয়েছিল</span> <span style=\"background-color:#9e9eff\">ভারতের</span> <span style=\"background-color:#f6f6ff\">নির্বাচনের</span> <span style=\"background-color:#a0a0ff\">সময়</span> <span style=\"background-color:#fafaff\">নরেন্দ্র</span> <span style=\"background-color:#ffb2b2\">মোদির</span> <span style=\"background-color:#ffdcdc\">পক্ষে</span> <span style=\"background-color:#fff8f8\">আসল</span> <span style=\"background-color:#f6f6ff\">সত্য</span> <span style=\"background-color:#ffdede\">হলো</span> <span style=\"background-color:#a2a2ff\">বিএনপি</span> <span style=\"background-color:#a3a3ff\">যে</span> <span style=\"background-color:#ffecec\">উঠবে</span> <span style=\"background-color:#8a8aff\">সেই</span> <span style=\"background-color:#c2c2ff\">কারণ</span> <span style=\"background-color:#d2d2ff\">বিএনপির</span> <span style=\"background-color:#ff0000\">রাজনীতি</span> <span style=\"background-color:#ff9696\">হলো</span> <span style=\"background-color:#ff5858\">ভুল</span> <span style=\"background-color:#ececff\">র</span> \n"
      ],
      "text/plain": [
       "<IPython.core.display.HTML object>"
      ]
     },
     "metadata": {},
     "output_type": "display_data"
    },
    {
     "name": "stdout",
     "output_type": "stream",
     "text": [
      "-----------------------------------------------------------\n",
      "[4231    0    0    0    0    0    0    0    0    0    0    0    0    0\n",
      "    0    0    0    0    0    0]\n",
      "(20,)\n",
      "[3178  109    1 1112 1024 2688  157 1467   86  177  126  129 1500    1\n",
      "    8    0    0    0    0    0]\n",
      "(20,)\n",
      "[593 501 383 262 147 342 121   8   0   0   0   0   0   0   0   0   0   0\n",
      "   0   0]\n",
      "(20,)\n",
      "[1631  480  890    0    0    0    0    0    0    0    0    0    0    0\n",
      "    0    0    0    0    0    0]\n",
      "(20,)\n",
      "[   4  113  235  303   26 1188    0    0    0    0    0    0    0    0\n",
      "    0    0    0    0    0    0]\n",
      "(20,)\n",
      "[4085 1381 4086   60 1585  393   15 1216 6681 6682  313    0    0    0\n",
      "    0    0    0    0    0    0]\n",
      "(20,)\n",
      "[ 905 4356  207  229 2163    0    0    0    0    0    0    0    0    0\n",
      "    0    0    0    0    0    0]\n",
      "(20,)\n",
      "[108 392 138 226   3 160   0   0   0   0   0   0   0   0   0   0   0   0\n",
      "   0   0]\n",
      "(20,)\n",
      "[2163 5460   47  566 1214  156   74  130  207  781   77   37  393  109\n",
      "    1  166   55    0    0    0]\n",
      "(20,)\n",
      "[ 631 1307 1467  250  591  559    9  526  670  129   78    0    0    0\n",
      "    0    0    0    0    0    0]\n",
      "(20,)\n",
      "[1084  207  229 3667 2823  106    0    0    0    0    0    0    0    0\n",
      "    0    0    0    0    0    0]\n",
      "(20,)\n",
      "[ 257  111 1304  947 2516  296    2    8    0    0    0    0    0    0\n",
      "    0    0    0    0    0    0]\n",
      "(20,)\n",
      "[2418  129  746 3117   26 5534  911  128 5018    0    0    0    0    0\n",
      "    0    0    0    0    0    0]\n",
      "(20,)\n",
      "[ 154  242   17   38  141 1153  965  393    0    0    0    0    0    0\n",
      "    0    0    0    0    0    0]\n",
      "(20,)\n",
      "[2147  574  110   98  453 1114  369  967    1    0    0    0    0    0\n",
      "    0    0    0    0    0    0]\n",
      "(20,)\n",
      "[ 453 2220 2889    0    0    0    0    0    0    0    0    0    0    0\n",
      "    0    0    0    0    0    0]\n",
      "(20,)\n",
      "[3071    9 2905 5379    0    0    0    0    0    0    0    0    0    0\n",
      "    0    0    0    0    0    0]\n",
      "(20,)\n",
      "[ 235  647   69   43  166   24  174   30 5680  203 1790  369    0    0\n",
      "    0    0    0    0    0    0]\n",
      "(20,)\n",
      "[  73  170    3  832  170  384   24  416   60   77   47 4997   11 1044\n",
      "  253    0    0    0    0    0]\n",
      "(20,)\n",
      "[ 299  563 1138    6 3155 1346  151    5  313 1992 2714  158    0    0\n",
      "    0    0    0    0    0    0]\n",
      "(20,)\n",
      "[3195  112 1127   25  560    0    0    0    0    0    0    0    0    0\n",
      "    0    0    0    0    0    0]\n",
      "(20,)\n",
      "[64  5 83 21 21 73 14 25  0  0  0  0  0  0  0  0  0  0  0  0]\n",
      "(20,)\n",
      "[ 510  116   66 1466  368    1 1604    0    0    0    0    0    0    0\n",
      "    0    0    0    0    0    0]\n",
      "(20,)\n",
      "[2724  242  554  147   25  269    4   78    0    0    0    0    0    0\n",
      "    0    0    0    0    0    0]\n",
      "(20,)\n",
      "[  53    5 1590   22  617  376 2754  476 2186  463    0    0    0    0\n",
      "    0    0    0    0    0    0]\n",
      "(20,)\n",
      "[ 852 1274  852 1274 4812 7483    0    0    0    0    0    0    0    0\n",
      "    0    0    0    0    0    0]\n",
      "(20,)\n",
      "[ 833    3    9  833 1155  263    0    0    0    0    0    0    0    0\n",
      "    0    0    0    0    0    0]\n",
      "(20,)\n",
      "[1351   14 4344   84  373  131  398 5182    8    0    0    0    0    0\n",
      "    0    0    0    0    0    0]\n",
      "(20,)\n",
      "[ 130  513  366 5968   34  120   61   25   27   22 5968  782   97    2\n",
      "  301    0    0    0    0    0]\n",
      "(20,)\n",
      "[ 130 5808  510   22  205   25  903    9 7290 1535  233    0    0    0\n",
      "    0    0    0    0    0    0]\n",
      "(20,)\n",
      "[1052 1052  984   13  453 2659    0    0    0    0    0    0    0    0\n",
      "    0    0    0    0    0    0]\n",
      "(20,)\n",
      "[4274  245   27 2584  187 1182  473   30 2766  167 6333 1152    2   38\n",
      " 6567   30  517 5495 5869  448]\n",
      "(20,)\n",
      "Predicted label: Political Actual label: Personal\n",
      "LRP heatmap:\n"
     ]
    },
    {
     "data": {
      "text/html": [
       "<span style=\"background-color:#fefeff\">পক্ষের</span> <span style=\"background-color:#fefeff\">দল</span> <span style=\"background-color:#fefeff\">বলে</span> <span style=\"background-color:#fffcfc\">দাবী</span> <span style=\"background-color:#fefeff\">করে।</span> <span style=\"background-color:#fcfcff\">অশিক্ষিত</span> <span style=\"background-color:#fcfcff\">ইসলামের</span> <span style=\"background-color:#fcfcff\">দিয়ে</span> <span style=\"background-color:#fffefe\">আস্তিক</span> <span style=\"background-color:#fcfcff\">নাস্তিক</span> <span style=\"background-color:#fff8f8\">বিতর্ক</span> <span style=\"background-color:#fff8f8\">তৈরী</span> <span style=\"background-color:#f8f8ff\">করে</span> <span style=\"background-color:#fff4f4\">তাদের</span> <span style=\"background-color:#ffd2d2\">প্রশ্রয়</span> <span style=\"background-color:#fefeff\">দিয়ে</span> <span style=\"background-color:#f6f6ff\">রাস্তায়</span> <span style=\"background-color:#8686ff\">নামিয়ে</span> <span style=\"background-color:#fafaff\">করিয়েছে</span> <span style=\"background-color:#0000ff\">বিএনপি</span> \n"
      ],
      "text/plain": [
       "<IPython.core.display.HTML object>"
      ]
     },
     "metadata": {},
     "output_type": "display_data"
    },
    {
     "name": "stdout",
     "output_type": "stream",
     "text": [
      "SA heatmap:\n"
     ]
    },
    {
     "data": {
      "text/html": [
       "<span style=\"background-color:#fff2f2\">পক্ষের</span> <span style=\"background-color:#fff0f0\">দল</span> <span style=\"background-color:#ff6c6c\">বলে</span> <span style=\"background-color:#ff8383\">দাবী</span> <span style=\"background-color:#ff8383\">করে।</span> <span style=\"background-color:#fffcfc\">অশিক্ষিত</span> <span style=\"background-color:#ffe4e4\">ইসলামের</span> <span style=\"background-color:#fff4f4\">দিয়ে</span> <span style=\"background-color:#fff6f6\">আস্তিক</span> <span style=\"background-color:#fffcfc\">নাস্তিক</span> <span style=\"background-color:#ffe2e2\">বিতর্ক</span> <span style=\"background-color:#fff6f6\">তৈরী</span> <span style=\"background-color:#ffcccc\">করে</span> <span style=\"background-color:#fff4f4\">তাদের</span> <span style=\"background-color:#ffe8e8\">প্রশ্রয়</span> <span style=\"background-color:#fff8f8\">দিয়ে</span> <span style=\"background-color:#ffd0d0\">রাস্তায়</span> <span style=\"background-color:#ff2929\">নামিয়ে</span> <span style=\"background-color:#fff0f0\">করিয়েছে</span> <span style=\"background-color:#ff0000\">বিএনপি</span> \n"
      ],
      "text/plain": [
       "<IPython.core.display.HTML object>"
      ]
     },
     "metadata": {},
     "output_type": "display_data"
    },
    {
     "name": "stdout",
     "output_type": "stream",
     "text": [
      "GI heatmap:\n"
     ]
    },
    {
     "data": {
      "text/html": [
       "<span style=\"background-color:#ff9c9c\">পক্ষের</span> <span style=\"background-color:#ffd8d8\">দল</span> <span style=\"background-color:#0000ff\">বলে</span> <span style=\"background-color:#ffc8c8\">দাবী</span> <span style=\"background-color:#dedeff\">করে।</span> <span style=\"background-color:#ceceff\">অশিক্ষিত</span> <span style=\"background-color:#f0f0ff\">ইসলামের</span> <span style=\"background-color:#6969ff\">দিয়ে</span> <span style=\"background-color:#ff4141\">আস্তিক</span> <span style=\"background-color:#c6c6ff\">নাস্তিক</span> <span style=\"background-color:#ffe8e8\">বিতর্ক</span> <span style=\"background-color:#ff6868\">তৈরী</span> <span style=\"background-color:#fff4f4\">করে</span> <span style=\"background-color:#ff3838\">তাদের</span> <span style=\"background-color:#ffdede\">প্রশ্রয়</span> <span style=\"background-color:#ffcece\">দিয়ে</span> <span style=\"background-color:#9898ff\">রাস্তায়</span> <span style=\"background-color:#ff1818\">নামিয়ে</span> <span style=\"background-color:#ffbcbc\">করিয়েছে</span> <span style=\"background-color:#ffcccc\">বিএনপি</span> \n"
      ],
      "text/plain": [
       "<IPython.core.display.HTML object>"
      ]
     },
     "metadata": {},
     "output_type": "display_data"
    },
    {
     "name": "stdout",
     "output_type": "stream",
     "text": [
      "-----------------------------------------------------------\n",
      "[3046   34 1033 1336 7257  263 2063    0    0    0    0    0    0    0\n",
      "    0    0    0    0    0    0]\n",
      "(20,)\n",
      "[   5  164  184   16  109   47 2736   89  218   35  184  646  114   82\n",
      "   41 2448 2632  191    2 3556]\n",
      "(20,)\n",
      "Predicted label: Political Actual label: Personal\n",
      "LRP heatmap:\n"
     ]
    },
    {
     "data": {
      "text/html": [
       "<span style=\"background-color:#fefeff\">এই</span> <span style=\"background-color:#fcfcff\">সরকারের</span> <span style=\"background-color:#f6f6ff\">ফাসি</span> <span style=\"background-color:#fcfcff\">হবে</span> <span style=\"background-color:#f6f6ff\">কেউ</span> <span style=\"background-color:#fafaff\">যদি</span> <span style=\"background-color:#f2f2ff\">মারাও</span> <span style=\"background-color:#fff0f0\">যায়</span> <span style=\"background-color:#fffefe\">তবে</span> <span style=\"background-color:#fcfcff\">তার</span> <span style=\"background-color:#fff2f2\">ফাসি</span> <span style=\"background-color:#f2f2ff\">ভয়ে</span> <span style=\"background-color:#ffc2c2\">হাসিনা</span> <span style=\"background-color:#ff9a9a\">সরকার</span> <span style=\"background-color:#fefeff\">এখন</span> <span style=\"background-color:#f8f8ff\">থেকেই</span> <span style=\"background-color:#ffdede\">কাদা</span> <span style=\"background-color:#0000ff\">শুরু</span> <span style=\"background-color:#3838ff\">করে</span> <span style=\"background-color:#c3c3ff\">দিয়েছে।</span> \n"
      ],
      "text/plain": [
       "<IPython.core.display.HTML object>"
      ]
     },
     "metadata": {},
     "output_type": "display_data"
    },
    {
     "name": "stdout",
     "output_type": "stream",
     "text": [
      "SA heatmap:\n"
     ]
    },
    {
     "data": {
      "text/html": [
       "<span style=\"background-color:#ffeaea\">এই</span> <span style=\"background-color:#ffc3c3\">সরকারের</span> <span style=\"background-color:#ff0000\">ফাসি</span> <span style=\"background-color:#ffdada\">হবে</span> <span style=\"background-color:#fff8f8\">কেউ</span> <span style=\"background-color:#ff3838\">যদি</span> <span style=\"background-color:#ff3c3c\">মারাও</span> <span style=\"background-color:#ff8c8c\">যায়</span> <span style=\"background-color:#ffeaea\">তবে</span> <span style=\"background-color:#fff6f6\">তার</span> <span style=\"background-color:#fff6f6\">ফাসি</span> <span style=\"background-color:#ffe6e6\">ভয়ে</span> <span style=\"background-color:#ff5858\">হাসিনা</span> <span style=\"background-color:#ff8888\">সরকার</span> <span style=\"background-color:#ffa6a6\">এখন</span> <span style=\"background-color:#ffbebe\">থেকেই</span> <span style=\"background-color:#ffb0b0\">কাদা</span> <span style=\"background-color:#ffd8d8\">শুরু</span> <span style=\"background-color:#ff8888\">করে</span> <span style=\"background-color:#ffc0c0\">দিয়েছে।</span> \n"
      ],
      "text/plain": [
       "<IPython.core.display.HTML object>"
      ]
     },
     "metadata": {},
     "output_type": "display_data"
    },
    {
     "name": "stdout",
     "output_type": "stream",
     "text": [
      "GI heatmap:\n"
     ]
    },
    {
     "data": {
      "text/html": [
       "<span style=\"background-color:#ffe2e2\">এই</span> <span style=\"background-color:#8080ff\">সরকারের</span> <span style=\"background-color:#ff0404\">ফাসি</span> <span style=\"background-color:#ff9a9a\">হবে</span> <span style=\"background-color:#fff2f2\">কেউ</span> <span style=\"background-color:#0c0cff\">যদি</span> <span style=\"background-color:#0000ff\">মারাও</span> <span style=\"background-color:#4c4cff\">যায়</span> <span style=\"background-color:#fafaff\">তবে</span> <span style=\"background-color:#ffd2d2\">তার</span> <span style=\"background-color:#ffd0d0\">ফাসি</span> <span style=\"background-color:#ffe0e0\">ভয়ে</span> <span style=\"background-color:#0404ff\">হাসিনা</span> <span style=\"background-color:#3232ff\">সরকার</span> <span style=\"background-color:#ff8c8c\">এখন</span> <span style=\"background-color:#ff7979\">থেকেই</span> <span style=\"background-color:#ff8282\">কাদা</span> <span style=\"background-color:#ff8c8c\">শুরু</span> <span style=\"background-color:#7979ff\">করে</span> <span style=\"background-color:#ff6868\">দিয়েছে।</span> \n"
      ],
      "text/plain": [
       "<IPython.core.display.HTML object>"
      ]
     },
     "metadata": {},
     "output_type": "display_data"
    },
    {
     "name": "stdout",
     "output_type": "stream",
     "text": [
      "-----------------------------------------------------------\n",
      "[ 498   36   21  916 1986    1    8    0    0    0    0    0    0    0\n",
      "    0    0    0    0    0    0]\n",
      "(20,)\n",
      "[6613 4582    5 1448   26  140  113   46   50 1418 1448   98    0    0\n",
      "    0    0    0    0    0    0]\n",
      "(20,)\n",
      "[  41   21 2564  361 1464  617  242  551 4181    9  571   32   12  238\n",
      " 4632  342  755    0    0    0]\n",
      "(20,)\n",
      "[1059 2712 3435 5338  393 2712 3734  490   63   50 4189   73  466 1113\n",
      "  191  841    0    0    0    0]\n",
      "(20,)\n",
      "[ 361   20 1386  661 1067  987    0    0    0    0    0    0    0    0\n",
      "    0    0    0    0    0    0]\n",
      "(20,)\n",
      "[ 936  235  647 1085  407    0    0    0    0    0    0    0    0    0\n",
      "    0    0    0    0    0    0]\n",
      "(20,)\n",
      "[ 178  407 9770  122   96   62  843  147 1548    0    0    0    0    0\n",
      "    0    0    0    0    0    0]\n",
      "(20,)\n",
      "[ 154 1146 1606    0    0    0    0    0    0    0    0    0    0    0\n",
      "    0    0    0    0    0    0]\n",
      "(20,)\n",
      "[1282  447   55   73  924  596  266  200  106    0    0    0    0    0\n",
      "    0    0    0    0    0    0]\n",
      "(20,)\n",
      "[1127  454    3   45 4308 4309 4310  623    2 4311  151 4312  320  404\n",
      "  303  465   45  470   24  393]\n",
      "(20,)\n",
      "Predicted label: Political Actual label: Personal\n",
      "LRP heatmap:\n"
     ]
    },
    {
     "data": {
      "text/html": [
       "<span style=\"background-color:#fefeff\">বাড়াবাড়ি</span> <span style=\"background-color:#fffefe\">করছে।</span> <span style=\"background-color:#fefeff\">আর</span> <span style=\"background-color:#fefeff\">এ</span> <span style=\"background-color:#fffefe\">ঘটনাকে</span> <span style=\"background-color:#fffefe\">ফুলিয়ে</span> <span style=\"background-color:#fefeff\">ফাঁপিয়ে</span> <span style=\"background-color:#fefeff\">প্রচার</span> <span style=\"background-color:#fffefe\">করে</span> <span style=\"background-color:#fffefe\">অতিরঞ্জিত</span> <span style=\"background-color:#fffefe\">করেছে</span> <span style=\"background-color:#fffefe\">সাংবাদিকরা।</span> <span style=\"background-color:#fefeff\">অথচ</span> <span style=\"background-color:#fafaff\">ঘটনা</span> <span style=\"background-color:#fcfcff\">কিছুই</span> <span style=\"background-color:#ececff\">নয়।</span> <span style=\"background-color:#fffcfc\">এ</span> <span style=\"background-color:#ffc0c0\">মন্ত্রী</span> <span style=\"background-color:#f0f0ff\">কোন</span> <span style=\"background-color:#0000ff\">দলের</span> \n"
      ],
      "text/plain": [
       "<IPython.core.display.HTML object>"
      ]
     },
     "metadata": {},
     "output_type": "display_data"
    },
    {
     "name": "stdout",
     "output_type": "stream",
     "text": [
      "SA heatmap:\n"
     ]
    },
    {
     "data": {
      "text/html": [
       "<span style=\"background-color:#ffecec\">বাড়াবাড়ি</span> <span style=\"background-color:#ff4848\">করছে।</span> <span style=\"background-color:#ff8686\">আর</span> <span style=\"background-color:#ffe8e8\">এ</span> <span style=\"background-color:#ff9292\">ঘটনাকে</span> <span style=\"background-color:#ffdede\">ফুলিয়ে</span> <span style=\"background-color:#ff7070\">ফাঁপিয়ে</span> <span style=\"background-color:#ffeaea\">প্রচার</span> <span style=\"background-color:#fff6f6\">করে</span> <span style=\"background-color:#ffb8b8\">অতিরঞ্জিত</span> <span style=\"background-color:#fff0f0\">করেছে</span> <span style=\"background-color:#ffe6e6\">সাংবাদিকরা।</span> <span style=\"background-color:#ffd0d0\">অথচ</span> <span style=\"background-color:#ffcece\">ঘটনা</span> <span style=\"background-color:#ffdede\">কিছুই</span> <span style=\"background-color:#ffbcbc\">নয়।</span> <span style=\"background-color:#ff4444\">এ</span> <span style=\"background-color:#ff0000\">মন্ত্রী</span> <span style=\"background-color:#ff7979\">কোন</span> <span style=\"background-color:#ff3c3c\">দলের</span> \n"
      ],
      "text/plain": [
       "<IPython.core.display.HTML object>"
      ]
     },
     "metadata": {},
     "output_type": "display_data"
    },
    {
     "name": "stdout",
     "output_type": "stream",
     "text": [
      "GI heatmap:\n"
     ]
    },
    {
     "data": {
      "text/html": [
       "<span style=\"background-color:#ffb0b0\">বাড়াবাড়ি</span> <span style=\"background-color:#0000ff\">করছে।</span> <span style=\"background-color:#6060ff\">আর</span> <span style=\"background-color:#fffcfc\">এ</span> <span style=\"background-color:#ffa2a2\">ঘটনাকে</span> <span style=\"background-color:#c0c0ff\">ফুলিয়ে</span> <span style=\"background-color:#e3e3ff\">ফাঁপিয়ে</span> <span style=\"background-color:#ffb8b8\">প্রচার</span> <span style=\"background-color:#fffefe\">করে</span> <span style=\"background-color:#ff8686\">অতিরঞ্জিত</span> <span style=\"background-color:#ffb0b0\">করেছে</span> <span style=\"background-color:#ff8e8e\">সাংবাদিকরা।</span> <span style=\"background-color:#ff6e6e\">অথচ</span> <span style=\"background-color:#fff0f0\">ঘটনা</span> <span style=\"background-color:#c8c8ff\">কিছুই</span> <span style=\"background-color:#ffd8d8\">নয়।</span> <span style=\"background-color:#ff4444\">এ</span> <span style=\"background-color:#ff0c0c\">মন্ত্রী</span> <span style=\"background-color:#2a2aff\">কোন</span> <span style=\"background-color:#ff4444\">দলের</span> \n"
      ],
      "text/plain": [
       "<IPython.core.display.HTML object>"
      ]
     },
     "metadata": {},
     "output_type": "display_data"
    },
    {
     "name": "stdout",
     "output_type": "stream",
     "text": [
      "-----------------------------------------------------------\n",
      "[ 130   41  142  354   27 3496   33   69  425  709 1776 3496  293    0\n",
      "    0    0    0    0    0    0]\n",
      "(20,)\n",
      "[ 200 1882   55  142  207  229 3791  184  106    3 2973  229   98   13\n",
      "  495 2457 4236   13    6  148]\n",
      "(20,)\n",
      "Predicted label: Political Actual label: Personal\n",
      "LRP heatmap:\n"
     ]
    },
    {
     "data": {
      "text/html": [
       "<span style=\"background-color:#fefeff\">দেখতে</span> <span style=\"background-color:#fefeff\">চাইনা</span> <span style=\"background-color:#fefeff\">আমরা</span> <span style=\"background-color:#fefeff\">শুধু</span> <span style=\"background-color:#fefeff\">ছাত্রলীগ</span> <span style=\"background-color:#fefeff\">নেতা</span> <span style=\"background-color:#fffafa\">বদরুলের</span> <span style=\"background-color:#fffafa\">ফাসি</span> <span style=\"background-color:#fffefe\">চাই</span> <span style=\"background-color:#fffefe\">আর</span> <span style=\"background-color:#fcfcff\">উনার</span> <span style=\"background-color:#fefeff\">নেতা</span> <span style=\"background-color:#f3f3ff\">করছে</span> <span style=\"background-color:#fff4f4\">তো</span> <span style=\"background-color:#e0e0ff\">উনি</span> <span style=\"background-color:#d8d8ff\">বহন</span> <span style=\"background-color:#dedeff\">করবেনা</span> <span style=\"background-color:#ff7e7e\">তো</span> <span style=\"background-color:#ff5454\">কে</span> <span style=\"background-color:#ff0000\">করবে</span> \n"
      ],
      "text/plain": [
       "<IPython.core.display.HTML object>"
      ]
     },
     "metadata": {},
     "output_type": "display_data"
    },
    {
     "name": "stdout",
     "output_type": "stream",
     "text": [
      "SA heatmap:\n"
     ]
    },
    {
     "data": {
      "text/html": [
       "<span style=\"background-color:#ffe8e8\">দেখতে</span> <span style=\"background-color:#ffdede\">চাইনা</span> <span style=\"background-color:#fff8f8\">আমরা</span> <span style=\"background-color:#ffb2b2\">শুধু</span> <span style=\"background-color:#fff6f6\">ছাত্রলীগ</span> <span style=\"background-color:#ff0000\">নেতা</span> <span style=\"background-color:#ffdcdc\">বদরুলের</span> <span style=\"background-color:#fffcfc\">ফাসি</span> <span style=\"background-color:#ffe0e0\">চাই</span> <span style=\"background-color:#fff0f0\">আর</span> <span style=\"background-color:#fffefe\">উনার</span> <span style=\"background-color:#ffeeee\">নেতা</span> <span style=\"background-color:#ff9a9a\">করছে</span> <span style=\"background-color:#fffafa\">তো</span> <span style=\"background-color:#fff8f8\">উনি</span> <span style=\"background-color:#fff2f2\">বহন</span> <span style=\"background-color:#ffecec\">করবেনা</span> <span style=\"background-color:#ffcccc\">তো</span> <span style=\"background-color:#ffd3d3\">কে</span> <span style=\"background-color:#fff2f2\">করবে</span> \n"
      ],
      "text/plain": [
       "<IPython.core.display.HTML object>"
      ]
     },
     "metadata": {},
     "output_type": "display_data"
    },
    {
     "name": "stdout",
     "output_type": "stream",
     "text": [
      "GI heatmap:\n"
     ]
    },
    {
     "data": {
      "text/html": [
       "<span style=\"background-color:#ff6c6c\">দেখতে</span> <span style=\"background-color:#9898ff\">চাইনা</span> <span style=\"background-color:#c2c2ff\">আমরা</span> <span style=\"background-color:#1818ff\">শুধু</span> <span style=\"background-color:#8a8aff\">ছাত্রলীগ</span> <span style=\"background-color:#fafaff\">নেতা</span> <span style=\"background-color:#ff6666\">বদরুলের</span> <span style=\"background-color:#9a9aff\">ফাসি</span> <span style=\"background-color:#fff4f4\">চাই</span> <span style=\"background-color:#ff0000\">আর</span> <span style=\"background-color:#ffd6d6\">উনার</span> <span style=\"background-color:#9898ff\">নেতা</span> <span style=\"background-color:#ff7171\">করছে</span> <span style=\"background-color:#ffb6b6\">তো</span> <span style=\"background-color:#0e0eff\">উনি</span> <span style=\"background-color:#ffbcbc\">বহন</span> <span style=\"background-color:#dedeff\">করবেনা</span> <span style=\"background-color:#c2c2ff\">তো</span> <span style=\"background-color:#e3e3ff\">কে</span> <span style=\"background-color:#7c7cff\">করবে</span> \n"
      ],
      "text/plain": [
       "<IPython.core.display.HTML object>"
      ]
     },
     "metadata": {},
     "output_type": "display_data"
    },
    {
     "name": "stdout",
     "output_type": "stream",
     "text": [
      "-----------------------------------------------------------\n",
      "[2402 1000  155  238  154 4071 1211  110 2402 1211  110  154    0    0\n",
      "    0    0    0    0    0    0]\n",
      "(20,)\n",
      "[ 393   19 2031   26 1302   23 5868    4  186   55 3436 3657 5867  126\n",
      "   25  372 3372   46 2709 3039]\n",
      "(20,)\n",
      "Predicted label: Political Actual label: Personal\n",
      "LRP heatmap:\n"
     ]
    },
    {
     "data": {
      "text/html": [
       "<span style=\"background-color:#fffefe\">দলের</span> <span style=\"background-color:#fffefe\">সাথে</span> <span style=\"background-color:#fffefe\">আলোচনা</span> <span style=\"background-color:#fefeff\">করা</span> <span style=\"background-color:#fefeff\">হয়েছিল</span> <span style=\"background-color:#fffcfc\">এর</span> <span style=\"background-color:#fff2f2\">ফল</span> <span style=\"background-color:#fefeff\">কি</span> <span style=\"background-color:#fafaff\">হয়েছে</span> <span style=\"background-color:#dedeff\">আমরা</span> <span style=\"background-color:#ffd8d8\">জানি।</span> <span style=\"background-color:#cacaff\">কাজেই</span> <span style=\"background-color:#ffeaea\">গ্রহনযোগ্য</span> <span style=\"background-color:#4646ff\">এমন</span> <span style=\"background-color:#f8f8ff\">কথা</span> <span style=\"background-color:#d8d8ff\">বলা</span> <span style=\"background-color:#ececff\">সহজ</span> <span style=\"background-color:#c6c6ff\">কিন্তু</span> <span style=\"background-color:#ff2121\">বাস্তবতা</span> <span style=\"background-color:#0000ff\">ভিন্ন।</span> \n"
      ],
      "text/plain": [
       "<IPython.core.display.HTML object>"
      ]
     },
     "metadata": {},
     "output_type": "display_data"
    },
    {
     "name": "stdout",
     "output_type": "stream",
     "text": [
      "SA heatmap:\n"
     ]
    },
    {
     "data": {
      "text/html": [
       "<span style=\"background-color:#ffc0c0\">দলের</span> <span style=\"background-color:#ffa3a3\">সাথে</span> <span style=\"background-color:#ff9292\">আলোচনা</span> <span style=\"background-color:#ffe0e0\">করা</span> <span style=\"background-color:#ff3c3c\">হয়েছিল</span> <span style=\"background-color:#ffcece\">এর</span> <span style=\"background-color:#ffd6d6\">ফল</span> <span style=\"background-color:#ff0000\">কি</span> <span style=\"background-color:#fff6f6\">হয়েছে</span> <span style=\"background-color:#ffacac\">আমরা</span> <span style=\"background-color:#ffd2d2\">জানি।</span> <span style=\"background-color:#ff9898\">কাজেই</span> <span style=\"background-color:#ff9292\">গ্রহনযোগ্য</span> <span style=\"background-color:#ffe2e2\">এমন</span> <span style=\"background-color:#ffecec\">কথা</span> <span style=\"background-color:#fffafa\">বলা</span> <span style=\"background-color:#ffbebe\">সহজ</span> <span style=\"background-color:#ffb6b6\">কিন্তু</span> <span style=\"background-color:#ffb3b3\">বাস্তবতা</span> <span style=\"background-color:#ff9a9a\">ভিন্ন।</span> \n"
      ],
      "text/plain": [
       "<IPython.core.display.HTML object>"
      ]
     },
     "metadata": {},
     "output_type": "display_data"
    },
    {
     "name": "stdout",
     "output_type": "stream",
     "text": [
      "GI heatmap:\n"
     ]
    },
    {
     "data": {
      "text/html": [
       "<span style=\"background-color:#ff4949\">দলের</span> <span style=\"background-color:#cacaff\">সাথে</span> <span style=\"background-color:#7070ff\">আলোচনা</span> <span style=\"background-color:#eeeeff\">করা</span> <span style=\"background-color:#0000ff\">হয়েছিল</span> <span style=\"background-color:#ff6464\">এর</span> <span style=\"background-color:#ff7474\">ফল</span> <span style=\"background-color:#ff0606\">কি</span> <span style=\"background-color:#ceceff\">হয়েছে</span> <span style=\"background-color:#ff6060\">আমরা</span> <span style=\"background-color:#ff6868\">জানি।</span> <span style=\"background-color:#ff4c4c\">কাজেই</span> <span style=\"background-color:#ff8a8a\">গ্রহনযোগ্য</span> <span style=\"background-color:#fafaff\">এমন</span> <span style=\"background-color:#a8a8ff\">কথা</span> <span style=\"background-color:#f3f3ff\">বলা</span> <span style=\"background-color:#ff7171\">সহজ</span> <span style=\"background-color:#fff2f2\">কিন্তু</span> <span style=\"background-color:#4e4eff\">বাস্তবতা</span> <span style=\"background-color:#ff7c7c\">ভিন্ন।</span> \n"
      ],
      "text/plain": [
       "<IPython.core.display.HTML object>"
      ]
     },
     "metadata": {},
     "output_type": "display_data"
    },
    {
     "name": "stdout",
     "output_type": "stream",
     "text": [
      "-----------------------------------------------------------\n",
      "[ 146  361  195  422  171 1546    1    0    0    0    0    0    0    0\n",
      "    0    0    0    0    0    0]\n",
      "(20,)\n",
      "[1702 8926   39  694  576   14 8068  600    0    0    0    0    0    0\n",
      "    0    0    0    0    0    0]\n",
      "(20,)\n",
      "[ 235 1617  538   16 3790    0    0    0    0    0    0    0    0    0\n",
      "    0    0    0    0    0    0]\n",
      "(20,)\n",
      "[2531  155   83   73  166  214  328 1842   74  630 2108  553  453  128\n",
      " 2941    0    0    0    0    0]\n",
      "(20,)\n",
      "[2093    6    3  234  405   47 1452 1121 3826    1  312   99   69  219\n",
      " 1114  409  229  695  140  402]\n",
      "(20,)\n",
      "Predicted label: Political Actual label: Personal\n",
      "LRP heatmap:\n"
     ]
    },
    {
     "data": {
      "text/html": [
       "<span style=\"background-color:#fefeff\">সংবিধান</span> <span style=\"background-color:#fefeff\">কে</span> <span style=\"background-color:#fefeff\">আর</span> <span style=\"background-color:#fffefe\">খালেদা</span> <span style=\"background-color:#fffefe\">জিয়া</span> <span style=\"background-color:#fefeff\">যদি</span> <span style=\"background-color:#fefeff\">এইবার</span> <span style=\"background-color:#fffefe\">আন্দোলনের</span> <span style=\"background-color:#fafaff\">ডাক</span> <span style=\"background-color:#fffefe\">না</span> <span style=\"background-color:#fffafa\">দে</span> <span style=\"background-color:#f6f6ff\">তা</span> <span style=\"background-color:#dcdcff\">হলে</span> <span style=\"background-color:#f0f0ff\">বাংলার</span> <span style=\"background-color:#fff4f4\">মাটিতে</span> <span style=\"background-color:#ffb3b3\">নারী</span> <span style=\"background-color:#f6f6ff\">নেতা</span> <span style=\"background-color:#6464ff\">থাকার</span> <span style=\"background-color:#ff0000\">দরকার</span> <span style=\"background-color:#ff7878\">নেই।</span> \n"
      ],
      "text/plain": [
       "<IPython.core.display.HTML object>"
      ]
     },
     "metadata": {},
     "output_type": "display_data"
    },
    {
     "name": "stdout",
     "output_type": "stream",
     "text": [
      "SA heatmap:\n"
     ]
    },
    {
     "data": {
      "text/html": [
       "<span style=\"background-color:#ffc0c0\">সংবিধান</span> <span style=\"background-color:#ffdada\">কে</span> <span style=\"background-color:#ffa3a3\">আর</span> <span style=\"background-color:#ffd6d6\">খালেদা</span> <span style=\"background-color:#ffecec\">জিয়া</span> <span style=\"background-color:#fff0f0\">যদি</span> <span style=\"background-color:#ffa6a6\">এইবার</span> <span style=\"background-color:#ff9898\">আন্দোলনের</span> <span style=\"background-color:#ff5e5e\">ডাক</span> <span style=\"background-color:#ff9898\">না</span> <span style=\"background-color:#ffc0c0\">দে</span> <span style=\"background-color:#ffb8b8\">তা</span> <span style=\"background-color:#ff8888\">হলে</span> <span style=\"background-color:#ffc3c3\">বাংলার</span> <span style=\"background-color:#fff4f4\">মাটিতে</span> <span style=\"background-color:#ffb3b3\">নারী</span> <span style=\"background-color:#ffb6b6\">নেতা</span> <span style=\"background-color:#ff0000\">থাকার</span> <span style=\"background-color:#ffe2e2\">দরকার</span> <span style=\"background-color:#ff9a9a\">নেই।</span> \n"
      ],
      "text/plain": [
       "<IPython.core.display.HTML object>"
      ]
     },
     "metadata": {},
     "output_type": "display_data"
    },
    {
     "name": "stdout",
     "output_type": "stream",
     "text": [
      "GI heatmap:\n"
     ]
    },
    {
     "data": {
      "text/html": [
       "<span style=\"background-color:#e8e8ff\">সংবিধান</span> <span style=\"background-color:#ff7c7c\">কে</span> <span style=\"background-color:#4646ff\">আর</span> <span style=\"background-color:#ceceff\">খালেদা</span> <span style=\"background-color:#dadaff\">জিয়া</span> <span style=\"background-color:#dadaff\">যদি</span> <span style=\"background-color:#9898ff\">এইবার</span> <span style=\"background-color:#ffa0a0\">আন্দোলনের</span> <span style=\"background-color:#ff0000\">ডাক</span> <span style=\"background-color:#ffa8a8\">না</span> <span style=\"background-color:#ffc8c8\">দে</span> <span style=\"background-color:#ff7171\">তা</span> <span style=\"background-color:#ffe2e2\">হলে</span> <span style=\"background-color:#ececff\">বাংলার</span> <span style=\"background-color:#ffeeee\">মাটিতে</span> <span style=\"background-color:#ffb6b6\">নারী</span> <span style=\"background-color:#ffc6c6\">নেতা</span> <span style=\"background-color:#ff5959\">থাকার</span> <span style=\"background-color:#ff8686\">দরকার</span> <span style=\"background-color:#ff7979\">নেই।</span> \n"
      ],
      "text/plain": [
       "<IPython.core.display.HTML object>"
      ]
     },
     "metadata": {},
     "output_type": "display_data"
    },
    {
     "name": "stdout",
     "output_type": "stream",
     "text": [
      "-----------------------------------------------------------\n",
      "[154 242 180 282 647 106   0   0   0   0   0   0   0   0   0   0   0   0\n",
      "   0   0]\n",
      "(20,)\n",
      "[ 566  138  114 3363   35  896    3  109   32    0    0    0    0    0\n",
      "    0    0    0    0    0    0]\n",
      "(20,)\n",
      "[2134  453 3597  398   41  303   61   80 2015 2513    0    0    0    0\n",
      "    0    0    0    0    0    0]\n",
      "(20,)\n",
      "[375  36 641 154 242   6 812   0   0   0   0   0   0   0   0   0   0   0\n",
      "   0   0]\n",
      "(20,)\n",
      "[ 130  852 2763  158  131  228    0    0    0    0    0    0    0    0\n",
      "    0    0    0    0    0    0]\n",
      "(20,)\n",
      "[ 825  104  229  457  457  140 3716  242  582 2015  145    0    0    0\n",
      "    0    0    0    0    0    0]\n",
      "(20,)\n",
      "[4231 7180    0    0    0    0    0    0    0    0    0    0    0    0\n",
      "    0    0    0    0    0    0]\n",
      "(20,)\n",
      "[ 244  699    2  469   45   24 1699   98  203   13   81  228  217  129\n",
      "   78   28   64  453    0    0]\n",
      "(20,)\n",
      "[ 672  672  153 3129 1952 1773  171 1095  174  920 1211 1579    0    0\n",
      "    0    0    0    0    0    0]\n",
      "(20,)\n",
      "[  82 1534  371 1420 1556 6997 4903 2572 5304   16    0    0    0    0\n",
      "    0    0    0    0    0    0]\n",
      "(20,)\n",
      "[ 235 2018  205  181  409    9 2018 4656 1421   32    0    0    0    0\n",
      "    0    0    0    0    0    0]\n",
      "(20,)\n",
      "[2163  190 4845 5346    0    0    0    0    0    0    0    0    0    0\n",
      "    0    0    0    0    0    0]\n",
      "(20,)\n",
      "[6166   96  155  753  204  282    8    0    0    0    0    0    0    0\n",
      "    0    0    0    0    0    0]\n",
      "(20,)\n",
      "[   3  105 1990    9 3032 1990   88 3032    6 5379   71  145    0    0\n",
      "    0    0    0    0    0    0]\n",
      "(20,)\n",
      "[1279  643 5087 1246   43 1430    3  278  235  832  544  191    0    0\n",
      "    0    0    0    0    0    0]\n",
      "(20,)\n",
      "[ 753  327  313  313 1639 1587  135   27   35 9976   11    0    0    0\n",
      "    0    0    0    0    0    0]\n",
      "(20,)\n",
      "[ 138  226 2823  106    5  111    0    0    0    0    0    0    0    0\n",
      "    0    0    0    0    0    0]\n",
      "(20,)\n",
      "[ 258   21  289  414 4790  254    0    0    0    0    0    0    0    0\n",
      "    0    0    0    0    0    0]\n",
      "(20,)\n",
      "[ 138  114  453  948  111   31 6219  159 8137  217 1708   31    3  948\n",
      "  241  242 4128    0    0    0]\n",
      "(20,)\n",
      "[ 410  242 3353 1397   63   52   94 4257 1091  310  320   38 1504  134\n",
      " 9221    0    0    0    0    0]\n",
      "(20,)\n",
      "[   5  119  585  313    1 6407  154  188    0    0    0    0    0    0\n",
      "    0    0    0    0    0    0]\n",
      "(20,)\n",
      "[  55  772  909 1593    8  909   73 2950  692    8  907    0    0    0\n",
      "    0    0    0    0    0    0]\n",
      "(20,)\n",
      "[ 207   34 2430 1799 1136  236 6054  955  207 6241    0    0    0    0\n",
      "    0    0    0    0    0    0]\n",
      "(20,)\n",
      "[  73   33  101  172  757  482  208   56  150  897   34  112  262    2\n",
      "   10  183    9  265   32 4444]\n",
      "(20,)\n",
      "Predicted label: Political Actual label: Personal\n",
      "LRP heatmap:\n"
     ]
    },
    {
     "data": {
      "text/html": [
       "<span style=\"background-color:#fefeff\">রাজাকার</span> <span style=\"background-color:#fffefe\">আছে</span> <span style=\"background-color:#fffefe\">যারা</span> <span style=\"background-color:#fffefe\">সালে</span> <span style=\"background-color:#fffcfc\">এখনো</span> <span style=\"background-color:#fffefe\">ভুলে</span> <span style=\"background-color:#fcfcff\">নাই।</span> <span style=\"background-color:#fffafa\">তাই</span> <span style=\"background-color:#fff8f8\">ওরা</span> <span style=\"background-color:#fffefe\">পাকিস্তানি</span> <span style=\"background-color:#f6f6ff\">নিয়ে</span> <span style=\"background-color:#fffcfc\">বেশি</span> <span style=\"background-color:#fefeff\">মাথা</span> <span style=\"background-color:#dadaff\">করে</span> <span style=\"background-color:#f8f8ff\">ভারতের</span> <span style=\"background-color:#ff8383\">বাল</span> <span style=\"background-color:#f8f8ff\">ও</span> <span style=\"background-color:#ffecec\">পারবে</span> <span style=\"background-color:#0000ff\">না।</span> <span style=\"background-color:#8a8aff\">ভিক্ষুক</span> \n"
      ],
      "text/plain": [
       "<IPython.core.display.HTML object>"
      ]
     },
     "metadata": {},
     "output_type": "display_data"
    },
    {
     "name": "stdout",
     "output_type": "stream",
     "text": [
      "SA heatmap:\n"
     ]
    },
    {
     "data": {
      "text/html": [
       "<span style=\"background-color:#ffb6b6\">রাজাকার</span> <span style=\"background-color:#ffb8b8\">আছে</span> <span style=\"background-color:#ffdada\">যারা</span> <span style=\"background-color:#ffd8d8\">সালে</span> <span style=\"background-color:#ff8282\">এখনো</span> <span style=\"background-color:#ffe2e2\">ভুলে</span> <span style=\"background-color:#ffd8d8\">নাই।</span> <span style=\"background-color:#ffe8e8\">তাই</span> <span style=\"background-color:#ffbcbc\">ওরা</span> <span style=\"background-color:#ffc3c3\">পাকিস্তানি</span> <span style=\"background-color:#ffa8a8\">নিয়ে</span> <span style=\"background-color:#fff2f2\">বেশি</span> <span style=\"background-color:#ffe0e0\">মাথা</span> <span style=\"background-color:#ff0000\">করে</span> <span style=\"background-color:#ffbcbc\">ভারতের</span> <span style=\"background-color:#fffafa\">বাল</span> <span style=\"background-color:#ff8a8a\">ও</span> <span style=\"background-color:#ff9a9a\">পারবে</span> <span style=\"background-color:#fffcfc\">না।</span> <span style=\"background-color:#ff3030\">ভিক্ষুক</span> \n"
      ],
      "text/plain": [
       "<IPython.core.display.HTML object>"
      ]
     },
     "metadata": {},
     "output_type": "display_data"
    },
    {
     "name": "stdout",
     "output_type": "stream",
     "text": [
      "GI heatmap:\n"
     ]
    },
    {
     "data": {
      "text/html": [
       "<span style=\"background-color:#ff7878\">রাজাকার</span> <span style=\"background-color:#7c7cff\">আছে</span> <span style=\"background-color:#a8a8ff\">যারা</span> <span style=\"background-color:#ff9e9e\">সালে</span> <span style=\"background-color:#4e4eff\">এখনো</span> <span style=\"background-color:#ffacac\">ভুলে</span> <span style=\"background-color:#ff9a9a\">নাই।</span> <span style=\"background-color:#ffc6c6\">তাই</span> <span style=\"background-color:#8080ff\">ওরা</span> <span style=\"background-color:#ff8383\">পাকিস্তানি</span> <span style=\"background-color:#6e6eff\">নিয়ে</span> <span style=\"background-color:#ffd2d2\">বেশি</span> <span style=\"background-color:#ffaaaa\">মাথা</span> <span style=\"background-color:#ff0000\">করে</span> <span style=\"background-color:#7979ff\">ভারতের</span> <span style=\"background-color:#ffe4e4\">বাল</span> <span style=\"background-color:#ff5454\">ও</span> <span style=\"background-color:#ff6060\">পারবে</span> <span style=\"background-color:#ffe6e6\">না।</span> <span style=\"background-color:#ff1c1c\">ভিক্ষুক</span> \n"
      ],
      "text/plain": [
       "<IPython.core.display.HTML object>"
      ]
     },
     "metadata": {},
     "output_type": "display_data"
    },
    {
     "name": "stdout",
     "output_type": "stream",
     "text": [
      "-----------------------------------------------------------\n",
      "[4628   17    5  130    9 1951 1587  486    0    0    0    0    0    0\n",
      "    0    0    0    0    0    0]\n",
      "(20,)\n",
      "[   5   82 1354 1711  520  859 3053    1   59 5238  638 1776    0    0\n",
      "    0    0    0    0    0    0]\n",
      "(20,)\n",
      "[ 545 2795   95  280  122  504  914 4961  180   71    1 1014    0    0\n",
      "    0    0    0    0    0    0]\n",
      "(20,)\n",
      "[ 453 2220 1246  421    0    0    0    0    0    0    0    0    0    0\n",
      "    0    0    0    0    0    0]\n",
      "(20,)\n",
      "[ 263 2112    3  207  262 2112  313   64  262 1224    0    0    0    0\n",
      "    0    0    0    0    0    0]\n",
      "(20,)\n",
      "[3046   34 1033 1336 7257  263 2831    0    0    0    0    0    0    0\n",
      "    0    0    0    0    0    0]\n",
      "(20,)\n",
      "[207 373   2 138 114   4   2   0   0   0   0   0   0   0   0   0   0   0\n",
      "   0   0]\n",
      "(20,)\n",
      "[1534 2795 2407 1846    0    0    0    0    0    0    0    0    0    0\n",
      "    0    0    0    0    0    0]\n",
      "(20,)\n",
      "[1049 8622 3989 2267 8623    2   56 2089 1076  212    1  130    0    0\n",
      "    0    0    0    0    0    0]\n",
      "(20,)\n",
      "[ 130  675   35    2 7180  133   15   24 1258    1   34  219   42   26\n",
      "  762    0    0    0    0    0]\n",
      "(20,)\n",
      "[ 108 3770  558  875 2298 9836    0    0    0    0    0    0    0    0\n",
      "    0    0    0    0    0    0]\n",
      "(20,)\n",
      "[ 240 4272  453 1798  429  242    0    0    0    0    0    0    0    0\n",
      "    0    0    0    0    0    0]\n",
      "(20,)\n",
      "[   5 1288 6840  407  670 2934  109  362    1  244 2495    0    0    0\n",
      "    0    0    0    0    0    0]\n",
      "(20,)\n",
      "[ 188    8   28    4  102    8   28 1135   13   28  257    8   35  784\n",
      "   13   31 7929    8  257  111]\n",
      "(20,)\n",
      "Predicted label: Political Actual label: Personal\n",
      "LRP heatmap:\n"
     ]
    },
    {
     "data": {
      "text/html": [
       "<span style=\"background-color:#fffefe\">দালাল</span> <span style=\"background-color:#fefeff\">।</span> <span style=\"background-color:#fefeff\">তুই</span> <span style=\"background-color:#fefeff\">কি</span> <span style=\"background-color:#fefeff\">নাকি</span> <span style=\"background-color:#fefeff\">।</span> <span style=\"background-color:#fefeff\">তুই</span> <span style=\"background-color:#fefeff\">বলেই</span> <span style=\"background-color:#fffefe\">তো</span> <span style=\"background-color:#fcfcff\">তুই</span> <span style=\"background-color:#fffefe\">খানকি</span> <span style=\"background-color:#fff4f4\">।</span> <span style=\"background-color:#e0e0ff\">তার</span> <span style=\"background-color:#ffd6d6\">জন্যই</span> <span style=\"background-color:#ffdcdc\">তো</span> <span style=\"background-color:#f2f2ff\">তোর</span> <span style=\"background-color:#ff9393\">লাগতেছে</span> <span style=\"background-color:#0000ff\">।</span> <span style=\"background-color:#ffc2c2\">খানকি</span> <span style=\"background-color:#f8f8ff\">মাগি</span> \n"
      ],
      "text/plain": [
       "<IPython.core.display.HTML object>"
      ]
     },
     "metadata": {},
     "output_type": "display_data"
    },
    {
     "name": "stdout",
     "output_type": "stream",
     "text": [
      "SA heatmap:\n"
     ]
    },
    {
     "data": {
      "text/html": [
       "<span style=\"background-color:#ffdada\">দালাল</span> <span style=\"background-color:#ffc6c6\">।</span> <span style=\"background-color:#ffbaba\">তুই</span> <span style=\"background-color:#ff5e5e\">কি</span> <span style=\"background-color:#ffb2b2\">নাকি</span> <span style=\"background-color:#fff4f4\">।</span> <span style=\"background-color:#ffa3a3\">তুই</span> <span style=\"background-color:#ffc3c3\">বলেই</span> <span style=\"background-color:#fff6f6\">তো</span> <span style=\"background-color:#ffecec\">তুই</span> <span style=\"background-color:#ffbcbc\">খানকি</span> <span style=\"background-color:#fff4f4\">।</span> <span style=\"background-color:#fff0f0\">তার</span> <span style=\"background-color:#ffe8e8\">জন্যই</span> <span style=\"background-color:#fffcfc\">তো</span> <span style=\"background-color:#ffe0e0\">তোর</span> <span style=\"background-color:#fffafa\">লাগতেছে</span> <span style=\"background-color:#ffa3a3\">।</span> <span style=\"background-color:#ffdcdc\">খানকি</span> <span style=\"background-color:#ff0000\">মাগি</span> \n"
      ],
      "text/plain": [
       "<IPython.core.display.HTML object>"
      ]
     },
     "metadata": {},
     "output_type": "display_data"
    },
    {
     "name": "stdout",
     "output_type": "stream",
     "text": [
      "GI heatmap:\n"
     ]
    },
    {
     "data": {
      "text/html": [
       "<span style=\"background-color:#ff9292\">দালাল</span> <span style=\"background-color:#9292ff\">।</span> <span style=\"background-color:#0000ff\">তুই</span> <span style=\"background-color:#ff5656\">কি</span> <span style=\"background-color:#ff5656\">নাকি</span> <span style=\"background-color:#ff4949\">।</span> <span style=\"background-color:#9c9cff\">তুই</span> <span style=\"background-color:#ffb0b0\">বলেই</span> <span style=\"background-color:#ccccff\">তো</span> <span style=\"background-color:#ffc3c3\">তুই</span> <span style=\"background-color:#acacff\">খানকি</span> <span style=\"background-color:#ffeeee\">।</span> <span style=\"background-color:#ff1818\">তার</span> <span style=\"background-color:#ff8888\">জন্যই</span> <span style=\"background-color:#e0e0ff\">তো</span> <span style=\"background-color:#fff4f4\">তোর</span> <span style=\"background-color:#f2f2ff\">লাগতেছে</span> <span style=\"background-color:#ffa0a0\">।</span> <span style=\"background-color:#fffcfc\">খানকি</span> <span style=\"background-color:#ff0808\">মাগি</span> \n"
      ],
      "text/plain": [
       "<IPython.core.display.HTML object>"
      ]
     },
     "metadata": {},
     "output_type": "display_data"
    },
    {
     "name": "stdout",
     "output_type": "stream",
     "text": [
      "-----------------------------------------------------------\n",
      "[ 114 3111 9392 3219   97    2    0    0    0    0    0    0    0    0\n",
      "    0    0    0    0    0    0]\n",
      "(20,)\n",
      "[ 529 2018 1555    0    0    0    0    0    0    0    0    0    0    0\n",
      "    0    0    0    0    0    0]\n",
      "(20,)\n",
      "[ 198  242 9562  242 2315  242  242    8    0    0    0    0    0    0\n",
      "    0    0    0    0    0    0]\n",
      "(20,)\n",
      "[ 825 3151 1993   15  751 6131  435   11   46 2051 5469 1993   15   38\n",
      "   24 5475   80    0    0    0]\n",
      "(20,)\n",
      "[ 852 6808   13  105  260 1600    0    0    0    0    0    0    0    0\n",
      "    0    0    0    0    0    0]\n",
      "(20,)\n",
      "[ 867 1688   61  784 1951  321    0    0    0    0    0    0    0    0\n",
      "    0    0    0    0    0    0]\n",
      "(20,)\n",
      "[  55  772  909 1593    8  909   73 2950  648  907    0    0    0    0\n",
      "    0    0    0    0    0    0]\n",
      "(20,)\n",
      "[9155  350 1878    0    0    0    0    0    0    0    0    0    0    0\n",
      "    0    0    0    0    0    0]\n",
      "(20,)\n",
      "[538  98 732 107   8   0   0   0   0   0   0   0   0   0   0   0   0   0\n",
      "   0   0]\n",
      "(20,)\n"
     ]
    }
   ],
   "source": [
    "print(\"The degree to which each word affects the prediction of being geopolitical hates...\")\n",
    "explainer(geo_list)"
   ]
  },
  {
   "cell_type": "code",
   "execution_count": 50,
   "metadata": {},
   "outputs": [
    {
     "name": "stdout",
     "output_type": "stream",
     "text": [
      "The degree to which each word affects the prediction of being personal hates...\n",
      "[ 158 8998    3  158 9065    0    0    0    0    0    0    0    0    0\n",
      "    0    0    0    0    0    0]\n",
      "(20,)\n",
      "[ 161   13   22   41 5026  339  139   18 2404   98  189  829    1 1633\n",
      "  105   17 2613 3827   16    0]\n",
      "(20,)\n",
      "[   5  304  894  338  216   86 1841 5266   17 3219 2375  366  351 6035\n",
      " 5879   34  793   76 4356    0]\n",
      "(20,)\n",
      "[  41  418  626 1006 1005    0    0    0    0    0    0    0    0    0\n",
      "    0    0    0    0    0    0]\n",
      "(20,)\n",
      "[  20  174   31  174  136   31  177  147    2 1715    0    0    0    0\n",
      "    0    0    0    0    0    0]\n",
      "(20,)\n",
      "[2326 3847 1992 5516  159    0    0    0    0    0    0    0    0    0\n",
      "    0    0    0    0    0    0]\n",
      "(20,)\n",
      "[   5  257  111 5066   33  937    0    0    0    0    0    0    0    0\n",
      "    0    0    0    0    0    0]\n",
      "(20,)\n",
      "[2190  864   16 1819    0    0    0    0    0    0    0    0    0    0\n",
      "    0    0    0    0    0    0]\n",
      "(20,)\n",
      "[  21  476 2186  241  105  259   68    0    0    0    0    0    0    0\n",
      "    0    0    0    0    0    0]\n",
      "(20,)\n",
      "[  20  107  311  109  634   25  679   20 1432  521 2871 7780    0    0\n",
      "    0    0    0    0    0    0]\n",
      "(20,)\n",
      "[ 677  558   84 9951  100 5225  890    0    0    0    0    0    0    0\n",
      "    0    0    0    0    0    0]\n",
      "(20,)\n",
      "[  24 2442 2617 4513  709 1126   35  184  106  914  255 1298   11    0\n",
      "    0    0    0    0    0    0]\n",
      "(20,)\n",
      "[3951 3412  259  139    2 3084    0    0    0    0    0    0    0    0\n",
      "    0    0    0    0    0    0]\n",
      "(20,)\n",
      "[1623 1077   33   44   11    0    0    0    0    0    0    0    0    0\n",
      "    0    0    0    0    0    0]\n",
      "(20,)\n",
      "[ 290  109   50 1853    3  109 2818 1092 5037    0    0    0    0    0\n",
      "    0    0    0    0    0    0]\n",
      "(20,)\n",
      "[ 572 3588  845  725 1168    2 1911  148    0    0    0    0    0    0\n",
      "    0    0    0    0    0    0]\n",
      "(20,)\n",
      "[ 125  182 1739  720 1936 2465    3  125  182  958   60  720  210 2465\n",
      "    0    0    0    0    0    0]\n",
      "(20,)\n",
      "[1197  139  342 1395  575   16    0    0    0    0    0    0    0    0\n",
      "    0    0    0    0    0    0]\n",
      "(20,)\n",
      "[ 125  744  598   42 4187  102    0    0    0    0    0    0    0    0\n",
      "    0    0    0    0    0    0]\n",
      "(20,)\n",
      "[807 743 338  88 807 370  30 191 224   8   0   0   0   0   0   0   0   0\n",
      "   0   0]\n",
      "(20,)\n",
      "[3675 1993    0    0    0    0    0    0    0    0    0    0    0    0\n",
      "    0    0    0    0    0    0]\n",
      "(20,)\n",
      "[119  79 209  61  43   0   0   0   0   0   0   0   0   0   0   0   0   0\n",
      "   0   0]\n",
      "(20,)\n",
      "[2304 1545   83   83   25   27  111    0    0    0    0    0    0    0\n",
      "    0    0    0    0    0    0]\n",
      "(20,)\n",
      "[1050   15    5  621  120   85    1 1670   75 1216   33   76 5138   61\n",
      "    0    0    0    0    0    0]\n",
      "(20,)\n",
      "[ 266  475  377  181 4668 1219 1170    0    0    0    0    0    0    0\n",
      "    0    0    0    0    0    0]\n",
      "(20,)\n",
      "[ 533   22   17 1977 1092  214 2266    0    0    0    0    0    0    0\n",
      "    0    0    0    0    0    0]\n",
      "(20,)\n",
      "[  12  155  463 1448    2 1421   26  504    0    0    0    0    0    0\n",
      "    0    0    0    0    0    0]\n",
      "(20,)\n",
      "[  53  720   75  833  205  118  552   25  300  329 2133   15   52 1129\n",
      " 8705   30 3434  519    0    0]\n",
      "(20,)\n",
      "[4984   85  379 2603  446    4  237    0    0    0    0    0    0    0\n",
      "    0    0    0    0    0    0]\n",
      "(20,)\n",
      "[1667  710 1663 2131 2346   95 1431 1128 2347 1431  706  106    0    0\n",
      "    0    0    0    0    0    0]\n",
      "(20,)\n",
      "[  58 1030 1742  127  505  109   30   27  248  537    4 1444   12  183\n",
      "  248   83 5798    0    0    0]\n",
      "(20,)\n",
      "[ 31   4 249 108   0   0   0   0   0   0   0   0   0   0   0   0   0   0\n",
      "   0   0]\n",
      "(20,)\n",
      "[ 640 6868 1117 1040    0    0    0    0    0    0    0    0    0    0\n",
      "    0    0    0    0    0    0]\n",
      "(20,)\n",
      "[ 871    4   16  464  913    4 2675 2675  460  871   85   63   32    0\n",
      "    0    0    0    0    0    0]\n",
      "(20,)\n",
      "[  23   17 2019    9   66    0    0    0    0    0    0    0    0    0\n",
      "    0    0    0    0    0    0]\n",
      "(20,)\n",
      "[1880  642 4148   34 8873    9    0    0    0    0    0    0    0    0\n",
      "    0    0    0    0    0    0]\n",
      "(20,)\n",
      "[7924  498  274  484  413   17   14 6317    0    0    0    0    0    0\n",
      "    0    0    0    0    0    0]\n",
      "(20,)\n",
      "[ 427 5620 3119   83    2 8421 1272    0    0    0    0    0    0    0\n",
      "    0    0    0    0    0    0]\n",
      "(20,)\n",
      "[  21   48  943 6870  141    4 4190  790  598    2  312    0    0    0\n",
      "    0    0    0    0    0    0]\n",
      "(20,)\n",
      "[ 394 1516  394    0    0    0    0    0    0    0    0    0    0    0\n",
      "    0    0    0    0    0    0]\n",
      "(20,)\n",
      "[1698 1514  322 1447  424  692    0    0    0    0    0    0    0    0\n",
      "    0    0    0    0    0    0]\n",
      "(20,)\n",
      "[   5  978   63 2238 2238    2  463    6   30 3871  143    0    0    0\n",
      "    0    0    0    0    0    0]\n",
      "(20,)\n",
      "[2648    6   30  377   71   11  899 1175   80    0    0    0    0    0\n",
      "    0    0    0    0    0    0]\n",
      "(20,)\n",
      "[940   0   0   0   0   0   0   0   0   0   0   0   0   0   0   0   0   0\n",
      "   0   0]\n",
      "(20,)\n",
      "[ 712 1095 1095  174  920 1211 1579    0    0    0    0    0    0    0\n",
      "    0    0    0    0    0    0]\n",
      "(20,)\n",
      "[ 205  733  122  378  186   79 1508  124  375  339 5259  122  392  113\n",
      "    0    0    0    0    0    0]\n",
      "(20,)\n",
      "[ 133  120 1002  418 3505   60   45  132 3846 2217  748    1  161   66\n",
      " 6719    0    0    0    0    0]\n",
      "(20,)\n",
      "[1717  413   92   64  158    0    0    0    0    0    0    0    0    0\n",
      "    0    0    0    0    0    0]\n",
      "(20,)\n",
      "[  55   58 3057   93 2008  214  302    3 7705  204  464 3057  290 3710\n",
      "    0    0    0    0    0    0]\n",
      "(20,)\n",
      "[ 168  106   58    5  276 1493 3899   93   91   24  699    1    2 1298\n",
      "  108  231 7892    0    0    0]\n",
      "(20,)\n",
      "[5574  152   56 6932  110  841 2448  270  136    3  136   38 7113    3\n",
      "  362 3062   41   96 3306   96]\n",
      "(20,)\n",
      "Predicted label: Personal Actual label: Personal\n",
      "LRP heatmap:\n"
     ]
    },
    {
     "data": {
      "text/html": [
       "<span style=\"background-color:#fefeff\">হচ্ছেন</span> <span style=\"background-color:#fffefe\">মারা</span> <span style=\"background-color:#fffefe\">তাই</span> <span style=\"background-color:#fffefe\">দুজনে</span> <span style=\"background-color:#fefeff\">ঠিক</span> <span style=\"background-color:#fefeff\">করেছেন</span> <span style=\"background-color:#fefeff\">থেকেই</span> <span style=\"background-color:#f6f6ff\">হাত</span> <span style=\"background-color:#fffcfc\">মেরে</span> <span style=\"background-color:#fefeff\">আর</span> <span style=\"background-color:#ffeaea\">মেরে</span> <span style=\"background-color:#ffeeee\">তাদের</span> <span style=\"background-color:#ffdcdc\">জীবনটা</span> <span style=\"background-color:#ffeaea\">আর</span> <span style=\"background-color:#c3c3ff\">করবেন</span> <span style=\"background-color:#ceceff\">তাইতো</span> <span style=\"background-color:#e8e8ff\">এখন</span> <span style=\"background-color:#c0c0ff\">হচ্ছে</span> <span style=\"background-color:#0000ff\">মিথিলা</span> <span style=\"background-color:#ffa6a6\">হচ্ছে</span> \n"
      ],
      "text/plain": [
       "<IPython.core.display.HTML object>"
      ]
     },
     "metadata": {},
     "output_type": "display_data"
    },
    {
     "name": "stdout",
     "output_type": "stream",
     "text": [
      "SA heatmap:\n"
     ]
    },
    {
     "data": {
      "text/html": [
       "<span style=\"background-color:#ffeeee\">হচ্ছেন</span> <span style=\"background-color:#ff7878\">মারা</span> <span style=\"background-color:#ffa2a2\">তাই</span> <span style=\"background-color:#fffafa\">দুজনে</span> <span style=\"background-color:#ff6666\">ঠিক</span> <span style=\"background-color:#ffe6e6\">করেছেন</span> <span style=\"background-color:#ff1c1c\">থেকেই</span> <span style=\"background-color:#ff0000\">হাত</span> <span style=\"background-color:#ffbebe\">মেরে</span> <span style=\"background-color:#ff7676\">আর</span> <span style=\"background-color:#ffb3b3\">মেরে</span> <span style=\"background-color:#ffecec\">তাদের</span> <span style=\"background-color:#fff6f6\">জীবনটা</span> <span style=\"background-color:#ffc3c3\">আর</span> <span style=\"background-color:#ffb0b0\">করবেন</span> <span style=\"background-color:#fff4f4\">তাইতো</span> <span style=\"background-color:#ffbcbc\">এখন</span> <span style=\"background-color:#ff1616\">হচ্ছে</span> <span style=\"background-color:#fffafa\">মিথিলা</span> <span style=\"background-color:#ffe0e0\">হচ্ছে</span> \n"
      ],
      "text/plain": [
       "<IPython.core.display.HTML object>"
      ]
     },
     "metadata": {},
     "output_type": "display_data"
    },
    {
     "name": "stdout",
     "output_type": "stream",
     "text": [
      "GI heatmap:\n"
     ]
    },
    {
     "data": {
      "text/html": [
       "<span style=\"background-color:#ffeeee\">হচ্ছেন</span> <span style=\"background-color:#7c7cff\">মারা</span> <span style=\"background-color:#8383ff\">তাই</span> <span style=\"background-color:#ffd8d8\">দুজনে</span> <span style=\"background-color:#c3c3ff\">ঠিক</span> <span style=\"background-color:#ffbcbc\">করেছেন</span> <span style=\"background-color:#ffe6e6\">থেকেই</span> <span style=\"background-color:#ffcece\">হাত</span> <span style=\"background-color:#acacff\">মেরে</span> <span style=\"background-color:#ff2c2c\">আর</span> <span style=\"background-color:#a6a6ff\">মেরে</span> <span style=\"background-color:#ffe0e0\">তাদের</span> <span style=\"background-color:#c3c3ff\">জীবনটা</span> <span style=\"background-color:#8888ff\">আর</span> <span style=\"background-color:#7979ff\">করবেন</span> <span style=\"background-color:#ffeaea\">তাইতো</span> <span style=\"background-color:#ff8a8a\">এখন</span> <span style=\"background-color:#ff0000\">হচ্ছে</span> <span style=\"background-color:#fff2f2\">মিথিলা</span> <span style=\"background-color:#ff9292\">হচ্ছে</span> \n"
      ],
      "text/plain": [
       "<IPython.core.display.HTML object>"
      ]
     },
     "metadata": {},
     "output_type": "display_data"
    },
    {
     "name": "stdout",
     "output_type": "stream",
     "text": [
      "-----------------------------------------------------------\n"
     ]
    }
   ],
   "source": [
    "print(\"The degree to which each word affects the prediction of being personal hates...\")\n",
    "explainer(per_list)"
   ]
  },
  {
   "cell_type": "code",
   "execution_count": 51,
   "metadata": {},
   "outputs": [
    {
     "name": "stdout",
     "output_type": "stream",
     "text": [
      "The degree to which each word affects the prediction of being politicl hates...\n",
      "[  3   7  85 146  22 139   8   0   0   0   0   0   0   0   0   0   0   0\n",
      "   0   0]\n",
      "(20,)\n",
      "[  62  556   76   24  285 1470    5  120   38   37   59  418 1748   30\n",
      "   48   17  199    2  122  143]\n",
      "(20,)\n",
      "Predicted label: Geopolitical Actual label: Personal\n",
      "LRP heatmap:\n"
     ]
    },
    {
     "data": {
      "text/html": [
       "<span style=\"background-color:#fffefe\">এটা</span> <span style=\"background-color:#fefeff\">কার</span> <span style=\"background-color:#fefeff\">টাকা</span> <span style=\"background-color:#fffefe\">কোন</span> <span style=\"background-color:#fffafa\">দিকে</span> <span style=\"background-color:#fffafa\">খাবে</span> <span style=\"background-color:#f8f8ff\">এই</span> <span style=\"background-color:#e8e8ff\">কাজ</span> <span style=\"background-color:#fffefe\">তাদের</span> <span style=\"background-color:#fffefe\">আমাদের</span> <span style=\"background-color:#f3f3ff\">দেশের</span> <span style=\"background-color:#e8e8ff\">মালাউনদের</span> <span style=\"background-color:#d2d2ff\">ধাক্কা</span> <span style=\"background-color:#c6c6ff\">দিয়ে</span> <span style=\"background-color:#ff3838\">দেশ</span> <span style=\"background-color:#ffe2e2\">থেকে</span> <span style=\"background-color:#bcbcff\">বের</span> <span style=\"background-color:#ff0000\">করে</span> <span style=\"background-color:#babaff\">দেওয়া</span> <span style=\"background-color:#ff9393\">উচিত</span> \n"
      ],
      "text/plain": [
       "<IPython.core.display.HTML object>"
      ]
     },
     "metadata": {},
     "output_type": "display_data"
    },
    {
     "name": "stdout",
     "output_type": "stream",
     "text": [
      "SA heatmap:\n"
     ]
    },
    {
     "data": {
      "text/html": [
       "<span style=\"background-color:#ff7070\">এটা</span> <span style=\"background-color:#ffcccc\">কার</span> <span style=\"background-color:#ffeeee\">টাকা</span> <span style=\"background-color:#ff8888\">কোন</span> <span style=\"background-color:#ff3e3e\">দিকে</span> <span style=\"background-color:#ff7979\">খাবে</span> <span style=\"background-color:#ff0000\">এই</span> <span style=\"background-color:#ffcaca\">কাজ</span> <span style=\"background-color:#ffbcbc\">তাদের</span> <span style=\"background-color:#ff4949\">আমাদের</span> <span style=\"background-color:#ffbebe\">দেশের</span> <span style=\"background-color:#ff3838\">মালাউনদের</span> <span style=\"background-color:#ff8383\">ধাক্কা</span> <span style=\"background-color:#ff8282\">দিয়ে</span> <span style=\"background-color:#ffeaea\">দেশ</span> <span style=\"background-color:#ff0e0e\">থেকে</span> <span style=\"background-color:#ff9393\">বের</span> <span style=\"background-color:#ffcaca\">করে</span> <span style=\"background-color:#ffcccc\">দেওয়া</span> <span style=\"background-color:#ffcaca\">উচিত</span> \n"
      ],
      "text/plain": [
       "<IPython.core.display.HTML object>"
      ]
     },
     "metadata": {},
     "output_type": "display_data"
    },
    {
     "name": "stdout",
     "output_type": "stream",
     "text": [
      "GI heatmap:\n"
     ]
    },
    {
     "data": {
      "text/html": [
       "<span style=\"background-color:#d3d3ff\">এটা</span> <span style=\"background-color:#8686ff\">কার</span> <span style=\"background-color:#ff9e9e\">টাকা</span> <span style=\"background-color:#8888ff\">কোন</span> <span style=\"background-color:#c8c8ff\">দিকে</span> <span style=\"background-color:#ff7676\">খাবে</span> <span style=\"background-color:#ff6161\">এই</span> <span style=\"background-color:#dadaff\">কাজ</span> <span style=\"background-color:#4848ff\">তাদের</span> <span style=\"background-color:#ffb8b8\">আমাদের</span> <span style=\"background-color:#ff9090\">দেশের</span> <span style=\"background-color:#ececff\">মালাউনদের</span> <span style=\"background-color:#9e9eff\">ধাক্কা</span> <span style=\"background-color:#8383ff\">দিয়ে</span> <span style=\"background-color:#ffdada\">দেশ</span> <span style=\"background-color:#ffcaca\">থেকে</span> <span style=\"background-color:#0000ff\">বের</span> <span style=\"background-color:#7c7cff\">করে</span> <span style=\"background-color:#2222ff\">দেওয়া</span> <span style=\"background-color:#9a9aff\">উচিত</span> \n"
      ],
      "text/plain": [
       "<IPython.core.display.HTML object>"
      ]
     },
     "metadata": {},
     "output_type": "display_data"
    },
    {
     "name": "stdout",
     "output_type": "stream",
     "text": [
      "-----------------------------------------------------------\n",
      "[  37  392  645  406 2545   87  540   88  358 3815    0    0    0    0\n",
      "    0    0    0    0    0    0]\n",
      "(20,)\n",
      "[  74   48  377 1983    8  234  405 2750  747  161   84  605   84  377\n",
      "    3   91 2231 1854 5215    8]\n",
      "(20,)\n",
      "Predicted label: Geopolitical Actual label: Personal\n",
      "LRP heatmap:\n"
     ]
    },
    {
     "data": {
      "text/html": [
       "<span style=\"background-color:#fffefe\">তাহলে</span> <span style=\"background-color:#fffefe\">দেশ</span> <span style=\"background-color:#fffefe\">ছেড়ে</span> <span style=\"background-color:#fffefe\">বিদেশে</span> <span style=\"background-color:#fefeff\">।</span> <span style=\"background-color:#fffcfc\">খালেদা</span> <span style=\"background-color:#fffefe\">জিয়া</span> <span style=\"background-color:#fffefe\">বলেছিলেন</span> <span style=\"background-color:#fefeff\">মরলে</span> <span style=\"background-color:#fffefe\">নিজের</span> <span style=\"background-color:#fffcfc\">দেশে</span> <span style=\"background-color:#fffcfc\">তাও</span> <span style=\"background-color:#fffcfc\">দেশে</span> <span style=\"background-color:#fafaff\">ছেড়ে</span> <span style=\"background-color:#fffefe\">আর</span> <span style=\"background-color:#fff6f6\">আপনি</span> <span style=\"background-color:#f2f2ff\">মামলার</span> <span style=\"background-color:#ffeeee\">বয়</span> <span style=\"background-color:#ffc2c2\">দেখান</span> <span style=\"background-color:#0000ff\">।</span> \n"
      ],
      "text/plain": [
       "<IPython.core.display.HTML object>"
      ]
     },
     "metadata": {},
     "output_type": "display_data"
    },
    {
     "name": "stdout",
     "output_type": "stream",
     "text": [
      "SA heatmap:\n"
     ]
    },
    {
     "data": {
      "text/html": [
       "<span style=\"background-color:#fffafa\">তাহলে</span> <span style=\"background-color:#ffaaaa\">দেশ</span> <span style=\"background-color:#ffe6e6\">ছেড়ে</span> <span style=\"background-color:#fff4f4\">বিদেশে</span> <span style=\"background-color:#ffb6b6\">।</span> <span style=\"background-color:#fff0f0\">খালেদা</span> <span style=\"background-color:#ffecec\">জিয়া</span> <span style=\"background-color:#ffdcdc\">বলেছিলেন</span> <span style=\"background-color:#ffd3d3\">মরলে</span> <span style=\"background-color:#ffc2c2\">নিজের</span> <span style=\"background-color:#fffcfc\">দেশে</span> <span style=\"background-color:#ffb2b2\">তাও</span> <span style=\"background-color:#ff0000\">দেশে</span> <span style=\"background-color:#ffdede\">ছেড়ে</span> <span style=\"background-color:#fff4f4\">আর</span> <span style=\"background-color:#ffe6e6\">আপনি</span> <span style=\"background-color:#ffd6d6\">মামলার</span> <span style=\"background-color:#ffb0b0\">বয়</span> <span style=\"background-color:#ffdada\">দেখান</span> <span style=\"background-color:#fff4f4\">।</span> \n"
      ],
      "text/plain": [
       "<IPython.core.display.HTML object>"
      ]
     },
     "metadata": {},
     "output_type": "display_data"
    },
    {
     "name": "stdout",
     "output_type": "stream",
     "text": [
      "GI heatmap:\n"
     ]
    },
    {
     "data": {
      "text/html": [
       "<span style=\"background-color:#ffe2e2\">তাহলে</span> <span style=\"background-color:#ff4949\">দেশ</span> <span style=\"background-color:#aeaeff\">ছেড়ে</span> <span style=\"background-color:#f2f2ff\">বিদেশে</span> <span style=\"background-color:#5e5eff\">।</span> <span style=\"background-color:#e0e0ff\">খালেদা</span> <span style=\"background-color:#f8f8ff\">জিয়া</span> <span style=\"background-color:#f2f2ff\">বলেছিলেন</span> <span style=\"background-color:#7878ff\">মরলে</span> <span style=\"background-color:#eaeaff\">নিজের</span> <span style=\"background-color:#ffe8e8\">দেশে</span> <span style=\"background-color:#3030ff\">তাও</span> <span style=\"background-color:#ff0000\">দেশে</span> <span style=\"background-color:#ffa6a6\">ছেড়ে</span> <span style=\"background-color:#ffd0d0\">আর</span> <span style=\"background-color:#c6c6ff\">আপনি</span> <span style=\"background-color:#e8e8ff\">মামলার</span> <span style=\"background-color:#ffbcbc\">বয়</span> <span style=\"background-color:#ffb0b0\">দেখান</span> <span style=\"background-color:#ffbaba\">।</span> \n"
      ],
      "text/plain": [
       "<IPython.core.display.HTML object>"
      ]
     },
     "metadata": {},
     "output_type": "display_data"
    },
    {
     "name": "stdout",
     "output_type": "stream",
     "text": [
      "-----------------------------------------------------------\n",
      "[  55 6846  358  538    2 6121  654 2312    0    0    0    0    0    0\n",
      "    0    0    0    0    0    0]\n",
      "(20,)\n",
      "[ 408 1567  968  241 1773    0    0    0    0    0    0    0    0    0\n",
      "    0    0    0    0    0    0]\n",
      "(20,)\n",
      "[1464  126  813 3860 4205   10    0    0    0    0    0    0    0    0\n",
      "    0    0    0    0    0    0]\n",
      "(20,)\n",
      "[ 10 188 226 271  82   0   0   0   0   0   0   0   0   0   0   0   0   0\n",
      "   0   0]\n",
      "(20,)\n",
      "[  44   11 2075 1299    5  258   51  124   19   25  372  392    1  227\n",
      "   77 9750  168  678   77 2454]\n",
      "(20,)\n",
      "Predicted label: Geopolitical Actual label: Personal\n",
      "LRP heatmap:\n"
     ]
    },
    {
     "data": {
      "text/html": [
       "<span style=\"background-color:#fefeff\">মনে</span> <span style=\"background-color:#fefeff\">হয়</span> <span style=\"background-color:#fffefe\">রাহুল</span> <span style=\"background-color:#fffefe\">ভাইয়ের</span> <span style=\"background-color:#fffcfc\">এই</span> <span style=\"background-color:#fffefe\">পাগল</span> <span style=\"background-color:#fefeff\">হিন্দু</span> <span style=\"background-color:#fcfcff\">দের</span> <span style=\"background-color:#fefeff\">সাথে</span> <span style=\"background-color:#fffafa\">কথা</span> <span style=\"background-color:#fcfcff\">বলা</span> <span style=\"background-color:#fff6f6\">উচিৎ</span> <span style=\"background-color:#fff4f4\">না</span> <span style=\"background-color:#fffcfc\">কারণ</span> <span style=\"background-color:#f3f3ff\">সে</span> <span style=\"background-color:#aeaeff\">সুদু</span> <span style=\"background-color:#c0c0ff\">বলতে</span> <span style=\"background-color:#e8e8ff\">এসেছে</span> <span style=\"background-color:#8383ff\">সে</span> <span style=\"background-color:#ff0000\">আসেনি</span> \n"
      ],
      "text/plain": [
       "<IPython.core.display.HTML object>"
      ]
     },
     "metadata": {},
     "output_type": "display_data"
    },
    {
     "name": "stdout",
     "output_type": "stream",
     "text": [
      "SA heatmap:\n"
     ]
    },
    {
     "data": {
      "text/html": [
       "<span style=\"background-color:#fff4f4\">মনে</span> <span style=\"background-color:#ffe6e6\">হয়</span> <span style=\"background-color:#ff8888\">রাহুল</span> <span style=\"background-color:#ffecec\">ভাইয়ের</span> <span style=\"background-color:#ffeeee\">এই</span> <span style=\"background-color:#ffe0e0\">পাগল</span> <span style=\"background-color:#ffcaca\">হিন্দু</span> <span style=\"background-color:#ffbebe\">দের</span> <span style=\"background-color:#ff7c7c\">সাথে</span> <span style=\"background-color:#ffecec\">কথা</span> <span style=\"background-color:#fff0f0\">বলা</span> <span style=\"background-color:#ff0000\">উচিৎ</span> <span style=\"background-color:#ffb3b3\">না</span> <span style=\"background-color:#ffeeee\">কারণ</span> <span style=\"background-color:#fff6f6\">সে</span> <span style=\"background-color:#ffe2e2\">সুদু</span> <span style=\"background-color:#ffc6c6\">বলতে</span> <span style=\"background-color:#ffc0c0\">এসেছে</span> <span style=\"background-color:#fff4f4\">সে</span> <span style=\"background-color:#ff3939\">আসেনি</span> \n"
      ],
      "text/plain": [
       "<IPython.core.display.HTML object>"
      ]
     },
     "metadata": {},
     "output_type": "display_data"
    },
    {
     "name": "stdout",
     "output_type": "stream",
     "text": [
      "GI heatmap:\n"
     ]
    },
    {
     "data": {
      "text/html": [
       "<span style=\"background-color:#ffcaca\">মনে</span> <span style=\"background-color:#1616ff\">হয়</span> <span style=\"background-color:#4646ff\">রাহুল</span> <span style=\"background-color:#ff8e8e\">ভাইয়ের</span> <span style=\"background-color:#ffa0a0\">এই</span> <span style=\"background-color:#fcfcff\">পাগল</span> <span style=\"background-color:#e2e2ff\">হিন্দু</span> <span style=\"background-color:#ffeeee\">দের</span> <span style=\"background-color:#ffacac\">সাথে</span> <span style=\"background-color:#ffa2a2\">কথা</span> <span style=\"background-color:#b0b0ff\">বলা</span> <span style=\"background-color:#5454ff\">উচিৎ</span> <span style=\"background-color:#ffdede\">না</span> <span style=\"background-color:#8282ff\">কারণ</span> <span style=\"background-color:#8a8aff\">সে</span> <span style=\"background-color:#ffbebe\">সুদু</span> <span style=\"background-color:#ff0000\">বলতে</span> <span style=\"background-color:#ffb3b3\">এসেছে</span> <span style=\"background-color:#ff6060\">সে</span> <span style=\"background-color:#6c6cff\">আসেনি</span> \n"
      ],
      "text/plain": [
       "<IPython.core.display.HTML object>"
      ]
     },
     "metadata": {},
     "output_type": "display_data"
    },
    {
     "name": "stdout",
     "output_type": "stream",
     "text": [
      "-----------------------------------------------------------\n",
      "[4251  628  332 1263   10  614  493  657  325   68    7  231  135    8\n",
      "    0    0    0    0    0    0]\n",
      "(20,)\n",
      "[  62   65   69 3624  206 3225   27 1170  191    2 1901    0    0    0\n",
      "    0    0    0    0    0    0]\n",
      "(20,)\n",
      "[  24   57 6146  149   13   56   44  762    0    0    0    0    0    0\n",
      "    0    0    0    0    0    0]\n",
      "(20,)\n",
      "[ 123  400  225   36  288  422   18  265    1   47  123  348 5824  156\n",
      "   40    6  348   84    2  469]\n",
      "(20,)\n",
      "Predicted label: Geopolitical Actual label: Personal\n",
      "LRP heatmap:\n"
     ]
    },
    {
     "data": {
      "text/html": [
       "<span style=\"background-color:#fffefe\">এত</span> <span style=\"background-color:#fffefe\">ভয়</span> <span style=\"background-color:#fefeff\">কারন</span> <span style=\"background-color:#fffefe\">বাংলাদেশের</span> <span style=\"background-color:#fffefe\">সামনে</span> <span style=\"background-color:#fafaff\">তোমরা</span> <span style=\"background-color:#fffafa\">করতে</span> <span style=\"background-color:#fafaff\">পারবে</span> <span style=\"background-color:#fff4f4\">না</span> <span style=\"background-color:#fffefe\">যদি</span> <span style=\"background-color:#fffcfc\">এত</span> <span style=\"background-color:#fffafa\">তোমাদের</span> <span style=\"background-color:#fff4f4\">হেডাম</span> <span style=\"background-color:#aeaeff\">থাকে</span> <span style=\"background-color:#ffaaaa\">বাংলাদেশ</span> <span style=\"background-color:#ff6161\">কে</span> <span style=\"background-color:#5151ff\">তোমাদের</span> <span style=\"background-color:#ff0909\">দেশে</span> <span style=\"background-color:#d3d3ff\">করে</span> <span style=\"background-color:#ff0000\">দেখ</span> \n"
      ],
      "text/plain": [
       "<IPython.core.display.HTML object>"
      ]
     },
     "metadata": {},
     "output_type": "display_data"
    },
    {
     "name": "stdout",
     "output_type": "stream",
     "text": [
      "SA heatmap:\n"
     ]
    },
    {
     "data": {
      "text/html": [
       "<span style=\"background-color:#ffbaba\">এত</span> <span style=\"background-color:#ffa8a8\">ভয়</span> <span style=\"background-color:#ffe0e0\">কারন</span> <span style=\"background-color:#ffc6c6\">বাংলাদেশের</span> <span style=\"background-color:#ffb3b3\">সামনে</span> <span style=\"background-color:#fff6f6\">তোমরা</span> <span style=\"background-color:#ffd2d2\">করতে</span> <span style=\"background-color:#ffe4e4\">পারবে</span> <span style=\"background-color:#ffd3d3\">না</span> <span style=\"background-color:#ffd6d6\">যদি</span> <span style=\"background-color:#fff0f0\">এত</span> <span style=\"background-color:#ff9c9c\">তোমাদের</span> <span style=\"background-color:#ffe4e4\">হেডাম</span> <span style=\"background-color:#ff0000\">থাকে</span> <span style=\"background-color:#fffcfc\">বাংলাদেশ</span> <span style=\"background-color:#ffd6d6\">কে</span> <span style=\"background-color:#ffe6e6\">তোমাদের</span> <span style=\"background-color:#ffc0c0\">দেশে</span> <span style=\"background-color:#ff9696\">করে</span> <span style=\"background-color:#ffd0d0\">দেখ</span> \n"
      ],
      "text/plain": [
       "<IPython.core.display.HTML object>"
      ]
     },
     "metadata": {},
     "output_type": "display_data"
    },
    {
     "name": "stdout",
     "output_type": "stream",
     "text": [
      "GI heatmap:\n"
     ]
    },
    {
     "data": {
      "text/html": [
       "<span style=\"background-color:#fff4f4\">এত</span> <span style=\"background-color:#ff0000\">ভয়</span> <span style=\"background-color:#e8e8ff\">কারন</span> <span style=\"background-color:#0000ff\">বাংলাদেশের</span> <span style=\"background-color:#0c0cff\">সামনে</span> <span style=\"background-color:#b2b2ff\">তোমরা</span> <span style=\"background-color:#ff4e4e\">করতে</span> <span style=\"background-color:#5858ff\">পারবে</span> <span style=\"background-color:#ffcaca\">না</span> <span style=\"background-color:#ffbcbc\">যদি</span> <span style=\"background-color:#ff6666\">এত</span> <span style=\"background-color:#ffd2d2\">তোমাদের</span> <span style=\"background-color:#ff1010\">হেডাম</span> <span style=\"background-color:#0202ff\">থাকে</span> <span style=\"background-color:#ff6666\">বাংলাদেশ</span> <span style=\"background-color:#ffb0b0\">কে</span> <span style=\"background-color:#aaaaff\">তোমাদের</span> <span style=\"background-color:#ffcccc\">দেশে</span> <span style=\"background-color:#fff6f6\">করে</span> <span style=\"background-color:#ff3636\">দেখ</span> \n"
      ],
      "text/plain": [
       "<IPython.core.display.HTML object>"
      ]
     },
     "metadata": {},
     "output_type": "display_data"
    },
    {
     "name": "stdout",
     "output_type": "stream",
     "text": [
      "-----------------------------------------------------------\n",
      "[ 244 7502 3894  129  112 1147 2268   10   14 1855 2131   36  213   62\n",
      "   97  545  816   59   17 4156]\n",
      "(20,)\n",
      "Predicted label: Geopolitical Actual label: Personal\n",
      "LRP heatmap:\n"
     ]
    },
    {
     "data": {
      "text/html": [
       "<span style=\"background-color:#fefeff\">একটু</span> <span style=\"background-color:#fffefe\">জলের</span> <span style=\"background-color:#fffefe\">তাজা</span> <span style=\"background-color:#fffefe\">হতে</span> <span style=\"background-color:#fefeff\">বেশি</span> <span style=\"background-color:#fefeff\">নয়</span> <span style=\"background-color:#fffefe\">সুধু</span> <span style=\"background-color:#fffefe\">ভারতের</span> <span style=\"background-color:#fffafa\">যে</span> <span style=\"background-color:#ffeeee\">দু</span> <span style=\"background-color:#fffefe\">নম্বর</span> <span style=\"background-color:#fff2f2\">বাংলাদেশের</span> <span style=\"background-color:#e6e6ff\">হয়</span> <span style=\"background-color:#ffb2b2\">এটা</span> <span style=\"background-color:#e3e3ff\">বন্ধ</span> <span style=\"background-color:#ffd0d0\">ঢাকা</span> <span style=\"background-color:#ff7171\">সহ</span> <span style=\"background-color:#9090ff\">দেশের</span> <span style=\"background-color:#0000ff\">থেকে</span> <span style=\"background-color:#ffcaca\">কিছুটা</span> \n"
      ],
      "text/plain": [
       "<IPython.core.display.HTML object>"
      ]
     },
     "metadata": {},
     "output_type": "display_data"
    },
    {
     "name": "stdout",
     "output_type": "stream",
     "text": [
      "SA heatmap:\n"
     ]
    },
    {
     "data": {
      "text/html": [
       "<span style=\"background-color:#ffcccc\">একটু</span> <span style=\"background-color:#ff9a9a\">জলের</span> <span style=\"background-color:#ff2929\">তাজা</span> <span style=\"background-color:#ff3e3e\">হতে</span> <span style=\"background-color:#ff6969\">বেশি</span> <span style=\"background-color:#ffe0e0\">নয়</span> <span style=\"background-color:#ffa0a0\">সুধু</span> <span style=\"background-color:#ffcece\">ভারতের</span> <span style=\"background-color:#fff8f8\">যে</span> <span style=\"background-color:#ffa8a8\">দু</span> <span style=\"background-color:#fff2f2\">নম্বর</span> <span style=\"background-color:#ff8282\">বাংলাদেশের</span> <span style=\"background-color:#fff2f2\">হয়</span> <span style=\"background-color:#ff6e6e\">এটা</span> <span style=\"background-color:#ffe0e0\">বন্ধ</span> <span style=\"background-color:#ff1818\">ঢাকা</span> <span style=\"background-color:#ffeaea\">সহ</span> <span style=\"background-color:#ff6969\">দেশের</span> <span style=\"background-color:#ff6666\">থেকে</span> <span style=\"background-color:#ff0000\">কিছুটা</span> \n"
      ],
      "text/plain": [
       "<IPython.core.display.HTML object>"
      ]
     },
     "metadata": {},
     "output_type": "display_data"
    },
    {
     "name": "stdout",
     "output_type": "stream",
     "text": [
      "GI heatmap:\n"
     ]
    },
    {
     "data": {
      "text/html": [
       "<span style=\"background-color:#8c8cff\">একটু</span> <span style=\"background-color:#3030ff\">জলের</span> <span style=\"background-color:#0000ff\">তাজা</span> <span style=\"background-color:#a3a3ff\">হতে</span> <span style=\"background-color:#fff2f2\">বেশি</span> <span style=\"background-color:#ffaeae\">নয়</span> <span style=\"background-color:#a0a0ff\">সুধু</span> <span style=\"background-color:#ff6969\">ভারতের</span> <span style=\"background-color:#d2d2ff\">যে</span> <span style=\"background-color:#ff6868\">দু</span> <span style=\"background-color:#b3b3ff\">নম্বর</span> <span style=\"background-color:#ff6e6e\">বাংলাদেশের</span> <span style=\"background-color:#eaeaff\">হয়</span> <span style=\"background-color:#0808ff\">এটা</span> <span style=\"background-color:#ffa3a3\">বন্ধ</span> <span style=\"background-color:#ff3636\">ঢাকা</span> <span style=\"background-color:#ffc2c2\">সহ</span> <span style=\"background-color:#ff7878\">দেশের</span> <span style=\"background-color:#ff6969\">থেকে</span> <span style=\"background-color:#ff7171\">কিছুটা</span> \n"
      ],
      "text/plain": [
       "<IPython.core.display.HTML object>"
      ]
     },
     "metadata": {},
     "output_type": "display_data"
    },
    {
     "name": "stdout",
     "output_type": "stream",
     "text": [
      "-----------------------------------------------------------\n",
      "[  65 1176 3818  384    4  186    0    0    0    0    0    0    0    0\n",
      "    0    0    0    0    0    0]\n",
      "(20,)\n",
      "[  48  578  186   46 5060    0    0    0    0    0    0    0    0    0\n",
      "    0    0    0    0    0    0]\n",
      "(20,)\n",
      "[ 364   23   63 1967   94  148  688  319    5 1610  260    0    0    0\n",
      "    0    0    0    0    0    0]\n",
      "(20,)\n",
      "[  65    3    4  612 2741  394   21   48    0    0    0    0    0    0\n",
      "    0    0    0    0    0    0]\n",
      "(20,)\n",
      "[ 508  470 2814 1888   17 1015 2961   97   61  784   94  812   23  783\n",
      " 1026  196    0    0    0    0]\n",
      "(20,)\n",
      "[  10  760   24  137   87   23   19  265    1    8  225 1932  460  325\n",
      "  991    3  760  460  325    0]\n",
      "(20,)\n",
      "[ 125   54  123  754  197  108 1750  160   14  587   48   17 1983 4142\n",
      "  391   75 2041    2 6057   63]\n",
      "(20,)\n",
      "Predicted label: Geopolitical Actual label: Personal\n",
      "LRP heatmap:\n"
     ]
    },
    {
     "data": {
      "text/html": [
       "<span style=\"background-color:#fefeff\">তোমার</span> <span style=\"background-color:#fffefe\">মত</span> <span style=\"background-color:#fcfcff\">এত</span> <span style=\"background-color:#fefeff\">সুন্দর</span> <span style=\"background-color:#fcfcff\">মেয়ে</span> <span style=\"background-color:#fffefe\">কাছে</span> <span style=\"background-color:#fffefe\">পাইলে</span> <span style=\"background-color:#fffefe\">কত</span> <span style=\"background-color:#f6f6ff\">যে</span> <span style=\"background-color:#fffafa\">মজা</span> <span style=\"background-color:#f6f6ff\">দেশ</span> <span style=\"background-color:#fff8f8\">থেকে</span> <span style=\"background-color:#fcfcff\">বিদেশে</span> <span style=\"background-color:#f2f2ff\">ঘুরতে</span> <span style=\"background-color:#fafaff\">নিয়া</span> <span style=\"background-color:#7070ff\">অনেক</span> <span style=\"background-color:#ff6c6c\">আনন্দ</span> <span style=\"background-color:#ff8888\">করে</span> <span style=\"background-color:#ffdada\">ঘন্টার</span> <span style=\"background-color:#ff0000\">পর</span> \n"
      ],
      "text/plain": [
       "<IPython.core.display.HTML object>"
      ]
     },
     "metadata": {},
     "output_type": "display_data"
    },
    {
     "name": "stdout",
     "output_type": "stream",
     "text": [
      "SA heatmap:\n"
     ]
    },
    {
     "data": {
      "text/html": [
       "<span style=\"background-color:#ffd3d3\">তোমার</span> <span style=\"background-color:#ffe2e2\">মত</span> <span style=\"background-color:#ffdada\">এত</span> <span style=\"background-color:#ffc0c0\">সুন্দর</span> <span style=\"background-color:#ffe6e6\">মেয়ে</span> <span style=\"background-color:#fffafa\">কাছে</span> <span style=\"background-color:#ffb8b8\">পাইলে</span> <span style=\"background-color:#ffe4e4\">কত</span> <span style=\"background-color:#ffa3a3\">যে</span> <span style=\"background-color:#ffeeee\">মজা</span> <span style=\"background-color:#fff2f2\">দেশ</span> <span style=\"background-color:#ffdcdc\">থেকে</span> <span style=\"background-color:#ff0000\">বিদেশে</span> <span style=\"background-color:#ff8383\">ঘুরতে</span> <span style=\"background-color:#ffecec\">নিয়া</span> <span style=\"background-color:#ffcccc\">অনেক</span> <span style=\"background-color:#ffbcbc\">আনন্দ</span> <span style=\"background-color:#ffdede\">করে</span> <span style=\"background-color:#ff4444\">ঘন্টার</span> <span style=\"background-color:#ffc6c6\">পর</span> \n"
      ],
      "text/plain": [
       "<IPython.core.display.HTML object>"
      ]
     },
     "metadata": {},
     "output_type": "display_data"
    },
    {
     "name": "stdout",
     "output_type": "stream",
     "text": [
      "GI heatmap:\n"
     ]
    },
    {
     "data": {
      "text/html": [
       "<span style=\"background-color:#ffaeae\">তোমার</span> <span style=\"background-color:#aeaeff\">মত</span> <span style=\"background-color:#a3a3ff\">এত</span> <span style=\"background-color:#ff8e8e\">সুন্দর</span> <span style=\"background-color:#ffecec\">মেয়ে</span> <span style=\"background-color:#e6e6ff\">কাছে</span> <span style=\"background-color:#9c9cff\">পাইলে</span> <span style=\"background-color:#ffb3b3\">কত</span> <span style=\"background-color:#ff7c7c\">যে</span> <span style=\"background-color:#ececff\">মজা</span> <span style=\"background-color:#dcdcff\">দেশ</span> <span style=\"background-color:#ffcccc\">থেকে</span> <span style=\"background-color:#3c3cff\">বিদেশে</span> <span style=\"background-color:#6464ff\">ঘুরতে</span> <span style=\"background-color:#ffecec\">নিয়া</span> <span style=\"background-color:#fffcfc\">অনেক</span> <span style=\"background-color:#ff6868\">আনন্দ</span> <span style=\"background-color:#d2d2ff\">করে</span> <span style=\"background-color:#ff0000\">ঘন্টার</span> <span style=\"background-color:#ff9393\">পর</span> \n"
      ],
      "text/plain": [
       "<IPython.core.display.HTML object>"
      ]
     },
     "metadata": {},
     "output_type": "display_data"
    },
    {
     "name": "stdout",
     "output_type": "stream",
     "text": [
      "-----------------------------------------------------------\n",
      "[1356  127   65   47   31  194  118    1 1257  922   31 1467   32   90\n",
      "  601    0    0    0    0    0]\n",
      "(20,)\n",
      "[5976   24   48  786    7  102   87    0    0    0    0    0    0    0\n",
      "    0    0    0    0    0    0]\n",
      "(20,)\n",
      "[  53   36   14 3119  815   86    0    0    0    0    0    0    0    0\n",
      "    0    0    0    0    0    0]\n",
      "(20,)\n",
      "[1841 2977  164  196 1952  196  721  171    0    0    0    0    0    0\n",
      "    0    0    0    0    0    0]\n",
      "(20,)\n",
      "[  10  641    4 1096   36    6   10 2288   76  297   10 2288  381 1687\n",
      "   36 1093  381  896    8    0]\n",
      "(20,)\n",
      "[  10  801  456 1883  140 1590   22   59 2589  222    2   43  335    0\n",
      "    0    0    0    0    0    0]\n",
      "(20,)\n",
      "[ 281  423   10 2099 1343 1155  496  369   10  476 2186    0    0    0\n",
      "    0    0    0    0    0    0]\n",
      "(20,)\n",
      "[ 489  161   59  153 2139   71 2228  540  586   34 2521 9126    0    0\n",
      "    0    0    0    0    0    0]\n",
      "(20,)\n",
      "[5425   10 9436   23 1380   33   56   50  271    1    0    0    0    0\n",
      "    0    0    0    0    0    0]\n",
      "(20,)\n",
      "[1702 5602   36 1965 1258 2067   15   10 5328    5 1302    0    0    0\n",
      "    0    0    0    0    0    0]\n",
      "(20,)\n",
      "[  7  37 281 129 821  37   0   0   0   0   0   0   0   0   0   0   0   0\n",
      "   0   0]\n",
      "(20,)\n",
      "[  65 3557   26  698    0    0    0    0    0    0    0    0    0    0\n",
      "    0    0    0    0    0    0]\n",
      "(20,)\n",
      "[  72   10   33   62  168   56 4410    1   27  334  582  128 1085 1383\n",
      "    0    0    0    0    0    0]\n",
      "(20,)\n",
      "[ 695   15   10 1401   98  154    2   48  578 2301   10 3060   61   15\n",
      "  242  219 3765    5 3765  999]\n",
      "(20,)\n",
      "Predicted label: Geopolitical Actual label: Personal\n",
      "LRP heatmap:\n"
     ]
    },
    {
     "data": {
      "text/html": [
       "<span style=\"background-color:#fefeff\">থাকার</span> <span style=\"background-color:#fefeff\">জন্য</span> <span style=\"background-color:#fffcfc\">ভারতের</span> <span style=\"background-color:#fff0f0\">দালালী</span> <span style=\"background-color:#fefeff\">করছে</span> <span style=\"background-color:#fcfcff\">আওয়ামী</span> <span style=\"background-color:#fefeff\">করে</span> <span style=\"background-color:#ffecec\">দেশ</span> <span style=\"background-color:#fff6f6\">স্বাধীন</span> <span style=\"background-color:#fefeff\">করেছি</span> <span style=\"background-color:#fff4f4\">ভারতের</span> <span style=\"background-color:#fff4f4\">গোলামী</span> <span style=\"background-color:#fefeff\">করার</span> <span style=\"background-color:#fffafa\">জন্য</span> <span style=\"background-color:#fffafa\">লীগ</span> <span style=\"background-color:#fffefe\">বাংলার</span> <span style=\"background-color:#ffc3c3\">নব্য</span> <span style=\"background-color:#e8e8ff\">এই</span> <span style=\"background-color:#ccccff\">নব্য</span> <span style=\"background-color:#0000ff\">রাজাকারদের</span> \n"
      ],
      "text/plain": [
       "<IPython.core.display.HTML object>"
      ]
     },
     "metadata": {},
     "output_type": "display_data"
    },
    {
     "name": "stdout",
     "output_type": "stream",
     "text": [
      "SA heatmap:\n"
     ]
    },
    {
     "data": {
      "text/html": [
       "<span style=\"background-color:#fff4f4\">থাকার</span> <span style=\"background-color:#ffeeee\">জন্য</span> <span style=\"background-color:#ff7474\">ভারতের</span> <span style=\"background-color:#ffb8b8\">দালালী</span> <span style=\"background-color:#ff9c9c\">করছে</span> <span style=\"background-color:#fff2f2\">আওয়ামী</span> <span style=\"background-color:#fff2f2\">করে</span> <span style=\"background-color:#ff0000\">দেশ</span> <span style=\"background-color:#ffbaba\">স্বাধীন</span> <span style=\"background-color:#ff4141\">করেছি</span> <span style=\"background-color:#fffafa\">ভারতের</span> <span style=\"background-color:#ff3131\">গোলামী</span> <span style=\"background-color:#ffbaba\">করার</span> <span style=\"background-color:#fffafa\">জন্য</span> <span style=\"background-color:#ffcece\">লীগ</span> <span style=\"background-color:#ffcaca\">বাংলার</span> <span style=\"background-color:#fff6f6\">নব্য</span> <span style=\"background-color:#ffdcdc\">এই</span> <span style=\"background-color:#ffcccc\">নব্য</span> <span style=\"background-color:#ffd2d2\">রাজাকারদের</span> \n"
      ],
      "text/plain": [
       "<IPython.core.display.HTML object>"
      ]
     },
     "metadata": {},
     "output_type": "display_data"
    },
    {
     "name": "stdout",
     "output_type": "stream",
     "text": [
      "GI heatmap:\n"
     ]
    },
    {
     "data": {
      "text/html": [
       "<span style=\"background-color:#e0e0ff\">থাকার</span> <span style=\"background-color:#c3c3ff\">জন্য</span> <span style=\"background-color:#ff8a8a\">ভারতের</span> <span style=\"background-color:#3838ff\">দালালী</span> <span style=\"background-color:#ff0000\">করছে</span> <span style=\"background-color:#fcfcff\">আওয়ামী</span> <span style=\"background-color:#e3e3ff\">করে</span> <span style=\"background-color:#ff9292\">দেশ</span> <span style=\"background-color:#a3a3ff\">স্বাধীন</span> <span style=\"background-color:#ff3c3c\">করেছি</span> <span style=\"background-color:#f2f2ff\">ভারতের</span> <span style=\"background-color:#1e1eff\">গোলামী</span> <span style=\"background-color:#ff5151\">করার</span> <span style=\"background-color:#e2e2ff\">জন্য</span> <span style=\"background-color:#ff7878\">লীগ</span> <span style=\"background-color:#7c7cff\">বাংলার</span> <span style=\"background-color:#d3d3ff\">নব্য</span> <span style=\"background-color:#ffe0e0\">এই</span> <span style=\"background-color:#ffa3a3\">নব্য</span> <span style=\"background-color:#ff9e9e\">রাজাকারদের</span> \n"
      ],
      "text/plain": [
       "<IPython.core.display.HTML object>"
      ]
     },
     "metadata": {},
     "output_type": "display_data"
    },
    {
     "name": "stdout",
     "output_type": "stream",
     "text": [
      "-----------------------------------------------------------\n",
      "[   7  100  248   83   48 2195   50 1971 2448 7522  156   88  333  398\n",
      "  727    0    0    0    0    0]\n",
      "(20,)\n",
      "[ 358 1449    1 5689  130  513 3496  293  265   32    0    0    0    0\n",
      "    0    0    0    0    0    0]\n",
      "(20,)\n",
      "[8132   10   81  124   40  932   25  233    1    8    0    0    0    0\n",
      "    0    0    0    0    0    0]\n",
      "(20,)\n",
      "[  84   42  155  727   43  333   31   13  167  161 4430    1    8 4081\n",
      "    8    3 7450   67 2243    8]\n",
      "(20,)\n",
      "Predicted label: Geopolitical Actual label: Personal\n",
      "LRP heatmap:\n"
     ]
    },
    {
     "data": {
      "text/html": [
       "<span style=\"background-color:#fffefe\">দেশে</span> <span style=\"background-color:#fefeff\">কেন</span> <span style=\"background-color:#fefeff\">একজন</span> <span style=\"background-color:#fffefe\">সঠিক</span> <span style=\"background-color:#fffefe\">মানুষ</span> <span style=\"background-color:#fefeff\">থাকবে</span> <span style=\"background-color:#fcfcff\">তোর</span> <span style=\"background-color:#fefeff\">তো</span> <span style=\"background-color:#fffefe\">নাস্তিক</span> <span style=\"background-color:#fffefe\">নিজের</span> <span style=\"background-color:#fffefe\">জানিস</span> <span style=\"background-color:#f6f6ff\">না</span> <span style=\"background-color:#fffafa\">।</span> <span style=\"background-color:#fcfcff\">তিনিই</span> <span style=\"background-color:#fcfcff\">।</span> <span style=\"background-color:#e3e3ff\">আর</span> <span style=\"background-color:#f2f2ff\">সেখানেই</span> <span style=\"background-color:#e3e3ff\">তোদের</span> <span style=\"background-color:#ffe2e2\">চুলকানি</span> <span style=\"background-color:#0000ff\">।</span> \n"
      ],
      "text/plain": [
       "<IPython.core.display.HTML object>"
      ]
     },
     "metadata": {},
     "output_type": "display_data"
    },
    {
     "name": "stdout",
     "output_type": "stream",
     "text": [
      "SA heatmap:\n"
     ]
    },
    {
     "data": {
      "text/html": [
       "<span style=\"background-color:#fff0f0\">দেশে</span> <span style=\"background-color:#ffd8d8\">কেন</span> <span style=\"background-color:#ffecec\">একজন</span> <span style=\"background-color:#ffd8d8\">সঠিক</span> <span style=\"background-color:#ffa3a3\">মানুষ</span> <span style=\"background-color:#fffafa\">থাকবে</span> <span style=\"background-color:#ffb2b2\">তোর</span> <span style=\"background-color:#ffecec\">তো</span> <span style=\"background-color:#ffeeee\">নাস্তিক</span> <span style=\"background-color:#ffd3d3\">নিজের</span> <span style=\"background-color:#fff2f2\">জানিস</span> <span style=\"background-color:#ff8888\">না</span> <span style=\"background-color:#ff0000\">।</span> <span style=\"background-color:#fff2f2\">তিনিই</span> <span style=\"background-color:#ffe4e4\">।</span> <span style=\"background-color:#fff6f6\">আর</span> <span style=\"background-color:#fff2f2\">সেখানেই</span> <span style=\"background-color:#ff6c6c\">তোদের</span> <span style=\"background-color:#ffe8e8\">চুলকানি</span> <span style=\"background-color:#fff6f6\">।</span> \n"
      ],
      "text/plain": [
       "<IPython.core.display.HTML object>"
      ]
     },
     "metadata": {},
     "output_type": "display_data"
    },
    {
     "name": "stdout",
     "output_type": "stream",
     "text": [
      "GI heatmap:\n"
     ]
    },
    {
     "data": {
      "text/html": [
       "<span style=\"background-color:#ffe8e8\">দেশে</span> <span style=\"background-color:#d0d0ff\">কেন</span> <span style=\"background-color:#a3a3ff\">একজন</span> <span style=\"background-color:#fffafa\">সঠিক</span> <span style=\"background-color:#4848ff\">মানুষ</span> <span style=\"background-color:#ffd6d6\">থাকবে</span> <span style=\"background-color:#ffa6a6\">তোর</span> <span style=\"background-color:#8a8aff\">তো</span> <span style=\"background-color:#8282ff\">নাস্তিক</span> <span style=\"background-color:#f0f0ff\">নিজের</span> <span style=\"background-color:#ffb2b2\">জানিস</span> <span style=\"background-color:#4040ff\">না</span> <span style=\"background-color:#ff0000\">।</span> <span style=\"background-color:#ff5656\">তিনিই</span> <span style=\"background-color:#ff9e9e\">।</span> <span style=\"background-color:#fff8f8\">আর</span> <span style=\"background-color:#cacaff\">সেখানেই</span> <span style=\"background-color:#4646ff\">তোদের</span> <span style=\"background-color:#fffafa\">চুলকানি</span> <span style=\"background-color:#ffbcbc\">।</span> \n"
      ],
      "text/plain": [
       "<IPython.core.display.HTML object>"
      ]
     },
     "metadata": {},
     "output_type": "display_data"
    },
    {
     "name": "stdout",
     "output_type": "stream",
     "text": [
      "-----------------------------------------------------------\n",
      "[   2   22   76 3572    2  142  381 1731 1843   26  357   55  168 2108\n",
      "   10  243   37  381 1904   66]\n",
      "(20,)\n",
      "Predicted label: Geopolitical Actual label: Personal\n",
      "LRP heatmap:\n"
     ]
    },
    {
     "data": {
      "text/html": [
       "<span style=\"background-color:#fefeff\">করে</span> <span style=\"background-color:#fefeff\">সব</span> <span style=\"background-color:#fffefe\">টাকা</span> <span style=\"background-color:#fffefe\">বাতিল</span> <span style=\"background-color:#fefeff\">করে</span> <span style=\"background-color:#fffefe\">শুধু</span> <span style=\"background-color:#fefeff\">টাকার</span> <span style=\"background-color:#fffefe\">নোট</span> <span style=\"background-color:#fefeff\">চালু</span> <span style=\"background-color:#fafaff\">করা</span> <span style=\"background-color:#e2e2ff\">হক</span> <span style=\"background-color:#ffcaca\">আমরা</span> <span style=\"background-color:#ffe0e0\">বলতে</span> <span style=\"background-color:#d3d3ff\">পারবো</span> <span style=\"background-color:#ffd8d8\">ভারতের</span> <span style=\"background-color:#ff0000\">চেয়ে</span> <span style=\"background-color:#ff7e7e\">আমাদের</span> <span style=\"background-color:#ff1e1e\">টাকার</span> <span style=\"background-color:#5151ff\">রেট</span> <span style=\"background-color:#ff8282\">ভালো</span> \n"
      ],
      "text/plain": [
       "<IPython.core.display.HTML object>"
      ]
     },
     "metadata": {},
     "output_type": "display_data"
    },
    {
     "name": "stdout",
     "output_type": "stream",
     "text": [
      "SA heatmap:\n"
     ]
    },
    {
     "data": {
      "text/html": [
       "<span style=\"background-color:#ffe6e6\">করে</span> <span style=\"background-color:#ffdcdc\">সব</span> <span style=\"background-color:#ffb6b6\">টাকা</span> <span style=\"background-color:#fff0f0\">বাতিল</span> <span style=\"background-color:#fff6f6\">করে</span> <span style=\"background-color:#ffeeee\">শুধু</span> <span style=\"background-color:#ffcece\">টাকার</span> <span style=\"background-color:#ffb3b3\">নোট</span> <span style=\"background-color:#fff4f4\">চালু</span> <span style=\"background-color:#ffc0c0\">করা</span> <span style=\"background-color:#ffe6e6\">হক</span> <span style=\"background-color:#ffcaca\">আমরা</span> <span style=\"background-color:#ffe6e6\">বলতে</span> <span style=\"background-color:#ff8888\">পারবো</span> <span style=\"background-color:#ffbcbc\">ভারতের</span> <span style=\"background-color:#ffe0e0\">চেয়ে</span> <span style=\"background-color:#ff0c0c\">আমাদের</span> <span style=\"background-color:#ff0000\">টাকার</span> <span style=\"background-color:#ff4646\">রেট</span> <span style=\"background-color:#ffe4e4\">ভালো</span> \n"
      ],
      "text/plain": [
       "<IPython.core.display.HTML object>"
      ]
     },
     "metadata": {},
     "output_type": "display_data"
    },
    {
     "name": "stdout",
     "output_type": "stream",
     "text": [
      "GI heatmap:\n"
     ]
    },
    {
     "data": {
      "text/html": [
       "<span style=\"background-color:#ffe4e4\">করে</span> <span style=\"background-color:#bcbcff\">সব</span> <span style=\"background-color:#6464ff\">টাকা</span> <span style=\"background-color:#a0a0ff\">বাতিল</span> <span style=\"background-color:#ffc8c8\">করে</span> <span style=\"background-color:#a8a8ff\">শুধু</span> <span style=\"background-color:#cacaff\">টাকার</span> <span style=\"background-color:#5151ff\">নোট</span> <span style=\"background-color:#ffbebe\">চালু</span> <span style=\"background-color:#babaff\">করা</span> <span style=\"background-color:#e0e0ff\">হক</span> <span style=\"background-color:#9696ff\">আমরা</span> <span style=\"background-color:#ff8e8e\">বলতে</span> <span style=\"background-color:#ffe8e8\">পারবো</span> <span style=\"background-color:#9090ff\">ভারতের</span> <span style=\"background-color:#e0e0ff\">চেয়ে</span> <span style=\"background-color:#ff0000\">আমাদের</span> <span style=\"background-color:#ffa2a2\">টাকার</span> <span style=\"background-color:#ff9a9a\">রেট</span> <span style=\"background-color:#ff8888\">ভালো</span> \n"
      ],
      "text/plain": [
       "<IPython.core.display.HTML object>"
      ]
     },
     "metadata": {},
     "output_type": "display_data"
    },
    {
     "name": "stdout",
     "output_type": "stream",
     "text": [
      "-----------------------------------------------------------\n",
      "[2442 4398 1121  196  477 1952    0    0    0    0    0    0    0    0\n",
      "    0    0    0    0    0    0]\n",
      "(20,)\n",
      "[   7   47 4600   11   74  273  162 2848 3058  765    0    0    0    0\n",
      "    0    0    0    0    0    0]\n",
      "(20,)\n",
      "[ 643 5087 2089 1211  361    0    0    0    0    0    0    0    0    0\n",
      "    0    0    0    0    0    0]\n",
      "(20,)\n",
      "[3825 6189  490   63    7   59   19 2031  148   27 1331  169   14  485\n",
      "   49 2934  861    2  542    7]\n",
      "(20,)\n",
      "Predicted label: Geopolitical Actual label: Personal\n",
      "LRP heatmap:\n"
     ]
    },
    {
     "data": {
      "text/html": [
       "<span style=\"background-color:#fffefe\">গণহত্যা</span> <span style=\"background-color:#fefeff\">মোটামুটি</span> <span style=\"background-color:#fefeff\">হওয়ার</span> <span style=\"background-color:#fefeff\">পর</span> <span style=\"background-color:#fffefe\">ভারত</span> <span style=\"background-color:#fffefe\">দেশের</span> <span style=\"background-color:#fffefe\">সাথে</span> <span style=\"background-color:#fffefe\">আলোচনা</span> <span style=\"background-color:#fafaff\">করবে</span> <span style=\"background-color:#fefeff\">বলে</span> <span style=\"background-color:#fefeff\">ঘোষনা</span> <span style=\"background-color:#f2f2ff\">ভাল</span> <span style=\"background-color:#fefeff\">যে</span> <span style=\"background-color:#fff0f0\">জায়গায়</span> <span style=\"background-color:#fff0f0\">মুসলিম</span> <span style=\"background-color:#ffe0e0\">ভূমিকা</span> <span style=\"background-color:#ff8a8a\">পালন</span> <span style=\"background-color:#ffcccc\">করে</span> <span style=\"background-color:#4c4cff\">সেখানে</span> <span style=\"background-color:#0000ff\">ভারত</span> \n"
      ],
      "text/plain": [
       "<IPython.core.display.HTML object>"
      ]
     },
     "metadata": {},
     "output_type": "display_data"
    },
    {
     "name": "stdout",
     "output_type": "stream",
     "text": [
      "SA heatmap:\n"
     ]
    },
    {
     "data": {
      "text/html": [
       "<span style=\"background-color:#ffaaaa\">গণহত্যা</span> <span style=\"background-color:#ffa6a6\">মোটামুটি</span> <span style=\"background-color:#ffa0a0\">হওয়ার</span> <span style=\"background-color:#ff4444\">পর</span> <span style=\"background-color:#ffeeee\">ভারত</span> <span style=\"background-color:#ffd3d3\">দেশের</span> <span style=\"background-color:#ffd6d6\">সাথে</span> <span style=\"background-color:#ff0000\">আলোচনা</span> <span style=\"background-color:#fffcfc\">করবে</span> <span style=\"background-color:#ff8080\">বলে</span> <span style=\"background-color:#ffe6e6\">ঘোষনা</span> <span style=\"background-color:#ffd6d6\">ভাল</span> <span style=\"background-color:#ff1e1e\">যে</span> <span style=\"background-color:#ff6e6e\">জায়গায়</span> <span style=\"background-color:#ff7474\">মুসলিম</span> <span style=\"background-color:#fff2f2\">ভূমিকা</span> <span style=\"background-color:#ffbebe\">পালন</span> <span style=\"background-color:#fff2f2\">করে</span> <span style=\"background-color:#ff0909\">সেখানে</span> <span style=\"background-color:#ffe6e6\">ভারত</span> \n"
      ],
      "text/plain": [
       "<IPython.core.display.HTML object>"
      ]
     },
     "metadata": {},
     "output_type": "display_data"
    },
    {
     "name": "stdout",
     "output_type": "stream",
     "text": [
      "GI heatmap:\n"
     ]
    },
    {
     "data": {
      "text/html": [
       "<span style=\"background-color:#ff9c9c\">গণহত্যা</span> <span style=\"background-color:#ffb2b2\">মোটামুটি</span> <span style=\"background-color:#5e5eff\">হওয়ার</span> <span style=\"background-color:#4646ff\">পর</span> <span style=\"background-color:#9393ff\">ভারত</span> <span style=\"background-color:#ffdcdc\">দেশের</span> <span style=\"background-color:#ff7676\">সাথে</span> <span style=\"background-color:#4646ff\">আলোচনা</span> <span style=\"background-color:#ff8282\">করবে</span> <span style=\"background-color:#acacff\">বলে</span> <span style=\"background-color:#fffefe\">ঘোষনা</span> <span style=\"background-color:#7c7cff\">ভাল</span> <span style=\"background-color:#ff0000\">যে</span> <span style=\"background-color:#ff4141\">জায়গায়</span> <span style=\"background-color:#babaff\">মুসলিম</span> <span style=\"background-color:#ff7c7c\">ভূমিকা</span> <span style=\"background-color:#b0b0ff\">পালন</span> <span style=\"background-color:#fff0f0\">করে</span> <span style=\"background-color:#c2c2ff\">সেখানে</span> <span style=\"background-color:#ffd6d6\">ভারত</span> \n"
      ],
      "text/plain": [
       "<IPython.core.display.HTML object>"
      ]
     },
     "metadata": {},
     "output_type": "display_data"
    },
    {
     "name": "stdout",
     "output_type": "stream",
     "text": [
      "-----------------------------------------------------------\n",
      "[ 712   54  185  185 4158   65   33  134  957  507    1    0    0    0\n",
      "    0    0    0    0    0    0]\n",
      "(20,)\n",
      "[ 364   69   10  963  241    6  335  665    6  998   73 5314   82  435\n",
      "   61    0    0    0    0    0]\n",
      "(20,)\n",
      "[   9  100 2026 1495 2761  196    0    0    0    0    0    0    0    0\n",
      "    0    0    0    0    0    0]\n",
      "(20,)\n",
      "[ 629  353   24 4534  295  545 2604 9214  295   37   17  169   32  337\n",
      "   48   56  109    2   32 8886]\n",
      "(20,)\n",
      "Predicted label: Geopolitical Actual label: Personal\n",
      "LRP heatmap:\n"
     ]
    },
    {
     "data": {
      "text/html": [
       "<span style=\"background-color:#fefeff\">তুলনা</span> <span style=\"background-color:#fffefe\">করেন</span> <span style=\"background-color:#fffefe\">কোন</span> <span style=\"background-color:#fefeff\">সাহসে</span> <span style=\"background-color:#fefeff\">আপনাদের</span> <span style=\"background-color:#fffefe\">ঢাকা</span> <span style=\"background-color:#fffefe\">অন্যতম</span> <span style=\"background-color:#fffefe\">নুংরা</span> <span style=\"background-color:#fefeff\">আপনাদের</span> <span style=\"background-color:#fefeff\">আমাদের</span> <span style=\"background-color:#fcfcff\">থেকে</span> <span style=\"background-color:#fffcfc\">ভাল</span> <span style=\"background-color:#eaeaff\">না।</span> <span style=\"background-color:#e6e6ff\">ছোট</span> <span style=\"background-color:#fff0f0\">দেশ</span> <span style=\"background-color:#ffecec\">তাই</span> <span style=\"background-color:#ffc6c6\">কেউ</span> <span style=\"background-color:#ffb8b8\">করে</span> <span style=\"background-color:#9e9eff\">না।</span> <span style=\"background-color:#0000ff\">ছিলে</span> \n"
      ],
      "text/plain": [
       "<IPython.core.display.HTML object>"
      ]
     },
     "metadata": {},
     "output_type": "display_data"
    },
    {
     "name": "stdout",
     "output_type": "stream",
     "text": [
      "SA heatmap:\n"
     ]
    },
    {
     "data": {
      "text/html": [
       "<span style=\"background-color:#fff0f0\">তুলনা</span> <span style=\"background-color:#fff6f6\">করেন</span> <span style=\"background-color:#fffcfc\">কোন</span> <span style=\"background-color:#fff8f8\">সাহসে</span> <span style=\"background-color:#ff6464\">আপনাদের</span> <span style=\"background-color:#ffecec\">ঢাকা</span> <span style=\"background-color:#ff6464\">অন্যতম</span> <span style=\"background-color:#fff2f2\">নুংরা</span> <span style=\"background-color:#ffe2e2\">আপনাদের</span> <span style=\"background-color:#ffcece\">আমাদের</span> <span style=\"background-color:#fff8f8\">থেকে</span> <span style=\"background-color:#ff0000\">ভাল</span> <span style=\"background-color:#ffaaaa\">না।</span> <span style=\"background-color:#ffeeee\">ছোট</span> <span style=\"background-color:#fffafa\">দেশ</span> <span style=\"background-color:#fff4f4\">তাই</span> <span style=\"background-color:#fff8f8\">কেউ</span> <span style=\"background-color:#ff4040\">করে</span> <span style=\"background-color:#ffd8d8\">না।</span> <span style=\"background-color:#fff8f8\">ছিলে</span> \n"
      ],
      "text/plain": [
       "<IPython.core.display.HTML object>"
      ]
     },
     "metadata": {},
     "output_type": "display_data"
    },
    {
     "name": "stdout",
     "output_type": "stream",
     "text": [
      "GI heatmap:\n"
     ]
    },
    {
     "data": {
      "text/html": [
       "<span style=\"background-color:#ffdada\">তুলনা</span> <span style=\"background-color:#e8e8ff\">করেন</span> <span style=\"background-color:#fff0f0\">কোন</span> <span style=\"background-color:#ffe2e2\">সাহসে</span> <span style=\"background-color:#ff3939\">আপনাদের</span> <span style=\"background-color:#ffc8c8\">ঢাকা</span> <span style=\"background-color:#3838ff\">অন্যতম</span> <span style=\"background-color:#eaeaff\">নুংরা</span> <span style=\"background-color:#b6b6ff\">আপনাদের</span> <span style=\"background-color:#9e9eff\">আমাদের</span> <span style=\"background-color:#d8d8ff\">থেকে</span> <span style=\"background-color:#ff0000\">ভাল</span> <span style=\"background-color:#ff8282\">না।</span> <span style=\"background-color:#ffc2c2\">ছোট</span> <span style=\"background-color:#e0e0ff\">দেশ</span> <span style=\"background-color:#ffd0d0\">তাই</span> <span style=\"background-color:#f3f3ff\">কেউ</span> <span style=\"background-color:#ff1e1e\">করে</span> <span style=\"background-color:#b8b8ff\">না।</span> <span style=\"background-color:#fffafa\">ছিলে</span> \n"
      ],
      "text/plain": [
       "<IPython.core.display.HTML object>"
      ]
     },
     "metadata": {},
     "output_type": "display_data"
    },
    {
     "name": "stdout",
     "output_type": "stream",
     "text": [
      "-----------------------------------------------------------\n",
      "[ 251  364 3849  521 2705   93  760   64    2  264    0    0    0    0\n",
      "    0    0    0    0    0    0]\n",
      "(20,)\n",
      "[  10   10   34 1406 1536 1406 1536   34    7 3547  239    7 3547 1356\n",
      "  565 3301   20 4869    4  378]\n",
      "(20,)\n",
      "Predicted label: Geopolitical Actual label: Personal\n",
      "LRP heatmap:\n"
     ]
    },
    {
     "data": {
      "text/html": [
       "<span style=\"background-color:#fffefe\">ভারতের</span> <span style=\"background-color:#fcfcff\">ভারতের</span> <span style=\"background-color:#fefeff\">নিয়ে</span> <span style=\"background-color:#fffcfc\">পাকিস্থানের</span> <span style=\"background-color:#fff6f6\">হিংসা</span> <span style=\"background-color:#fefeff\">পাকিস্থানের</span> <span style=\"background-color:#fff8f8\">হিংসা</span> <span style=\"background-color:#f2f2ff\">নিয়ে</span> <span style=\"background-color:#fefeff\">ভারত</span> <span style=\"background-color:#fff4f4\">পাকিস্থান</span> <span style=\"background-color:#fffafa\">যুদ্ধ</span> <span style=\"background-color:#fffcfc\">ভারত</span> <span style=\"background-color:#ffe4e4\">পাকিস্থান</span> <span style=\"background-color:#dcdcff\">যুদ্ধের</span> <span style=\"background-color:#f6f6ff\">কারনে</span> <span style=\"background-color:#a6a6ff\">সৈনিকের</span> <span style=\"background-color:#f0f0ff\">আমার</span> <span style=\"background-color:#aeaeff\">ধারনা</span> <span style=\"background-color:#ff9e9e\">কি</span> <span style=\"background-color:#0000ff\">ভুল</span> \n"
      ],
      "text/plain": [
       "<IPython.core.display.HTML object>"
      ]
     },
     "metadata": {},
     "output_type": "display_data"
    },
    {
     "name": "stdout",
     "output_type": "stream",
     "text": [
      "SA heatmap:\n"
     ]
    },
    {
     "data": {
      "text/html": [
       "<span style=\"background-color:#ff5454\">ভারতের</span> <span style=\"background-color:#ffb0b0\">ভারতের</span> <span style=\"background-color:#ffc8c8\">নিয়ে</span> <span style=\"background-color:#ffe6e6\">পাকিস্থানের</span> <span style=\"background-color:#ffe0e0\">হিংসা</span> <span style=\"background-color:#ffb0b0\">পাকিস্থানের</span> <span style=\"background-color:#ffcaca\">হিংসা</span> <span style=\"background-color:#ffeaea\">নিয়ে</span> <span style=\"background-color:#ffecec\">ভারত</span> <span style=\"background-color:#ffa2a2\">পাকিস্থান</span> <span style=\"background-color:#ffdede\">যুদ্ধ</span> <span style=\"background-color:#ff4e4e\">ভারত</span> <span style=\"background-color:#ff0000\">পাকিস্থান</span> <span style=\"background-color:#ff5e5e\">যুদ্ধের</span> <span style=\"background-color:#ffb6b6\">কারনে</span> <span style=\"background-color:#ffe6e6\">সৈনিকের</span> <span style=\"background-color:#ff0101\">আমার</span> <span style=\"background-color:#ffe2e2\">ধারনা</span> <span style=\"background-color:#ff1010\">কি</span> <span style=\"background-color:#ffacac\">ভুল</span> \n"
      ],
      "text/plain": [
       "<IPython.core.display.HTML object>"
      ]
     },
     "metadata": {},
     "output_type": "display_data"
    },
    {
     "name": "stdout",
     "output_type": "stream",
     "text": [
      "GI heatmap:\n"
     ]
    },
    {
     "data": {
      "text/html": [
       "<span style=\"background-color:#9393ff\">ভারতের</span> <span style=\"background-color:#ff2020\">ভারতের</span> <span style=\"background-color:#ffa0a0\">নিয়ে</span> <span style=\"background-color:#e8e8ff\">পাকিস্থানের</span> <span style=\"background-color:#8a8aff\">হিংসা</span> <span style=\"background-color:#9696ff\">পাকিস্থানের</span> <span style=\"background-color:#6969ff\">হিংসা</span> <span style=\"background-color:#0808ff\">নিয়ে</span> <span style=\"background-color:#4646ff\">ভারত</span> <span style=\"background-color:#9a9aff\">পাকিস্থান</span> <span style=\"background-color:#ffcece\">যুদ্ধ</span> <span style=\"background-color:#5c5cff\">ভারত</span> <span style=\"background-color:#e8e8ff\">পাকিস্থান</span> <span style=\"background-color:#ff8a8a\">যুদ্ধের</span> <span style=\"background-color:#ff3e3e\">কারনে</span> <span style=\"background-color:#ececff\">সৈনিকের</span> <span style=\"background-color:#c0c0ff\">আমার</span> <span style=\"background-color:#ff1e1e\">ধারনা</span> <span style=\"background-color:#ffeaea\">কি</span> <span style=\"background-color:#ff0000\">ভুল</span> \n"
      ],
      "text/plain": [
       "<IPython.core.display.HTML object>"
      ]
     },
     "metadata": {},
     "output_type": "display_data"
    },
    {
     "name": "stdout",
     "output_type": "stream",
     "text": [
      "-----------------------------------------------------------\n",
      "[  40   41    3 4931   48  105    0    0    0    0    0    0    0    0\n",
      "    0    0    0    0    0    0]\n",
      "(20,)\n",
      "[  34  269   14   24 4122    5 1501 1823   26  509   78 2082    2 1501\n",
      "  190  358 8762 9602   96 9274]\n",
      "(20,)\n",
      "Predicted label: Geopolitical Actual label: Personal\n",
      "LRP heatmap:\n"
     ]
    },
    {
     "data": {
      "text/html": [
       "<span style=\"background-color:#fffefe\">নিয়ে</span> <span style=\"background-color:#fefeff\">ছাড়া</span> <span style=\"background-color:#fefeff\">যে</span> <span style=\"background-color:#fefeff\">কোন</span> <span style=\"background-color:#fffefe\">যায়গায়</span> <span style=\"background-color:#fffefe\">এই</span> <span style=\"background-color:#fffefe\">বিদ্যুৎ</span> <span style=\"background-color:#fffefe\">কেন্দ্র</span> <span style=\"background-color:#fefeff\">করা</span> <span style=\"background-color:#fefeff\">যেতে</span> <span style=\"background-color:#fffefe\">পারে</span> <span style=\"background-color:#fffefe\">বিশেষ</span> <span style=\"background-color:#fffafa\">করে</span> <span style=\"background-color:#fffafa\">বিদ্যুৎ</span> <span style=\"background-color:#eeeeff\">নামে</span> <span style=\"background-color:#ffe6e6\">ভারতকে</span> <span style=\"background-color:#eeeeff\">সুবিদা</span> <span style=\"background-color:#fcfcff\">দেওয়াই</span> <span style=\"background-color:#c2c2ff\">হচ্ছে</span> <span style=\"background-color:#0000ff\">মুল</span> \n"
      ],
      "text/plain": [
       "<IPython.core.display.HTML object>"
      ]
     },
     "metadata": {},
     "output_type": "display_data"
    },
    {
     "name": "stdout",
     "output_type": "stream",
     "text": [
      "SA heatmap:\n"
     ]
    },
    {
     "data": {
      "text/html": [
       "<span style=\"background-color:#ffecec\">নিয়ে</span> <span style=\"background-color:#ffb2b2\">ছাড়া</span> <span style=\"background-color:#ff6666\">যে</span> <span style=\"background-color:#ffe8e8\">কোন</span> <span style=\"background-color:#ffd0d0\">যায়গায়</span> <span style=\"background-color:#ffe4e4\">এই</span> <span style=\"background-color:#ff9393\">বিদ্যুৎ</span> <span style=\"background-color:#ffb6b6\">কেন্দ্র</span> <span style=\"background-color:#ffd3d3\">করা</span> <span style=\"background-color:#ff5c5c\">যেতে</span> <span style=\"background-color:#fff2f2\">পারে</span> <span style=\"background-color:#ff0000\">বিশেষ</span> <span style=\"background-color:#ff6969\">করে</span> <span style=\"background-color:#ffc6c6\">বিদ্যুৎ</span> <span style=\"background-color:#ff8c8c\">নামে</span> <span style=\"background-color:#ffcaca\">ভারতকে</span> <span style=\"background-color:#ffeaea\">সুবিদা</span> <span style=\"background-color:#ff2828\">দেওয়াই</span> <span style=\"background-color:#fff4f4\">হচ্ছে</span> <span style=\"background-color:#ff1c1c\">মুল</span> \n"
      ],
      "text/plain": [
       "<IPython.core.display.HTML object>"
      ]
     },
     "metadata": {},
     "output_type": "display_data"
    },
    {
     "name": "stdout",
     "output_type": "stream",
     "text": [
      "GI heatmap:\n"
     ]
    },
    {
     "data": {
      "text/html": [
       "<span style=\"background-color:#eeeeff\">নিয়ে</span> <span style=\"background-color:#c3c3ff\">ছাড়া</span> <span style=\"background-color:#6464ff\">যে</span> <span style=\"background-color:#ffe8e8\">কোন</span> <span style=\"background-color:#dedeff\">যায়গায়</span> <span style=\"background-color:#aaaaff\">এই</span> <span style=\"background-color:#ffeeee\">বিদ্যুৎ</span> <span style=\"background-color:#c6c6ff\">কেন্দ্র</span> <span style=\"background-color:#f2f2ff\">করা</span> <span style=\"background-color:#ff7676\">যেতে</span> <span style=\"background-color:#f2f2ff\">পারে</span> <span style=\"background-color:#2626ff\">বিশেষ</span> <span style=\"background-color:#ff5656\">করে</span> <span style=\"background-color:#f6f6ff\">বিদ্যুৎ</span> <span style=\"background-color:#e3e3ff\">নামে</span> <span style=\"background-color:#9292ff\">ভারতকে</span> <span style=\"background-color:#f0f0ff\">সুবিদা</span> <span style=\"background-color:#0000ff\">দেওয়াই</span> <span style=\"background-color:#ececff\">হচ্ছে</span> <span style=\"background-color:#8888ff\">মুল</span> \n"
      ],
      "text/plain": [
       "<IPython.core.display.HTML object>"
      ]
     },
     "metadata": {},
     "output_type": "display_data"
    },
    {
     "name": "stdout",
     "output_type": "stream",
     "text": [
      "-----------------------------------------------------------\n",
      "[1026  264  105  894  586   94  998 2956  109  359   17 4188  265    1\n",
      " 2368    0    0    0    0    0]\n",
      "(20,)\n",
      "[  10   50 2938   36  529 2018    0    0    0    0    0    0    0    0\n",
      "    0    0    0    0    0    0]\n",
      "(20,)\n",
      "[3237 5789  908    4  113   77  360 1777 1372 3062   36  507  185   43\n",
      " 1011  314  164   22   25    0]\n",
      "(20,)\n",
      "[ 358  135 1745  375  339   44 2121  138  114   36  694 9206    0    0\n",
      "    0    0    0    0    0    0]\n",
      "(20,)\n",
      "[  49 1950   65 4742    1    0    0    0    0    0    0    0    0    0\n",
      "    0    0    0    0    0    0]\n",
      "(20,)\n",
      "[3409 1781 5645   30  850 1496 1748 3601 4540  118  310  278    8    0\n",
      "    0    0    0    0    0    0]\n",
      "(20,)\n",
      "[ 142 4712 1611    3 8712 8712  149  256   57 3849  222    2  335 1590\n",
      "  182   83   83  335 1286  190]\n",
      "(20,)\n",
      "Predicted label: Geopolitical Actual label: Personal\n",
      "LRP heatmap:\n"
     ]
    },
    {
     "data": {
      "text/html": [
       "<span style=\"background-color:#fefeff\">শুধু</span> <span style=\"background-color:#fefeff\">বেতন</span> <span style=\"background-color:#fffefe\">নেয়</span> <span style=\"background-color:#fffefe\">আর</span> <span style=\"background-color:#fffefe\">দাঁড়ায়</span> <span style=\"background-color:#fffefe\">দাঁড়ায়</span> <span style=\"background-color:#fffefe\">দেখে</span> <span style=\"background-color:#fffefe\">কিভাবে</span> <span style=\"background-color:#fffefe\">ভারতীয়</span> <span style=\"background-color:#fefeff\">সেনারা</span> <span style=\"background-color:#fafaff\">গুলি</span> <span style=\"background-color:#fefeff\">করে</span> <span style=\"background-color:#fefeff\">মারে</span> <span style=\"background-color:#fffcfc\">শালারা</span> <span style=\"background-color:#ffe2e2\">মুখে</span> <span style=\"background-color:#ffd0d0\">বড়</span> <span style=\"background-color:#ffdcdc\">বড়</span> <span style=\"background-color:#8c8cff\">মারে</span> <span style=\"background-color:#0000ff\">কাজের</span> <span style=\"background-color:#ff4646\">নামে</span> \n"
      ],
      "text/plain": [
       "<IPython.core.display.HTML object>"
      ]
     },
     "metadata": {},
     "output_type": "display_data"
    },
    {
     "name": "stdout",
     "output_type": "stream",
     "text": [
      "SA heatmap:\n"
     ]
    },
    {
     "data": {
      "text/html": [
       "<span style=\"background-color:#fff2f2\">শুধু</span> <span style=\"background-color:#ffcccc\">বেতন</span> <span style=\"background-color:#fff4f4\">নেয়</span> <span style=\"background-color:#ffe8e8\">আর</span> <span style=\"background-color:#fff8f8\">দাঁড়ায়</span> <span style=\"background-color:#ffdada\">দাঁড়ায়</span> <span style=\"background-color:#ffe8e8\">দেখে</span> <span style=\"background-color:#ffbaba\">কিভাবে</span> <span style=\"background-color:#ffcaca\">ভারতীয়</span> <span style=\"background-color:#ffe4e4\">সেনারা</span> <span style=\"background-color:#fffcfc\">গুলি</span> <span style=\"background-color:#fff4f4\">করে</span> <span style=\"background-color:#ff0000\">মারে</span> <span style=\"background-color:#ffd2d2\">শালারা</span> <span style=\"background-color:#fffcfc\">মুখে</span> <span style=\"background-color:#fff8f8\">বড়</span> <span style=\"background-color:#ffeaea\">বড়</span> <span style=\"background-color:#fffafa\">মারে</span> <span style=\"background-color:#fff2f2\">কাজের</span> <span style=\"background-color:#fffcfc\">নামে</span> \n"
      ],
      "text/plain": [
       "<IPython.core.display.HTML object>"
      ]
     },
     "metadata": {},
     "output_type": "display_data"
    },
    {
     "name": "stdout",
     "output_type": "stream",
     "text": [
      "GI heatmap:\n"
     ]
    },
    {
     "data": {
      "text/html": [
       "<span style=\"background-color:#b6b6ff\">শুধু</span> <span style=\"background-color:#ff1c1c\">বেতন</span> <span style=\"background-color:#ffa6a6\">নেয়</span> <span style=\"background-color:#6464ff\">আর</span> <span style=\"background-color:#c6c6ff\">দাঁড়ায়</span> <span style=\"background-color:#ffdada\">দাঁড়ায়</span> <span style=\"background-color:#5858ff\">দেখে</span> <span style=\"background-color:#9292ff\">কিভাবে</span> <span style=\"background-color:#eaeaff\">ভারতীয়</span> <span style=\"background-color:#ff3939\">সেনারা</span> <span style=\"background-color:#fffcfc\">গুলি</span> <span style=\"background-color:#eeeeff\">করে</span> <span style=\"background-color:#ff0000\">মারে</span> <span style=\"background-color:#eeeeff\">শালারা</span> <span style=\"background-color:#cacaff\">মুখে</span> <span style=\"background-color:#fafaff\">বড়</span> <span style=\"background-color:#fff6f6\">বড়</span> <span style=\"background-color:#a0a0ff\">মারে</span> <span style=\"background-color:#7c7cff\">কাজের</span> <span style=\"background-color:#fcfcff\">নামে</span> \n"
      ],
      "text/plain": [
       "<IPython.core.display.HTML object>"
      ]
     },
     "metadata": {},
     "output_type": "display_data"
    },
    {
     "name": "stdout",
     "output_type": "stream",
     "text": [
      "-----------------------------------------------------------\n",
      "[   7   87  239   62 8071 2854 1358  169  293  742    1  150    8    0\n",
      "    0    0    0    0    0    0]\n",
      "(20,)\n",
      "[ 154 1990    9 2067  182   48    9  953  656    9    0    0    0    0\n",
      "    0    0    0    0    0    0]\n",
      "(20,)\n",
      "[ 41   7 815   3   4   0   0   0   0   0   0   0   0   0   0   0   0   0\n",
      "   0   0]\n",
      "(20,)\n",
      "[ 45  14 386  22 364 906 688 251 755 688   0   0   0   0   0   0   0   0\n",
      "   0   0]\n",
      "(20,)\n",
      "[  59 3030    1  232  137    3   10   15  506  506   76    2    5  115\n",
      " 1029 1689  923    0    0    0]\n",
      "(20,)\n",
      "[  87 2981 2559   43   38  108  760  544    0    0    0    0    0    0\n",
      "    0    0    0    0    0    0]\n",
      "(20,)\n",
      "[  72 1990    9 6608  977  371  490   54  100   33    3 3428  115   40\n",
      " 2607    0    0    0    0    0]\n",
      "(20,)\n",
      "[ 117   13 1028   10   19   27  446 1494   15  117 3874  775 1577  720\n",
      " 1094  883    0    0    0    0]\n",
      "(20,)\n",
      "[  10  392  364 1906  214 1037    0    0    0    0    0    0    0    0\n",
      "    0    0    0    0    0    0]\n",
      "(20,)\n",
      "[ 824  986   29   89  320    7  206   84  488   69  728 3185 1441  800\n",
      "   89    7  206 1032   38  673]\n",
      "(20,)\n",
      "Predicted label: Geopolitical Actual label: Personal\n",
      "LRP heatmap:\n"
     ]
    },
    {
     "data": {
      "text/html": [
       "<span style=\"background-color:#fffefe\">ঘুম</span> <span style=\"background-color:#fefeff\">হারাম</span> <span style=\"background-color:#fefeff\">হয়ে</span> <span style=\"background-color:#fffefe\">যায়</span> <span style=\"background-color:#fffefe\">অথচ</span> <span style=\"background-color:#fffefe\">ভারত</span> <span style=\"background-color:#fefeff\">বা</span> <span style=\"background-color:#fefeff\">দেশে</span> <span style=\"background-color:#fffefe\">নির্যাতন</span> <span style=\"background-color:#fffefe\">হলে</span> <span style=\"background-color:#fefeff\">তাদেরকে</span> <span style=\"background-color:#fcfcff\">দিয়েও</span> <span style=\"background-color:#f3f3ff\">খুজে</span> <span style=\"background-color:#f8f8ff\">পাওয়া</span> <span style=\"background-color:#ffe4e4\">যায়</span> <span style=\"background-color:#ffbcbc\">ভারত</span> <span style=\"background-color:#9e9eff\">বা</span> <span style=\"background-color:#5c5cff\">বার্মার</span> <span style=\"background-color:#0000ff\">তাদের</span> <span style=\"background-color:#ff7676\">অপরাধ</span> \n"
      ],
      "text/plain": [
       "<IPython.core.display.HTML object>"
      ]
     },
     "metadata": {},
     "output_type": "display_data"
    },
    {
     "name": "stdout",
     "output_type": "stream",
     "text": [
      "SA heatmap:\n"
     ]
    },
    {
     "data": {
      "text/html": [
       "<span style=\"background-color:#fff0f0\">ঘুম</span> <span style=\"background-color:#ffcccc\">হারাম</span> <span style=\"background-color:#fff4f4\">হয়ে</span> <span style=\"background-color:#ffa3a3\">যায়</span> <span style=\"background-color:#ff0000\">অথচ</span> <span style=\"background-color:#ffcaca\">ভারত</span> <span style=\"background-color:#ff8888\">বা</span> <span style=\"background-color:#ffc2c2\">দেশে</span> <span style=\"background-color:#ffe0e0\">নির্যাতন</span> <span style=\"background-color:#fff8f8\">হলে</span> <span style=\"background-color:#ffb6b6\">তাদেরকে</span> <span style=\"background-color:#ffe0e0\">দিয়েও</span> <span style=\"background-color:#ff7171\">খুজে</span> <span style=\"background-color:#ffc3c3\">পাওয়া</span> <span style=\"background-color:#ffeaea\">যায়</span> <span style=\"background-color:#ffeaea\">ভারত</span> <span style=\"background-color:#ffa3a3\">বা</span> <span style=\"background-color:#ff9e9e\">বার্মার</span> <span style=\"background-color:#ff4646\">তাদের</span> <span style=\"background-color:#ff2020\">অপরাধ</span> \n"
      ],
      "text/plain": [
       "<IPython.core.display.HTML object>"
      ]
     },
     "metadata": {},
     "output_type": "display_data"
    },
    {
     "name": "stdout",
     "output_type": "stream",
     "text": [
      "GI heatmap:\n"
     ]
    },
    {
     "data": {
      "text/html": [
       "<span style=\"background-color:#ffc0c0\">ঘুম</span> <span style=\"background-color:#3e3eff\">হারাম</span> <span style=\"background-color:#b6b6ff\">হয়ে</span> <span style=\"background-color:#ff9090\">যায়</span> <span style=\"background-color:#1818ff\">অথচ</span> <span style=\"background-color:#ffaaaa\">ভারত</span> <span style=\"background-color:#ff7676\">বা</span> <span style=\"background-color:#ff9393\">দেশে</span> <span style=\"background-color:#a0a0ff\">নির্যাতন</span> <span style=\"background-color:#fefeff\">হলে</span> <span style=\"background-color:#5454ff\">তাদেরকে</span> <span style=\"background-color:#b8b8ff\">দিয়েও</span> <span style=\"background-color:#ff1818\">খুজে</span> <span style=\"background-color:#ff9e9e\">পাওয়া</span> <span style=\"background-color:#ffd0d0\">যায়</span> <span style=\"background-color:#ffdede\">ভারত</span> <span style=\"background-color:#ffd2d2\">বা</span> <span style=\"background-color:#ffecec\">বার্মার</span> <span style=\"background-color:#d0d0ff\">তাদের</span> <span style=\"background-color:#ff0000\">অপরাধ</span> \n"
      ],
      "text/plain": [
       "<IPython.core.display.HTML object>"
      ]
     },
     "metadata": {},
     "output_type": "display_data"
    },
    {
     "name": "stdout",
     "output_type": "stream",
     "text": [
      "-----------------------------------------------------------\n",
      "[5206  350 2142  486    2  477  479  371 1331   26  170    0    0    0\n",
      "    0    0    0    0    0    0]\n",
      "(20,)\n",
      "[  77  127   91    4 7704   86 3208 3208    2 4356  101   52  457   13\n",
      "    4  324 1835   37   36   15]\n",
      "(20,)\n",
      "Predicted label: Geopolitical Actual label: Personal\n",
      "LRP heatmap:\n"
     ]
    },
    {
     "data": {
      "text/html": [
       "<span style=\"background-color:#fefeff\">সে</span> <span style=\"background-color:#fefeff\">সময়</span> <span style=\"background-color:#fffefe\">আপনি</span> <span style=\"background-color:#fefeff\">কি</span> <span style=\"background-color:#fffefe\">বলতেন</span> <span style=\"background-color:#fffefe\">আজ</span> <span style=\"background-color:#fffefe\">হো</span> <span style=\"background-color:#fffefe\">হো</span> <span style=\"background-color:#fffefe\">করে</span> <span style=\"background-color:#fffefe\">দিচ্ছেন</span> <span style=\"background-color:#f6f6ff\">যারা</span> <span style=\"background-color:#f3f3ff\">এক</span> <span style=\"background-color:#fffcfc\">বার</span> <span style=\"background-color:#fff8f8\">তো</span> <span style=\"background-color:#ececff\">কি</span> <span style=\"background-color:#e8e8ff\">ছিলো</span> <span style=\"background-color:#d0d0ff\">সাল</span> <span style=\"background-color:#c8c8ff\">আমাদের</span> <span style=\"background-color:#ffbcbc\">বাংলাদেশের</span> <span style=\"background-color:#ff0000\">জন্য</span> \n"
      ],
      "text/plain": [
       "<IPython.core.display.HTML object>"
      ]
     },
     "metadata": {},
     "output_type": "display_data"
    },
    {
     "name": "stdout",
     "output_type": "stream",
     "text": [
      "SA heatmap:\n"
     ]
    },
    {
     "data": {
      "text/html": [
       "<span style=\"background-color:#ffe0e0\">সে</span> <span style=\"background-color:#ffd2d2\">সময়</span> <span style=\"background-color:#ff6969\">আপনি</span> <span style=\"background-color:#ffd8d8\">কি</span> <span style=\"background-color:#ff8383\">বলতেন</span> <span style=\"background-color:#ffdada\">আজ</span> <span style=\"background-color:#ff0e0e\">হো</span> <span style=\"background-color:#ff8282\">হো</span> <span style=\"background-color:#ffc8c8\">করে</span> <span style=\"background-color:#ffe8e8\">দিচ্ছেন</span> <span style=\"background-color:#ffecec\">যারা</span> <span style=\"background-color:#ffa6a6\">এক</span> <span style=\"background-color:#ff6161\">বার</span> <span style=\"background-color:#ffeaea\">তো</span> <span style=\"background-color:#ff6c6c\">কি</span> <span style=\"background-color:#ffa6a6\">ছিলো</span> <span style=\"background-color:#ffe2e2\">সাল</span> <span style=\"background-color:#ff6c6c\">আমাদের</span> <span style=\"background-color:#ff0000\">বাংলাদেশের</span> <span style=\"background-color:#ffecec\">জন্য</span> \n"
      ],
      "text/plain": [
       "<IPython.core.display.HTML object>"
      ]
     },
     "metadata": {},
     "output_type": "display_data"
    },
    {
     "name": "stdout",
     "output_type": "stream",
     "text": [
      "GI heatmap:\n"
     ]
    },
    {
     "data": {
      "text/html": [
       "<span style=\"background-color:#a2a2ff\">সে</span> <span style=\"background-color:#e6e6ff\">সময়</span> <span style=\"background-color:#ff7474\">আপনি</span> <span style=\"background-color:#c0c0ff\">কি</span> <span style=\"background-color:#ff6666\">বলতেন</span> <span style=\"background-color:#ff8080\">আজ</span> <span style=\"background-color:#0000ff\">হো</span> <span style=\"background-color:#9696ff\">হো</span> <span style=\"background-color:#ff7070\">করে</span> <span style=\"background-color:#ffdede\">দিচ্ছেন</span> <span style=\"background-color:#fefeff\">যারা</span> <span style=\"background-color:#ffa2a2\">এক</span> <span style=\"background-color:#ffdcdc\">বার</span> <span style=\"background-color:#9a9aff\">তো</span> <span style=\"background-color:#c6c6ff\">কি</span> <span style=\"background-color:#ffe0e0\">ছিলো</span> <span style=\"background-color:#ff8a8a\">সাল</span> <span style=\"background-color:#ffa6a6\">আমাদের</span> <span style=\"background-color:#ffdada\">বাংলাদেশের</span> <span style=\"background-color:#e6e6ff\">জন্য</span> \n"
      ],
      "text/plain": [
       "<IPython.core.display.HTML object>"
      ]
     },
     "metadata": {},
     "output_type": "display_data"
    },
    {
     "name": "stdout",
     "output_type": "stream",
     "text": [
      "-----------------------------------------------------------\n",
      "[ 529 1830 1232  761    0    0    0    0    0    0    0    0    0    0\n",
      "    0    0    0    0    0    0]\n",
      "(20,)\n",
      "[ 98   3 119   7  36   0   0   0   0   0   0   0   0   0   0   0   0   0\n",
      "   0   0]\n",
      "(20,)\n",
      "[1503 3123   81   85   10   54    0    0    0    0    0    0    0    0\n",
      "    0    0    0    0    0    0]\n",
      "(20,)\n",
      "[  10   72 2150  294   36 7583  223 1011  581    0    0    0    0    0\n",
      "    0    0    0    0    0    0]\n",
      "(20,)\n",
      "[5344   10   48   41    0    0    0    0    0    0    0    0    0    0\n",
      "    0    0    0    0    0    0]\n",
      "(20,)\n",
      "[ 418   30    7 1424   71 1416    0    0    0    0    0    0    0    0\n",
      "    0    0    0    0    0    0]\n",
      "(20,)\n",
      "[ 852  623 2985  940  813  802    0    0    0    0    0    0    0    0\n",
      "    0    0    0    0    0    0]\n",
      "(20,)\n",
      "[   2   42   67    7 2239   67 3778 1271   85 7101 2824  776 2449   37\n",
      "   59  366  325  731  232 1535]\n",
      "(20,)\n",
      "Predicted label: Geopolitical Actual label: Personal\n",
      "LRP heatmap:\n"
     ]
    },
    {
     "data": {
      "text/html": [
       "<span style=\"background-color:#fefeff\">করে</span> <span style=\"background-color:#fefeff\">কেন</span> <span style=\"background-color:#fefeff\">তোদের</span> <span style=\"background-color:#fffefe\">ভারত</span> <span style=\"background-color:#fefeff\">মাতা</span> <span style=\"background-color:#fcfcff\">তোদের</span> <span style=\"background-color:#fefeff\">বাঙালীদের</span> <span style=\"background-color:#fffcfc\">জন্যে</span> <span style=\"background-color:#fff6f6\">টা</span> <span style=\"background-color:#fff6f6\">ফেইসবুক</span> <span style=\"background-color:#fff0f0\">পেইজ</span> <span style=\"background-color:#f6f6ff\">পর্যন্ত</span> <span style=\"background-color:#dcdcff\">করেনি</span> <span style=\"background-color:#ececff\">আমাদের</span> <span style=\"background-color:#ececff\">দেশের</span> <span style=\"background-color:#c6c6ff\">এসে</span> <span style=\"background-color:#a8a8ff\">গরুর</span> <span style=\"background-color:#eaeaff\">মুত</span> <span style=\"background-color:#2a2aff\">খেয়ে</span> <span style=\"background-color:#ff0000\">গন্ধ</span> \n"
      ],
      "text/plain": [
       "<IPython.core.display.HTML object>"
      ]
     },
     "metadata": {},
     "output_type": "display_data"
    },
    {
     "name": "stdout",
     "output_type": "stream",
     "text": [
      "SA heatmap:\n"
     ]
    },
    {
     "data": {
      "text/html": [
       "<span style=\"background-color:#ffecec\">করে</span> <span style=\"background-color:#ffe8e8\">কেন</span> <span style=\"background-color:#ffc3c3\">তোদের</span> <span style=\"background-color:#ffacac\">ভারত</span> <span style=\"background-color:#ffa0a0\">মাতা</span> <span style=\"background-color:#fff6f6\">তোদের</span> <span style=\"background-color:#ffd3d3\">বাঙালীদের</span> <span style=\"background-color:#fffcfc\">জন্যে</span> <span style=\"background-color:#fffafa\">টা</span> <span style=\"background-color:#fff4f4\">ফেইসবুক</span> <span style=\"background-color:#fff8f8\">পেইজ</span> <span style=\"background-color:#fff6f6\">পর্যন্ত</span> <span style=\"background-color:#ffd0d0\">করেনি</span> <span style=\"background-color:#ffc2c2\">আমাদের</span> <span style=\"background-color:#ffe2e2\">দেশের</span> <span style=\"background-color:#ffeeee\">এসে</span> <span style=\"background-color:#ffeeee\">গরুর</span> <span style=\"background-color:#ff0000\">মুত</span> <span style=\"background-color:#fff2f2\">খেয়ে</span> <span style=\"background-color:#ffa3a3\">গন্ধ</span> \n"
      ],
      "text/plain": [
       "<IPython.core.display.HTML object>"
      ]
     },
     "metadata": {},
     "output_type": "display_data"
    },
    {
     "name": "stdout",
     "output_type": "stream",
     "text": [
      "GI heatmap:\n"
     ]
    },
    {
     "data": {
      "text/html": [
       "<span style=\"background-color:#ffb3b3\">করে</span> <span style=\"background-color:#acacff\">কেন</span> <span style=\"background-color:#9696ff\">তোদের</span> <span style=\"background-color:#ff6c6c\">ভারত</span> <span style=\"background-color:#6060ff\">মাতা</span> <span style=\"background-color:#dadaff\">তোদের</span> <span style=\"background-color:#ff9c9c\">বাঙালীদের</span> <span style=\"background-color:#f6f6ff\">জন্যে</span> <span style=\"background-color:#fffcfc\">টা</span> <span style=\"background-color:#ccccff\">ফেইসবুক</span> <span style=\"background-color:#ececff\">পেইজ</span> <span style=\"background-color:#ececff\">পর্যন্ত</span> <span style=\"background-color:#8888ff\">করেনি</span> <span style=\"background-color:#8e8eff\">আমাদের</span> <span style=\"background-color:#a6a6ff\">দেশের</span> <span style=\"background-color:#ffbaba\">এসে</span> <span style=\"background-color:#d6d6ff\">গরুর</span> <span style=\"background-color:#ff0000\">মুত</span> <span style=\"background-color:#ffe8e8\">খেয়ে</span> <span style=\"background-color:#ff5c5c\">গন্ধ</span> \n"
      ],
      "text/plain": [
       "<IPython.core.display.HTML object>"
      ]
     },
     "metadata": {},
     "output_type": "display_data"
    },
    {
     "name": "stdout",
     "output_type": "stream",
     "text": [
      "-----------------------------------------------------------\n",
      "[  10   53  117   37 2803  283  117  630  125  348   55   47  681  422\n",
      "  447    0    0    0    0    0]\n",
      "(20,)\n",
      "[ 535   97    2  407  817  190  480 9914    0    0    0    0    0    0\n",
      "    0    0    0    0    0    0]\n",
      "(20,)\n",
      "[   8  525 9370   38  339  230  670 8986  455   88   38 2836 8986 1085\n",
      " 1485   38  911 1728 1198  206]\n",
      "(20,)\n",
      "Predicted label: Geopolitical Actual label: Personal\n",
      "LRP heatmap:\n"
     ]
    },
    {
     "data": {
      "text/html": [
       "<span style=\"background-color:#fffefe\">।</span> <span style=\"background-color:#fefeff\">বরং</span> <span style=\"background-color:#fffefe\">এক্ষুনি</span> <span style=\"background-color:#fffefe\">তাদের</span> <span style=\"background-color:#fefeff\">জীবন</span> <span style=\"background-color:#fffefe\">আশ্রয়</span> <span style=\"background-color:#fefeff\">শিবিরের</span> <span style=\"background-color:#fffefe\">ব্যবস্হা</span> <span style=\"background-color:#fcfcff\">করুন</span> <span style=\"background-color:#fffafa\">এবং</span> <span style=\"background-color:#fefeff\">তাদের</span> <span style=\"background-color:#fffefe\">সম্পূর্ণ</span> <span style=\"background-color:#fefeff\">ব্যবস্হা</span> <span style=\"background-color:#f6f6ff\">নিশ্চিত</span> <span style=\"background-color:#f2f2ff\">করেই</span> <span style=\"background-color:#ffd6d6\">তাদের</span> <span style=\"background-color:#ffb6b6\">আন্তর্জাতিক</span> <span style=\"background-color:#ff6666\">সংস্থা</span> <span style=\"background-color:#ff0000\">জাতিসংঘ</span> <span style=\"background-color:#bebeff\">বা</span> \n"
      ],
      "text/plain": [
       "<IPython.core.display.HTML object>"
      ]
     },
     "metadata": {},
     "output_type": "display_data"
    },
    {
     "name": "stdout",
     "output_type": "stream",
     "text": [
      "SA heatmap:\n"
     ]
    },
    {
     "data": {
      "text/html": [
       "<span style=\"background-color:#ffeaea\">।</span> <span style=\"background-color:#ff5e5e\">বরং</span> <span style=\"background-color:#ff7c7c\">এক্ষুনি</span> <span style=\"background-color:#ff7e7e\">তাদের</span> <span style=\"background-color:#ffcaca\">জীবন</span> <span style=\"background-color:#ff0000\">আশ্রয়</span> <span style=\"background-color:#fffcfc\">শিবিরের</span> <span style=\"background-color:#fff6f6\">ব্যবস্হা</span> <span style=\"background-color:#ff1414\">করুন</span> <span style=\"background-color:#ff7474\">এবং</span> <span style=\"background-color:#ffeaea\">তাদের</span> <span style=\"background-color:#ff8080\">সম্পূর্ণ</span> <span style=\"background-color:#ff4141\">ব্যবস্হা</span> <span style=\"background-color:#fffcfc\">নিশ্চিত</span> <span style=\"background-color:#ffe8e8\">করেই</span> <span style=\"background-color:#ffdcdc\">তাদের</span> <span style=\"background-color:#fff2f2\">আন্তর্জাতিক</span> <span style=\"background-color:#ffdcdc\">সংস্থা</span> <span style=\"background-color:#ffb2b2\">জাতিসংঘ</span> <span style=\"background-color:#ffbcbc\">বা</span> \n"
      ],
      "text/plain": [
       "<IPython.core.display.HTML object>"
      ]
     },
     "metadata": {},
     "output_type": "display_data"
    },
    {
     "name": "stdout",
     "output_type": "stream",
     "text": [
      "GI heatmap:\n"
     ]
    },
    {
     "data": {
      "text/html": [
       "<span style=\"background-color:#e0e0ff\">।</span> <span style=\"background-color:#0202ff\">বরং</span> <span style=\"background-color:#5454ff\">এক্ষুনি</span> <span style=\"background-color:#ffa8a8\">তাদের</span> <span style=\"background-color:#ffb2b2\">জীবন</span> <span style=\"background-color:#ff0000\">আশ্রয়</span> <span style=\"background-color:#f8f8ff\">শিবিরের</span> <span style=\"background-color:#dcdcff\">ব্যবস্হা</span> <span style=\"background-color:#4848ff\">করুন</span> <span style=\"background-color:#6c6cff\">এবং</span> <span style=\"background-color:#ffd0d0\">তাদের</span> <span style=\"background-color:#ff6e6e\">সম্পূর্ণ</span> <span style=\"background-color:#bcbcff\">ব্যবস্হা</span> <span style=\"background-color:#ffe6e6\">নিশ্চিত</span> <span style=\"background-color:#fffcfc\">করেই</span> <span style=\"background-color:#f8f8ff\">তাদের</span> <span style=\"background-color:#bebeff\">আন্তর্জাতিক</span> <span style=\"background-color:#ff4c4c\">সংস্থা</span> <span style=\"background-color:#ff6666\">জাতিসংঘ</span> <span style=\"background-color:#ffa6a6\">বা</span> \n"
      ],
      "text/plain": [
       "<IPython.core.display.HTML object>"
      ]
     },
     "metadata": {},
     "output_type": "display_data"
    },
    {
     "name": "stdout",
     "output_type": "stream",
     "text": [
      "-----------------------------------------------------------\n",
      "[ 130  709 1895 7308  269 2607    0    0    0    0    0    0    0    0\n",
      "    0    0    0    0    0    0]\n",
      "(20,)\n",
      "[ 116 1466   10 1114  358 4800 1298    1    8    0    0    0    0    0\n",
      "    0    0    0    0    0    0]\n",
      "(20,)\n",
      "[1084  852 1163 3588  497 1544  207  229    0    0    0    0    0    0\n",
      "    0    0    0    0    0    0]\n",
      "(20,)\n",
      "[3606 1290 3409 5645  575    0    0    0    0    0    0    0    0    0\n",
      "    0    0    0    0    0    0]\n",
      "(20,)\n",
      "[ 10  19 239  61  15   8   0   0   0   0   0   0   0   0   0   0   0   0\n",
      "   0   0]\n",
      "(20,)\n",
      "[4878 1697 1821 1016 8468  180 1842    0    0    0    0    0    0    0\n",
      "    0    0    0    0    0    0]\n",
      "(20,)\n",
      "[  10   25   12 1003  375  339 3388 6168  124   25  372  139   16    1\n",
      "    0    0    0    0    0    0]\n",
      "(20,)\n",
      "[6672  127  185  185 1742 1081 1426 1575 9685   34  755   10   43   52\n",
      "   15  169  206  169   25 2007]\n",
      "(20,)\n",
      "Predicted label: Geopolitical Actual label: Personal\n",
      "LRP heatmap:\n"
     ]
    },
    {
     "data": {
      "text/html": [
       "<span style=\"background-color:#fefeff\">যাবার</span> <span style=\"background-color:#fffefe\">সময়</span> <span style=\"background-color:#fffefe\">কোটি</span> <span style=\"background-color:#fffefe\">কোটি</span> <span style=\"background-color:#fffefe\">টার</span> <span style=\"background-color:#fffcfc\">অর্থ</span> <span style=\"background-color:#fafaff\">নিয়েছে</span> <span style=\"background-color:#fefeff\">ফেরত</span> <span style=\"background-color:#fcfcff\">দেবে।</span> <span style=\"background-color:#fafaff\">নিয়ে</span> <span style=\"background-color:#f2f2ff\">বলছি</span> <span style=\"background-color:#fff0f0\">ভারতের</span> <span style=\"background-color:#dedeff\">মানুষ</span> <span style=\"background-color:#6c6cff\">এক</span> <span style=\"background-color:#fff8f8\">জন্য</span> <span style=\"background-color:#0e0eff\">ভাল</span> <span style=\"background-color:#b8b8ff\">বা</span> <span style=\"background-color:#4141ff\">ভাল</span> <span style=\"background-color:#ff0000\">কথা</span> <span style=\"background-color:#ff6e6e\">বলেনা</span> \n"
      ],
      "text/plain": [
       "<IPython.core.display.HTML object>"
      ]
     },
     "metadata": {},
     "output_type": "display_data"
    },
    {
     "name": "stdout",
     "output_type": "stream",
     "text": [
      "SA heatmap:\n"
     ]
    },
    {
     "data": {
      "text/html": [
       "<span style=\"background-color:#fff2f2\">যাবার</span> <span style=\"background-color:#ffe0e0\">সময়</span> <span style=\"background-color:#ffc6c6\">কোটি</span> <span style=\"background-color:#ffe0e0\">কোটি</span> <span style=\"background-color:#ffacac\">টার</span> <span style=\"background-color:#fffefe\">অর্থ</span> <span style=\"background-color:#ffaeae\">নিয়েছে</span> <span style=\"background-color:#ff0000\">ফেরত</span> <span style=\"background-color:#ffe8e8\">দেবে।</span> <span style=\"background-color:#ffeeee\">নিয়ে</span> <span style=\"background-color:#fff2f2\">বলছি</span> <span style=\"background-color:#fffcfc\">ভারতের</span> <span style=\"background-color:#fffafa\">মানুষ</span> <span style=\"background-color:#ff9696\">এক</span> <span style=\"background-color:#ffeeee\">জন্য</span> <span style=\"background-color:#fffcfc\">ভাল</span> <span style=\"background-color:#fff0f0\">বা</span> <span style=\"background-color:#ff2e2e\">ভাল</span> <span style=\"background-color:#fff8f8\">কথা</span> <span style=\"background-color:#ffcccc\">বলেনা</span> \n"
      ],
      "text/plain": [
       "<IPython.core.display.HTML object>"
      ]
     },
     "metadata": {},
     "output_type": "display_data"
    },
    {
     "name": "stdout",
     "output_type": "stream",
     "text": [
      "GI heatmap:\n"
     ]
    },
    {
     "data": {
      "text/html": [
       "<span style=\"background-color:#fffafa\">যাবার</span> <span style=\"background-color:#ffb0b0\">সময়</span> <span style=\"background-color:#8686ff\">কোটি</span> <span style=\"background-color:#bebeff\">কোটি</span> <span style=\"background-color:#6c6cff\">টার</span> <span style=\"background-color:#f8f8ff\">অর্থ</span> <span style=\"background-color:#ff8686\">নিয়েছে</span> <span style=\"background-color:#0000ff\">ফেরত</span> <span style=\"background-color:#ffb3b3\">দেবে।</span> <span style=\"background-color:#c0c0ff\">নিয়ে</span> <span style=\"background-color:#ccccff\">বলছি</span> <span style=\"background-color:#fcfcff\">ভারতের</span> <span style=\"background-color:#ffe2e2\">মানুষ</span> <span style=\"background-color:#ff5e5e\">এক</span> <span style=\"background-color:#d3d3ff\">জন্য</span> <span style=\"background-color:#ffecec\">ভাল</span> <span style=\"background-color:#d8d8ff\">বা</span> <span style=\"background-color:#1616ff\">ভাল</span> <span style=\"background-color:#dedeff\">কথা</span> <span style=\"background-color:#9696ff\">বলেনা</span> \n"
      ],
      "text/plain": [
       "<IPython.core.display.HTML object>"
      ]
     },
     "metadata": {},
     "output_type": "display_data"
    },
    {
     "name": "stdout",
     "output_type": "stream",
     "text": [
      "-----------------------------------------------------------\n",
      "[ 896   24  258 1621  221 2196   18   78  676   25  115    7  115 9101\n",
      "   48    5  972  163 1703  312]\n",
      "(20,)\n",
      "Predicted label: Geopolitical Actual label: Personal\n",
      "LRP heatmap:\n"
     ]
    },
    {
     "data": {
      "text/html": [
       "<span style=\"background-color:#fffefe\">সমান</span> <span style=\"background-color:#fffefe\">কোন</span> <span style=\"background-color:#fefeff\">পাগল</span> <span style=\"background-color:#fefeff\">ছারা</span> <span style=\"background-color:#fefeff\">এসব</span> <span style=\"background-color:#fffefe\">শয়তানি</span> <span style=\"background-color:#fefeff\">করতে</span> <span style=\"background-color:#fafaff\">পারে</span> <span style=\"background-color:#fff8f8\">আসল</span> <span style=\"background-color:#fffefe\">কথা</span> <span style=\"background-color:#f6f6ff\">হলো</span> <span style=\"background-color:#fff6f6\">ভারত</span> <span style=\"background-color:#eeeeff\">হলো</span> <span style=\"background-color:#eeeeff\">ভিখারীর</span> <span style=\"background-color:#fffefe\">দেশ</span> <span style=\"background-color:#eeeeff\">এই</span> <span style=\"background-color:#c6c6ff\">জাতির</span> <span style=\"background-color:#d6d6ff\">মধ্যে</span> <span style=\"background-color:#ff8c8c\">দুটো</span> <span style=\"background-color:#ff0000\">দে</span> \n"
      ],
      "text/plain": [
       "<IPython.core.display.HTML object>"
      ]
     },
     "metadata": {},
     "output_type": "display_data"
    },
    {
     "name": "stdout",
     "output_type": "stream",
     "text": [
      "SA heatmap:\n"
     ]
    },
    {
     "data": {
      "text/html": [
       "<span style=\"background-color:#ffa0a0\">সমান</span> <span style=\"background-color:#ff1616\">কোন</span> <span style=\"background-color:#ffcaca\">পাগল</span> <span style=\"background-color:#ff5656\">ছারা</span> <span style=\"background-color:#ffeaea\">এসব</span> <span style=\"background-color:#ffc0c0\">শয়তানি</span> <span style=\"background-color:#ffc2c2\">করতে</span> <span style=\"background-color:#ffd6d6\">পারে</span> <span style=\"background-color:#fff2f2\">আসল</span> <span style=\"background-color:#ffd0d0\">কথা</span> <span style=\"background-color:#ffe4e4\">হলো</span> <span style=\"background-color:#ff0000\">ভারত</span> <span style=\"background-color:#fffafa\">হলো</span> <span style=\"background-color:#ffaaaa\">ভিখারীর</span> <span style=\"background-color:#ffa6a6\">দেশ</span> <span style=\"background-color:#ffc0c0\">এই</span> <span style=\"background-color:#fffafa\">জাতির</span> <span style=\"background-color:#ffdcdc\">মধ্যে</span> <span style=\"background-color:#ffbebe\">দুটো</span> <span style=\"background-color:#fff2f2\">দে</span> \n"
      ],
      "text/plain": [
       "<IPython.core.display.HTML object>"
      ]
     },
     "metadata": {},
     "output_type": "display_data"
    },
    {
     "name": "stdout",
     "output_type": "stream",
     "text": [
      "GI heatmap:\n"
     ]
    },
    {
     "data": {
      "text/html": [
       "<span style=\"background-color:#ff8c8c\">সমান</span> <span style=\"background-color:#0000ff\">কোন</span> <span style=\"background-color:#9e9eff\">পাগল</span> <span style=\"background-color:#ff6868\">ছারা</span> <span style=\"background-color:#ffc6c6\">এসব</span> <span style=\"background-color:#fefeff\">শয়তানি</span> <span style=\"background-color:#f2f2ff\">করতে</span> <span style=\"background-color:#ffc3c3\">পারে</span> <span style=\"background-color:#d2d2ff\">আসল</span> <span style=\"background-color:#ff6060\">কথা</span> <span style=\"background-color:#acacff\">হলো</span> <span style=\"background-color:#ffecec\">ভারত</span> <span style=\"background-color:#fefeff\">হলো</span> <span style=\"background-color:#c0c0ff\">ভিখারীর</span> <span style=\"background-color:#7474ff\">দেশ</span> <span style=\"background-color:#ffb3b3\">এই</span> <span style=\"background-color:#fffcfc\">জাতির</span> <span style=\"background-color:#c6c6ff\">মধ্যে</span> <span style=\"background-color:#ff7474\">দুটো</span> <span style=\"background-color:#ffd6d6\">দে</span> \n"
      ],
      "text/plain": [
       "<IPython.core.display.HTML object>"
      ]
     },
     "metadata": {},
     "output_type": "display_data"
    },
    {
     "name": "stdout",
     "output_type": "stream",
     "text": [
      "-----------------------------------------------------------\n",
      "[  48    7  681   71   16    5   22  138 2641  336   56  979  914    2\n",
      "  448  517  366  683    1    2]\n",
      "(20,)\n",
      "Predicted label: Geopolitical Actual label: Personal\n",
      "LRP heatmap:\n"
     ]
    },
    {
     "data": {
      "text/html": [
       "<span style=\"background-color:#fffefe\">দেশ</span> <span style=\"background-color:#fffefe\">ভারত</span> <span style=\"background-color:#fffefe\">পারি</span> <span style=\"background-color:#fefeff\">দিতে</span> <span style=\"background-color:#fffefe\">হবে</span> <span style=\"background-color:#fefeff\">এই</span> <span style=\"background-color:#fffefe\">সব</span> <span style=\"background-color:#fffafa\">শেখ</span> <span style=\"background-color:#f3f3ff\">হাছিনা</span> <span style=\"background-color:#fffcfc\">জানে</span> <span style=\"background-color:#fcfcff\">তাই</span> <span style=\"background-color:#eeeeff\">হুমকি</span> <span style=\"background-color:#f2f2ff\">যাতে</span> <span style=\"background-color:#fffcfc\">করে</span> <span style=\"background-color:#ccccff\">বিএনপি</span> <span style=\"background-color:#fefeff\">রাস্তায়</span> <span style=\"background-color:#cacaff\">এসে</span> <span style=\"background-color:#0000ff\">আন্দোলন</span> <span style=\"background-color:#f3f3ff\">না</span> <span style=\"background-color:#ff5c5c\">করে</span> \n"
      ],
      "text/plain": [
       "<IPython.core.display.HTML object>"
      ]
     },
     "metadata": {},
     "output_type": "display_data"
    },
    {
     "name": "stdout",
     "output_type": "stream",
     "text": [
      "SA heatmap:\n"
     ]
    },
    {
     "data": {
      "text/html": [
       "<span style=\"background-color:#fff8f8\">দেশ</span> <span style=\"background-color:#ff3e3e\">ভারত</span> <span style=\"background-color:#ffc0c0\">পারি</span> <span style=\"background-color:#ffd0d0\">দিতে</span> <span style=\"background-color:#ffeaea\">হবে</span> <span style=\"background-color:#ffe8e8\">এই</span> <span style=\"background-color:#ff6969\">সব</span> <span style=\"background-color:#ff0909\">শেখ</span> <span style=\"background-color:#ff0000\">হাছিনা</span> <span style=\"background-color:#ffc0c0\">জানে</span> <span style=\"background-color:#ff7878\">তাই</span> <span style=\"background-color:#ffcaca\">হুমকি</span> <span style=\"background-color:#ff2424\">যাতে</span> <span style=\"background-color:#ffe2e2\">করে</span> <span style=\"background-color:#ffcaca\">বিএনপি</span> <span style=\"background-color:#fff4f4\">রাস্তায়</span> <span style=\"background-color:#ffaeae\">এসে</span> <span style=\"background-color:#ffdcdc\">আন্দোলন</span> <span style=\"background-color:#ff0000\">না</span> <span style=\"background-color:#ff8282\">করে</span> \n"
      ],
      "text/plain": [
       "<IPython.core.display.HTML object>"
      ]
     },
     "metadata": {},
     "output_type": "display_data"
    },
    {
     "name": "stdout",
     "output_type": "stream",
     "text": [
      "GI heatmap:\n"
     ]
    },
    {
     "data": {
      "text/html": [
       "<span style=\"background-color:#ffd2d2\">দেশ</span> <span style=\"background-color:#dadaff\">ভারত</span> <span style=\"background-color:#7e7eff\">পারি</span> <span style=\"background-color:#ff3030\">দিতে</span> <span style=\"background-color:#f8f8ff\">হবে</span> <span style=\"background-color:#eaeaff\">এই</span> <span style=\"background-color:#0000ff\">সব</span> <span style=\"background-color:#0c0cff\">শেখ</span> <span style=\"background-color:#2828ff\">হাছিনা</span> <span style=\"background-color:#4646ff\">জানে</span> <span style=\"background-color:#2828ff\">তাই</span> <span style=\"background-color:#ffbebe\">হুমকি</span> <span style=\"background-color:#e8e8ff\">যাতে</span> <span style=\"background-color:#9a9aff\">করে</span> <span style=\"background-color:#ffe8e8\">বিএনপি</span> <span style=\"background-color:#ffa8a8\">রাস্তায়</span> <span style=\"background-color:#ffbcbc\">এসে</span> <span style=\"background-color:#d6d6ff\">আন্দোলন</span> <span style=\"background-color:#ffdede\">না</span> <span style=\"background-color:#ff7676\">করে</span> \n"
      ],
      "text/plain": [
       "<IPython.core.display.HTML object>"
      ]
     },
     "metadata": {},
     "output_type": "display_data"
    },
    {
     "name": "stdout",
     "output_type": "stream",
     "text": [
      "-----------------------------------------------------------\n",
      "[ 303 1939   22 1491    7 3808 1423 7826   14  155 1830 1190   35 1645\n",
      "    0    0    0    0    0    0]\n",
      "(20,)\n",
      "[  87  100  350   26   88   26 1313    0    0    0    0    0    0    0\n",
      "    0    0    0    0    0    0]\n",
      "(20,)\n",
      "[5916   88  751  223  496  623  362    1  221  768   11   88  190   48\n",
      " 1713 2615  496 5817   26  253]\n",
      "(20,)\n",
      "Predicted label: Geopolitical Actual label: Personal\n",
      "LRP heatmap:\n"
     ]
    },
    {
     "data": {
      "text/html": [
       "<span style=\"background-color:#fffefe\">যৌনতা</span> <span style=\"background-color:#fefeff\">এবং</span> <span style=\"background-color:#fefeff\">যৌন</span> <span style=\"background-color:#fefeff\">খবর</span> <span style=\"background-color:#fffefe\">এদেশে</span> <span style=\"background-color:#fffefe\">প্রচার</span> <span style=\"background-color:#fcfcff\">করবেন</span> <span style=\"background-color:#fefeff\">না</span> <span style=\"background-color:#fefeff\">এসব</span> <span style=\"background-color:#fffafa\">এদেশের</span> <span style=\"background-color:#f2f2ff\">হয়</span> <span style=\"background-color:#e8e8ff\">এবং</span> <span style=\"background-color:#ececff\">নামে</span> <span style=\"background-color:#ffc2c2\">দেশ</span> <span style=\"background-color:#fefeff\">হওয়ায়</span> <span style=\"background-color:#f8f8ff\">সবকিছুই</span> <span style=\"background-color:#f8f8ff\">এদেশে</span> <span style=\"background-color:#e0e0ff\">সহজে</span> <span style=\"background-color:#4c4cff\">করা</span> <span style=\"background-color:#0000ff\">হয়।</span> \n"
      ],
      "text/plain": [
       "<IPython.core.display.HTML object>"
      ]
     },
     "metadata": {},
     "output_type": "display_data"
    },
    {
     "name": "stdout",
     "output_type": "stream",
     "text": [
      "SA heatmap:\n"
     ]
    },
    {
     "data": {
      "text/html": [
       "<span style=\"background-color:#ffe4e4\">যৌনতা</span> <span style=\"background-color:#ffd3d3\">এবং</span> <span style=\"background-color:#ff6969\">যৌন</span> <span style=\"background-color:#ff4444\">খবর</span> <span style=\"background-color:#ffb0b0\">এদেশে</span> <span style=\"background-color:#ffdcdc\">প্রচার</span> <span style=\"background-color:#ff1010\">করবেন</span> <span style=\"background-color:#ffe2e2\">না</span> <span style=\"background-color:#ffd2d2\">এসব</span> <span style=\"background-color:#ffbcbc\">এদেশের</span> <span style=\"background-color:#ffeeee\">হয়</span> <span style=\"background-color:#ffd8d8\">এবং</span> <span style=\"background-color:#ff9393\">নামে</span> <span style=\"background-color:#ffcece\">দেশ</span> <span style=\"background-color:#ff0000\">হওয়ায়</span> <span style=\"background-color:#ffc2c2\">সবকিছুই</span> <span style=\"background-color:#ff7c7c\">এদেশে</span> <span style=\"background-color:#ff9393\">সহজে</span> <span style=\"background-color:#ffe4e4\">করা</span> <span style=\"background-color:#ffe0e0\">হয়।</span> \n"
      ],
      "text/plain": [
       "<IPython.core.display.HTML object>"
      ]
     },
     "metadata": {},
     "output_type": "display_data"
    },
    {
     "name": "stdout",
     "output_type": "stream",
     "text": [
      "GI heatmap:\n"
     ]
    },
    {
     "data": {
      "text/html": [
       "<span style=\"background-color:#ff5858\">যৌনতা</span> <span style=\"background-color:#acacff\">এবং</span> <span style=\"background-color:#ff2e2e\">যৌন</span> <span style=\"background-color:#ffacac\">খবর</span> <span style=\"background-color:#e8e8ff\">এদেশে</span> <span style=\"background-color:#ff9393\">প্রচার</span> <span style=\"background-color:#5454ff\">করবেন</span> <span style=\"background-color:#a8a8ff\">না</span> <span style=\"background-color:#b8b8ff\">এসব</span> <span style=\"background-color:#ff5656\">এদেশের</span> <span style=\"background-color:#ff8383\">হয়</span> <span style=\"background-color:#b0b0ff\">এবং</span> <span style=\"background-color:#ffaaaa\">নামে</span> <span style=\"background-color:#aeaeff\">দেশ</span> <span style=\"background-color:#0a0aff\">হওয়ায়</span> <span style=\"background-color:#ff2e2e\">সবকিছুই</span> <span style=\"background-color:#ffbcbc\">এদেশে</span> <span style=\"background-color:#ff0000\">সহজে</span> <span style=\"background-color:#ff2626\">করা</span> <span style=\"background-color:#fff2f2\">হয়।</span> \n"
      ],
      "text/plain": [
       "<IPython.core.display.HTML object>"
      ]
     },
     "metadata": {},
     "output_type": "display_data"
    },
    {
     "name": "stdout",
     "output_type": "stream",
     "text": [
      "-----------------------------------------------------------\n",
      "[   5    7   36   15 3305 5380    8   62 1314    0    0    0    0    0\n",
      "    0    0    0    0    0    0]\n",
      "(20,)\n",
      "[  65   58  543  114 1226  436   98 2576 5624  335  123  244   13 1226\n",
      "  436  438   32    0    0    0]\n",
      "(20,)\n",
      "[ 483   47   24  198 1878  156    7   82  166  857 1265    0    0    0\n",
      "    0    0    0    0    0    0]\n",
      "(20,)\n",
      "[138 114 927  59 243 358 112 172 190 597  40   0   0   0   0   0   0   0\n",
      "   0   0]\n",
      "(20,)\n",
      "[  65    3 1166 1166 3287  333 4688 3843  389  333    0    0    0    0\n",
      "    0    0    0    0    0    0]\n",
      "(20,)\n",
      "[ 564  245 1452  580  171  254   19 4290  211 1089 1898    0    0    0\n",
      "    0    0    0    0    0    0]\n",
      "(20,)\n",
      "[  87   47  358  538    2  216  110 1251  650   16 2741   36 1019   87\n",
      " 2129  418  538    2  519    8]\n",
      "(20,)\n",
      "Predicted label: Geopolitical Actual label: Personal\n",
      "LRP heatmap:\n"
     ]
    },
    {
     "data": {
      "text/html": [
       "<span style=\"background-color:#fefeff\">পাকিস্তান</span> <span style=\"background-color:#fffefe\">যদি</span> <span style=\"background-color:#fffefe\">ভারতকে</span> <span style=\"background-color:#fffefe\">ধ্বংস</span> <span style=\"background-color:#fefeff\">করে</span> <span style=\"background-color:#fefeff\">দেয়</span> <span style=\"background-color:#fffefe\">ঠিক</span> <span style=\"background-color:#fffefe\">তেমন</span> <span style=\"background-color:#fffefe\">খুশি</span> <span style=\"background-color:#fcfcff\">হবে</span> <span style=\"background-color:#fffefe\">পুরা</span> <span style=\"background-color:#fffefe\">বাংলাদেশের</span> <span style=\"background-color:#fefeff\">জনগন</span> <span style=\"background-color:#fffefe\">পাকিস্তান</span> <span style=\"background-color:#fffefe\">যাও</span> <span style=\"background-color:#fff8f8\">মালাউনদের</span> <span style=\"background-color:#ffe8e8\">ধ্বংস</span> <span style=\"background-color:#d0d0ff\">করে</span> <span style=\"background-color:#ffdcdc\">দাও</span> <span style=\"background-color:#0000ff\">।</span> \n"
      ],
      "text/plain": [
       "<IPython.core.display.HTML object>"
      ]
     },
     "metadata": {},
     "output_type": "display_data"
    },
    {
     "name": "stdout",
     "output_type": "stream",
     "text": [
      "SA heatmap:\n"
     ]
    },
    {
     "data": {
      "text/html": [
       "<span style=\"background-color:#ffc6c6\">পাকিস্তান</span> <span style=\"background-color:#ffb6b6\">যদি</span> <span style=\"background-color:#fff6f6\">ভারতকে</span> <span style=\"background-color:#ff9c9c\">ধ্বংস</span> <span style=\"background-color:#ff6868\">করে</span> <span style=\"background-color:#fff0f0\">দেয়</span> <span style=\"background-color:#ff6e6e\">ঠিক</span> <span style=\"background-color:#ffd8d8\">তেমন</span> <span style=\"background-color:#ffbcbc\">খুশি</span> <span style=\"background-color:#ffa0a0\">হবে</span> <span style=\"background-color:#ffeeee\">পুরা</span> <span style=\"background-color:#ffc6c6\">বাংলাদেশের</span> <span style=\"background-color:#ff0606\">জনগন</span> <span style=\"background-color:#ffb0b0\">পাকিস্তান</span> <span style=\"background-color:#ffdada\">যাও</span> <span style=\"background-color:#ffe0e0\">মালাউনদের</span> <span style=\"background-color:#ffeaea\">ধ্বংস</span> <span style=\"background-color:#ff0000\">করে</span> <span style=\"background-color:#ffdcdc\">দাও</span> <span style=\"background-color:#ffd8d8\">।</span> \n"
      ],
      "text/plain": [
       "<IPython.core.display.HTML object>"
      ]
     },
     "metadata": {},
     "output_type": "display_data"
    },
    {
     "name": "stdout",
     "output_type": "stream",
     "text": [
      "GI heatmap:\n"
     ]
    },
    {
     "data": {
      "text/html": [
       "<span style=\"background-color:#ff4848\">পাকিস্তান</span> <span style=\"background-color:#9e9eff\">যদি</span> <span style=\"background-color:#f2f2ff\">ভারতকে</span> <span style=\"background-color:#ff5454\">ধ্বংস</span> <span style=\"background-color:#1010ff\">করে</span> <span style=\"background-color:#ffbebe\">দেয়</span> <span style=\"background-color:#ffc8c8\">ঠিক</span> <span style=\"background-color:#ff8c8c\">তেমন</span> <span style=\"background-color:#0808ff\">খুশি</span> <span style=\"background-color:#ff8282\">হবে</span> <span style=\"background-color:#ffa3a3\">পুরা</span> <span style=\"background-color:#ff7878\">বাংলাদেশের</span> <span style=\"background-color:#ceceff\">জনগন</span> <span style=\"background-color:#0000ff\">পাকিস্তান</span> <span style=\"background-color:#ffb3b3\">যাও</span> <span style=\"background-color:#ffa8a8\">মালাউনদের</span> <span style=\"background-color:#ffd0d0\">ধ্বংস</span> <span style=\"background-color:#7e7eff\">করে</span> <span style=\"background-color:#ff7878\">দাও</span> <span style=\"background-color:#ff5e5e\">।</span> \n"
      ],
      "text/plain": [
       "<IPython.core.display.HTML object>"
      ]
     },
     "metadata": {},
     "output_type": "display_data"
    },
    {
     "name": "stdout",
     "output_type": "stream",
     "text": [
      "-----------------------------------------------------------\n",
      "[   6   13 5985  781   56  105    4    8 6184   49 1711  313  222    2\n",
      "  136    3  307   50 9553    8]\n",
      "(20,)\n",
      "Predicted label: Geopolitical Actual label: Personal\n",
      "LRP heatmap:\n"
     ]
    },
    {
     "data": {
      "text/html": [
       "<span style=\"background-color:#fffefe\">কে</span> <span style=\"background-color:#fffefe\">তো</span> <span style=\"background-color:#fffefe\">মালউন</span> <span style=\"background-color:#fefeff\">বলবে</span> <span style=\"background-color:#fffefe\">তাই</span> <span style=\"background-color:#fefeff\">নয়</span> <span style=\"background-color:#fffefe\">কি</span> <span style=\"background-color:#fffcfc\">।</span> <span style=\"background-color:#fefeff\">ইন্ডিয়ায়</span> <span style=\"background-color:#f8f8ff\">মুসলিম</span> <span style=\"background-color:#f8f8ff\">ছাত্রদের</span> <span style=\"background-color:#f3f3ff\">পুলিশ</span> <span style=\"background-color:#fafaff\">গুলি</span> <span style=\"background-color:#fcfcff\">করে</span> <span style=\"background-color:#e8e8ff\">মেরে</span> <span style=\"background-color:#e0e0ff\">আর</span> <span style=\"background-color:#f8f8ff\">এখানে</span> <span style=\"background-color:#ececff\">তারা</span> <span style=\"background-color:#ffb6b6\">ঘুমাচ্ছে</span> <span style=\"background-color:#0000ff\">।</span> \n"
      ],
      "text/plain": [
       "<IPython.core.display.HTML object>"
      ]
     },
     "metadata": {},
     "output_type": "display_data"
    },
    {
     "name": "stdout",
     "output_type": "stream",
     "text": [
      "SA heatmap:\n"
     ]
    },
    {
     "data": {
      "text/html": [
       "<span style=\"background-color:#fff4f4\">কে</span> <span style=\"background-color:#ffbcbc\">তো</span> <span style=\"background-color:#ffacac\">মালউন</span> <span style=\"background-color:#ff8383\">বলবে</span> <span style=\"background-color:#ff9c9c\">তাই</span> <span style=\"background-color:#ffeaea\">নয়</span> <span style=\"background-color:#ff8383\">কি</span> <span style=\"background-color:#fff6f6\">।</span> <span style=\"background-color:#ff8686\">ইন্ডিয়ায়</span> <span style=\"background-color:#ffc2c2\">মুসলিম</span> <span style=\"background-color:#ffc2c2\">ছাত্রদের</span> <span style=\"background-color:#ffb3b3\">পুলিশ</span> <span style=\"background-color:#ff1414\">গুলি</span> <span style=\"background-color:#ffa6a6\">করে</span> <span style=\"background-color:#ffbaba\">মেরে</span> <span style=\"background-color:#ffe0e0\">আর</span> <span style=\"background-color:#ffeaea\">এখানে</span> <span style=\"background-color:#ff0000\">তারা</span> <span style=\"background-color:#fff2f2\">ঘুমাচ্ছে</span> <span style=\"background-color:#ffd2d2\">।</span> \n"
      ],
      "text/plain": [
       "<IPython.core.display.HTML object>"
      ]
     },
     "metadata": {},
     "output_type": "display_data"
    },
    {
     "name": "stdout",
     "output_type": "stream",
     "text": [
      "GI heatmap:\n"
     ]
    },
    {
     "data": {
      "text/html": [
       "<span style=\"background-color:#fffcfc\">কে</span> <span style=\"background-color:#fffafa\">তো</span> <span style=\"background-color:#bcbcff\">মালউন</span> <span style=\"background-color:#e8e8ff\">বলবে</span> <span style=\"background-color:#ffa6a6\">তাই</span> <span style=\"background-color:#ffa2a2\">নয়</span> <span style=\"background-color:#fcfcff\">কি</span> <span style=\"background-color:#ffd8d8\">।</span> <span style=\"background-color:#7676ff\">ইন্ডিয়ায়</span> <span style=\"background-color:#7171ff\">মুসলিম</span> <span style=\"background-color:#9292ff\">ছাত্রদের</span> <span style=\"background-color:#8c8cff\">পুলিশ</span> <span style=\"background-color:#ff3636\">গুলি</span> <span style=\"background-color:#ff8282\">করে</span> <span style=\"background-color:#8a8aff\">মেরে</span> <span style=\"background-color:#8282ff\">আর</span> <span style=\"background-color:#ffdede\">এখানে</span> <span style=\"background-color:#0000ff\">তারা</span> <span style=\"background-color:#d8d8ff\">ঘুমাচ্ছে</span> <span style=\"background-color:#9c9cff\">।</span> \n"
      ],
      "text/plain": [
       "<IPython.core.display.HTML object>"
      ]
     },
     "metadata": {},
     "output_type": "display_data"
    },
    {
     "name": "stdout",
     "output_type": "stream",
     "text": [
      "-----------------------------------------------------------\n",
      "[  10 1106   15   38   38  454    0    0    0    0    0    0    0    0\n",
      "    0    0    0    0    0    0]\n",
      "(20,)\n",
      "[ 935 2887 2770   82 2838  100  435   61   13   25  308 1148  850    5\n",
      "  115   36   69 1982 5657 2603]\n",
      "(20,)\n",
      "Predicted label: Geopolitical Actual label: Personal\n",
      "LRP heatmap:\n"
     ]
    },
    {
     "data": {
      "text/html": [
       "<span style=\"background-color:#fefeff\">শত</span> <span style=\"background-color:#fffefe\">মুসলমানদেরকে</span> <span style=\"background-color:#fffefe\">মারতেছে</span> <span style=\"background-color:#fcfcff\">সরকার</span> <span style=\"background-color:#fffcfc\">প্রদান</span> <span style=\"background-color:#fefeff\">একটি</span> <span style=\"background-color:#fffcfc\">প্রতিবাদ</span> <span style=\"background-color:#fffefe\">করার</span> <span style=\"background-color:#fafaff\">তো</span> <span style=\"background-color:#ffe4e4\">কথা</span> <span style=\"background-color:#ffe8e8\">আরো</span> <span style=\"background-color:#fff4f4\">বাধা</span> <span style=\"background-color:#fff8f8\">দিচ্ছে</span> <span style=\"background-color:#f2f2ff\">এই</span> <span style=\"background-color:#f2f2ff\">হলো</span> <span style=\"background-color:#ececff\">বাংলাদেশের</span> <span style=\"background-color:#f0f0ff\">হলে</span> <span style=\"background-color:#dadaff\">এদেরকে</span> <span style=\"background-color:#b2b2ff\">বর্জন</span> <span style=\"background-color:#0000ff\">করো।</span> \n"
      ],
      "text/plain": [
       "<IPython.core.display.HTML object>"
      ]
     },
     "metadata": {},
     "output_type": "display_data"
    },
    {
     "name": "stdout",
     "output_type": "stream",
     "text": [
      "SA heatmap:\n"
     ]
    },
    {
     "data": {
      "text/html": [
       "<span style=\"background-color:#ffcccc\">শত</span> <span style=\"background-color:#ff8383\">মুসলমানদেরকে</span> <span style=\"background-color:#ffb6b6\">মারতেছে</span> <span style=\"background-color:#ffa3a3\">সরকার</span> <span style=\"background-color:#ff9696\">প্রদান</span> <span style=\"background-color:#ffe8e8\">একটি</span> <span style=\"background-color:#ffc6c6\">প্রতিবাদ</span> <span style=\"background-color:#ffdcdc\">করার</span> <span style=\"background-color:#ffecec\">তো</span> <span style=\"background-color:#fff0f0\">কথা</span> <span style=\"background-color:#fffafa\">আরো</span> <span style=\"background-color:#ffdede\">বাধা</span> <span style=\"background-color:#fff0f0\">দিচ্ছে</span> <span style=\"background-color:#fff2f2\">এই</span> <span style=\"background-color:#fff4f4\">হলো</span> <span style=\"background-color:#ffbebe\">বাংলাদেশের</span> <span style=\"background-color:#ffe6e6\">হলে</span> <span style=\"background-color:#ff0000\">এদেরকে</span> <span style=\"background-color:#ffb0b0\">বর্জন</span> <span style=\"background-color:#ff2c2c\">করো।</span> \n"
      ],
      "text/plain": [
       "<IPython.core.display.HTML object>"
      ]
     },
     "metadata": {},
     "output_type": "display_data"
    },
    {
     "name": "stdout",
     "output_type": "stream",
     "text": [
      "GI heatmap:\n"
     ]
    },
    {
     "data": {
      "text/html": [
       "<span style=\"background-color:#1414ff\">শত</span> <span style=\"background-color:#ff6060\">মুসলমানদেরকে</span> <span style=\"background-color:#3636ff\">মারতেছে</span> <span style=\"background-color:#ffb2b2\">সরকার</span> <span style=\"background-color:#c8c8ff\">প্রদান</span> <span style=\"background-color:#8686ff\">একটি</span> <span style=\"background-color:#3232ff\">প্রতিবাদ</span> <span style=\"background-color:#4141ff\">করার</span> <span style=\"background-color:#ffd0d0\">তো</span> <span style=\"background-color:#e3e3ff\">কথা</span> <span style=\"background-color:#d2d2ff\">আরো</span> <span style=\"background-color:#f6f6ff\">বাধা</span> <span style=\"background-color:#fffefe\">দিচ্ছে</span> <span style=\"background-color:#a3a3ff\">এই</span> <span style=\"background-color:#ffa6a6\">হলো</span> <span style=\"background-color:#ff4444\">বাংলাদেশের</span> <span style=\"background-color:#ffcccc\">হলে</span> <span style=\"background-color:#aaaaff\">এদেরকে</span> <span style=\"background-color:#0000ff\">বর্জন</span> <span style=\"background-color:#6060ff\">করো।</span> \n"
      ],
      "text/plain": [
       "<IPython.core.display.HTML object>"
      ]
     },
     "metadata": {},
     "output_type": "display_data"
    },
    {
     "name": "stdout",
     "output_type": "stream",
     "text": [
      "-----------------------------------------------------------\n",
      "[ 149  285  995   44  656 2707 1017  273   94   98  249   24  228  418\n",
      "   94 1372   74   59   15  695]\n",
      "(20,)\n",
      "Predicted label: Geopolitical Actual label: Personal\n",
      "LRP heatmap:\n"
     ]
    },
    {
     "data": {
      "text/html": [
       "<span style=\"background-color:#fefeff\">দেখে</span> <span style=\"background-color:#fefeff\">দিকে</span> <span style=\"background-color:#fefeff\">চাইলে</span> <span style=\"background-color:#fffefe\">মনে</span> <span style=\"background-color:#fffefe\">শান্তি</span> <span style=\"background-color:#fefeff\">লাগে।</span> <span style=\"background-color:#fffefe\">মিয়ানমারের</span> <span style=\"background-color:#fffefe\">মুসলিমদের</span> <span style=\"background-color:#fafaff\">হত্যা</span> <span style=\"background-color:#e6e6ff\">করছে</span> <span style=\"background-color:#ffeaea\">তর</span> <span style=\"background-color:#fcfcff\">কোন</span> <span style=\"background-color:#e2e2ff\">জাতি</span> <span style=\"background-color:#a3a3ff\">মালাউনদের</span> <span style=\"background-color:#ff1414\">হত্যা</span> <span style=\"background-color:#4949ff\">করত</span> <span style=\"background-color:#0000ff\">তাহলে</span> <span style=\"background-color:#ffb8b8\">দেশের</span> <span style=\"background-color:#4141ff\">জন্য</span> <span style=\"background-color:#5050ff\">থাকার</span> \n"
      ],
      "text/plain": [
       "<IPython.core.display.HTML object>"
      ]
     },
     "metadata": {},
     "output_type": "display_data"
    },
    {
     "name": "stdout",
     "output_type": "stream",
     "text": [
      "SA heatmap:\n"
     ]
    },
    {
     "data": {
      "text/html": [
       "<span style=\"background-color:#ffeaea\">দেখে</span> <span style=\"background-color:#ffd6d6\">দিকে</span> <span style=\"background-color:#ffbaba\">চাইলে</span> <span style=\"background-color:#fff6f6\">মনে</span> <span style=\"background-color:#ffc6c6\">শান্তি</span> <span style=\"background-color:#ffecec\">লাগে।</span> <span style=\"background-color:#ffecec\">মিয়ানমারের</span> <span style=\"background-color:#ffd6d6\">মুসলিমদের</span> <span style=\"background-color:#ffe8e8\">হত্যা</span> <span style=\"background-color:#ffecec\">করছে</span> <span style=\"background-color:#fffcfc\">তর</span> <span style=\"background-color:#fff0f0\">কোন</span> <span style=\"background-color:#ffaeae\">জাতি</span> <span style=\"background-color:#ffdede\">মালাউনদের</span> <span style=\"background-color:#ff0000\">হত্যা</span> <span style=\"background-color:#fff2f2\">করত</span> <span style=\"background-color:#fff6f6\">তাহলে</span> <span style=\"background-color:#ff7e7e\">দেশের</span> <span style=\"background-color:#ff8080\">জন্য</span> <span style=\"background-color:#ffe8e8\">থাকার</span> \n"
      ],
      "text/plain": [
       "<IPython.core.display.HTML object>"
      ]
     },
     "metadata": {},
     "output_type": "display_data"
    },
    {
     "name": "stdout",
     "output_type": "stream",
     "text": [
      "GI heatmap:\n"
     ]
    },
    {
     "data": {
      "text/html": [
       "<span style=\"background-color:#ffc3c3\">দেখে</span> <span style=\"background-color:#ff9292\">দিকে</span> <span style=\"background-color:#ff7676\">চাইলে</span> <span style=\"background-color:#ffeeee\">মনে</span> <span style=\"background-color:#7070ff\">শান্তি</span> <span style=\"background-color:#ffcaca\">লাগে।</span> <span style=\"background-color:#d8d8ff\">মিয়ানমারের</span> <span style=\"background-color:#7979ff\">মুসলিমদের</span> <span style=\"background-color:#ffacac\">হত্যা</span> <span style=\"background-color:#ffc6c6\">করছে</span> <span style=\"background-color:#ffe6e6\">তর</span> <span style=\"background-color:#ffe0e0\">কোন</span> <span style=\"background-color:#5e5eff\">জাতি</span> <span style=\"background-color:#ffacac\">মালাউনদের</span> <span style=\"background-color:#ff0000\">হত্যা</span> <span style=\"background-color:#ffd6d6\">করত</span> <span style=\"background-color:#fffcfc\">তাহলে</span> <span style=\"background-color:#ff4646\">দেশের</span> <span style=\"background-color:#ff3e3e\">জন্য</span> <span style=\"background-color:#b8b8ff\">থাকার</span> \n"
      ],
      "text/plain": [
       "<IPython.core.display.HTML object>"
      ]
     },
     "metadata": {},
     "output_type": "display_data"
    },
    {
     "name": "stdout",
     "output_type": "stream",
     "text": [
      "-----------------------------------------------------------\n",
      "[  41   36 2648   29  689   13   10   51  124  493   56   10  188   29\n",
      "  472    0    0    0    0    0]\n",
      "(20,)\n",
      "[  7 567 662 149  10 153 608  97  29   0   0   0   0   0   0   0   0   0\n",
      "   0   0]\n",
      "(20,)\n",
      "[1491  417  150 1308 1266  383 2988 1266  383    1    8   12 2107  292\n",
      "  498  101  793  153  443   32]\n",
      "(20,)\n",
      "Predicted label: Geopolitical Actual label: Personal\n",
      "LRP heatmap:\n"
     ]
    },
    {
     "data": {
      "text/html": [
       "<span style=\"background-color:#fffefe\">মিডিয়ার</span> <span style=\"background-color:#fcfcff\">বাচ্চা।</span> <span style=\"background-color:#fcfcff\">ওরা</span> <span style=\"background-color:#fefeff\">ঢুকে</span> <span style=\"background-color:#fcfcff\">চোখে</span> <span style=\"background-color:#fefeff\">পড়ে</span> <span style=\"background-color:#fffefe\">ওদেরকে</span> <span style=\"background-color:#fcfcff\">চোখে</span> <span style=\"background-color:#fffefe\">পড়ে</span> <span style=\"background-color:#fffcfc\">না</span> <span style=\"background-color:#ffeeee\">।</span> <span style=\"background-color:#fefeff\">আমি</span> <span style=\"background-color:#f8f8ff\">ঘৃনা</span> <span style=\"background-color:#aeaeff\">করি</span> <span style=\"background-color:#c6c6ff\">এইসব</span> <span style=\"background-color:#a6a6ff\">যারা</span> <span style=\"background-color:#ffcece\">অসহায়</span> <span style=\"background-color:#ff0000\">মানুষের</span> <span style=\"background-color:#ffdcdc\">পাশে</span> <span style=\"background-color:#8383ff\">না।</span> \n"
      ],
      "text/plain": [
       "<IPython.core.display.HTML object>"
      ]
     },
     "metadata": {},
     "output_type": "display_data"
    },
    {
     "name": "stdout",
     "output_type": "stream",
     "text": [
      "SA heatmap:\n"
     ]
    },
    {
     "data": {
      "text/html": [
       "<span style=\"background-color:#ffe8e8\">মিডিয়ার</span> <span style=\"background-color:#ffc6c6\">বাচ্চা।</span> <span style=\"background-color:#ffd0d0\">ওরা</span> <span style=\"background-color:#ff9898\">ঢুকে</span> <span style=\"background-color:#ff8c8c\">চোখে</span> <span style=\"background-color:#fff0f0\">পড়ে</span> <span style=\"background-color:#fff6f6\">ওদেরকে</span> <span style=\"background-color:#fff8f8\">চোখে</span> <span style=\"background-color:#fffafa\">পড়ে</span> <span style=\"background-color:#ffeeee\">না</span> <span style=\"background-color:#fffefe\">।</span> <span style=\"background-color:#fff4f4\">আমি</span> <span style=\"background-color:#fffafa\">ঘৃনা</span> <span style=\"background-color:#fff4f4\">করি</span> <span style=\"background-color:#fffafa\">এইসব</span> <span style=\"background-color:#ffdcdc\">যারা</span> <span style=\"background-color:#ffd0d0\">অসহায়</span> <span style=\"background-color:#ffb2b2\">মানুষের</span> <span style=\"background-color:#ff6c6c\">পাশে</span> <span style=\"background-color:#ff0000\">না।</span> \n"
      ],
      "text/plain": [
       "<IPython.core.display.HTML object>"
      ]
     },
     "metadata": {},
     "output_type": "display_data"
    },
    {
     "name": "stdout",
     "output_type": "stream",
     "text": [
      "GI heatmap:\n"
     ]
    },
    {
     "data": {
      "text/html": [
       "<span style=\"background-color:#ff6464\">মিডিয়ার</span> <span style=\"background-color:#8a8aff\">বাচ্চা।</span> <span style=\"background-color:#0000ff\">ওরা</span> <span style=\"background-color:#ff9898\">ঢুকে</span> <span style=\"background-color:#ff5151\">চোখে</span> <span style=\"background-color:#9090ff\">পড়ে</span> <span style=\"background-color:#ffe6e6\">ওদেরকে</span> <span style=\"background-color:#cacaff\">চোখে</span> <span style=\"background-color:#b3b3ff\">পড়ে</span> <span style=\"background-color:#ff6969\">না</span> <span style=\"background-color:#ececff\">।</span> <span style=\"background-color:#ff8080\">আমি</span> <span style=\"background-color:#fff6f6\">ঘৃনা</span> <span style=\"background-color:#bcbcff\">করি</span> <span style=\"background-color:#8686ff\">এইসব</span> <span style=\"background-color:#ff9393\">যারা</span> <span style=\"background-color:#e6e6ff\">অসহায়</span> <span style=\"background-color:#ff4e4e\">মানুষের</span> <span style=\"background-color:#ffa8a8\">পাশে</span> <span style=\"background-color:#ffd8d8\">না।</span> \n"
      ],
      "text/plain": [
       "<IPython.core.display.HTML object>"
      ]
     },
     "metadata": {},
     "output_type": "display_data"
    },
    {
     "name": "stdout",
     "output_type": "stream",
     "text": [
      "-----------------------------------------------------------\n",
      "[2687   21 1955  807   13  710 1160 1955  807    0    0    0    0    0\n",
      "    0    0    0    0    0    0]\n",
      "(20,)\n",
      "[ 358   30  278   22  978 1687 2607    0    0    0    0    0    0    0\n",
      "    0    0    0    0    0    0]\n",
      "(20,)\n",
      "[274   7  17   0   0   0   0   0   0   0   0   0   0   0   0   0   0   0\n",
      "   0   0]\n",
      "(20,)\n",
      "[   5  404   47  897 3849   74  202 1924  564 1777  256    2   99  436\n",
      "    0    0    0    0    0    0]\n",
      "(20,)\n",
      "[  56 4430   32 5965    3    4   23  112 1838   17  171 4928 1459   45\n",
      "   67  614  352 6278    3   45]\n",
      "(20,)\n",
      "Predicted label: Geopolitical Actual label: Personal\n",
      "LRP heatmap:\n"
     ]
    },
    {
     "data": {
      "text/html": [
       "<span style=\"background-color:#fffefe\">তাই</span> <span style=\"background-color:#fffefe\">জানিস</span> <span style=\"background-color:#fefeff\">না।</span> <span style=\"background-color:#fffefe\">মাদ্রাসা</span> <span style=\"background-color:#fffefe\">আর</span> <span style=\"background-color:#f2f2ff\">কি</span> <span style=\"background-color:#fff8f8\">এর</span> <span style=\"background-color:#eeeeff\">বেশি</span> <span style=\"background-color:#ffecec\">পোদ</span> <span style=\"background-color:#cacaff\">থেকে</span> <span style=\"background-color:#e3e3ff\">দুই</span> <span style=\"background-color:#ffe2e2\">তাল</span> <span style=\"background-color:#f6f6ff\">গু</span> <span style=\"background-color:#ffbcbc\">এ</span> <span style=\"background-color:#0000ff\">তোদের</span> <span style=\"background-color:#ffc0c0\">জারজ</span> <span style=\"background-color:#ff4444\">বাপ</span> <span style=\"background-color:#5858ff\">ফাকিস্তান</span> <span style=\"background-color:#ff9696\">আর</span> <span style=\"background-color:#f6f6ff\">এ</span> \n"
      ],
      "text/plain": [
       "<IPython.core.display.HTML object>"
      ]
     },
     "metadata": {},
     "output_type": "display_data"
    },
    {
     "name": "stdout",
     "output_type": "stream",
     "text": [
      "SA heatmap:\n"
     ]
    },
    {
     "data": {
      "text/html": [
       "<span style=\"background-color:#fff0f0\">তাই</span> <span style=\"background-color:#ffacac\">জানিস</span> <span style=\"background-color:#ffe6e6\">না।</span> <span style=\"background-color:#ff7070\">মাদ্রাসা</span> <span style=\"background-color:#ff2c2c\">আর</span> <span style=\"background-color:#ffc8c8\">কি</span> <span style=\"background-color:#ffe2e2\">এর</span> <span style=\"background-color:#ffe2e2\">বেশি</span> <span style=\"background-color:#ffe6e6\">পোদ</span> <span style=\"background-color:#ffe8e8\">থেকে</span> <span style=\"background-color:#fff0f0\">দুই</span> <span style=\"background-color:#ffd6d6\">তাল</span> <span style=\"background-color:#ffcaca\">গু</span> <span style=\"background-color:#fff2f2\">এ</span> <span style=\"background-color:#ffe6e6\">তোদের</span> <span style=\"background-color:#ffacac\">জারজ</span> <span style=\"background-color:#ffd8d8\">বাপ</span> <span style=\"background-color:#ff0000\">ফাকিস্তান</span> <span style=\"background-color:#ff5959\">আর</span> <span style=\"background-color:#ff2e2e\">এ</span> \n"
      ],
      "text/plain": [
       "<IPython.core.display.HTML object>"
      ]
     },
     "metadata": {},
     "output_type": "display_data"
    },
    {
     "name": "stdout",
     "output_type": "stream",
     "text": [
      "GI heatmap:\n"
     ]
    },
    {
     "data": {
      "text/html": [
       "<span style=\"background-color:#ffdede\">তাই</span> <span style=\"background-color:#6868ff\">জানিস</span> <span style=\"background-color:#fffcfc\">না।</span> <span style=\"background-color:#ff3838\">মাদ্রাসা</span> <span style=\"background-color:#0000ff\">আর</span> <span style=\"background-color:#ff8a8a\">কি</span> <span style=\"background-color:#dadaff\">এর</span> <span style=\"background-color:#c6c6ff\">বেশি</span> <span style=\"background-color:#e0e0ff\">পোদ</span> <span style=\"background-color:#ffd2d2\">থেকে</span> <span style=\"background-color:#f8f8ff\">দুই</span> <span style=\"background-color:#bcbcff\">তাল</span> <span style=\"background-color:#ff9c9c\">গু</span> <span style=\"background-color:#d8d8ff\">এ</span> <span style=\"background-color:#fff8f8\">তোদের</span> <span style=\"background-color:#ff7070\">জারজ</span> <span style=\"background-color:#ff9090\">বাপ</span> <span style=\"background-color:#ff2929\">ফাকিস্তান</span> <span style=\"background-color:#3030ff\">আর</span> <span style=\"background-color:#ff0c0c\">এ</span> \n"
      ],
      "text/plain": [
       "<IPython.core.display.HTML object>"
      ]
     },
     "metadata": {},
     "output_type": "display_data"
    },
    {
     "name": "stdout",
     "output_type": "stream",
     "text": [
      "-----------------------------------------------------------\n",
      "[7474   22   10 1043 2352   55 5556   13    0    0    0    0    0    0\n",
      "    0    0    0    0    0    0]\n",
      "(20,)\n",
      "[  72 1564  996   18  212    0    0    0    0    0    0    0    0    0\n",
      "    0    0    0    0    0    0]\n",
      "(20,)\n",
      "[ 819 2480  548  652  849  140 1982   90  726  355   98   82   82   39\n",
      "  885  102  760 2105  503  228]\n",
      "(20,)\n",
      "Predicted label: Geopolitical Actual label: Personal\n",
      "LRP heatmap:\n"
     ]
    },
    {
     "data": {
      "text/html": [
       "<span style=\"background-color:#fffcfc\">মাদার</span> <span style=\"background-color:#fefeff\">চুদ</span> <span style=\"background-color:#fffefe\">খালি</span> <span style=\"background-color:#fffefe\">পুটকি</span> <span style=\"background-color:#fffefe\">মারার</span> <span style=\"background-color:#fefeff\">দরকার</span> <span style=\"background-color:#fcfcff\">এদেরকে</span> <span style=\"background-color:#fefeff\">আবার</span> <span style=\"background-color:#fff8f8\">কিসের</span> <span style=\"background-color:#fff6f6\">সাহায্য</span> <span style=\"background-color:#e3e3ff\">করছে</span> <span style=\"background-color:#fff4f4\">সরকার</span> <span style=\"background-color:#eeeeff\">সরকার</span> <span style=\"background-color:#ffbebe\">কিছু</span> <span style=\"background-color:#b0b0ff\">খাইছে</span> <span style=\"background-color:#ff8686\">নাকি</span> <span style=\"background-color:#ffb0b0\">মালাউনরা</span> <span style=\"background-color:#6e6eff\">দুনিয়ার</span> <span style=\"background-color:#ffbebe\">সবচেয়ে</span> <span style=\"background-color:#ff0000\">জাতি</span> \n"
      ],
      "text/plain": [
       "<IPython.core.display.HTML object>"
      ]
     },
     "metadata": {},
     "output_type": "display_data"
    },
    {
     "name": "stdout",
     "output_type": "stream",
     "text": [
      "SA heatmap:\n"
     ]
    },
    {
     "data": {
      "text/html": [
       "<span style=\"background-color:#fff4f4\">মাদার</span> <span style=\"background-color:#ffe0e0\">চুদ</span> <span style=\"background-color:#ffa8a8\">খালি</span> <span style=\"background-color:#ffdcdc\">পুটকি</span> <span style=\"background-color:#ff9696\">মারার</span> <span style=\"background-color:#fff2f2\">দরকার</span> <span style=\"background-color:#fff8f8\">এদেরকে</span> <span style=\"background-color:#ff0000\">আবার</span> <span style=\"background-color:#ffecec\">কিসের</span> <span style=\"background-color:#ff9c9c\">সাহায্য</span> <span style=\"background-color:#fffafa\">করছে</span> <span style=\"background-color:#fff2f2\">সরকার</span> <span style=\"background-color:#fff0f0\">সরকার</span> <span style=\"background-color:#ffe2e2\">কিছু</span> <span style=\"background-color:#fff6f6\">খাইছে</span> <span style=\"background-color:#ff5959\">নাকি</span> <span style=\"background-color:#ffa8a8\">মালাউনরা</span> <span style=\"background-color:#fff6f6\">দুনিয়ার</span> <span style=\"background-color:#fffafa\">সবচেয়ে</span> <span style=\"background-color:#ffdede\">জাতি</span> \n"
      ],
      "text/plain": [
       "<IPython.core.display.HTML object>"
      ]
     },
     "metadata": {},
     "output_type": "display_data"
    },
    {
     "name": "stdout",
     "output_type": "stream",
     "text": [
      "GI heatmap:\n"
     ]
    },
    {
     "data": {
      "text/html": [
       "<span style=\"background-color:#ff4c4c\">মাদার</span> <span style=\"background-color:#ececff\">চুদ</span> <span style=\"background-color:#a2a2ff\">খালি</span> <span style=\"background-color:#ff6666\">পুটকি</span> <span style=\"background-color:#8a8aff\">মারার</span> <span style=\"background-color:#9898ff\">দরকার</span> <span style=\"background-color:#ff7878\">এদেরকে</span> <span style=\"background-color:#ffc2c2\">আবার</span> <span style=\"background-color:#fff0f0\">কিসের</span> <span style=\"background-color:#ff0000\">সাহায্য</span> <span style=\"background-color:#ffd0d0\">করছে</span> <span style=\"background-color:#ff3838\">সরকার</span> <span style=\"background-color:#ffa6a6\">সরকার</span> <span style=\"background-color:#ff9292\">কিছু</span> <span style=\"background-color:#dcdcff\">খাইছে</span> <span style=\"background-color:#eaeaff\">নাকি</span> <span style=\"background-color:#ffe4e4\">মালাউনরা</span> <span style=\"background-color:#7171ff\">দুনিয়ার</span> <span style=\"background-color:#c8c8ff\">সবচেয়ে</span> <span style=\"background-color:#ffe8e8\">জাতি</span> \n"
      ],
      "text/plain": [
       "<IPython.core.display.HTML object>"
      ]
     },
     "metadata": {},
     "output_type": "display_data"
    },
    {
     "name": "stdout",
     "output_type": "stream",
     "text": [
      "-----------------------------------------------------------\n",
      "[ 946 5429   44  383    4 2416 1648    0    0    0    0    0    0    0\n",
      "    0    0    0    0    0    0]\n",
      "(20,)\n",
      "[ 107  247   51  138  226 1881  224 1606 2839    0    0    0    0    0\n",
      "    0    0    0    0    0    0]\n",
      "(20,)\n",
      "[ 663 6921 3992  551  558 1426   57 2601  613  702    0    0    0    0\n",
      "    0    0    0    0    0    0]\n",
      "(20,)\n",
      "[1172 3345   40  979  301 4261    8 1976   24  182   72  368   23   15\n",
      "  306  358  476 2186  228   27]\n",
      "(20,)\n",
      "Predicted label: Geopolitical Actual label: Personal\n",
      "LRP heatmap:\n"
     ]
    },
    {
     "data": {
      "text/html": [
       "<span style=\"background-color:#fefeff\">কিছুদিন</span> <span style=\"background-color:#fffefe\">আগেও</span> <span style=\"background-color:#fefeff\">বাংলাদেশ</span> <span style=\"background-color:#fffefe\">হুমকি</span> <span style=\"background-color:#fffefe\">দিয়েছে</span> <span style=\"background-color:#fefeff\">লোকটা</span> <span style=\"background-color:#fefeff\">।</span> <span style=\"background-color:#fefeff\">তারপরেও</span> <span style=\"background-color:#fffefe\">কোন</span> <span style=\"background-color:#fefeff\">মুখে</span> <span style=\"background-color:#fefeff\">বাংলাদেশে</span> <span style=\"background-color:#fcfcff\">আসে</span> <span style=\"background-color:#fffafa\">এর</span> <span style=\"background-color:#f8f8ff\">জন্য</span> <span style=\"background-color:#d2d2ff\">ই</span> <span style=\"background-color:#ececff\">ভারতকে</span> <span style=\"background-color:#eaeaff\">পা</span> <span style=\"background-color:#aeaeff\">চাটা</span> <span style=\"background-color:#9292ff\">জাতি</span> <span style=\"background-color:#ff0000\">বলে</span> \n"
      ],
      "text/plain": [
       "<IPython.core.display.HTML object>"
      ]
     },
     "metadata": {},
     "output_type": "display_data"
    },
    {
     "name": "stdout",
     "output_type": "stream",
     "text": [
      "SA heatmap:\n"
     ]
    },
    {
     "data": {
      "text/html": [
       "<span style=\"background-color:#ffdede\">কিছুদিন</span> <span style=\"background-color:#ffa3a3\">আগেও</span> <span style=\"background-color:#ff5454\">বাংলাদেশ</span> <span style=\"background-color:#ffbcbc\">হুমকি</span> <span style=\"background-color:#ffaeae\">দিয়েছে</span> <span style=\"background-color:#ffe2e2\">লোকটা</span> <span style=\"background-color:#ffb6b6\">।</span> <span style=\"background-color:#ff9696\">তারপরেও</span> <span style=\"background-color:#ffe2e2\">কোন</span> <span style=\"background-color:#ffa0a0\">মুখে</span> <span style=\"background-color:#ff7e7e\">বাংলাদেশে</span> <span style=\"background-color:#ff6868\">আসে</span> <span style=\"background-color:#ffcccc\">এর</span> <span style=\"background-color:#ff5050\">জন্য</span> <span style=\"background-color:#ffecec\">ই</span> <span style=\"background-color:#ffb8b8\">ভারতকে</span> <span style=\"background-color:#ff5656\">পা</span> <span style=\"background-color:#ff7474\">চাটা</span> <span style=\"background-color:#ff0000\">জাতি</span> <span style=\"background-color:#ff9292\">বলে</span> \n"
      ],
      "text/plain": [
       "<IPython.core.display.HTML object>"
      ]
     },
     "metadata": {},
     "output_type": "display_data"
    },
    {
     "name": "stdout",
     "output_type": "stream",
     "text": [
      "GI heatmap:\n"
     ]
    },
    {
     "data": {
      "text/html": [
       "<span style=\"background-color:#e3e3ff\">কিছুদিন</span> <span style=\"background-color:#ffc0c0\">আগেও</span> <span style=\"background-color:#ff4444\">বাংলাদেশ</span> <span style=\"background-color:#e8e8ff\">হুমকি</span> <span style=\"background-color:#ff9393\">দিয়েছে</span> <span style=\"background-color:#8080ff\">লোকটা</span> <span style=\"background-color:#ff8888\">।</span> <span style=\"background-color:#ff6c6c\">তারপরেও</span> <span style=\"background-color:#8e8eff\">কোন</span> <span style=\"background-color:#ffd0d0\">মুখে</span> <span style=\"background-color:#ececff\">বাংলাদেশে</span> <span style=\"background-color:#ff8e8e\">আসে</span> <span style=\"background-color:#8888ff\">এর</span> <span style=\"background-color:#d3d3ff\">জন্য</span> <span style=\"background-color:#e2e2ff\">ই</span> <span style=\"background-color:#ff4848\">ভারতকে</span> <span style=\"background-color:#0000ff\">পা</span> <span style=\"background-color:#cacaff\">চাটা</span> <span style=\"background-color:#ff4848\">জাতি</span> <span style=\"background-color:#ffb2b2\">বলে</span> \n"
      ],
      "text/plain": [
       "<IPython.core.display.HTML object>"
      ]
     },
     "metadata": {},
     "output_type": "display_data"
    },
    {
     "name": "stdout",
     "output_type": "stream",
     "text": [
      "-----------------------------------------------------------\n",
      "[ 178 3819  195   10    0    0    0    0    0    0    0    0    0    0\n",
      "    0    0    0    0    0    0]\n",
      "(20,)\n",
      "[  22  957 1441   10 3543   88 1087    2 6335 2936 2038  592 2385    0\n",
      "    0    0    0    0    0    0]\n",
      "(20,)\n",
      "[   7  355  151   62   37   15   75   15 4089  436   62   44 1324    7\n",
      "  355  151 1181   38 7620 2385]\n",
      "(20,)\n",
      "Predicted label: Geopolitical Actual label: Personal\n",
      "LRP heatmap:\n"
     ]
    },
    {
     "data": {
      "text/html": [
       "<span style=\"background-color:#fffefe\">ভারত</span> <span style=\"background-color:#fefeff\">সাহায্য</span> <span style=\"background-color:#fffcfc\">করেছে</span> <span style=\"background-color:#fafaff\">এটা</span> <span style=\"background-color:#fcfcff\">আমাদের</span> <span style=\"background-color:#fefeff\">জন্য</span> <span style=\"background-color:#fcfcff\">অনেক</span> <span style=\"background-color:#fefeff\">জন্য</span> <span style=\"background-color:#fffcfc\">কৃতজ্ঞতা</span> <span style=\"background-color:#fffefe\">প্রকাশ</span> <span style=\"background-color:#fefeff\">এটা</span> <span style=\"background-color:#fff6f6\">মনে</span> <span style=\"background-color:#ececff\">রাখবেন</span> <span style=\"background-color:#ffd6d6\">ভারত</span> <span style=\"background-color:#ffdcdc\">সাহায্য</span> <span style=\"background-color:#ffbaba\">করেছে</span> <span style=\"background-color:#fff6f6\">শুধুমাত্র</span> <span style=\"background-color:#a0a0ff\">তাদের</span> <span style=\"background-color:#ff0000\">স্বার্থের</span> <span style=\"background-color:#ffcaca\">জন্য।</span> \n"
      ],
      "text/plain": [
       "<IPython.core.display.HTML object>"
      ]
     },
     "metadata": {},
     "output_type": "display_data"
    },
    {
     "name": "stdout",
     "output_type": "stream",
     "text": [
      "SA heatmap:\n"
     ]
    },
    {
     "data": {
      "text/html": [
       "<span style=\"background-color:#ffd3d3\">ভারত</span> <span style=\"background-color:#ffdcdc\">সাহায্য</span> <span style=\"background-color:#ff6969\">করেছে</span> <span style=\"background-color:#ff9292\">এটা</span> <span style=\"background-color:#ffacac\">আমাদের</span> <span style=\"background-color:#ff6060\">জন্য</span> <span style=\"background-color:#ffdada\">অনেক</span> <span style=\"background-color:#ffdede\">জন্য</span> <span style=\"background-color:#ff6969\">কৃতজ্ঞতা</span> <span style=\"background-color:#ffd0d0\">প্রকাশ</span> <span style=\"background-color:#ffdcdc\">এটা</span> <span style=\"background-color:#ffbcbc\">মনে</span> <span style=\"background-color:#ff0000\">রাখবেন</span> <span style=\"background-color:#fffafa\">ভারত</span> <span style=\"background-color:#ffcece\">সাহায্য</span> <span style=\"background-color:#ffeeee\">করেছে</span> <span style=\"background-color:#ffb6b6\">শুধুমাত্র</span> <span style=\"background-color:#ff8080\">তাদের</span> <span style=\"background-color:#ffc8c8\">স্বার্থের</span> <span style=\"background-color:#ffc8c8\">জন্য।</span> \n"
      ],
      "text/plain": [
       "<IPython.core.display.HTML object>"
      ]
     },
     "metadata": {},
     "output_type": "display_data"
    },
    {
     "name": "stdout",
     "output_type": "stream",
     "text": [
      "GI heatmap:\n"
     ]
    },
    {
     "data": {
      "text/html": [
       "<span style=\"background-color:#ff9e9e\">ভারত</span> <span style=\"background-color:#ff9696\">সাহায্য</span> <span style=\"background-color:#3434ff\">করেছে</span> <span style=\"background-color:#acacff\">এটা</span> <span style=\"background-color:#7474ff\">আমাদের</span> <span style=\"background-color:#d6d6ff\">জন্য</span> <span style=\"background-color:#ffc3c3\">অনেক</span> <span style=\"background-color:#acacff\">জন্য</span> <span style=\"background-color:#ffb2b2\">কৃতজ্ঞতা</span> <span style=\"background-color:#ff9090\">প্রকাশ</span> <span style=\"background-color:#ffd3d3\">এটা</span> <span style=\"background-color:#e2e2ff\">মনে</span> <span style=\"background-color:#ff0000\">রাখবেন</span> <span style=\"background-color:#f8f8ff\">ভারত</span> <span style=\"background-color:#d3d3ff\">সাহায্য</span> <span style=\"background-color:#ffeaea\">করেছে</span> <span style=\"background-color:#ffecec\">শুধুমাত্র</span> <span style=\"background-color:#a6a6ff\">তাদের</span> <span style=\"background-color:#cacaff\">স্বার্থের</span> <span style=\"background-color:#a3a3ff\">জন্য।</span> \n"
      ],
      "text/plain": [
       "<IPython.core.display.HTML object>"
      ]
     },
     "metadata": {},
     "output_type": "display_data"
    },
    {
     "name": "stdout",
     "output_type": "stream",
     "text": [
      "-----------------------------------------------------------\n",
      "[  36  503 1606    0    0    0    0    0    0    0    0    0    0    0\n",
      "    0    0    0    0    0    0]\n",
      "(20,)\n",
      "[  49 2040   33   13   65    2  202   67 1715    0    0    0    0    0\n",
      "    0    0    0    0    0    0]\n",
      "(20,)\n",
      "[8941 4802    5  500  721 4869 2106   88 4277  806  227  206    7  151\n",
      "    3 1168    2   10  175  812]\n",
      "(20,)\n",
      "Predicted label: Geopolitical Actual label: Personal\n",
      "LRP heatmap:\n"
     ]
    },
    {
     "data": {
      "text/html": [
       "<span style=\"background-color:#fffefe\">আগমন</span> <span style=\"background-color:#fffefe\">বিন</span> <span style=\"background-color:#fffefe\">এই</span> <span style=\"background-color:#fefeff\">সঙ্গে</span> <span style=\"background-color:#fffefe\">আরও</span> <span style=\"background-color:#fffefe\">ধারনা</span> <span style=\"background-color:#fffefe\">বিদেশী</span> <span style=\"background-color:#fefeff\">এবং</span> <span style=\"background-color:#fffafa\">তাঁরা</span> <span style=\"background-color:#fffcfc\">বিনা</span> <span style=\"background-color:#fefeff\">কারণ</span> <span style=\"background-color:#e6e6ff\">বা</span> <span style=\"background-color:#fcfcff\">ভারত</span> <span style=\"background-color:#fff0f0\">করেছে</span> <span style=\"background-color:#eaeaff\">আর</span> <span style=\"background-color:#3636ff\">জোর</span> <span style=\"background-color:#e0e0ff\">করে</span> <span style=\"background-color:#0000ff\">ভারতের</span> <span style=\"background-color:#5050ff\">মুসলমান</span> <span style=\"background-color:#ececff\">করেছে।</span> \n"
      ],
      "text/plain": [
       "<IPython.core.display.HTML object>"
      ]
     },
     "metadata": {},
     "output_type": "display_data"
    },
    {
     "name": "stdout",
     "output_type": "stream",
     "text": [
      "SA heatmap:\n"
     ]
    },
    {
     "data": {
      "text/html": [
       "<span style=\"background-color:#fffcfc\">আগমন</span> <span style=\"background-color:#ffa8a8\">বিন</span> <span style=\"background-color:#ffcaca\">এই</span> <span style=\"background-color:#ffe2e2\">সঙ্গে</span> <span style=\"background-color:#ffdcdc\">আরও</span> <span style=\"background-color:#ffcece\">ধারনা</span> <span style=\"background-color:#fff4f4\">বিদেশী</span> <span style=\"background-color:#ffdada\">এবং</span> <span style=\"background-color:#fff6f6\">তাঁরা</span> <span style=\"background-color:#ffd0d0\">বিনা</span> <span style=\"background-color:#fff4f4\">কারণ</span> <span style=\"background-color:#ffc3c3\">বা</span> <span style=\"background-color:#ff6c6c\">ভারত</span> <span style=\"background-color:#fff8f8\">করেছে</span> <span style=\"background-color:#ff0000\">আর</span> <span style=\"background-color:#ffcece\">জোর</span> <span style=\"background-color:#ffe8e8\">করে</span> <span style=\"background-color:#ff6e6e\">ভারতের</span> <span style=\"background-color:#ffa6a6\">মুসলমান</span> <span style=\"background-color:#fffafa\">করেছে।</span> \n"
      ],
      "text/plain": [
       "<IPython.core.display.HTML object>"
      ]
     },
     "metadata": {},
     "output_type": "display_data"
    },
    {
     "name": "stdout",
     "output_type": "stream",
     "text": [
      "GI heatmap:\n"
     ]
    },
    {
     "data": {
      "text/html": [
       "<span style=\"background-color:#e0e0ff\">আগমন</span> <span style=\"background-color:#1616ff\">বিন</span> <span style=\"background-color:#ffbcbc\">এই</span> <span style=\"background-color:#ffc2c2\">সঙ্গে</span> <span style=\"background-color:#e3e3ff\">আরও</span> <span style=\"background-color:#ff9393\">ধারনা</span> <span style=\"background-color:#bebeff\">বিদেশী</span> <span style=\"background-color:#ffe2e2\">এবং</span> <span style=\"background-color:#fff0f0\">তাঁরা</span> <span style=\"background-color:#ff7171\">বিনা</span> <span style=\"background-color:#ff7c7c\">কারণ</span> <span style=\"background-color:#ff8e8e\">বা</span> <span style=\"background-color:#0000ff\">ভারত</span> <span style=\"background-color:#ffe4e4\">করেছে</span> <span style=\"background-color:#6161ff\">আর</span> <span style=\"background-color:#ff5656\">জোর</span> <span style=\"background-color:#ffe2e2\">করে</span> <span style=\"background-color:#ff7171\">ভারতের</span> <span style=\"background-color:#ffe6e6\">মুসলমান</span> <span style=\"background-color:#ececff\">করেছে।</span> \n"
      ],
      "text/plain": [
       "<IPython.core.display.HTML object>"
      ]
     },
     "metadata": {},
     "output_type": "display_data"
    },
    {
     "name": "stdout",
     "output_type": "stream",
     "text": [
      "-----------------------------------------------------------\n",
      "[1266  149  406   37  992  281 5285    7 6264  820    0    0    0    0\n",
      "    0    0    0    0    0    0]\n",
      "(20,)\n",
      "[1505   81   33   22  364  614    0    0    0    0    0    0    0    0\n",
      "    0    0    0    0    0    0]\n",
      "(20,)\n",
      "[2081 1465  256   36 2018    0    0    0    0    0    0    0    0    0\n",
      "    0    0    0    0    0    0]\n",
      "(20,)\n",
      "[5210 2933    2 1836  578  423 4870 1812   98    0    0    0    0    0\n",
      "    0    0    0    0    0    0]\n",
      "(20,)\n",
      "[  40   41    3 4931   48  465    0    0    0    0    0    0    0    0\n",
      "    0    0    0    0    0    0]\n",
      "(20,)\n",
      "[ 10   4  16  10 824 986  10 194 113   0   0   0   0   0   0   0   0   0\n",
      "   0   0]\n",
      "(20,)\n",
      "[  40 6550 6445  313    9 2875    0    0    0    0    0    0    0    0\n",
      "    0    0    0    0    0    0]\n",
      "(20,)\n",
      "[2795   95   96    1  917 3300   83   83 3984   30 1807   41   65    0\n",
      "    0    0    0    0    0    0]\n",
      "(20,)\n",
      "[9167 3957  500 4222   34  310   57  319    0    0    0    0    0    0\n",
      "    0    0    0    0    0    0]\n",
      "(20,)\n",
      "[572 353   1  42 180  46 765   0   0   0   0   0   0   0   0   0   0   0\n",
      "   0   0]\n",
      "(20,)\n",
      "[  28 7821   45   10    0    0    0    0    0    0    0    0    0    0\n",
      "    0    0    0    0    0    0]\n",
      "(20,)\n",
      "[  36 3258 2314   50 5712 5736    3 1482  142 6540  451   10  451  221\n",
      "   27 7394  553 1700 1440 8668]\n",
      "(20,)\n",
      "Predicted label: Geopolitical Actual label: Personal\n",
      "LRP heatmap:\n"
     ]
    },
    {
     "data": {
      "text/html": [
       "<span style=\"background-color:#fffefe\">বাংলাদেশের</span> <span style=\"background-color:#fffefe\">পাকা</span> <span style=\"background-color:#fffafa\">হারামি</span> <span style=\"background-color:#fffcfc\">তারা</span> <span style=\"background-color:#ffeeee\">নিজেদেরকে</span> <span style=\"background-color:#ffe6e6\">শের</span> <span style=\"background-color:#fff4f4\">আর</span> <span style=\"background-color:#ffe6e6\">শুয়োর</span> <span style=\"background-color:#ffe2e2\">শুধু</span> <span style=\"background-color:#ececff\">আম্পায়ারের</span> <span style=\"background-color:#fffafa\">দোষ</span> <span style=\"background-color:#ffdede\">ভারতের</span> <span style=\"background-color:#babaff\">দোষ</span> <span style=\"background-color:#ffe4e4\">এসব</span> <span style=\"background-color:#5151ff\">বলে</span> <span style=\"background-color:#ff2121\">নাচানাচি</span> <span style=\"background-color:#8888ff\">আপনারা</span> <span style=\"background-color:#bebeff\">যোগ্য</span> <span style=\"background-color:#0e0eff\">অকৃতজ্ঞ</span> <span style=\"background-color:#0000ff\">ছোটলোক</span> \n"
      ],
      "text/plain": [
       "<IPython.core.display.HTML object>"
      ]
     },
     "metadata": {},
     "output_type": "display_data"
    },
    {
     "name": "stdout",
     "output_type": "stream",
     "text": [
      "SA heatmap:\n"
     ]
    },
    {
     "data": {
      "text/html": [
       "<span style=\"background-color:#ffe6e6\">বাংলাদেশের</span> <span style=\"background-color:#ff8686\">পাকা</span> <span style=\"background-color:#ffbaba\">হারামি</span> <span style=\"background-color:#ffd6d6\">তারা</span> <span style=\"background-color:#ffeeee\">নিজেদেরকে</span> <span style=\"background-color:#ffe8e8\">শের</span> <span style=\"background-color:#ffeaea\">আর</span> <span style=\"background-color:#ffbcbc\">শুয়োর</span> <span style=\"background-color:#ffe2e2\">শুধু</span> <span style=\"background-color:#ffc3c3\">আম্পায়ারের</span> <span style=\"background-color:#ffeeee\">দোষ</span> <span style=\"background-color:#ffa3a3\">ভারতের</span> <span style=\"background-color:#ffeeee\">দোষ</span> <span style=\"background-color:#fffcfc\">এসব</span> <span style=\"background-color:#ff0000\">বলে</span> <span style=\"background-color:#ffcaca\">নাচানাচি</span> <span style=\"background-color:#ffeaea\">আপনারা</span> <span style=\"background-color:#ff2626\">যোগ্য</span> <span style=\"background-color:#ff9e9e\">অকৃতজ্ঞ</span> <span style=\"background-color:#ffa3a3\">ছোটলোক</span> \n"
      ],
      "text/plain": [
       "<IPython.core.display.HTML object>"
      ]
     },
     "metadata": {},
     "output_type": "display_data"
    },
    {
     "name": "stdout",
     "output_type": "stream",
     "text": [
      "GI heatmap:\n"
     ]
    },
    {
     "data": {
      "text/html": [
       "<span style=\"background-color:#a6a6ff\">বাংলাদেশের</span> <span style=\"background-color:#ffb2b2\">পাকা</span> <span style=\"background-color:#ff9393\">হারামি</span> <span style=\"background-color:#8e8eff\">তারা</span> <span style=\"background-color:#dedeff\">নিজেদেরকে</span> <span style=\"background-color:#ffdada\">শের</span> <span style=\"background-color:#a6a6ff\">আর</span> <span style=\"background-color:#7676ff\">শুয়োর</span> <span style=\"background-color:#ffacac\">শুধু</span> <span style=\"background-color:#ff9e9e\">আম্পায়ারের</span> <span style=\"background-color:#ffc3c3\">দোষ</span> <span style=\"background-color:#a6a6ff\">ভারতের</span> <span style=\"background-color:#ffe8e8\">দোষ</span> <span style=\"background-color:#fff8f8\">এসব</span> <span style=\"background-color:#0000ff\">বলে</span> <span style=\"background-color:#dcdcff\">নাচানাচি</span> <span style=\"background-color:#ffb8b8\">আপনারা</span> <span style=\"background-color:#ff0e0e\">যোগ্য</span> <span style=\"background-color:#ffe8e8\">অকৃতজ্ঞ</span> <span style=\"background-color:#ff3838\">ছোটলোক</span> \n"
      ],
      "text/plain": [
       "<IPython.core.display.HTML object>"
      ]
     },
     "metadata": {},
     "output_type": "display_data"
    },
    {
     "name": "stdout",
     "output_type": "stream",
     "text": [
      "-----------------------------------------------------------\n",
      "[  10 3060    1    2  662   19 3648  434  120  145    0    0    0    0\n",
      "    0    0    0    0    0    0]\n",
      "(20,)\n",
      "[ 40  76 589 186  27   0   0   0   0   0   0   0   0   0   0   0   0   0\n",
      "   0   0]\n",
      "(20,)\n",
      "[  5 115  10 676   0   0   0   0   0   0   0   0   0   0   0   0   0   0\n",
      "   0   0]\n",
      "(20,)\n",
      "[  67   54 2092 1621   18  966    7    3 5380  492  148  119   73    0\n",
      "    0    0    0    0    0    0]\n",
      "(20,)\n",
      "[ 10 196  69  62 188   3  10 734  69   0   0   0   0   0   0   0   0   0\n",
      "   0   0]\n",
      "(20,)\n",
      "[4496 7573  573 2990  538    2  850    0    0    0    0    0    0    0\n",
      "    0    0    0    0    0    0]\n",
      "(20,)\n",
      "[  72  100 1041 1878   88   52 1874    0    0    0    0    0    0    0\n",
      "    0    0    0    0    0    0]\n",
      "(20,)\n",
      "[1707 2256    0    0    0    0    0    0    0    0    0    0    0    0\n",
      "    0    0    0    0    0    0]\n",
      "(20,)\n",
      "[1647    9 7310  924   18 7311  761 1648 7312 7313 1707    0    0    0\n",
      "    0    0    0    0    0    0]\n",
      "(20,)\n",
      "[2177   28   14   10  188   62  134  336    0    0    0    0    0    0\n",
      "    0    0    0    0    0    0]\n",
      "(20,)\n",
      "[1101 1312  181   60 1041  508 1306  831    0    0    0    0    0    0\n",
      "    0    0    0    0    0    0]\n",
      "(20,)\n",
      "[ 758    4  117    1   10  476 2186    0    0    0    0    0    0    0\n",
      "    0    0    0    0    0    0]\n",
      "(20,)\n",
      "[7381 4228 2609    8   10   24  470    0    0    0    0    0    0    0\n",
      "    0    0    0    0    0    0]\n",
      "(20,)\n",
      "[3814   18 2237 5235    9  717  500  202 1763 1293   10  372  186  163\n",
      "  924 3999 1043   69 3999  785]\n",
      "(20,)\n",
      "Predicted label: Geopolitical Actual label: Personal\n",
      "LRP heatmap:\n"
     ]
    },
    {
     "data": {
      "text/html": [
       "<span style=\"background-color:#fffefe\">আলাপ</span> <span style=\"background-color:#fffefe\">করতে</span> <span style=\"background-color:#fffefe\">বিমান</span> <span style=\"background-color:#fffefe\">পরিবহন</span> <span style=\"background-color:#fffefe\">ও</span> <span style=\"background-color:#fffefe\">খান</span> <span style=\"background-color:#fffefe\">সঙ্গে</span> <span style=\"background-color:#fffefe\">দেখা</span> <span style=\"background-color:#fefeff\">করেন।</span> <span style=\"background-color:#fffefe\">এদিকে</span> <span style=\"background-color:#fffcfc\">ভারতের</span> <span style=\"background-color:#fafaff\">বলা</span> <span style=\"background-color:#f0f0ff\">হয়েছে</span> <span style=\"background-color:#fff0f0\">মধ্যে</span> <span style=\"background-color:#e3e3ff\">মুক্ত</span> <span style=\"background-color:#ffdede\">আকাশ</span> <span style=\"background-color:#ffbebe\">চুক্তি</span> <span style=\"background-color:#8e8eff\">হলে</span> <span style=\"background-color:#ff0000\">আকাশ</span> <span style=\"background-color:#ff2e2e\">পথে</span> \n"
      ],
      "text/plain": [
       "<IPython.core.display.HTML object>"
      ]
     },
     "metadata": {},
     "output_type": "display_data"
    },
    {
     "name": "stdout",
     "output_type": "stream",
     "text": [
      "SA heatmap:\n"
     ]
    },
    {
     "data": {
      "text/html": [
       "<span style=\"background-color:#ffecec\">আলাপ</span> <span style=\"background-color:#ff6060\">করতে</span> <span style=\"background-color:#ff6c6c\">বিমান</span> <span style=\"background-color:#ff7979\">পরিবহন</span> <span style=\"background-color:#ff2828\">ও</span> <span style=\"background-color:#fff4f4\">খান</span> <span style=\"background-color:#ff5858\">সঙ্গে</span> <span style=\"background-color:#ff7979\">দেখা</span> <span style=\"background-color:#ffd8d8\">করেন।</span> <span style=\"background-color:#ff9696\">এদিকে</span> <span style=\"background-color:#ff0000\">ভারতের</span> <span style=\"background-color:#ff3030\">বলা</span> <span style=\"background-color:#ffdede\">হয়েছে</span> <span style=\"background-color:#ff1818\">মধ্যে</span> <span style=\"background-color:#ff8a8a\">মুক্ত</span> <span style=\"background-color:#ffbebe\">আকাশ</span> <span style=\"background-color:#ffc3c3\">চুক্তি</span> <span style=\"background-color:#ffecec\">হলে</span> <span style=\"background-color:#ff1111\">আকাশ</span> <span style=\"background-color:#ffcccc\">পথে</span> \n"
      ],
      "text/plain": [
       "<IPython.core.display.HTML object>"
      ]
     },
     "metadata": {},
     "output_type": "display_data"
    },
    {
     "name": "stdout",
     "output_type": "stream",
     "text": [
      "GI heatmap:\n"
     ]
    },
    {
     "data": {
      "text/html": [
       "<span style=\"background-color:#c2c2ff\">আলাপ</span> <span style=\"background-color:#ff7676\">করতে</span> <span style=\"background-color:#4444ff\">বিমান</span> <span style=\"background-color:#ffe0e0\">পরিবহন</span> <span style=\"background-color:#7070ff\">ও</span> <span style=\"background-color:#fcfcff\">খান</span> <span style=\"background-color:#ff3636\">সঙ্গে</span> <span style=\"background-color:#7e7eff\">দেখা</span> <span style=\"background-color:#ececff\">করেন।</span> <span style=\"background-color:#fffcfc\">এদিকে</span> <span style=\"background-color:#1414ff\">ভারতের</span> <span style=\"background-color:#6060ff\">বলা</span> <span style=\"background-color:#c2c2ff\">হয়েছে</span> <span style=\"background-color:#ff4141\">মধ্যে</span> <span style=\"background-color:#bebeff\">মুক্ত</span> <span style=\"background-color:#ff8e8e\">আকাশ</span> <span style=\"background-color:#babaff\">চুক্তি</span> <span style=\"background-color:#e6e6ff\">হলে</span> <span style=\"background-color:#ff0000\">আকাশ</span> <span style=\"background-color:#8a8aff\">পথে</span> \n"
      ],
      "text/plain": [
       "<IPython.core.display.HTML object>"
      ]
     },
     "metadata": {},
     "output_type": "display_data"
    },
    {
     "name": "stdout",
     "output_type": "stream",
     "text": [
      "-----------------------------------------------------------\n",
      "[139 223 800 776 564  85   0   0   0   0   0   0   0   0   0   0   0   0\n",
      "   0   0]\n",
      "(20,)\n",
      "[  10 1176 6786    2 1015 2318 6787 1024 6788    1  138  114    0    0\n",
      "    0    0    0    0    0    0]\n",
      "(20,)\n",
      "[9022   48 5901  153 1376 2882    0    0    0    0    0    0    0    0\n",
      "    0    0    0    0    0    0]\n",
      "(20,)\n",
      "[ 163 1522  115   22  168   78   35  135  327 3213  349   17  191    2\n",
      "    3  569  221  303  821    8]\n",
      "(20,)\n",
      "Predicted label: Geopolitical Actual label: Personal\n",
      "LRP heatmap:\n"
     ]
    },
    {
     "data": {
      "text/html": [
       "<span style=\"background-color:#fefeff\">মধ্যে</span> <span style=\"background-color:#fffefe\">পার্থক্য</span> <span style=\"background-color:#fffefe\">হলো</span> <span style=\"background-color:#fefeff\">সব</span> <span style=\"background-color:#fefeff\">বলতে</span> <span style=\"background-color:#fefeff\">পারে</span> <span style=\"background-color:#fefeff\">তার</span> <span style=\"background-color:#fefeff\">যা</span> <span style=\"background-color:#fffefe\">মন</span> <span style=\"background-color:#fcfcff\">চায়</span> <span style=\"background-color:#fffefe\">মিথ্যা</span> <span style=\"background-color:#fffefe\">থেকে</span> <span style=\"background-color:#fffcfc\">শুরু</span> <span style=\"background-color:#fcfcff\">করে</span> <span style=\"background-color:#f6f6ff\">আর</span> <span style=\"background-color:#fffefe\">মুসলিমরা</span> <span style=\"background-color:#fcfcff\">এসব</span> <span style=\"background-color:#ececff\">কিছুই</span> <span style=\"background-color:#ff8686\">পারেনা</span> <span style=\"background-color:#0000ff\">।</span> \n"
      ],
      "text/plain": [
       "<IPython.core.display.HTML object>"
      ]
     },
     "metadata": {},
     "output_type": "display_data"
    },
    {
     "name": "stdout",
     "output_type": "stream",
     "text": [
      "SA heatmap:\n"
     ]
    },
    {
     "data": {
      "text/html": [
       "<span style=\"background-color:#ffd2d2\">মধ্যে</span> <span style=\"background-color:#ffa8a8\">পার্থক্য</span> <span style=\"background-color:#ff6c6c\">হলো</span> <span style=\"background-color:#ffbaba\">সব</span> <span style=\"background-color:#ff8686\">বলতে</span> <span style=\"background-color:#ffbebe\">পারে</span> <span style=\"background-color:#ff9696\">তার</span> <span style=\"background-color:#ffbcbc\">যা</span> <span style=\"background-color:#ff8080\">মন</span> <span style=\"background-color:#ffa3a3\">চায়</span> <span style=\"background-color:#ffa2a2\">মিথ্যা</span> <span style=\"background-color:#ffd6d6\">থেকে</span> <span style=\"background-color:#ff3131\">শুরু</span> <span style=\"background-color:#ffd0d0\">করে</span> <span style=\"background-color:#ff7e7e\">আর</span> <span style=\"background-color:#ffeaea\">মুসলিমরা</span> <span style=\"background-color:#ffe0e0\">এসব</span> <span style=\"background-color:#ff0000\">কিছুই</span> <span style=\"background-color:#ffe2e2\">পারেনা</span> <span style=\"background-color:#ff4c4c\">।</span> \n"
      ],
      "text/plain": [
       "<IPython.core.display.HTML object>"
      ]
     },
     "metadata": {},
     "output_type": "display_data"
    },
    {
     "name": "stdout",
     "output_type": "stream",
     "text": [
      "GI heatmap:\n"
     ]
    },
    {
     "data": {
      "text/html": [
       "<span style=\"background-color:#ffaaaa\">মধ্যে</span> <span style=\"background-color:#ffe8e8\">পার্থক্য</span> <span style=\"background-color:#fff6f6\">হলো</span> <span style=\"background-color:#ffc3c3\">সব</span> <span style=\"background-color:#cacaff\">বলতে</span> <span style=\"background-color:#ff7474\">পারে</span> <span style=\"background-color:#ffcece\">তার</span> <span style=\"background-color:#ffc3c3\">যা</span> <span style=\"background-color:#3232ff\">মন</span> <span style=\"background-color:#ffe0e0\">চায়</span> <span style=\"background-color:#ffe8e8\">মিথ্যা</span> <span style=\"background-color:#fff0f0\">থেকে</span> <span style=\"background-color:#ffdada\">শুরু</span> <span style=\"background-color:#ececff\">করে</span> <span style=\"background-color:#7676ff\">আর</span> <span style=\"background-color:#c2c2ff\">মুসলিমরা</span> <span style=\"background-color:#c8c8ff\">এসব</span> <span style=\"background-color:#0000ff\">কিছুই</span> <span style=\"background-color:#ececff\">পারেনা</span> <span style=\"background-color:#4e4eff\">।</span> \n"
      ],
      "text/plain": [
       "<IPython.core.display.HTML object>"
      ]
     },
     "metadata": {},
     "output_type": "display_data"
    },
    {
     "name": "stdout",
     "output_type": "stream",
     "text": [
      "-----------------------------------------------------------\n",
      "[ 215    1 4876  205 5818 1728   17   26    0    0    0    0    0    0\n",
      "    0    0    0    0    0    0]\n",
      "(20,)\n",
      "[1899 1971   73   87 2926   36  169  212   32    0    0    0    0    0\n",
      "    0    0    0    0    0    0]\n",
      "(20,)\n",
      "[  54   37 1375   26  506   72  695  474   84 1239    1   54  219   43\n",
      "   84   22   92   54 9274  556]\n",
      "(20,)\n",
      "Predicted label: Geopolitical Actual label: Personal\n",
      "LRP heatmap:\n"
     ]
    },
    {
     "data": {
      "text/html": [
       "<span style=\"background-color:#fffefe\">মত</span> <span style=\"background-color:#fefeff\">আমাদের</span> <span style=\"background-color:#fefeff\">সমাজে</span> <span style=\"background-color:#fefeff\">করা</span> <span style=\"background-color:#fffefe\">লাখ</span> <span style=\"background-color:#fefeff\">বাংলাদেশে</span> <span style=\"background-color:#fffefe\">থাকার</span> <span style=\"background-color:#fffefe\">আপনাকে</span> <span style=\"background-color:#fffcfc\">দেশে</span> <span style=\"background-color:#fffefe\">মানায়</span> <span style=\"background-color:#f2f2ff\">না</span> <span style=\"background-color:#fafaff\">মত</span> <span style=\"background-color:#fffefe\">বাংলার</span> <span style=\"background-color:#fcfcff\">মানুষ</span> <span style=\"background-color:#fff0f0\">দেশে</span> <span style=\"background-color:#eeeeff\">সব</span> <span style=\"background-color:#b8b8ff\">আপনার</span> <span style=\"background-color:#aaaaff\">মত</span> <span style=\"background-color:#0000ff\">মুল</span> <span style=\"background-color:#b2b2ff\">কার</span> \n"
      ],
      "text/plain": [
       "<IPython.core.display.HTML object>"
      ]
     },
     "metadata": {},
     "output_type": "display_data"
    },
    {
     "name": "stdout",
     "output_type": "stream",
     "text": [
      "SA heatmap:\n"
     ]
    },
    {
     "data": {
      "text/html": [
       "<span style=\"background-color:#ffb6b6\">মত</span> <span style=\"background-color:#fff8f8\">আমাদের</span> <span style=\"background-color:#ffc3c3\">সমাজে</span> <span style=\"background-color:#fff4f4\">করা</span> <span style=\"background-color:#ff8080\">লাখ</span> <span style=\"background-color:#fff4f4\">বাংলাদেশে</span> <span style=\"background-color:#fff6f6\">থাকার</span> <span style=\"background-color:#ffd3d3\">আপনাকে</span> <span style=\"background-color:#fff6f6\">দেশে</span> <span style=\"background-color:#ffe6e6\">মানায়</span> <span style=\"background-color:#fffefe\">না</span> <span style=\"background-color:#ffd0d0\">মত</span> <span style=\"background-color:#fffefe\">বাংলার</span> <span style=\"background-color:#fff2f2\">মানুষ</span> <span style=\"background-color:#ffa6a6\">দেশে</span> <span style=\"background-color:#ffe6e6\">সব</span> <span style=\"background-color:#fffcfc\">আপনার</span> <span style=\"background-color:#ff4c4c\">মত</span> <span style=\"background-color:#ffeaea\">মুল</span> <span style=\"background-color:#ff0000\">কার</span> \n"
      ],
      "text/plain": [
       "<IPython.core.display.HTML object>"
      ]
     },
     "metadata": {},
     "output_type": "display_data"
    },
    {
     "name": "stdout",
     "output_type": "stream",
     "text": [
      "GI heatmap:\n"
     ]
    },
    {
     "data": {
      "text/html": [
       "<span style=\"background-color:#9e9eff\">মত</span> <span style=\"background-color:#b2b2ff\">আমাদের</span> <span style=\"background-color:#ff5656\">সমাজে</span> <span style=\"background-color:#ff8888\">করা</span> <span style=\"background-color:#9a9aff\">লাখ</span> <span style=\"background-color:#ff0000\">বাংলাদেশে</span> <span style=\"background-color:#4c4cff\">থাকার</span> <span style=\"background-color:#ffd2d2\">আপনাকে</span> <span style=\"background-color:#ffd2d2\">দেশে</span> <span style=\"background-color:#ffbaba\">মানায়</span> <span style=\"background-color:#b6b6ff\">না</span> <span style=\"background-color:#a2a2ff\">মত</span> <span style=\"background-color:#ffcece\">বাংলার</span> <span style=\"background-color:#ffd8d8\">মানুষ</span> <span style=\"background-color:#ffc2c2\">দেশে</span> <span style=\"background-color:#ff5c5c\">সব</span> <span style=\"background-color:#ff7e7e\">আপনার</span> <span style=\"background-color:#ff2626\">মত</span> <span style=\"background-color:#8383ff\">মুল</span> <span style=\"background-color:#ff7070\">কার</span> \n"
      ],
      "text/plain": [
       "<IPython.core.display.HTML object>"
      ]
     },
     "metadata": {},
     "output_type": "display_data"
    },
    {
     "name": "stdout",
     "output_type": "stream",
     "text": [
      "-----------------------------------------------------------\n",
      "[ 446   61 2172 5324 1795   85  135   33    7 5442 2451   37  443    9\n",
      " 3191  265    1  150   78  286]\n",
      "(20,)\n",
      "Predicted label: Geopolitical Actual label: Personal\n",
      "LRP heatmap:\n"
     ]
    },
    {
     "data": {
      "text/html": [
       "<span style=\"background-color:#fffefe\">রান</span> <span style=\"background-color:#fefeff\">করার</span> <span style=\"background-color:#fffefe\">খমতা</span> <span style=\"background-color:#fefeff\">আমরাই</span> <span style=\"background-color:#fffcfc\">সেরা</span> <span style=\"background-color:#fffefe\">টা</span> <span style=\"background-color:#fcfcff\">যা</span> <span style=\"background-color:#fafaff\">আছে</span> <span style=\"background-color:#fffcfc\">ভারত</span> <span style=\"background-color:#f8f8ff\">আগামী</span> <span style=\"background-color:#fffefe\">বছরে</span> <span style=\"background-color:#ffecec\">আমাদের</span> <span style=\"background-color:#f0f0ff\">পাশে</span> <span style=\"background-color:#fff0f0\">ও</span> <span style=\"background-color:#c6c6ff\">আসতে</span> <span style=\"background-color:#bcbcff\">পারবে</span> <span style=\"background-color:#dcdcff\">না</span> <span style=\"background-color:#d3d3ff\">ওরা</span> <span style=\"background-color:#0000ff\">পারে</span> <span style=\"background-color:#ffc6c6\">চুরি</span> \n"
      ],
      "text/plain": [
       "<IPython.core.display.HTML object>"
      ]
     },
     "metadata": {},
     "output_type": "display_data"
    },
    {
     "name": "stdout",
     "output_type": "stream",
     "text": [
      "SA heatmap:\n"
     ]
    },
    {
     "data": {
      "text/html": [
       "<span style=\"background-color:#ffe8e8\">রান</span> <span style=\"background-color:#fff4f4\">করার</span> <span style=\"background-color:#ffb8b8\">খমতা</span> <span style=\"background-color:#ffc8c8\">আমরাই</span> <span style=\"background-color:#ffe6e6\">সেরা</span> <span style=\"background-color:#ffb3b3\">টা</span> <span style=\"background-color:#ffb2b2\">যা</span> <span style=\"background-color:#ffd6d6\">আছে</span> <span style=\"background-color:#ffe0e0\">ভারত</span> <span style=\"background-color:#ffdcdc\">আগামী</span> <span style=\"background-color:#ffdcdc\">বছরে</span> <span style=\"background-color:#ff0000\">আমাদের</span> <span style=\"background-color:#ffa6a6\">পাশে</span> <span style=\"background-color:#ffeaea\">ও</span> <span style=\"background-color:#ffbaba\">আসতে</span> <span style=\"background-color:#ffa8a8\">পারবে</span> <span style=\"background-color:#ffeaea\">না</span> <span style=\"background-color:#ffbcbc\">ওরা</span> <span style=\"background-color:#ff5e5e\">পারে</span> <span style=\"background-color:#ffe8e8\">চুরি</span> \n"
      ],
      "text/plain": [
       "<IPython.core.display.HTML object>"
      ]
     },
     "metadata": {},
     "output_type": "display_data"
    },
    {
     "name": "stdout",
     "output_type": "stream",
     "text": [
      "GI heatmap:\n"
     ]
    },
    {
     "data": {
      "text/html": [
       "<span style=\"background-color:#ffcece\">রান</span> <span style=\"background-color:#aaaaff\">করার</span> <span style=\"background-color:#ff7070\">খমতা</span> <span style=\"background-color:#bcbcff\">আমরাই</span> <span style=\"background-color:#ff5858\">সেরা</span> <span style=\"background-color:#8080ff\">টা</span> <span style=\"background-color:#f2f2ff\">যা</span> <span style=\"background-color:#ffcaca\">আছে</span> <span style=\"background-color:#bebeff\">ভারত</span> <span style=\"background-color:#ffdada\">আগামী</span> <span style=\"background-color:#0a0aff\">বছরে</span> <span style=\"background-color:#5e5eff\">আমাদের</span> <span style=\"background-color:#ff0000\">পাশে</span> <span style=\"background-color:#4949ff\">ও</span> <span style=\"background-color:#f2f2ff\">আসতে</span> <span style=\"background-color:#2626ff\">পারবে</span> <span style=\"background-color:#ff6161\">না</span> <span style=\"background-color:#fff8f8\">ওরা</span> <span style=\"background-color:#cacaff\">পারে</span> <span style=\"background-color:#ffeaea\">চুরি</span> \n"
      ],
      "text/plain": [
       "<IPython.core.display.HTML object>"
      ]
     },
     "metadata": {},
     "output_type": "display_data"
    },
    {
     "name": "stdout",
     "output_type": "stream",
     "text": [
      "-----------------------------------------------------------\n",
      "[ 962   64 1041   49  135  821   10 1418    0    0    0    0    0    0\n",
      "    0    0    0    0    0    0]\n",
      "(20,)\n",
      "[2646  467 2594  231  164 1690  953  576  231  556 1690    0    0    0\n",
      "    0    0    0    0    0    0]\n",
      "(20,)\n",
      "[   7   21 4022   23   48 2896 3802 4022  396  730  224  563   50    0\n",
      "    0    0    0    0    0    0]\n",
      "(20,)\n",
      "[  10  404   34 1087   26 3365  120  105  476 2186  508 1686 9942    0\n",
      "    0    0    0    0    0    0]\n",
      "(20,)\n",
      "[  99   34 1010 1054   86  340  569   72  366 2875  437  460   35    5\n",
      "   15   24 1491 2239 2153  208]\n",
      "(20,)\n",
      "Predicted label: Geopolitical Actual label: Personal\n",
      "LRP heatmap:\n"
     ]
    },
    {
     "data": {
      "text/html": [
       "<span style=\"background-color:#fffefe\">তা</span> <span style=\"background-color:#fefeff\">নিয়ে</span> <span style=\"background-color:#fffefe\">পার</span> <span style=\"background-color:#fffefe\">সৃষ্টি</span> <span style=\"background-color:#fefeff\">আজ</span> <span style=\"background-color:#fffefe\">রোহিঙ্গা</span> <span style=\"background-color:#fffefe\">মুসলিমরা</span> <span style=\"background-color:#fffefe\">বাংলাদেশে</span> <span style=\"background-color:#fffefe\">এসে</span> <span style=\"background-color:#f3f3ff\">বিজিবির</span> <span style=\"background-color:#f3f3ff\">লাথি</span> <span style=\"background-color:#f8f8ff\">খায়</span> <span style=\"background-color:#e2e2ff\">তার</span> <span style=\"background-color:#e6e6ff\">এই</span> <span style=\"background-color:#d8d8ff\">জন্য</span> <span style=\"background-color:#ffb3b3\">কোন</span> <span style=\"background-color:#ffeaea\">মিডিয়ার</span> <span style=\"background-color:#ffcccc\">মাতা</span> <span style=\"background-color:#0a0aff\">ব্যাথা</span> <span style=\"background-color:#0000ff\">নাই।</span> \n"
      ],
      "text/plain": [
       "<IPython.core.display.HTML object>"
      ]
     },
     "metadata": {},
     "output_type": "display_data"
    },
    {
     "name": "stdout",
     "output_type": "stream",
     "text": [
      "SA heatmap:\n"
     ]
    },
    {
     "data": {
      "text/html": [
       "<span style=\"background-color:#fffafa\">তা</span> <span style=\"background-color:#ff6e6e\">নিয়ে</span> <span style=\"background-color:#ffb6b6\">পার</span> <span style=\"background-color:#ffeaea\">সৃষ্টি</span> <span style=\"background-color:#ffd8d8\">আজ</span> <span style=\"background-color:#fff8f8\">রোহিঙ্গা</span> <span style=\"background-color:#fff6f6\">মুসলিমরা</span> <span style=\"background-color:#ff0000\">বাংলাদেশে</span> <span style=\"background-color:#ffdada\">এসে</span> <span style=\"background-color:#fff8f8\">বিজিবির</span> <span style=\"background-color:#ffc3c3\">লাথি</span> <span style=\"background-color:#ffdede\">খায়</span> <span style=\"background-color:#ff7474\">তার</span> <span style=\"background-color:#ff7e7e\">এই</span> <span style=\"background-color:#fffefe\">জন্য</span> <span style=\"background-color:#ffecec\">কোন</span> <span style=\"background-color:#ffa2a2\">মিডিয়ার</span> <span style=\"background-color:#ffe0e0\">মাতা</span> <span style=\"background-color:#fff6f6\">ব্যাথা</span> <span style=\"background-color:#ffe6e6\">নাই।</span> \n"
      ],
      "text/plain": [
       "<IPython.core.display.HTML object>"
      ]
     },
     "metadata": {},
     "output_type": "display_data"
    },
    {
     "name": "stdout",
     "output_type": "stream",
     "text": [
      "GI heatmap:\n"
     ]
    },
    {
     "data": {
      "text/html": [
       "<span style=\"background-color:#eaeaff\">তা</span> <span style=\"background-color:#ff6666\">নিয়ে</span> <span style=\"background-color:#7878ff\">পার</span> <span style=\"background-color:#f3f3ff\">সৃষ্টি</span> <span style=\"background-color:#aeaeff\">আজ</span> <span style=\"background-color:#ffe2e2\">রোহিঙ্গা</span> <span style=\"background-color:#fefeff\">মুসলিমরা</span> <span style=\"background-color:#0000ff\">বাংলাদেশে</span> <span style=\"background-color:#fff6f6\">এসে</span> <span style=\"background-color:#eeeeff\">বিজিবির</span> <span style=\"background-color:#ff7474\">লাথি</span> <span style=\"background-color:#f3f3ff\">খায়</span> <span style=\"background-color:#ffa6a6\">তার</span> <span style=\"background-color:#ff4141\">এই</span> <span style=\"background-color:#fff2f2\">জন্য</span> <span style=\"background-color:#e6e6ff\">কোন</span> <span style=\"background-color:#7070ff\">মিডিয়ার</span> <span style=\"background-color:#ffb6b6\">মাতা</span> <span style=\"background-color:#ffd6d6\">ব্যাথা</span> <span style=\"background-color:#ffaaaa\">নাই।</span> \n"
      ],
      "text/plain": [
       "<IPython.core.display.HTML object>"
      ]
     },
     "metadata": {},
     "output_type": "display_data"
    },
    {
     "name": "stdout",
     "output_type": "stream",
     "text": [
      "-----------------------------------------------------------\n",
      "[ 448 2270  214 2557 1906  159  722  222  890    0    0    0    0    0\n",
      "    0    0    0    0    0    0]\n",
      "(20,)\n",
      "[ 161 7334 3030  339 4486  964 1571  729  122  294  190  582   65  108\n",
      "   30 1923    0    0    0    0]\n",
      "(20,)\n",
      "[  40 1727  365    7  198    9    2  573  188  535    9 2833 1891   27\n",
      "   87   17 1086 3011    0    0]\n",
      "(20,)\n",
      "[ 885 2791   44   96    7    3 1433   23  163  239    0    0    0    0\n",
      "    0    0    0    0    0    0]\n",
      "(20,)\n",
      "[ 361   20 1386  661 1067  312    0    0    0    0    0    0    0    0\n",
      "    0    0    0    0    0    0]\n",
      "(20,)\n",
      "[ 278   36  354  171  137  968  425  137  968 2288  137  968 1796   52\n",
      " 1010 4751  463 1224 3043 1548]\n",
      "(20,)\n",
      "Predicted label: Geopolitical Actual label: Personal\n",
      "LRP heatmap:\n"
     ]
    },
    {
     "data": {
      "text/html": [
       "<span style=\"background-color:#fffefe\">এবার</span> <span style=\"background-color:#fefeff\">বাংলাদেশের</span> <span style=\"background-color:#fffefe\">পুলিশের</span> <span style=\"background-color:#fcfcff\">দুই</span> <span style=\"background-color:#fefeff\">দিন</span> <span style=\"background-color:#fffefe\">গেলো</span> <span style=\"background-color:#fafaff\">তিন</span> <span style=\"background-color:#fefeff\">দিন</span> <span style=\"background-color:#fffefe\">গেলো</span> <span style=\"background-color:#f8f8ff\">পাঁচ</span> <span style=\"background-color:#f8f8ff\">দিন</span> <span style=\"background-color:#fefeff\">গেলো</span> <span style=\"background-color:#fefeff\">এমনকি</span> <span style=\"background-color:#e3e3ff\">এক</span> <span style=\"background-color:#ffe8e8\">পার</span> <span style=\"background-color:#ececff\">হয়েছে।</span> <span style=\"background-color:#fff4f4\">কুকুর</span> <span style=\"background-color:#eaeaff\">খুঁজে</span> <span style=\"background-color:#0000ff\">দূরের</span> <span style=\"background-color:#ff2626\">কথা।</span> \n"
      ],
      "text/plain": [
       "<IPython.core.display.HTML object>"
      ]
     },
     "metadata": {},
     "output_type": "display_data"
    },
    {
     "name": "stdout",
     "output_type": "stream",
     "text": [
      "SA heatmap:\n"
     ]
    },
    {
     "data": {
      "text/html": [
       "<span style=\"background-color:#ffbebe\">এবার</span> <span style=\"background-color:#ff0000\">বাংলাদেশের</span> <span style=\"background-color:#ffaaaa\">পুলিশের</span> <span style=\"background-color:#ffc8c8\">দুই</span> <span style=\"background-color:#ffdede\">দিন</span> <span style=\"background-color:#ffcccc\">গেলো</span> <span style=\"background-color:#fff4f4\">তিন</span> <span style=\"background-color:#ff3939\">দিন</span> <span style=\"background-color:#ff8a8a\">গেলো</span> <span style=\"background-color:#ff1c1c\">পাঁচ</span> <span style=\"background-color:#ffd0d0\">দিন</span> <span style=\"background-color:#fff2f2\">গেলো</span> <span style=\"background-color:#ffe6e6\">এমনকি</span> <span style=\"background-color:#ffd2d2\">এক</span> <span style=\"background-color:#ff5858\">পার</span> <span style=\"background-color:#fff4f4\">হয়েছে।</span> <span style=\"background-color:#ffa8a8\">কুকুর</span> <span style=\"background-color:#fff4f4\">খুঁজে</span> <span style=\"background-color:#ffb6b6\">দূরের</span> <span style=\"background-color:#ffb8b8\">কথা।</span> \n"
      ],
      "text/plain": [
       "<IPython.core.display.HTML object>"
      ]
     },
     "metadata": {},
     "output_type": "display_data"
    },
    {
     "name": "stdout",
     "output_type": "stream",
     "text": [
      "GI heatmap:\n"
     ]
    },
    {
     "data": {
      "text/html": [
       "<span style=\"background-color:#ff9090\">এবার</span> <span style=\"background-color:#ff3636\">বাংলাদেশের</span> <span style=\"background-color:#6969ff\">পুলিশের</span> <span style=\"background-color:#ffdede\">দুই</span> <span style=\"background-color:#dcdcff\">দিন</span> <span style=\"background-color:#6060ff\">গেলো</span> <span style=\"background-color:#e0e0ff\">তিন</span> <span style=\"background-color:#3434ff\">দিন</span> <span style=\"background-color:#ff6161\">গেলো</span> <span style=\"background-color:#0000ff\">পাঁচ</span> <span style=\"background-color:#c3c3ff\">দিন</span> <span style=\"background-color:#ffeeee\">গেলো</span> <span style=\"background-color:#fefeff\">এমনকি</span> <span style=\"background-color:#ffc8c8\">এক</span> <span style=\"background-color:#6c6cff\">পার</span> <span style=\"background-color:#ffb2b2\">হয়েছে।</span> <span style=\"background-color:#d2d2ff\">কুকুর</span> <span style=\"background-color:#ffcece\">খুঁজে</span> <span style=\"background-color:#ff8e8e\">দূরের</span> <span style=\"background-color:#ffa8a8\">কথা।</span> \n"
      ],
      "text/plain": [
       "<IPython.core.display.HTML object>"
      ]
     },
     "metadata": {},
     "output_type": "display_data"
    },
    {
     "name": "stdout",
     "output_type": "stream",
     "text": [
      "-----------------------------------------------------------\n",
      "[ 10 355 995 863   3 364 355 995 906   0   0   0   0   0   0   0   0   0\n",
      "   0   0]\n",
      "(20,)\n",
      "[ 194    8 2529  137  147  701    8    7  147  225  586 1603   15   38\n",
      "   22   39  301   56   50 2278]\n",
      "(20,)\n",
      "Predicted label: Geopolitical Actual label: Personal\n",
      "LRP heatmap:\n"
     ]
    },
    {
     "data": {
      "text/html": [
       "<span style=\"background-color:#fffcfc\">বাবা</span> <span style=\"background-color:#fefeff\">।</span> <span style=\"background-color:#fffefe\">বাবাকে</span> <span style=\"background-color:#fffefe\">দিন</span> <span style=\"background-color:#fff6f6\">খারাপ</span> <span style=\"background-color:#f8f8ff\">হয়না</span> <span style=\"background-color:#ffe6e6\">।</span> <span style=\"background-color:#dedeff\">ভারত</span> <span style=\"background-color:#ceceff\">খারাপ</span> <span style=\"background-color:#ffcece\">কারন</span> <span style=\"background-color:#ffc3c3\">বাংলাদেশকে</span> <span style=\"background-color:#f3f3ff\">জয়ের</span> <span style=\"background-color:#e6e6ff\">জন্য</span> <span style=\"background-color:#fafaff\">তাদের</span> <span style=\"background-color:#6161ff\">সব</span> <span style=\"background-color:#f6f6ff\">কিছু</span> <span style=\"background-color:#8c8cff\">দিয়েছে</span> <span style=\"background-color:#8e8eff\">তাই</span> <span style=\"background-color:#5c5cff\">তারা</span> <span style=\"background-color:#0000ff\">খারাপ।</span> \n"
      ],
      "text/plain": [
       "<IPython.core.display.HTML object>"
      ]
     },
     "metadata": {},
     "output_type": "display_data"
    },
    {
     "name": "stdout",
     "output_type": "stream",
     "text": [
      "SA heatmap:\n"
     ]
    },
    {
     "data": {
      "text/html": [
       "<span style=\"background-color:#ffeeee\">বাবা</span> <span style=\"background-color:#ffa0a0\">।</span> <span style=\"background-color:#ffd6d6\">বাবাকে</span> <span style=\"background-color:#ff0000\">দিন</span> <span style=\"background-color:#ffd6d6\">খারাপ</span> <span style=\"background-color:#ffdede\">হয়না</span> <span style=\"background-color:#fff6f6\">।</span> <span style=\"background-color:#ffd3d3\">ভারত</span> <span style=\"background-color:#ffa0a0\">খারাপ</span> <span style=\"background-color:#ffeeee\">কারন</span> <span style=\"background-color:#ffdede\">বাংলাদেশকে</span> <span style=\"background-color:#ff9292\">জয়ের</span> <span style=\"background-color:#ffc2c2\">জন্য</span> <span style=\"background-color:#ffaaaa\">তাদের</span> <span style=\"background-color:#fff6f6\">সব</span> <span style=\"background-color:#fff8f8\">কিছু</span> <span style=\"background-color:#ffaeae\">দিয়েছে</span> <span style=\"background-color:#ff8e8e\">তাই</span> <span style=\"background-color:#fff0f0\">তারা</span> <span style=\"background-color:#ffe2e2\">খারাপ।</span> \n"
      ],
      "text/plain": [
       "<IPython.core.display.HTML object>"
      ]
     },
     "metadata": {},
     "output_type": "display_data"
    },
    {
     "name": "stdout",
     "output_type": "stream",
     "text": [
      "GI heatmap:\n"
     ]
    },
    {
     "data": {
      "text/html": [
       "<span style=\"background-color:#ffb6b6\">বাবা</span> <span style=\"background-color:#6666ff\">।</span> <span style=\"background-color:#d2d2ff\">বাবাকে</span> <span style=\"background-color:#0000ff\">দিন</span> <span style=\"background-color:#ff8383\">খারাপ</span> <span style=\"background-color:#9393ff\">হয়না</span> <span style=\"background-color:#d8d8ff\">।</span> <span style=\"background-color:#ff9a9a\">ভারত</span> <span style=\"background-color:#ff8888\">খারাপ</span> <span style=\"background-color:#dedeff\">কারন</span> <span style=\"background-color:#ff9292\">বাংলাদেশকে</span> <span style=\"background-color:#fff6f6\">জয়ের</span> <span style=\"background-color:#ffb0b0\">জন্য</span> <span style=\"background-color:#ff8686\">তাদের</span> <span style=\"background-color:#ffdede\">সব</span> <span style=\"background-color:#fff4f4\">কিছু</span> <span style=\"background-color:#ffc8c8\">দিয়েছে</span> <span style=\"background-color:#ff3e3e\">তাই</span> <span style=\"background-color:#ffdcdc\">তারা</span> <span style=\"background-color:#ffd0d0\">খারাপ।</span> \n"
      ],
      "text/plain": [
       "<IPython.core.display.HTML object>"
      ]
     },
     "metadata": {},
     "output_type": "display_data"
    },
    {
     "name": "stdout",
     "output_type": "stream",
     "text": [
      "-----------------------------------------------------------\n",
      "[398  16  47   7  87 239   0   0   0   0   0   0   0   0   0   0   0   0\n",
      "   0   0]\n",
      "(20,)\n",
      "[5708  323   22 2761   48    3 1007  626  166 3258    5 5981 1304   29\n",
      "   36  388 6099   83 4572    0]\n",
      "(20,)\n",
      "[7565 1471  106  114  924   40  341    0    0    0    0    0    0    0\n",
      "    0    0    0    0    0    0]\n",
      "(20,)\n",
      "[6460   50 1418 1805  363 1609   94    2   88  653 1101 1990  114  513\n",
      " 3496  695   15  247  393  162]\n",
      "(20,)\n",
      "Predicted label: Geopolitical Actual label: Personal\n",
      "LRP heatmap:\n"
     ]
    },
    {
     "data": {
      "text/html": [
       "<span style=\"background-color:#fffefe\">প্রমান।</span> <span style=\"background-color:#fffefe\">তারা</span> <span style=\"background-color:#fefeff\">নিরীহ</span> <span style=\"background-color:#fffefe\">সাধারন</span> <span style=\"background-color:#fefeff\">মানুষকে</span> <span style=\"background-color:#fefeff\">এভাবেই</span> <span style=\"background-color:#ffeeee\">হত্যা</span> <span style=\"background-color:#fafaff\">করে</span> <span style=\"background-color:#f2f2ff\">এবং</span> <span style=\"background-color:#fffafa\">এরকম</span> <span style=\"background-color:#ffeeee\">রাষ্ট্রীয়</span> <span style=\"background-color:#ffe2e2\">সন্ত্রাস</span> <span style=\"background-color:#ffeeee\">হাসিনা</span> <span style=\"background-color:#fff6f6\">ক্ষমতায়</span> <span style=\"background-color:#fefeff\">টিকে</span> <span style=\"background-color:#eaeaff\">থাকার</span> <span style=\"background-color:#ffd0d0\">জন্য</span> <span style=\"background-color:#0000ff\">বিরোধী</span> <span style=\"background-color:#9696ff\">দলের</span> <span style=\"background-color:#ff2e2e\">উপর</span> \n"
      ],
      "text/plain": [
       "<IPython.core.display.HTML object>"
      ]
     },
     "metadata": {},
     "output_type": "display_data"
    },
    {
     "name": "stdout",
     "output_type": "stream",
     "text": [
      "SA heatmap:\n"
     ]
    },
    {
     "data": {
      "text/html": [
       "<span style=\"background-color:#ffecec\">প্রমান।</span> <span style=\"background-color:#ffa3a3\">তারা</span> <span style=\"background-color:#fff8f8\">নিরীহ</span> <span style=\"background-color:#ffeaea\">সাধারন</span> <span style=\"background-color:#ff0000\">মানুষকে</span> <span style=\"background-color:#fffefe\">এভাবেই</span> <span style=\"background-color:#ff9898\">হত্যা</span> <span style=\"background-color:#fff6f6\">করে</span> <span style=\"background-color:#ffa3a3\">এবং</span> <span style=\"background-color:#ff4040\">এরকম</span> <span style=\"background-color:#fffafa\">রাষ্ট্রীয়</span> <span style=\"background-color:#fff0f0\">সন্ত্রাস</span> <span style=\"background-color:#ffe6e6\">হাসিনা</span> <span style=\"background-color:#ffb8b8\">ক্ষমতায়</span> <span style=\"background-color:#fff4f4\">টিকে</span> <span style=\"background-color:#ffd2d2\">থাকার</span> <span style=\"background-color:#ffacac\">জন্য</span> <span style=\"background-color:#ff0000\">বিরোধী</span> <span style=\"background-color:#ff4e4e\">দলের</span> <span style=\"background-color:#ffd6d6\">উপর</span> \n"
      ],
      "text/plain": [
       "<IPython.core.display.HTML object>"
      ]
     },
     "metadata": {},
     "output_type": "display_data"
    },
    {
     "name": "stdout",
     "output_type": "stream",
     "text": [
      "GI heatmap:\n"
     ]
    },
    {
     "data": {
      "text/html": [
       "<span style=\"background-color:#ff1010\">প্রমান।</span> <span style=\"background-color:#ffa8a8\">তারা</span> <span style=\"background-color:#cacaff\">নিরীহ</span> <span style=\"background-color:#ffb8b8\">সাধারন</span> <span style=\"background-color:#1212ff\">মানুষকে</span> <span style=\"background-color:#c6c6ff\">এভাবেই</span> <span style=\"background-color:#ff1010\">হত্যা</span> <span style=\"background-color:#ffe4e4\">করে</span> <span style=\"background-color:#ceceff\">এবং</span> <span style=\"background-color:#dadaff\">এরকম</span> <span style=\"background-color:#9c9cff\">রাষ্ট্রীয়</span> <span style=\"background-color:#ff9898\">সন্ত্রাস</span> <span style=\"background-color:#3434ff\">হাসিনা</span> <span style=\"background-color:#ff6060\">ক্ষমতায়</span> <span style=\"background-color:#8e8eff\">টিকে</span> <span style=\"background-color:#b6b6ff\">থাকার</span> <span style=\"background-color:#8383ff\">জন্য</span> <span style=\"background-color:#ff0000\">বিরোধী</span> <span style=\"background-color:#ffa0a0\">দলের</span> <span style=\"background-color:#ffe0e0\">উপর</span> \n"
      ],
      "text/plain": [
       "<IPython.core.display.HTML object>"
      ]
     },
     "metadata": {},
     "output_type": "display_data"
    },
    {
     "name": "stdout",
     "output_type": "stream",
     "text": [
      "-----------------------------------------------------------\n",
      "[  65  597  179   56 1325 8128    3   13 6147   37  108  123 1325   60\n",
      "    0    0    0    0    0    0]\n",
      "(20,)\n",
      "[  7  37 169 212  32   0   0   0   0   0   0   0   0   0   0   0   0   0\n",
      "   0   0]\n",
      "(20,)\n",
      "[ 354 4779  222 9903 1912   54 1760   43 9904 2137   48    0    0    0\n",
      "    0    0    0    0    0    0]\n",
      "(20,)\n",
      "[  40  567 1418   43  299 1451  769 2018    0    0    0    0    0    0\n",
      "    0    0    0    0    0    0]\n",
      "(20,)\n",
      "[1689 7856 7857 2014   40 1054    2  301  530 4630    0    0    0    0\n",
      "    0    0    0    0    0    0]\n",
      "(20,)\n",
      "[4051  557  238 2288 6630   59 2220 1707    0    0    0    0    0    0\n",
      "    0    0    0    0    0    0]\n",
      "(20,)\n",
      "[  72 6086  669 2088  520   51  703 5957 1199    8  133 1879 1389 5536\n",
      "   18   11  221    0    0    0]\n",
      "(20,)\n",
      "[2202  759   58 6284  110 2826 3886 6285  112 3887    7   17 6286 6287\n",
      "  191    2 2203    0    0    0]\n",
      "(20,)\n",
      "[4582  354 4150 3226 7741 7742 7743  263  229    0    0    0    0    0\n",
      "    0    0    0    0    0    0]\n",
      "(20,)\n",
      "[  99  436  890 2318   40    7   87    2   91   35 4744    9  890  318\n",
      "   91  172 4884   34 2318  486]\n",
      "(20,)\n",
      "Predicted label: Geopolitical Actual label: Personal\n",
      "LRP heatmap:\n"
     ]
    },
    {
     "data": {
      "text/html": [
       "<span style=\"background-color:#fffefe\">তা</span> <span style=\"background-color:#fffefe\">প্রকাশ</span> <span style=\"background-color:#fffefe\">করুন।</span> <span style=\"background-color:#fefeff\">সম্মেলন</span> <span style=\"background-color:#fffefe\">বাংলাদেশ</span> <span style=\"background-color:#fefeff\">ভারত</span> <span style=\"background-color:#fefeff\">পাকিস্তান</span> <span style=\"background-color:#fffcfc\">করে</span> <span style=\"background-color:#fcfcff\">আপনি</span> <span style=\"background-color:#fefeff\">তার</span> <span style=\"background-color:#ffeaea\">নেতৃত্ব</span> <span style=\"background-color:#fefeff\">ও</span> <span style=\"background-color:#fffafa\">করুন।</span> <span style=\"background-color:#fffafa\">যেমন</span> <span style=\"background-color:#fff8f8\">আপনি</span> <span style=\"background-color:#ff9c9c\">সালে</span> <span style=\"background-color:#ff3030\">শরীফ</span> <span style=\"background-color:#ff5858\">নিয়ে</span> <span style=\"background-color:#ffbaba\">সম্মেলন</span> <span style=\"background-color:#0000ff\">হিসেবে</span> \n"
      ],
      "text/plain": [
       "<IPython.core.display.HTML object>"
      ]
     },
     "metadata": {},
     "output_type": "display_data"
    },
    {
     "name": "stdout",
     "output_type": "stream",
     "text": [
      "SA heatmap:\n"
     ]
    },
    {
     "data": {
      "text/html": [
       "<span style=\"background-color:#fff8f8\">তা</span> <span style=\"background-color:#ffaeae\">প্রকাশ</span> <span style=\"background-color:#ffcece\">করুন।</span> <span style=\"background-color:#ffd6d6\">সম্মেলন</span> <span style=\"background-color:#ffa6a6\">বাংলাদেশ</span> <span style=\"background-color:#ffe6e6\">ভারত</span> <span style=\"background-color:#ffe2e2\">পাকিস্তান</span> <span style=\"background-color:#ffc3c3\">করে</span> <span style=\"background-color:#ffeeee\">আপনি</span> <span style=\"background-color:#ff0000\">তার</span> <span style=\"background-color:#ffecec\">নেতৃত্ব</span> <span style=\"background-color:#ffe0e0\">ও</span> <span style=\"background-color:#ffcaca\">করুন।</span> <span style=\"background-color:#ffe2e2\">যেমন</span> <span style=\"background-color:#ffcccc\">আপনি</span> <span style=\"background-color:#ffeeee\">সালে</span> <span style=\"background-color:#ffb8b8\">শরীফ</span> <span style=\"background-color:#ff8888\">নিয়ে</span> <span style=\"background-color:#ffcece\">সম্মেলন</span> <span style=\"background-color:#fff8f8\">হিসেবে</span> \n"
      ],
      "text/plain": [
       "<IPython.core.display.HTML object>"
      ]
     },
     "metadata": {},
     "output_type": "display_data"
    },
    {
     "name": "stdout",
     "output_type": "stream",
     "text": [
      "GI heatmap:\n"
     ]
    },
    {
     "data": {
      "text/html": [
       "<span style=\"background-color:#a0a0ff\">তা</span> <span style=\"background-color:#ff7070\">প্রকাশ</span> <span style=\"background-color:#3434ff\">করুন।</span> <span style=\"background-color:#9e9eff\">সম্মেলন</span> <span style=\"background-color:#9a9aff\">বাংলাদেশ</span> <span style=\"background-color:#ff6060\">ভারত</span> <span style=\"background-color:#ffcece\">পাকিস্তান</span> <span style=\"background-color:#0000ff\">করে</span> <span style=\"background-color:#ffbcbc\">আপনি</span> <span style=\"background-color:#ff5c5c\">তার</span> <span style=\"background-color:#ffe6e6\">নেতৃত্ব</span> <span style=\"background-color:#b6b6ff\">ও</span> <span style=\"background-color:#fff0f0\">করুন।</span> <span style=\"background-color:#ffeaea\">যেমন</span> <span style=\"background-color:#6868ff\">আপনি</span> <span style=\"background-color:#d6d6ff\">সালে</span> <span style=\"background-color:#c2c2ff\">শরীফ</span> <span style=\"background-color:#ff2c2c\">নিয়ে</span> <span style=\"background-color:#7474ff\">সম্মেলন</span> <span style=\"background-color:#c8c8ff\">হিসেবে</span> \n"
      ],
      "text/plain": [
       "<IPython.core.display.HTML object>"
      ]
     },
     "metadata": {},
     "output_type": "display_data"
    },
    {
     "name": "stdout",
     "output_type": "stream",
     "text": [
      "-----------------------------------------------------------\n",
      "[  57  468   72 1818  195   22  110  131    0    0    0    0    0    0\n",
      "    0    0    0    0    0    0]\n",
      "(20,)\n",
      "[2401 4763  384   10    4   37  135  384   10    4    0    0    0    0\n",
      "    0    0    0    0    0    0]\n",
      "(20,)\n",
      "[ 255  867  355   18    8  161 3281    6   14 1243   18   78    1    8\n",
      "   77   90   37    4  355  148]\n",
      "(20,)\n",
      "Predicted label: Geopolitical Actual label: Personal\n",
      "LRP heatmap:\n"
     ]
    },
    {
     "data": {
      "text/html": [
       "<span style=\"background-color:#fffefe\">অন্য</span> <span style=\"background-color:#fffefe\">দেশকে</span> <span style=\"background-color:#fffefe\">সাহায্য</span> <span style=\"background-color:#fcfcff\">করতে</span> <span style=\"background-color:#fefeff\">।</span> <span style=\"background-color:#fcfcff\">নিজের</span> <span style=\"background-color:#fffefe\">অস্তিত্ব</span> <span style=\"background-color:#fffafa\">কে</span> <span style=\"background-color:#fff8f8\">যে</span> <span style=\"background-color:#fffafa\">রক্ষা</span> <span style=\"background-color:#e6e6ff\">করতে</span> <span style=\"background-color:#f6f6ff\">পারে</span> <span style=\"background-color:#ffeeee\">না</span> <span style=\"background-color:#f6f6ff\">।</span> <span style=\"background-color:#e8e8ff\">সে</span> <span style=\"background-color:#e3e3ff\">আবার</span> <span style=\"background-color:#c8c8ff\">আমাদের</span> <span style=\"background-color:#ececff\">কি</span> <span style=\"background-color:#ceceff\">সাহায্য</span> <span style=\"background-color:#ff0000\">করবে</span> \n"
      ],
      "text/plain": [
       "<IPython.core.display.HTML object>"
      ]
     },
     "metadata": {},
     "output_type": "display_data"
    },
    {
     "name": "stdout",
     "output_type": "stream",
     "text": [
      "SA heatmap:\n"
     ]
    },
    {
     "data": {
      "text/html": [
       "<span style=\"background-color:#ffbcbc\">অন্য</span> <span style=\"background-color:#ffd6d6\">দেশকে</span> <span style=\"background-color:#ff6868\">সাহায্য</span> <span style=\"background-color:#ff4949\">করতে</span> <span style=\"background-color:#ffe4e4\">।</span> <span style=\"background-color:#ffa8a8\">নিজের</span> <span style=\"background-color:#ffdcdc\">অস্তিত্ব</span> <span style=\"background-color:#ffe8e8\">কে</span> <span style=\"background-color:#ff4646\">যে</span> <span style=\"background-color:#ffdede\">রক্ষা</span> <span style=\"background-color:#ffeeee\">করতে</span> <span style=\"background-color:#ff1e1e\">পারে</span> <span style=\"background-color:#ff8383\">না</span> <span style=\"background-color:#ff6161\">।</span> <span style=\"background-color:#ffcece\">সে</span> <span style=\"background-color:#ffc0c0\">আবার</span> <span style=\"background-color:#ff0909\">আমাদের</span> <span style=\"background-color:#ff0000\">কি</span> <span style=\"background-color:#ff6969\">সাহায্য</span> <span style=\"background-color:#ffa0a0\">করবে</span> \n"
      ],
      "text/plain": [
       "<IPython.core.display.HTML object>"
      ]
     },
     "metadata": {},
     "output_type": "display_data"
    },
    {
     "name": "stdout",
     "output_type": "stream",
     "text": [
      "GI heatmap:\n"
     ]
    },
    {
     "data": {
      "text/html": [
       "<span style=\"background-color:#ffeeee\">অন্য</span> <span style=\"background-color:#ff8282\">দেশকে</span> <span style=\"background-color:#0606ff\">সাহায্য</span> <span style=\"background-color:#9e9eff\">করতে</span> <span style=\"background-color:#ceceff\">।</span> <span style=\"background-color:#fff4f4\">নিজের</span> <span style=\"background-color:#7979ff\">অস্তিত্ব</span> <span style=\"background-color:#0808ff\">কে</span> <span style=\"background-color:#6c6cff\">যে</span> <span style=\"background-color:#ffd0d0\">রক্ষা</span> <span style=\"background-color:#9898ff\">করতে</span> <span style=\"background-color:#4646ff\">পারে</span> <span style=\"background-color:#ff0000\">না</span> <span style=\"background-color:#ff7171\">।</span> <span style=\"background-color:#c0c0ff\">সে</span> <span style=\"background-color:#ff7878\">আবার</span> <span style=\"background-color:#8a8aff\">আমাদের</span> <span style=\"background-color:#ffa8a8\">কি</span> <span style=\"background-color:#8888ff\">সাহায্য</span> <span style=\"background-color:#c0c0ff\">করবে</span> \n"
      ],
      "text/plain": [
       "<IPython.core.display.HTML object>"
      ]
     },
     "metadata": {},
     "output_type": "display_data"
    },
    {
     "name": "stdout",
     "output_type": "stream",
     "text": [
      "-----------------------------------------------------------\n",
      "[  49  133   27   93  133  895 5763  132  123 5369  420  966   52 1633\n",
      "   10 4227    2  466   22  704]\n",
      "(20,)\n",
      "Predicted label: Geopolitical Actual label: Personal\n",
      "LRP heatmap:\n"
     ]
    },
    {
     "data": {
      "text/html": [
       "<span style=\"background-color:#fffefe\">মুসলিম</span> <span style=\"background-color:#fffefe\">এদের</span> <span style=\"background-color:#fffefe\">বলে</span> <span style=\"background-color:#fffefe\">তখন</span> <span style=\"background-color:#fefeff\">এদের</span> <span style=\"background-color:#fffefe\">গায়ে</span> <span style=\"background-color:#fefeff\">পরে।</span> <span style=\"background-color:#fffcfc\">এরা</span> <span style=\"background-color:#fffcfc\">এত</span> <span style=\"background-color:#fffefe\">নিচু</span> <span style=\"background-color:#fffafa\">জাত</span> <span style=\"background-color:#fffcfc\">আমেরিকা</span> <span style=\"background-color:#f8f8ff\">এক</span> <span style=\"background-color:#fefeff\">মাস</span> <span style=\"background-color:#fff4f4\">ভারতের</span> <span style=\"background-color:#ffb0b0\">ল্যাংটা</span> <span style=\"background-color:#8686ff\">করে</span> <span style=\"background-color:#0000ff\">বানিয়ে</span> <span style=\"background-color:#ffdede\">সব</span> <span style=\"background-color:#6060ff\">দেব</span> \n"
      ],
      "text/plain": [
       "<IPython.core.display.HTML object>"
      ]
     },
     "metadata": {},
     "output_type": "display_data"
    },
    {
     "name": "stdout",
     "output_type": "stream",
     "text": [
      "SA heatmap:\n"
     ]
    },
    {
     "data": {
      "text/html": [
       "<span style=\"background-color:#fff2f2\">মুসলিম</span> <span style=\"background-color:#ff8686\">এদের</span> <span style=\"background-color:#ffb2b2\">বলে</span> <span style=\"background-color:#ffd0d0\">তখন</span> <span style=\"background-color:#ffdcdc\">এদের</span> <span style=\"background-color:#ff5959\">গায়ে</span> <span style=\"background-color:#ffd2d2\">পরে।</span> <span style=\"background-color:#fff0f0\">এরা</span> <span style=\"background-color:#ffd6d6\">এত</span> <span style=\"background-color:#ff9898\">নিচু</span> <span style=\"background-color:#ff6c6c\">জাত</span> <span style=\"background-color:#ff7c7c\">আমেরিকা</span> <span style=\"background-color:#ffc2c2\">এক</span> <span style=\"background-color:#ffd3d3\">মাস</span> <span style=\"background-color:#ffb0b0\">ভারতের</span> <span style=\"background-color:#ffd6d6\">ল্যাংটা</span> <span style=\"background-color:#ffc2c2\">করে</span> <span style=\"background-color:#ff0000\">বানিয়ে</span> <span style=\"background-color:#ffb8b8\">সব</span> <span style=\"background-color:#ffb8b8\">দেব</span> \n"
      ],
      "text/plain": [
       "<IPython.core.display.HTML object>"
      ]
     },
     "metadata": {},
     "output_type": "display_data"
    },
    {
     "name": "stdout",
     "output_type": "stream",
     "text": [
      "GI heatmap:\n"
     ]
    },
    {
     "data": {
      "text/html": [
       "<span style=\"background-color:#d2d2ff\">মুসলিম</span> <span style=\"background-color:#ccccff\">এদের</span> <span style=\"background-color:#ff9c9c\">বলে</span> <span style=\"background-color:#fff2f2\">তখন</span> <span style=\"background-color:#ffeaea\">এদের</span> <span style=\"background-color:#7979ff\">গায়ে</span> <span style=\"background-color:#5858ff\">পরে।</span> <span style=\"background-color:#7e7eff\">এরা</span> <span style=\"background-color:#d6d6ff\">এত</span> <span style=\"background-color:#ffa0a0\">নিচু</span> <span style=\"background-color:#bcbcff\">জাত</span> <span style=\"background-color:#5c5cff\">আমেরিকা</span> <span style=\"background-color:#ffe2e2\">এক</span> <span style=\"background-color:#8080ff\">মাস</span> <span style=\"background-color:#ffd8d8\">ভারতের</span> <span style=\"background-color:#ff9696\">ল্যাংটা</span> <span style=\"background-color:#ffa0a0\">করে</span> <span style=\"background-color:#ff0000\">বানিয়ে</span> <span style=\"background-color:#ffaeae\">সব</span> <span style=\"background-color:#ffdede\">দেব</span> \n"
      ],
      "text/plain": [
       "<IPython.core.display.HTML object>"
      ]
     },
     "metadata": {},
     "output_type": "display_data"
    },
    {
     "name": "stdout",
     "output_type": "stream",
     "text": [
      "-----------------------------------------------------------\n",
      "[  10   51   69 1085 1257 1738    0    0    0    0    0    0    0    0\n",
      "    0    0    0    0    0    0]\n",
      "(20,)\n",
      "[ 867 3257 2821    2  769  381 2664 6122 4370    0    0    0    0    0\n",
      "    0    0    0    0    0    0]\n",
      "(20,)\n",
      "[  7  87  22 231 856   0   0   0   0   0   0   0   0   0   0   0   0   0\n",
      "   0   0]\n",
      "(20,)\n",
      "[  75  169   46   12   57  468  829  386  225   36   36 2961    3   65\n",
      " 4079  218 6809 3731 2282  277]\n",
      "(20,)\n",
      "Predicted label: Geopolitical Actual label: Personal\n",
      "LRP heatmap:\n"
     ]
    },
    {
     "data": {
      "text/html": [
       "<span style=\"background-color:#fefeff\">অনেক</span> <span style=\"background-color:#fafaff\">ভাল</span> <span style=\"background-color:#fafaff\">কিন্তু</span> <span style=\"background-color:#fafaff\">আমি</span> <span style=\"background-color:#fffefe\">ভারতীয়</span> <span style=\"background-color:#f8f8ff\">চ্যানেল</span> <span style=\"background-color:#f3f3ff\">বেশী</span> <span style=\"background-color:#fcfcff\">দেখি</span> <span style=\"background-color:#ffdcdc\">কারন</span> <span style=\"background-color:#ffd2d2\">বাংলাদেশের</span> <span style=\"background-color:#ffe2e2\">বাংলাদেশের</span> <span style=\"background-color:#f3f3ff\">অনুষ্ঠান</span> <span style=\"background-color:#ffdcdc\">আর</span> <span style=\"background-color:#ffcaca\">ভারতে</span> <span style=\"background-color:#ff8c8c\">অনুষ্ঠানের</span> <span style=\"background-color:#ffd3d3\">তবে</span> <span style=\"background-color:#ffb2b2\">খবরটা</span> <span style=\"background-color:#ff0000\">যদিও</span> <span style=\"background-color:#ff6666\">বিজ্ঞাপন</span> <span style=\"background-color:#ff7171\">আছে।</span> \n"
      ],
      "text/plain": [
       "<IPython.core.display.HTML object>"
      ]
     },
     "metadata": {},
     "output_type": "display_data"
    },
    {
     "name": "stdout",
     "output_type": "stream",
     "text": [
      "SA heatmap:\n"
     ]
    },
    {
     "data": {
      "text/html": [
       "<span style=\"background-color:#ffecec\">অনেক</span> <span style=\"background-color:#ff8686\">ভাল</span> <span style=\"background-color:#ff0000\">কিন্তু</span> <span style=\"background-color:#ffe6e6\">আমি</span> <span style=\"background-color:#ffb8b8\">ভারতীয়</span> <span style=\"background-color:#ffd2d2\">চ্যানেল</span> <span style=\"background-color:#fff0f0\">বেশী</span> <span style=\"background-color:#ffc8c8\">দেখি</span> <span style=\"background-color:#ffeaea\">কারন</span> <span style=\"background-color:#ffe8e8\">বাংলাদেশের</span> <span style=\"background-color:#fffcfc\">বাংলাদেশের</span> <span style=\"background-color:#ff5e5e\">অনুষ্ঠান</span> <span style=\"background-color:#ffc3c3\">আর</span> <span style=\"background-color:#ffcccc\">ভারতে</span> <span style=\"background-color:#ffe4e4\">অনুষ্ঠানের</span> <span style=\"background-color:#ffe4e4\">তবে</span> <span style=\"background-color:#fff6f6\">খবরটা</span> <span style=\"background-color:#ff6969\">যদিও</span> <span style=\"background-color:#ffb6b6\">বিজ্ঞাপন</span> <span style=\"background-color:#ffdede\">আছে।</span> \n"
      ],
      "text/plain": [
       "<IPython.core.display.HTML object>"
      ]
     },
     "metadata": {},
     "output_type": "display_data"
    },
    {
     "name": "stdout",
     "output_type": "stream",
     "text": [
      "GI heatmap:\n"
     ]
    },
    {
     "data": {
      "text/html": [
       "<span style=\"background-color:#ff9e9e\">অনেক</span> <span style=\"background-color:#ff9c9c\">ভাল</span> <span style=\"background-color:#0000ff\">কিন্তু</span> <span style=\"background-color:#ffeaea\">আমি</span> <span style=\"background-color:#6e6eff\">ভারতীয়</span> <span style=\"background-color:#ff9292\">চ্যানেল</span> <span style=\"background-color:#fffafa\">বেশী</span> <span style=\"background-color:#b3b3ff\">দেখি</span> <span style=\"background-color:#f3f3ff\">কারন</span> <span style=\"background-color:#fff0f0\">বাংলাদেশের</span> <span style=\"background-color:#ffeaea\">বাংলাদেশের</span> <span style=\"background-color:#ff4c4c\">অনুষ্ঠান</span> <span style=\"background-color:#ffd2d2\">আর</span> <span style=\"background-color:#ffeaea\">ভারতে</span> <span style=\"background-color:#9a9aff\">অনুষ্ঠানের</span> <span style=\"background-color:#ffb2b2\">তবে</span> <span style=\"background-color:#e3e3ff\">খবরটা</span> <span style=\"background-color:#ff9a9a\">যদিও</span> <span style=\"background-color:#ffd3d3\">বিজ্ঞাপন</span> <span style=\"background-color:#ff8e8e\">আছে।</span> \n"
      ],
      "text/plain": [
       "<IPython.core.display.HTML object>"
      ]
     },
     "metadata": {},
     "output_type": "display_data"
    },
    {
     "name": "stdout",
     "output_type": "stream",
     "text": [
      "-----------------------------------------------------------\n",
      "[4777   49 4051  557  736  102  281    0    0    0    0    0    0    0\n",
      "    0    0    0    0    0    0]\n",
      "(20,)\n",
      "[1098 5746 1281  146  261 5408 1876   32  146 1876 1233  768  486  914\n",
      "    2  205  297   67 1098 5746]\n",
      "(20,)\n",
      "Predicted label: Geopolitical Actual label: Personal\n",
      "LRP heatmap:\n"
     ]
    },
    {
     "data": {
      "text/html": [
       "<span style=\"background-color:#fffefe\">জঙ্গী</span> <span style=\"background-color:#fefeff\">কার্যক্রম</span> <span style=\"background-color:#fffcfc\">পারিস</span> <span style=\"background-color:#fcfcff\">তোরা</span> <span style=\"background-color:#fffefe\">রোহিঙ্গাদের</span> <span style=\"background-color:#fffefe\">মঙ্গল</span> <span style=\"background-color:#fafaff\">চাস</span> <span style=\"background-color:#eaeaff\">না।</span> <span style=\"background-color:#f3f3ff\">তোরা</span> <span style=\"background-color:#c6c6ff\">চাস</span> <span style=\"background-color:#f0f0ff\">রোহিঙ্গারা</span> <span style=\"background-color:#e2e2ff\">এদেশের</span> <span style=\"background-color:#aaaaff\">হিসেবে</span> <span style=\"background-color:#fffcfc\">যাতে</span> <span style=\"background-color:#c0c0ff\">করে</span> <span style=\"background-color:#d6d6ff\">ওদের</span> <span style=\"background-color:#6666ff\">দিয়ে</span> <span style=\"background-color:#dadaff\">তোদের</span> <span style=\"background-color:#8686ff\">জঙ্গী</span> <span style=\"background-color:#0000ff\">কার্যক্রম</span> \n"
      ],
      "text/plain": [
       "<IPython.core.display.HTML object>"
      ]
     },
     "metadata": {},
     "output_type": "display_data"
    },
    {
     "name": "stdout",
     "output_type": "stream",
     "text": [
      "SA heatmap:\n"
     ]
    },
    {
     "data": {
      "text/html": [
       "<span style=\"background-color:#ffc2c2\">জঙ্গী</span> <span style=\"background-color:#fff0f0\">কার্যক্রম</span> <span style=\"background-color:#ffd0d0\">পারিস</span> <span style=\"background-color:#ff0000\">তোরা</span> <span style=\"background-color:#fffcfc\">রোহিঙ্গাদের</span> <span style=\"background-color:#ffe6e6\">মঙ্গল</span> <span style=\"background-color:#ff8686\">চাস</span> <span style=\"background-color:#ffd0d0\">না।</span> <span style=\"background-color:#ffacac\">তোরা</span> <span style=\"background-color:#ffd0d0\">চাস</span> <span style=\"background-color:#fff2f2\">রোহিঙ্গারা</span> <span style=\"background-color:#ffb8b8\">এদেশের</span> <span style=\"background-color:#ffe0e0\">হিসেবে</span> <span style=\"background-color:#fffafa\">যাতে</span> <span style=\"background-color:#fff8f8\">করে</span> <span style=\"background-color:#ffeeee\">ওদের</span> <span style=\"background-color:#ffe8e8\">দিয়ে</span> <span style=\"background-color:#fffefe\">তোদের</span> <span style=\"background-color:#ffe2e2\">জঙ্গী</span> <span style=\"background-color:#ffe8e8\">কার্যক্রম</span> \n"
      ],
      "text/plain": [
       "<IPython.core.display.HTML object>"
      ]
     },
     "metadata": {},
     "output_type": "display_data"
    },
    {
     "name": "stdout",
     "output_type": "stream",
     "text": [
      "GI heatmap:\n"
     ]
    },
    {
     "data": {
      "text/html": [
       "<span style=\"background-color:#8686ff\">জঙ্গী</span> <span style=\"background-color:#ffc0c0\">কার্যক্রম</span> <span style=\"background-color:#ffa8a8\">পারিস</span> <span style=\"background-color:#0000ff\">তোরা</span> <span style=\"background-color:#f3f3ff\">রোহিঙ্গাদের</span> <span style=\"background-color:#ffbaba\">মঙ্গল</span> <span style=\"background-color:#6161ff\">চাস</span> <span style=\"background-color:#a2a2ff\">না।</span> <span style=\"background-color:#7070ff\">তোরা</span> <span style=\"background-color:#ffa3a3\">চাস</span> <span style=\"background-color:#c3c3ff\">রোহিঙ্গারা</span> <span style=\"background-color:#7c7cff\">এদেশের</span> <span style=\"background-color:#b0b0ff\">হিসেবে</span> <span style=\"background-color:#ffeeee\">যাতে</span> <span style=\"background-color:#e3e3ff\">করে</span> <span style=\"background-color:#c8c8ff\">ওদের</span> <span style=\"background-color:#ffdcdc\">দিয়ে</span> <span style=\"background-color:#fff0f0\">তোদের</span> <span style=\"background-color:#ffb2b2\">জঙ্গী</span> <span style=\"background-color:#ffc0c0\">কার্যক্রম</span> \n"
      ],
      "text/plain": [
       "<IPython.core.display.HTML object>"
      ]
     },
     "metadata": {},
     "output_type": "display_data"
    },
    {
     "name": "stdout",
     "output_type": "stream",
     "text": [
      "-----------------------------------------------------------\n",
      "[ 549   36  355 2743  116    0    0    0    0    0    0    0    0    0\n",
      "    0    0    0    0    0    0]\n",
      "(20,)\n",
      "[ 10 750  62  34  37 262   2 237  80   0   0   0   0   0   0   0   0   0\n",
      "   0   0]\n",
      "(20,)\n",
      "[5344 1879  345 2657 1336  127  212    7    0    0    0    0    0    0\n",
      "    0    0    0    0    0    0]\n",
      "(20,)\n",
      "[   7  699   36  145  225 2321 2337   24   65 1058  290 7570  290 1254\n",
      "    0    0    0    0    0    0]\n",
      "(20,)\n",
      "[ 154 2052   86 3067 4271 1053 3347  228  182    0    0    0    0    0\n",
      "    0    0    0    0    0    0]\n",
      "(20,)\n",
      "[  40 4499 2046  556 5976 1139  112 4915   23  508    0    0    0    0\n",
      "    0    0    0    0    0    0]\n",
      "(20,)\n",
      "[ 511 3472   16   10  196   83  590    0    0    0    0    0    0    0\n",
      "    0    0    0    0    0    0]\n",
      "(20,)\n",
      "[  47   36  153 1386  480 3734   74    2  142   10    9  295 1688   23\n",
      "   15    5  930   26  531   32]\n",
      "(20,)\n",
      "Predicted label: Geopolitical Actual label: Personal\n",
      "LRP heatmap:\n"
     ]
    },
    {
     "data": {
      "text/html": [
       "<span style=\"background-color:#fffefe\">যদি</span> <span style=\"background-color:#fffcfc\">বাংলাদেশের</span> <span style=\"background-color:#fffefe\">মানুষের</span> <span style=\"background-color:#fffcfc\">ভোটের</span> <span style=\"background-color:#fffefe\">মাধ্যমে</span> <span style=\"background-color:#fffcfc\">নির্বাচিত</span> <span style=\"background-color:#fafaff\">তাহলে</span> <span style=\"background-color:#fefeff\">করে</span> <span style=\"background-color:#f6f6ff\">শুধু</span> <span style=\"background-color:#fff8f8\">ভারতের</span> <span style=\"background-color:#fafaff\">ও</span> <span style=\"background-color:#fcfcff\">আপনাদের</span> <span style=\"background-color:#ffe0e0\">লুটপাট</span> <span style=\"background-color:#ffd6d6\">এর</span> <span style=\"background-color:#ffd6d6\">জন্য</span> <span style=\"background-color:#ffc0c0\">এই</span> <span style=\"background-color:#ffbebe\">তৈরি</span> <span style=\"background-color:#5e5eff\">করা</span> <span style=\"background-color:#ff5050\">হত</span> <span style=\"background-color:#0000ff\">না।</span> \n"
      ],
      "text/plain": [
       "<IPython.core.display.HTML object>"
      ]
     },
     "metadata": {},
     "output_type": "display_data"
    },
    {
     "name": "stdout",
     "output_type": "stream",
     "text": [
      "SA heatmap:\n"
     ]
    },
    {
     "data": {
      "text/html": [
       "<span style=\"background-color:#fff6f6\">যদি</span> <span style=\"background-color:#ffcece\">বাংলাদেশের</span> <span style=\"background-color:#ffeaea\">মানুষের</span> <span style=\"background-color:#ffa2a2\">ভোটের</span> <span style=\"background-color:#ffc6c6\">মাধ্যমে</span> <span style=\"background-color:#ffeaea\">নির্বাচিত</span> <span style=\"background-color:#fff2f2\">তাহলে</span> <span style=\"background-color:#fffafa\">করে</span> <span style=\"background-color:#fffcfc\">শুধু</span> <span style=\"background-color:#fffefe\">ভারতের</span> <span style=\"background-color:#fffefe\">ও</span> <span style=\"background-color:#fffafa\">আপনাদের</span> <span style=\"background-color:#fff4f4\">লুটপাট</span> <span style=\"background-color:#ffdede\">এর</span> <span style=\"background-color:#fff8f8\">জন্য</span> <span style=\"background-color:#ffeaea\">এই</span> <span style=\"background-color:#ffecec\">তৈরি</span> <span style=\"background-color:#ffb8b8\">করা</span> <span style=\"background-color:#ff8282\">হত</span> <span style=\"background-color:#ff0000\">না।</span> \n"
      ],
      "text/plain": [
       "<IPython.core.display.HTML object>"
      ]
     },
     "metadata": {},
     "output_type": "display_data"
    },
    {
     "name": "stdout",
     "output_type": "stream",
     "text": [
      "GI heatmap:\n"
     ]
    },
    {
     "data": {
      "text/html": [
       "<span style=\"background-color:#ffd3d3\">যদি</span> <span style=\"background-color:#ff8888\">বাংলাদেশের</span> <span style=\"background-color:#7e7eff\">মানুষের</span> <span style=\"background-color:#ffeaea\">ভোটের</span> <span style=\"background-color:#ffe6e6\">মাধ্যমে</span> <span style=\"background-color:#fffcfc\">নির্বাচিত</span> <span style=\"background-color:#a6a6ff\">তাহলে</span> <span style=\"background-color:#fcfcff\">করে</span> <span style=\"background-color:#e2e2ff\">শুধু</span> <span style=\"background-color:#ffd6d6\">ভারতের</span> <span style=\"background-color:#ececff\">ও</span> <span style=\"background-color:#9090ff\">আপনাদের</span> <span style=\"background-color:#bebeff\">লুটপাট</span> <span style=\"background-color:#ffbcbc\">এর</span> <span style=\"background-color:#ff5454\">জন্য</span> <span style=\"background-color:#dcdcff\">এই</span> <span style=\"background-color:#d3d3ff\">তৈরি</span> <span style=\"background-color:#ff6e6e\">করা</span> <span style=\"background-color:#e2e2ff\">হত</span> <span style=\"background-color:#ff0000\">না।</span> \n"
      ],
      "text/plain": [
       "<IPython.core.display.HTML object>"
      ]
     },
     "metadata": {},
     "output_type": "display_data"
    },
    {
     "name": "stdout",
     "output_type": "stream",
     "text": [
      "-----------------------------------------------------------\n",
      "[9569  335  547    7  547    0    0    0    0    0    0    0    0    0\n",
      "    0    0    0    0    0    0]\n",
      "(20,)\n",
      "[  12 1085  684  963 5025    2   45 1062  812  227 1172   95   65  610\n",
      "   15 6992 3976    0    0    0]\n",
      "(20,)\n",
      "[ 988 4411  564  324    1   88    0    0    0    0    0    0    0    0\n",
      "    0    0    0    0    0    0]\n",
      "(20,)\n",
      "[  65  557   15  595    3 3488   15    0    0    0    0    0    0    0\n",
      "    0    0    0    0    0    0]\n",
      "(20,)\n",
      "[1592  308    2    8  223   56   22  877   70    1  153   15 3755  126\n",
      " 1634 2142   33  101  892 1083]\n",
      "(20,)\n",
      "Predicted label: Geopolitical Actual label: Personal\n",
      "LRP heatmap:\n"
     ]
    },
    {
     "data": {
      "text/html": [
       "<span style=\"background-color:#fffafa\">মমতা</span> <span style=\"background-color:#fffefe\">আরো</span> <span style=\"background-color:#fefeff\">করে</span> <span style=\"background-color:#fff8f8\">।</span> <span style=\"background-color:#e0e0ff\">খবর</span> <span style=\"background-color:#fafaff\">তাই</span> <span style=\"background-color:#eeeeff\">সব</span> <span style=\"background-color:#fff6f6\">ব্যাপারে</span> <span style=\"background-color:#fff2f2\">ধর্ম</span> <span style=\"background-color:#ceceff\">না</span> <span style=\"background-color:#fff0f0\">মানুষের</span> <span style=\"background-color:#e2e2ff\">জন্য</span> <span style=\"background-color:#d3d3ff\">ভারতেও</span> <span style=\"background-color:#fcfcff\">এমন</span> <span style=\"background-color:#ffb3b3\">ধর্মীয়</span> <span style=\"background-color:#ffe2e2\">সংগঠন</span> <span style=\"background-color:#b0b0ff\">আছে</span> <span style=\"background-color:#c3c3ff\">যারা</span> <span style=\"background-color:#0000ff\">সংখ্যালঘু</span> <span style=\"background-color:#0c0cff\">নির্যাতনের</span> \n"
      ],
      "text/plain": [
       "<IPython.core.display.HTML object>"
      ]
     },
     "metadata": {},
     "output_type": "display_data"
    },
    {
     "name": "stdout",
     "output_type": "stream",
     "text": [
      "SA heatmap:\n"
     ]
    },
    {
     "data": {
      "text/html": [
       "<span style=\"background-color:#ffe2e2\">মমতা</span> <span style=\"background-color:#ffb0b0\">আরো</span> <span style=\"background-color:#ffeeee\">করে</span> <span style=\"background-color:#ffe6e6\">।</span> <span style=\"background-color:#ffaeae\">খবর</span> <span style=\"background-color:#ffc2c2\">তাই</span> <span style=\"background-color:#fff8f8\">সব</span> <span style=\"background-color:#ffd2d2\">ব্যাপারে</span> <span style=\"background-color:#ffb8b8\">ধর্ম</span> <span style=\"background-color:#ff0000\">না</span> <span style=\"background-color:#ffd6d6\">মানুষের</span> <span style=\"background-color:#ff6e6e\">জন্য</span> <span style=\"background-color:#ffe0e0\">ভারতেও</span> <span style=\"background-color:#ffeaea\">এমন</span> <span style=\"background-color:#ffdede\">ধর্মীয়</span> <span style=\"background-color:#ffc8c8\">সংগঠন</span> <span style=\"background-color:#ffe8e8\">আছে</span> <span style=\"background-color:#ffdcdc\">যারা</span> <span style=\"background-color:#ffbebe\">সংখ্যালঘু</span> <span style=\"background-color:#ffd3d3\">নির্যাতনের</span> \n"
      ],
      "text/plain": [
       "<IPython.core.display.HTML object>"
      ]
     },
     "metadata": {},
     "output_type": "display_data"
    },
    {
     "name": "stdout",
     "output_type": "stream",
     "text": [
      "GI heatmap:\n"
     ]
    },
    {
     "data": {
      "text/html": [
       "<span style=\"background-color:#b8b8ff\">মমতা</span> <span style=\"background-color:#b3b3ff\">আরো</span> <span style=\"background-color:#ffc0c0\">করে</span> <span style=\"background-color:#9696ff\">।</span> <span style=\"background-color:#7070ff\">খবর</span> <span style=\"background-color:#ff8383\">তাই</span> <span style=\"background-color:#e0e0ff\">সব</span> <span style=\"background-color:#ffb2b2\">ব্যাপারে</span> <span style=\"background-color:#8e8eff\">ধর্ম</span> <span style=\"background-color:#ff0000\">না</span> <span style=\"background-color:#d3d3ff\">মানুষের</span> <span style=\"background-color:#3434ff\">জন্য</span> <span style=\"background-color:#ff6868\">ভারতেও</span> <span style=\"background-color:#e8e8ff\">এমন</span> <span style=\"background-color:#ffe6e6\">ধর্মীয়</span> <span style=\"background-color:#ff9898\">সংগঠন</span> <span style=\"background-color:#ffeeee\">আছে</span> <span style=\"background-color:#8383ff\">যারা</span> <span style=\"background-color:#ffc6c6\">সংখ্যালঘু</span> <span style=\"background-color:#ffd0d0\">নির্যাতনের</span> \n"
      ],
      "text/plain": [
       "<IPython.core.display.HTML object>"
      ]
     },
     "metadata": {},
     "output_type": "display_data"
    },
    {
     "name": "stdout",
     "output_type": "stream",
     "text": [
      "-----------------------------------------------------------\n",
      "[ 109    7  109   87  109  109   90  633  141   30  347  347  347  347\n",
      "  347 5005   44   11    0    0]\n",
      "(20,)\n",
      "[  65  979   30 1168    2   51 1565  762    0    0    0    0    0    0\n",
      "    0    0    0    0    0    0]\n",
      "(20,)\n",
      "[  57 1030  538 1030 1435    0    0    0    0    0    0    0    0    0\n",
      "    0    0    0    0    0    0]\n",
      "(20,)\n",
      "[  90    4   18  169  532    1  147  210   10  270   17  586 9023    0\n",
      "    0    0    0    0    0    0]\n",
      "(20,)\n",
      "[  15   72  128 2921 5963    0    0    0    0    0    0    0    0    0\n",
      "    0    0    0    0    0    0]\n",
      "(20,)\n",
      "[ 287  518    4   55  123  754  144 4332   18 5472 3680   56 1017 3863\n",
      " 2150   18  691  563  138 1103]\n",
      "(20,)\n",
      "Predicted label: Geopolitical Actual label: Personal\n",
      "LRP heatmap:\n"
     ]
    },
    {
     "data": {
      "text/html": [
       "<span style=\"background-color:#fffefe\">দিলে</span> <span style=\"background-color:#fefeff\">আজকে</span> <span style=\"background-color:#fffefe\">কি</span> <span style=\"background-color:#fefeff\">আমরা</span> <span style=\"background-color:#fefeff\">এত</span> <span style=\"background-color:#fefeff\">সুন্দর</span> <span style=\"background-color:#fefeff\">ভাবে</span> <span style=\"background-color:#fefeff\">জিবন</span> <span style=\"background-color:#fffcfc\">করতে</span> <span style=\"background-color:#fffefe\">পারতাম</span> <span style=\"background-color:#fefeff\">কি।</span> <span style=\"background-color:#f8f8ff\">তাই</span> <span style=\"background-color:#fff4f4\">মিয়ানমারের</span> <span style=\"background-color:#e6e6ff\">ভাইদের</span> <span style=\"background-color:#d8d8ff\">প্রবেশ</span> <span style=\"background-color:#d2d2ff\">করতে</span> <span style=\"background-color:#ffb8b8\">দেন</span> <span style=\"background-color:#b0b0ff\">প্রধান</span> <span style=\"background-color:#8282ff\">শেখ</span> <span style=\"background-color:#0000ff\">হাসিনা।</span> \n"
      ],
      "text/plain": [
       "<IPython.core.display.HTML object>"
      ]
     },
     "metadata": {},
     "output_type": "display_data"
    },
    {
     "name": "stdout",
     "output_type": "stream",
     "text": [
      "SA heatmap:\n"
     ]
    },
    {
     "data": {
      "text/html": [
       "<span style=\"background-color:#ffeeee\">দিলে</span> <span style=\"background-color:#ffe6e6\">আজকে</span> <span style=\"background-color:#ffd3d3\">কি</span> <span style=\"background-color:#ffe8e8\">আমরা</span> <span style=\"background-color:#ffc0c0\">এত</span> <span style=\"background-color:#ff9696\">সুন্দর</span> <span style=\"background-color:#fff6f6\">ভাবে</span> <span style=\"background-color:#ff0000\">জিবন</span> <span style=\"background-color:#fff6f6\">করতে</span> <span style=\"background-color:#fff6f6\">পারতাম</span> <span style=\"background-color:#ff8282\">কি।</span> <span style=\"background-color:#ffdada\">তাই</span> <span style=\"background-color:#ffcccc\">মিয়ানমারের</span> <span style=\"background-color:#ffeeee\">ভাইদের</span> <span style=\"background-color:#ffe2e2\">প্রবেশ</span> <span style=\"background-color:#fff6f6\">করতে</span> <span style=\"background-color:#ff1010\">দেন</span> <span style=\"background-color:#ffbcbc\">প্রধান</span> <span style=\"background-color:#ffb2b2\">শেখ</span> <span style=\"background-color:#ffe2e2\">হাসিনা।</span> \n"
      ],
      "text/plain": [
       "<IPython.core.display.HTML object>"
      ]
     },
     "metadata": {},
     "output_type": "display_data"
    },
    {
     "name": "stdout",
     "output_type": "stream",
     "text": [
      "GI heatmap:\n"
     ]
    },
    {
     "data": {
      "text/html": [
       "<span style=\"background-color:#ffeaea\">দিলে</span> <span style=\"background-color:#ccccff\">আজকে</span> <span style=\"background-color:#ff9393\">কি</span> <span style=\"background-color:#ffc8c8\">আমরা</span> <span style=\"background-color:#8c8cff\">এত</span> <span style=\"background-color:#ff3939\">সুন্দর</span> <span style=\"background-color:#d2d2ff\">ভাবে</span> <span style=\"background-color:#ff0000\">জিবন</span> <span style=\"background-color:#f2f2ff\">করতে</span> <span style=\"background-color:#e8e8ff\">পারতাম</span> <span style=\"background-color:#7979ff\">কি।</span> <span style=\"background-color:#eeeeff\">তাই</span> <span style=\"background-color:#8686ff\">মিয়ানমারের</span> <span style=\"background-color:#b6b6ff\">ভাইদের</span> <span style=\"background-color:#9a9aff\">প্রবেশ</span> <span style=\"background-color:#dadaff\">করতে</span> <span style=\"background-color:#ff2626\">দেন</span> <span style=\"background-color:#ff6868\">প্রধান</span> <span style=\"background-color:#d0d0ff\">শেখ</span> <span style=\"background-color:#ffe6e6\">হাসিনা।</span> \n"
      ],
      "text/plain": [
       "<IPython.core.display.HTML object>"
      ]
     },
     "metadata": {},
     "output_type": "display_data"
    },
    {
     "name": "stdout",
     "output_type": "stream",
     "text": [
      "-----------------------------------------------------------\n",
      "[ 155  319 8856  365  803  457    7   82   23  482  250 9312  559  366\n",
      "    7   22  120  433 2589  250]\n",
      "(20,)\n",
      "Predicted label: Geopolitical Actual label: Personal\n",
      "LRP heatmap:\n"
     ]
    },
    {
     "data": {
      "text/html": [
       "<span style=\"background-color:#fffefe\">একজন</span> <span style=\"background-color:#fffefe\">সেনা</span> <span style=\"background-color:#fffefe\">বাহিনির</span> <span style=\"background-color:#fefeff\">বলছে</span> <span style=\"background-color:#fefeff\">আগের</span> <span style=\"background-color:#fffefe\">বার</span> <span style=\"background-color:#fffefe\">ভারত</span> <span style=\"background-color:#fffefe\">সরকার</span> <span style=\"background-color:#fffefe\">এর</span> <span style=\"background-color:#fffefe\">ভুলে</span> <span style=\"background-color:#fefeff\">বি</span> <span style=\"background-color:#fefeff\">ন</span> <span style=\"background-color:#fffefe\">পি</span> <span style=\"background-color:#fffefe\">এসে</span> <span style=\"background-color:#eaeaff\">ভারত</span> <span style=\"background-color:#fff8f8\">সব</span> <span style=\"background-color:#f2f2ff\">কাজ</span> <span style=\"background-color:#c3c3ff\">করো</span> <span style=\"background-color:#fcfcff\">সিমান্তে</span> <span style=\"background-color:#ff0000\">বি</span> \n"
      ],
      "text/plain": [
       "<IPython.core.display.HTML object>"
      ]
     },
     "metadata": {},
     "output_type": "display_data"
    },
    {
     "name": "stdout",
     "output_type": "stream",
     "text": [
      "SA heatmap:\n"
     ]
    },
    {
     "data": {
      "text/html": [
       "<span style=\"background-color:#fffafa\">একজন</span> <span style=\"background-color:#ff0000\">সেনা</span> <span style=\"background-color:#ffe0e0\">বাহিনির</span> <span style=\"background-color:#fff6f6\">বলছে</span> <span style=\"background-color:#ffe2e2\">আগের</span> <span style=\"background-color:#ff8888\">বার</span> <span style=\"background-color:#ffcaca\">ভারত</span> <span style=\"background-color:#ff8e8e\">সরকার</span> <span style=\"background-color:#ffe4e4\">এর</span> <span style=\"background-color:#ffa6a6\">ভুলে</span> <span style=\"background-color:#ff5151\">বি</span> <span style=\"background-color:#ffc8c8\">ন</span> <span style=\"background-color:#ffa0a0\">পি</span> <span style=\"background-color:#ffc2c2\">এসে</span> <span style=\"background-color:#ff7474\">ভারত</span> <span style=\"background-color:#ffecec\">সব</span> <span style=\"background-color:#ffc6c6\">কাজ</span> <span style=\"background-color:#ff9a9a\">করো</span> <span style=\"background-color:#ff6c6c\">সিমান্তে</span> <span style=\"background-color:#ff9a9a\">বি</span> \n"
      ],
      "text/plain": [
       "<IPython.core.display.HTML object>"
      ]
     },
     "metadata": {},
     "output_type": "display_data"
    },
    {
     "name": "stdout",
     "output_type": "stream",
     "text": [
      "GI heatmap:\n"
     ]
    },
    {
     "data": {
      "text/html": [
       "<span style=\"background-color:#ffd2d2\">একজন</span> <span style=\"background-color:#7676ff\">সেনা</span> <span style=\"background-color:#fff4f4\">বাহিনির</span> <span style=\"background-color:#ffb2b2\">বলছে</span> <span style=\"background-color:#ffa3a3\">আগের</span> <span style=\"background-color:#ff0000\">বার</span> <span style=\"background-color:#ff9292\">ভারত</span> <span style=\"background-color:#ff2c2c\">সরকার</span> <span style=\"background-color:#8282ff\">এর</span> <span style=\"background-color:#eaeaff\">ভুলে</span> <span style=\"background-color:#4141ff\">বি</span> <span style=\"background-color:#bebeff\">ন</span> <span style=\"background-color:#ff4141\">পি</span> <span style=\"background-color:#ffb3b3\">এসে</span> <span style=\"background-color:#fff8f8\">ভারত</span> <span style=\"background-color:#ff9e9e\">সব</span> <span style=\"background-color:#7474ff\">কাজ</span> <span style=\"background-color:#a0a0ff\">করো</span> <span style=\"background-color:#ffb2b2\">সিমান্তে</span> <span style=\"background-color:#ffeeee\">বি</span> \n"
      ],
      "text/plain": [
       "<IPython.core.display.HTML object>"
      ]
     },
     "metadata": {},
     "output_type": "display_data"
    },
    {
     "name": "stdout",
     "output_type": "stream",
     "text": [
      "-----------------------------------------------------------\n",
      "[  40   18    1  580  446   18 1500   32    0    0    0    0    0    0\n",
      "    0    0    0    0    0    0]\n",
      "(20,)\n",
      "[3118   28  266 1529   57   73    0    0    0    0    0    0    0    0\n",
      "    0    0    0    0    0    0]\n",
      "(20,)\n",
      "[  22   39   44  883   16 3572 2603  247  162 6676  196    0    0    0\n",
      "    0    0    0    0    0    0]\n",
      "(20,)\n",
      "[1033  137   63 1526  781  151 2759  374    0    0    0    0    0    0\n",
      "    0    0    0    0    0    0]\n",
      "(20,)\n",
      "[6273  127 3878   78  218 1965 1043  206  358 2113  610 6273   24  127\n",
      "  937    1    0    0    0    0]\n",
      "(20,)\n",
      "[7197  255  709 1929 2836 5182    8   10  247  105  372  143  113   39\n",
      "    7  247 7910  245 9686    8]\n",
      "(20,)\n",
      "Predicted label: Geopolitical Actual label: Personal\n",
      "LRP heatmap:\n"
     ]
    },
    {
     "data": {
      "text/html": [
       "<span style=\"background-color:#fefeff\">বাজার</span> <span style=\"background-color:#fffefe\">অন্য</span> <span style=\"background-color:#fffefe\">দিনের</span> <span style=\"background-color:#fffefe\">মতোই</span> <span style=\"background-color:#fffefe\">সম্পূর্ণ</span> <span style=\"background-color:#fefeff\">স্বাভাবিক</span> <span style=\"background-color:#fffefe\">।</span> <span style=\"background-color:#fffafa\">ভারতের</span> <span style=\"background-color:#fffcfc\">বিরোধী</span> <span style=\"background-color:#fafaff\">নয়</span> <span style=\"background-color:#fffcfc\">বলা</span> <span style=\"background-color:#fff8f8\">উচিত</span> <span style=\"background-color:#f0f0ff\">ছিল</span> <span style=\"background-color:#fff2f2\">কিছু</span> <span style=\"background-color:#ffecec\">ভারত</span> <span style=\"background-color:#fcfcff\">বিরোধী</span> <span style=\"background-color:#fffefe\">নপুংসক</span> <span style=\"background-color:#ffcccc\">দল</span> <span style=\"background-color:#ffb6b6\">বনধ</span> <span style=\"background-color:#0000ff\">।</span> \n"
      ],
      "text/plain": [
       "<IPython.core.display.HTML object>"
      ]
     },
     "metadata": {},
     "output_type": "display_data"
    },
    {
     "name": "stdout",
     "output_type": "stream",
     "text": [
      "SA heatmap:\n"
     ]
    },
    {
     "data": {
      "text/html": [
       "<span style=\"background-color:#fff8f8\">বাজার</span> <span style=\"background-color:#ff8e8e\">অন্য</span> <span style=\"background-color:#ff9090\">দিনের</span> <span style=\"background-color:#ffeeee\">মতোই</span> <span style=\"background-color:#ff8080\">সম্পূর্ণ</span> <span style=\"background-color:#ffc8c8\">স্বাভাবিক</span> <span style=\"background-color:#ff8e8e\">।</span> <span style=\"background-color:#ff0000\">ভারতের</span> <span style=\"background-color:#ffdcdc\">বিরোধী</span> <span style=\"background-color:#ffd6d6\">নয়</span> <span style=\"background-color:#ffacac\">বলা</span> <span style=\"background-color:#ffbcbc\">উচিত</span> <span style=\"background-color:#ff7676\">ছিল</span> <span style=\"background-color:#ffe8e8\">কিছু</span> <span style=\"background-color:#ffdede\">ভারত</span> <span style=\"background-color:#ffb0b0\">বিরোধী</span> <span style=\"background-color:#ff7474\">নপুংসক</span> <span style=\"background-color:#ffb0b0\">দল</span> <span style=\"background-color:#ffd6d6\">বনধ</span> <span style=\"background-color:#ffb8b8\">।</span> \n"
      ],
      "text/plain": [
       "<IPython.core.display.HTML object>"
      ]
     },
     "metadata": {},
     "output_type": "display_data"
    },
    {
     "name": "stdout",
     "output_type": "stream",
     "text": [
      "GI heatmap:\n"
     ]
    },
    {
     "data": {
      "text/html": [
       "<span style=\"background-color:#eeeeff\">বাজার</span> <span style=\"background-color:#ff4646\">অন্য</span> <span style=\"background-color:#6c6cff\">দিনের</span> <span style=\"background-color:#ffcccc\">মতোই</span> <span style=\"background-color:#1c1cff\">সম্পূর্ণ</span> <span style=\"background-color:#ffb8b8\">স্বাভাবিক</span> <span style=\"background-color:#9a9aff\">।</span> <span style=\"background-color:#0000ff\">ভারতের</span> <span style=\"background-color:#ffd0d0\">বিরোধী</span> <span style=\"background-color:#9898ff\">নয়</span> <span style=\"background-color:#ff4949\">বলা</span> <span style=\"background-color:#ff4e4e\">উচিত</span> <span style=\"background-color:#ff9a9a\">ছিল</span> <span style=\"background-color:#ff9e9e\">কিছু</span> <span style=\"background-color:#ffc8c8\">ভারত</span> <span style=\"background-color:#ff5454\">বিরোধী</span> <span style=\"background-color:#3636ff\">নপুংসক</span> <span style=\"background-color:#ffbcbc\">দল</span> <span style=\"background-color:#ff9c9c\">বনধ</span> <span style=\"background-color:#ffdcdc\">।</span> \n"
      ],
      "text/plain": [
       "<IPython.core.display.HTML object>"
      ]
     },
     "metadata": {},
     "output_type": "display_data"
    },
    {
     "name": "stdout",
     "output_type": "stream",
     "text": [
      "-----------------------------------------------------------\n",
      "[   7   37 1289  355  441 1135    4    0    0    0    0    0    0    0\n",
      "    0    0    0    0    0    0]\n",
      "(20,)\n",
      "[ 118  364 2676  500 1798 1372  138   31  432   31  822  181  611 1217\n",
      "   62    4  125 4803   25 1147]\n",
      "(20,)\n",
      "Predicted label: Geopolitical Actual label: Personal\n",
      "LRP heatmap:\n"
     ]
    },
    {
     "data": {
      "text/html": [
       "<span style=\"background-color:#fefeff\">মা</span> <span style=\"background-color:#fefeff\">পাকিস্তানের</span> <span style=\"background-color:#fefeff\">সেনাবাহিনীর</span> <span style=\"background-color:#fffefe\">সঙ্গে</span> <span style=\"background-color:#fffefe\">বসবাস</span> <span style=\"background-color:#fefeff\">করত</span> <span style=\"background-color:#fffefe\">শেখ</span> <span style=\"background-color:#fefeff\">তোর</span> <span style=\"background-color:#fffcfc\">মাকে</span> <span style=\"background-color:#fefeff\">তোর</span> <span style=\"background-color:#fcfcff\">বাপের</span> <span style=\"background-color:#fffafa\">হাতে</span> <span style=\"background-color:#f0f0ff\">ফিরে</span> <span style=\"background-color:#fffafa\">দিয়েছে</span> <span style=\"background-color:#ececff\">এটা</span> <span style=\"background-color:#f8f8ff\">কি</span> <span style=\"background-color:#e3e3ff\">তোমার</span> <span style=\"background-color:#6e6eff\">জানার</span> <span style=\"background-color:#ffaeae\">কথা</span> <span style=\"background-color:#ff0000\">নয়</span> \n"
      ],
      "text/plain": [
       "<IPython.core.display.HTML object>"
      ]
     },
     "metadata": {},
     "output_type": "display_data"
    },
    {
     "name": "stdout",
     "output_type": "stream",
     "text": [
      "SA heatmap:\n"
     ]
    },
    {
     "data": {
      "text/html": [
       "<span style=\"background-color:#ffe4e4\">মা</span> <span style=\"background-color:#ff9898\">পাকিস্তানের</span> <span style=\"background-color:#fff8f8\">সেনাবাহিনীর</span> <span style=\"background-color:#fffafa\">সঙ্গে</span> <span style=\"background-color:#ff0000\">বসবাস</span> <span style=\"background-color:#ff6969\">করত</span> <span style=\"background-color:#ffecec\">শেখ</span> <span style=\"background-color:#ff8e8e\">তোর</span> <span style=\"background-color:#fff2f2\">মাকে</span> <span style=\"background-color:#ff3636\">তোর</span> <span style=\"background-color:#ffe8e8\">বাপের</span> <span style=\"background-color:#ff7c7c\">হাতে</span> <span style=\"background-color:#fff4f4\">ফিরে</span> <span style=\"background-color:#ffcaca\">দিয়েছে</span> <span style=\"background-color:#fff6f6\">এটা</span> <span style=\"background-color:#ff9393\">কি</span> <span style=\"background-color:#ffdede\">তোমার</span> <span style=\"background-color:#ff3e3e\">জানার</span> <span style=\"background-color:#ff1e1e\">কথা</span> <span style=\"background-color:#fffafa\">নয়</span> \n"
      ],
      "text/plain": [
       "<IPython.core.display.HTML object>"
      ]
     },
     "metadata": {},
     "output_type": "display_data"
    },
    {
     "name": "stdout",
     "output_type": "stream",
     "text": [
      "GI heatmap:\n"
     ]
    },
    {
     "data": {
      "text/html": [
       "<span style=\"background-color:#aaaaff\">মা</span> <span style=\"background-color:#e8e8ff\">পাকিস্তানের</span> <span style=\"background-color:#ffc8c8\">সেনাবাহিনীর</span> <span style=\"background-color:#ffa2a2\">সঙ্গে</span> <span style=\"background-color:#eaeaff\">বসবাস</span> <span style=\"background-color:#ff0000\">করত</span> <span style=\"background-color:#8383ff\">শেখ</span> <span style=\"background-color:#ff1818\">তোর</span> <span style=\"background-color:#9292ff\">মাকে</span> <span style=\"background-color:#9a9aff\">তোর</span> <span style=\"background-color:#ff3434\">বাপের</span> <span style=\"background-color:#ececff\">হাতে</span> <span style=\"background-color:#ffe6e6\">ফিরে</span> <span style=\"background-color:#b6b6ff\">দিয়েছে</span> <span style=\"background-color:#eaeaff\">এটা</span> <span style=\"background-color:#d0d0ff\">কি</span> <span style=\"background-color:#ffc3c3\">তোমার</span> <span style=\"background-color:#5151ff\">জানার</span> <span style=\"background-color:#ff7474\">কথা</span> <span style=\"background-color:#ffa8a8\">নয়</span> \n"
      ],
      "text/plain": [
       "<IPython.core.display.HTML object>"
      ]
     },
     "metadata": {},
     "output_type": "display_data"
    },
    {
     "name": "stdout",
     "output_type": "stream",
     "text": [
      "-----------------------------------------------------------\n",
      "[802   9 261 222  26 392   0   0   0   0   0   0   0   0   0   0   0   0\n",
      "   0   0]\n",
      "(20,)\n",
      "[1117  245   34   10  443  333    0    0    0    0    0    0    0    0\n",
      "    0    0    0    0    0    0]\n",
      "(20,)\n",
      "[ 931 3926    7 6578   10 3849  727  508  287 8797   29   35  461 1356\n",
      "  149 4935 3783    0    0    0]\n",
      "(20,)\n",
      "[   8 5914 1971  255 2519  751  120   18    2  649   38  756   80  412\n",
      "  288  197 3950  150  621  228]\n",
      "(20,)\n",
      "Predicted label: Geopolitical Actual label: Personal\n",
      "LRP heatmap:\n"
     ]
    },
    {
     "data": {
      "text/html": [
       "<span style=\"background-color:#fefeff\">।</span> <span style=\"background-color:#fefeff\">নারি</span> <span style=\"background-color:#fefeff\">সবসময়</span> <span style=\"background-color:#fefeff\">অন্য</span> <span style=\"background-color:#fffcfc\">পুরুষের</span> <span style=\"background-color:#fffcfc\">যৌন</span> <span style=\"background-color:#fcfcff\">কাজ</span> <span style=\"background-color:#fefeff\">করতে</span> <span style=\"background-color:#fffefe\">করে</span> <span style=\"background-color:#fff8f8\">এতে</span> <span style=\"background-color:#fcfcff\">তাদের</span> <span style=\"background-color:#ffeeee\">ধর্মে</span> <span style=\"background-color:#fffafa\">নেই</span> <span style=\"background-color:#fcfcff\">বাবার</span> <span style=\"background-color:#fffcfc\">সামনে</span> <span style=\"background-color:#e0e0ff\">মেয়ে</span> <span style=\"background-color:#fff8f8\">কাপর</span> <span style=\"background-color:#fff8f8\">ওরা</span> <span style=\"background-color:#ececff\">নোংরা</span> <span style=\"background-color:#ff0000\">জাতি</span> \n"
      ],
      "text/plain": [
       "<IPython.core.display.HTML object>"
      ]
     },
     "metadata": {},
     "output_type": "display_data"
    },
    {
     "name": "stdout",
     "output_type": "stream",
     "text": [
      "SA heatmap:\n"
     ]
    },
    {
     "data": {
      "text/html": [
       "<span style=\"background-color:#fff4f4\">।</span> <span style=\"background-color:#ffe0e0\">নারি</span> <span style=\"background-color:#ffc6c6\">সবসময়</span> <span style=\"background-color:#ffb3b3\">অন্য</span> <span style=\"background-color:#ffd8d8\">পুরুষের</span> <span style=\"background-color:#fff2f2\">যৌন</span> <span style=\"background-color:#fffcfc\">কাজ</span> <span style=\"background-color:#ffaaaa\">করতে</span> <span style=\"background-color:#ffdada\">করে</span> <span style=\"background-color:#ffeaea\">এতে</span> <span style=\"background-color:#ffdada\">তাদের</span> <span style=\"background-color:#fff8f8\">ধর্মে</span> <span style=\"background-color:#ffe8e8\">নেই</span> <span style=\"background-color:#fff8f8\">বাবার</span> <span style=\"background-color:#ffb6b6\">সামনে</span> <span style=\"background-color:#ff0000\">মেয়ে</span> <span style=\"background-color:#ffb8b8\">কাপর</span> <span style=\"background-color:#ffe4e4\">ওরা</span> <span style=\"background-color:#ffecec\">নোংরা</span> <span style=\"background-color:#ffe6e6\">জাতি</span> \n"
      ],
      "text/plain": [
       "<IPython.core.display.HTML object>"
      ]
     },
     "metadata": {},
     "output_type": "display_data"
    },
    {
     "name": "stdout",
     "output_type": "stream",
     "text": [
      "GI heatmap:\n"
     ]
    },
    {
     "data": {
      "text/html": [
       "<span style=\"background-color:#ffb8b8\">।</span> <span style=\"background-color:#0000ff\">নারি</span> <span style=\"background-color:#7c7cff\">সবসময়</span> <span style=\"background-color:#ff5656\">অন্য</span> <span style=\"background-color:#ececff\">পুরুষের</span> <span style=\"background-color:#fff2f2\">যৌন</span> <span style=\"background-color:#ffe8e8\">কাজ</span> <span style=\"background-color:#ccccff\">করতে</span> <span style=\"background-color:#f0f0ff\">করে</span> <span style=\"background-color:#ff3030\">এতে</span> <span style=\"background-color:#a3a3ff\">তাদের</span> <span style=\"background-color:#ff9a9a\">ধর্মে</span> <span style=\"background-color:#1010ff\">নেই</span> <span style=\"background-color:#fefeff\">বাবার</span> <span style=\"background-color:#3a3aff\">সামনে</span> <span style=\"background-color:#ff5e5e\">মেয়ে</span> <span style=\"background-color:#ff3030\">কাপর</span> <span style=\"background-color:#ff5c5c\">ওরা</span> <span style=\"background-color:#ff9c9c\">নোংরা</span> <span style=\"background-color:#ff6060\">জাতি</span> \n"
      ],
      "text/plain": [
       "<IPython.core.display.HTML object>"
      ]
     },
     "metadata": {},
     "output_type": "display_data"
    },
    {
     "name": "stdout",
     "output_type": "stream",
     "text": [
      "-----------------------------------------------------------\n",
      "[ 560  465 2806   10   19 2880 1068 2620   65    9   36  266 6170  762\n",
      "  171  266   52   19  120   26]\n",
      "(20,)\n",
      "Predicted label: Geopolitical Actual label: Personal\n",
      "LRP heatmap:\n"
     ]
    },
    {
     "data": {
      "text/html": [
       "<span style=\"background-color:#fcfcff\">কম</span> <span style=\"background-color:#fffcfc\">নয়।</span> <span style=\"background-color:#fffefe\">অবশেষে</span> <span style=\"background-color:#fffafa\">ভারতের</span> <span style=\"background-color:#fefeff\">সাথে</span> <span style=\"background-color:#fff2f2\">যৌথ</span> <span style=\"background-color:#f6f6ff\">সিনেমা</span> <span style=\"background-color:#fefeff\">করাতে</span> <span style=\"background-color:#ffeeee\">ভারতে</span> <span style=\"background-color:#fcfcff\">ও</span> <span style=\"background-color:#fff0f0\">বাংলাদেশের</span> <span style=\"background-color:#ffe4e4\">বাংলা</span> <span style=\"background-color:#ffe6e6\">জনপ্রিয়</span> <span style=\"background-color:#ffdcdc\">হচ্ছে।</span> <span style=\"background-color:#f8f8ff\">দুই</span> <span style=\"background-color:#ffd0d0\">বাংলা</span> <span style=\"background-color:#ccccff\">এক</span> <span style=\"background-color:#ffb3b3\">সাথে</span> <span style=\"background-color:#0000ff\">কাজ</span> <span style=\"background-color:#1a1aff\">করা</span> \n"
      ],
      "text/plain": [
       "<IPython.core.display.HTML object>"
      ]
     },
     "metadata": {},
     "output_type": "display_data"
    },
    {
     "name": "stdout",
     "output_type": "stream",
     "text": [
      "SA heatmap:\n"
     ]
    },
    {
     "data": {
      "text/html": [
       "<span style=\"background-color:#ffb8b8\">কম</span> <span style=\"background-color:#fff4f4\">নয়।</span> <span style=\"background-color:#ffc2c2\">অবশেষে</span> <span style=\"background-color:#ffd0d0\">ভারতের</span> <span style=\"background-color:#fffafa\">সাথে</span> <span style=\"background-color:#ffe6e6\">যৌথ</span> <span style=\"background-color:#ffecec\">সিনেমা</span> <span style=\"background-color:#fff6f6\">করাতে</span> <span style=\"background-color:#ff9393\">ভারতে</span> <span style=\"background-color:#ff8e8e\">ও</span> <span style=\"background-color:#ffeeee\">বাংলাদেশের</span> <span style=\"background-color:#ff0000\">বাংলা</span> <span style=\"background-color:#ffd0d0\">জনপ্রিয়</span> <span style=\"background-color:#ffcccc\">হচ্ছে।</span> <span style=\"background-color:#ffd8d8\">দুই</span> <span style=\"background-color:#fff2f2\">বাংলা</span> <span style=\"background-color:#ffeeee\">এক</span> <span style=\"background-color:#ffe4e4\">সাথে</span> <span style=\"background-color:#ffc2c2\">কাজ</span> <span style=\"background-color:#fff0f0\">করা</span> \n"
      ],
      "text/plain": [
       "<IPython.core.display.HTML object>"
      ]
     },
     "metadata": {},
     "output_type": "display_data"
    },
    {
     "name": "stdout",
     "output_type": "stream",
     "text": [
      "GI heatmap:\n"
     ]
    },
    {
     "data": {
      "text/html": [
       "<span style=\"background-color:#ffa8a8\">কম</span> <span style=\"background-color:#e3e3ff\">নয়।</span> <span style=\"background-color:#ff6161\">অবশেষে</span> <span style=\"background-color:#babaff\">ভারতের</span> <span style=\"background-color:#dedeff\">সাথে</span> <span style=\"background-color:#ff1414\">যৌথ</span> <span style=\"background-color:#9090ff\">সিনেমা</span> <span style=\"background-color:#3838ff\">করাতে</span> <span style=\"background-color:#ffaeae\">ভারতে</span> <span style=\"background-color:#0000ff\">ও</span> <span style=\"background-color:#7676ff\">বাংলাদেশের</span> <span style=\"background-color:#ffdcdc\">বাংলা</span> <span style=\"background-color:#ffe0e0\">জনপ্রিয়</span> <span style=\"background-color:#ffe4e4\">হচ্ছে।</span> <span style=\"background-color:#ccccff\">দুই</span> <span style=\"background-color:#ffe0e0\">বাংলা</span> <span style=\"background-color:#f3f3ff\">এক</span> <span style=\"background-color:#ff6161\">সাথে</span> <span style=\"background-color:#ff9696\">কাজ</span> <span style=\"background-color:#a6a6ff\">করা</span> \n"
      ],
      "text/plain": [
       "<IPython.core.display.HTML object>"
      ]
     },
     "metadata": {},
     "output_type": "display_data"
    },
    {
     "name": "stdout",
     "output_type": "stream",
     "text": [
      "-----------------------------------------------------------\n",
      "[ 333    1   56  564  188  366    5   22 5976  856    1 9231 1271    5\n",
      "  980 1176  331    3  303   32]\n",
      "(20,)\n",
      "Predicted label: Geopolitical Actual label: Personal\n",
      "LRP heatmap:\n"
     ]
    },
    {
     "data": {
      "text/html": [
       "<span style=\"background-color:#fefeff\">থাকবে</span> <span style=\"background-color:#fefeff\">না</span> <span style=\"background-color:#fefeff\">তাই</span> <span style=\"background-color:#fffefe\">রেন্ডিয়ার</span> <span style=\"background-color:#fff8f8\">দালাল</span> <span style=\"background-color:#fafaff\">এসে</span> <span style=\"background-color:#eaeaff\">এই</span> <span style=\"background-color:#eeeeff\">সব</span> <span style=\"background-color:#ececff\">সামরিক</span> <span style=\"background-color:#fffafa\">যান</span> <span style=\"background-color:#b8b8ff\">না</span> <span style=\"background-color:#fffcfc\">কিনার</span> <span style=\"background-color:#ffeeee\">জন্যে</span> <span style=\"background-color:#eeeeff\">এই</span> <span style=\"background-color:#ffe0e0\">সরকারকে</span> <span style=\"background-color:#cacaff\">চাপ</span> <span style=\"background-color:#e2e2ff\">দিবে</span> <span style=\"background-color:#ececff\">আর</span> <span style=\"background-color:#0000ff\">কিছুই</span> <span style=\"background-color:#6868ff\">না।</span> \n"
      ],
      "text/plain": [
       "<IPython.core.display.HTML object>"
      ]
     },
     "metadata": {},
     "output_type": "display_data"
    },
    {
     "name": "stdout",
     "output_type": "stream",
     "text": [
      "SA heatmap:\n"
     ]
    },
    {
     "data": {
      "text/html": [
       "<span style=\"background-color:#ffcece\">থাকবে</span> <span style=\"background-color:#ff6c6c\">না</span> <span style=\"background-color:#ffd3d3\">তাই</span> <span style=\"background-color:#ff9292\">রেন্ডিয়ার</span> <span style=\"background-color:#ff8383\">দালাল</span> <span style=\"background-color:#ffb8b8\">এসে</span> <span style=\"background-color:#ffeaea\">এই</span> <span style=\"background-color:#fff4f4\">সব</span> <span style=\"background-color:#ffc8c8\">সামরিক</span> <span style=\"background-color:#fff6f6\">যান</span> <span style=\"background-color:#ffdada\">না</span> <span style=\"background-color:#ffe0e0\">কিনার</span> <span style=\"background-color:#fff8f8\">জন্যে</span> <span style=\"background-color:#fffafa\">এই</span> <span style=\"background-color:#fffafa\">সরকারকে</span> <span style=\"background-color:#ff7979\">চাপ</span> <span style=\"background-color:#ffc3c3\">দিবে</span> <span style=\"background-color:#ff0000\">আর</span> <span style=\"background-color:#ff2c2c\">কিছুই</span> <span style=\"background-color:#ff0e0e\">না।</span> \n"
      ],
      "text/plain": [
       "<IPython.core.display.HTML object>"
      ]
     },
     "metadata": {},
     "output_type": "display_data"
    },
    {
     "name": "stdout",
     "output_type": "stream",
     "text": [
      "GI heatmap:\n"
     ]
    },
    {
     "data": {
      "text/html": [
       "<span style=\"background-color:#ff6969\">থাকবে</span> <span style=\"background-color:#6c6cff\">না</span> <span style=\"background-color:#b3b3ff\">তাই</span> <span style=\"background-color:#bcbcff\">রেন্ডিয়ার</span> <span style=\"background-color:#ff0000\">দালাল</span> <span style=\"background-color:#ceceff\">এসে</span> <span style=\"background-color:#ffeaea\">এই</span> <span style=\"background-color:#ffa8a8\">সব</span> <span style=\"background-color:#8c8cff\">সামরিক</span> <span style=\"background-color:#c0c0ff\">যান</span> <span style=\"background-color:#ffe8e8\">না</span> <span style=\"background-color:#ffdcdc\">কিনার</span> <span style=\"background-color:#ffe2e2\">জন্যে</span> <span style=\"background-color:#ffc2c2\">এই</span> <span style=\"background-color:#f8f8ff\">সরকারকে</span> <span style=\"background-color:#ff7171\">চাপ</span> <span style=\"background-color:#c0c0ff\">দিবে</span> <span style=\"background-color:#fffafa\">আর</span> <span style=\"background-color:#ffd8d8\">কিছুই</span> <span style=\"background-color:#ff6868\">না।</span> \n"
      ],
      "text/plain": [
       "<IPython.core.display.HTML object>"
      ]
     },
     "metadata": {},
     "output_type": "display_data"
    },
    {
     "name": "stdout",
     "output_type": "stream",
     "text": [
      "-----------------------------------------------------------\n",
      "[ 479  269  140   80  953 2900   22 1067 1842    0    0    0    0    0\n",
      "    0    0    0    0    0    0]\n",
      "(20,)\n",
      "[  40  100 9038  165 9039 3469 9040  512   59  471  168   39   60    0\n",
      "    0    0    0    0    0    0]\n",
      "(20,)\n",
      "[9925 1154    7   87  239   69   55   10 7675    4 3657    4    3 5062\n",
      " 3474  746    8    0    0    0]\n",
      "(20,)\n",
      "[ 386   60   24   98 2195  334  451 3777  496   80   56  496  321  237\n",
      "   80  503   96  515 1243  254]\n",
      "(20,)\n",
      "Predicted label: Geopolitical Actual label: Personal\n",
      "LRP heatmap:\n"
     ]
    },
    {
     "data": {
      "text/html": [
       "<span style=\"background-color:#fefeff\">দেখি</span> <span style=\"background-color:#fefeff\">নাই</span> <span style=\"background-color:#fefeff\">কোন</span> <span style=\"background-color:#fffefe\">করছে</span> <span style=\"background-color:#fffcfc\">তারপরও</span> <span style=\"background-color:#fefeff\">যত</span> <span style=\"background-color:#f8f8ff\">দোষ</span> <span style=\"background-color:#fff8f8\">ঘোষ</span> <span style=\"background-color:#fefeff\">এদেশে</span> <span style=\"background-color:#fcfcff\">নেই</span> <span style=\"background-color:#fafaff\">তাই</span> <span style=\"background-color:#fafaff\">এদেশে</span> <span style=\"background-color:#fffafa\">জন্ম</span> <span style=\"background-color:#ffeeee\">লাভ</span> <span style=\"background-color:#ffe2e2\">নেই</span> <span style=\"background-color:#fffefe\">সবচেয়ে</span> <span style=\"background-color:#ffa0a0\">হচ্ছে</span> <span style=\"background-color:#6c6cff\">নিজেদের</span> <span style=\"background-color:#ffcccc\">রক্ষা</span> <span style=\"background-color:#ff0000\">কর</span> \n"
      ],
      "text/plain": [
       "<IPython.core.display.HTML object>"
      ]
     },
     "metadata": {},
     "output_type": "display_data"
    },
    {
     "name": "stdout",
     "output_type": "stream",
     "text": [
      "SA heatmap:\n"
     ]
    },
    {
     "data": {
      "text/html": [
       "<span style=\"background-color:#ffeeee\">দেখি</span> <span style=\"background-color:#ff4141\">নাই</span> <span style=\"background-color:#fff0f0\">কোন</span> <span style=\"background-color:#ffc6c6\">করছে</span> <span style=\"background-color:#ffcccc\">তারপরও</span> <span style=\"background-color:#ff0000\">যত</span> <span style=\"background-color:#ffdede\">দোষ</span> <span style=\"background-color:#ffcccc\">ঘোষ</span> <span style=\"background-color:#ffacac\">এদেশে</span> <span style=\"background-color:#ffecec\">নেই</span> <span style=\"background-color:#ff5e5e\">তাই</span> <span style=\"background-color:#fff0f0\">এদেশে</span> <span style=\"background-color:#ffe6e6\">জন্ম</span> <span style=\"background-color:#ffdede\">লাভ</span> <span style=\"background-color:#ffb6b6\">নেই</span> <span style=\"background-color:#ffdcdc\">সবচেয়ে</span> <span style=\"background-color:#ffa0a0\">হচ্ছে</span> <span style=\"background-color:#ffcaca\">নিজেদের</span> <span style=\"background-color:#ffcece\">রক্ষা</span> <span style=\"background-color:#ffeaea\">কর</span> \n"
      ],
      "text/plain": [
       "<IPython.core.display.HTML object>"
      ]
     },
     "metadata": {},
     "output_type": "display_data"
    },
    {
     "name": "stdout",
     "output_type": "stream",
     "text": [
      "GI heatmap:\n"
     ]
    },
    {
     "data": {
      "text/html": [
       "<span style=\"background-color:#ffdede\">দেখি</span> <span style=\"background-color:#0000ff\">নাই</span> <span style=\"background-color:#7e7eff\">কোন</span> <span style=\"background-color:#d0d0ff\">করছে</span> <span style=\"background-color:#ff8383\">তারপরও</span> <span style=\"background-color:#8080ff\">যত</span> <span style=\"background-color:#6666ff\">দোষ</span> <span style=\"background-color:#3838ff\">ঘোষ</span> <span style=\"background-color:#ffaeae\">এদেশে</span> <span style=\"background-color:#d2d2ff\">নেই</span> <span style=\"background-color:#ff2e2e\">তাই</span> <span style=\"background-color:#ff9090\">এদেশে</span> <span style=\"background-color:#ff6969\">জন্ম</span> <span style=\"background-color:#4646ff\">লাভ</span> <span style=\"background-color:#ffe6e6\">নেই</span> <span style=\"background-color:#c8c8ff\">সবচেয়ে</span> <span style=\"background-color:#ff9898\">হচ্ছে</span> <span style=\"background-color:#9e9eff\">নিজেদের</span> <span style=\"background-color:#ff9a9a\">রক্ষা</span> <span style=\"background-color:#5959ff\">কর</span> \n"
      ],
      "text/plain": [
       "<IPython.core.display.HTML object>"
      ]
     },
     "metadata": {},
     "output_type": "display_data"
    },
    {
     "name": "stdout",
     "output_type": "stream",
     "text": [
      "-----------------------------------------------------------\n",
      "[  40   13   10 2475 2163  578 3609 1159    0    0    0    0    0    0\n",
      "    0    0    0    0    0    0]\n",
      "(20,)\n",
      "[  10   82 4680  343  114  476  530    0    0    0    0    0    0    0\n",
      "    0    0    0    0    0    0]\n",
      "(20,)\n",
      "[6733 2984  332  180  738 4127 1594  170    0    0    0    0    0    0\n",
      "    0    0    0    0    0    0]\n",
      "(20,)\n",
      "[5492 6078 3849 3236  888  979  279    0    0    0    0    0    0    0\n",
      "    0    0    0    0    0    0]\n",
      "(20,)\n",
      "[ 854  172   55 1661 1271  239  998    7  441   87 4602 1271  398 3017\n",
      "  696    0    0    0    0    0]\n",
      "(20,)\n",
      "[  86   65  543 2351  597  179   43  152  121  203  615  556   95    6\n",
      "  148    0    0    0    0    0]\n",
      "(20,)\n",
      "[ 104  348  399 4630  893    9   13  813    9 2796 1234   14  483 2152\n",
      "   23 3006   17   86  399 2058]\n",
      "(20,)\n",
      "Predicted label: Geopolitical Actual label: Personal\n",
      "LRP heatmap:\n"
     ]
    },
    {
     "data": {
      "text/html": [
       "<span style=\"background-color:#fffcfc\">মতো</span> <span style=\"background-color:#fffefe\">তোমাদের</span> <span style=\"background-color:#f6f6ff\">প্রধানমন্ত্রী</span> <span style=\"background-color:#f6f6ff\">নরেন্দ্র</span> <span style=\"background-color:#f8f8ff\">মোদী</span> <span style=\"background-color:#fffefe\">ও</span> <span style=\"background-color:#f8f8ff\">তো</span> <span style=\"background-color:#fffcfc\">চরম</span> <span style=\"background-color:#ffecec\">ও</span> <span style=\"background-color:#fff0f0\">অহংকারী</span> <span style=\"background-color:#ffe8e8\">ব্যক্তি</span> <span style=\"background-color:#fff4f4\">যে</span> <span style=\"background-color:#dadaff\">তিনি</span> <span style=\"background-color:#ff9e9e\">চা</span> <span style=\"background-color:#fff0f0\">এর</span> <span style=\"background-color:#ff6c6c\">দোকান</span> <span style=\"background-color:#ffe4e4\">থেকে</span> <span style=\"background-color:#c8c8ff\">আজ</span> <span style=\"background-color:#a3a3ff\">প্রধানমন্ত্রী</span> <span style=\"background-color:#0000ff\">সেইটা</span> \n"
      ],
      "text/plain": [
       "<IPython.core.display.HTML object>"
      ]
     },
     "metadata": {},
     "output_type": "display_data"
    },
    {
     "name": "stdout",
     "output_type": "stream",
     "text": [
      "SA heatmap:\n"
     ]
    },
    {
     "data": {
      "text/html": [
       "<span style=\"background-color:#ffe6e6\">মতো</span> <span style=\"background-color:#ff9393\">তোমাদের</span> <span style=\"background-color:#ffb2b2\">প্রধানমন্ত্রী</span> <span style=\"background-color:#ff7878\">নরেন্দ্র</span> <span style=\"background-color:#ff7676\">মোদী</span> <span style=\"background-color:#ffeeee\">ও</span> <span style=\"background-color:#ffe0e0\">তো</span> <span style=\"background-color:#ffb6b6\">চরম</span> <span style=\"background-color:#ffdcdc\">ও</span> <span style=\"background-color:#ffd0d0\">অহংকারী</span> <span style=\"background-color:#fff2f2\">ব্যক্তি</span> <span style=\"background-color:#ff7c7c\">যে</span> <span style=\"background-color:#ff2e2e\">তিনি</span> <span style=\"background-color:#ff5656\">চা</span> <span style=\"background-color:#ff7878\">এর</span> <span style=\"background-color:#ffb2b2\">দোকান</span> <span style=\"background-color:#ffe4e4\">থেকে</span> <span style=\"background-color:#ff0000\">আজ</span> <span style=\"background-color:#ffa0a0\">প্রধানমন্ত্রী</span> <span style=\"background-color:#ffd2d2\">সেইটা</span> \n"
      ],
      "text/plain": [
       "<IPython.core.display.HTML object>"
      ]
     },
     "metadata": {},
     "output_type": "display_data"
    },
    {
     "name": "stdout",
     "output_type": "stream",
     "text": [
      "GI heatmap:\n"
     ]
    },
    {
     "data": {
      "text/html": [
       "<span style=\"background-color:#c6c6ff\">মতো</span> <span style=\"background-color:#5858ff\">তোমাদের</span> <span style=\"background-color:#7c7cff\">প্রধানমন্ত্রী</span> <span style=\"background-color:#ffb2b2\">নরেন্দ্র</span> <span style=\"background-color:#ff7070\">মোদী</span> <span style=\"background-color:#fff0f0\">ও</span> <span style=\"background-color:#ffe6e6\">তো</span> <span style=\"background-color:#7c7cff\">চরম</span> <span style=\"background-color:#ffd8d8\">ও</span> <span style=\"background-color:#fffafa\">অহংকারী</span> <span style=\"background-color:#dcdcff\">ব্যক্তি</span> <span style=\"background-color:#ff6060\">যে</span> <span style=\"background-color:#f6f6ff\">তিনি</span> <span style=\"background-color:#4c4cff\">চা</span> <span style=\"background-color:#fffcfc\">এর</span> <span style=\"background-color:#e2e2ff\">দোকান</span> <span style=\"background-color:#d6d6ff\">থেকে</span> <span style=\"background-color:#ff0000\">আজ</span> <span style=\"background-color:#ff8282\">প্রধানমন্ত্রী</span> <span style=\"background-color:#a8a8ff\">সেইটা</span> \n"
      ],
      "text/plain": [
       "<IPython.core.display.HTML object>"
      ]
     },
     "metadata": {},
     "output_type": "display_data"
    },
    {
     "name": "stdout",
     "output_type": "stream",
     "text": [
      "-----------------------------------------------------------\n",
      "[ 215  420   10  507   60   56  307  366  325 2724 2724 3242    8    0\n",
      "    0    0    0    0    0    0]\n",
      "(20,)\n",
      "[  10 5724  140  277    0    0    0    0    0    0    0    0    0    0\n",
      "    0    0    0    0    0    0]\n",
      "(20,)\n",
      "[ 406    6  206  957  519   10 2498  148    1  657 1977  439   26   89\n",
      "  178    1  657    0    0    0]\n",
      "(20,)\n",
      "[ 423 2053 5290  599 7960    0    0    0    0    0    0    0    0    0\n",
      "    0    0    0    0    0    0]\n",
      "(20,)\n",
      "[9366 2089 4878 1697  162 9367 4710    1    0    0    0    0    0    0\n",
      "    0    0    0    0    0    0]\n",
      "(20,)\n",
      "[1101 1896   52 6856 4186 1896 1829    0    0    0    0    0    0    0\n",
      "    0    0    0    0    0    0]\n",
      "(20,)\n",
      "[ 138 1046  174 2042 1019    8    0    0    0    0    0    0    0    0\n",
      "    0    0    0    0    0    0]\n",
      "(20,)\n",
      "[  10 1734 1734 1245   52   52    2  171 1310  539  122   16    8  123\n",
      "   23   39   60    8    0    0]\n",
      "(20,)\n",
      "[2288  457 3257 1160 2821  188 6166  753  770    0    0    0    0    0\n",
      "    0    0    0    0    0    0]\n",
      "(20,)\n",
      "[ 180  282  130  111  269  293   78    1  291  291  291  672  185   76\n",
      " 2813    2  132 1276  296   98]\n",
      "(20,)\n",
      "Predicted label: Geopolitical Actual label: Personal\n",
      "LRP heatmap:\n"
     ]
    },
    {
     "data": {
      "text/html": [
       "<span style=\"background-color:#fffefe\">ভোট</span> <span style=\"background-color:#fffefe\">চোর</span> <span style=\"background-color:#fffefe\">আওয়ামীলীগ</span> <span style=\"background-color:#fefeff\">মাগি</span> <span style=\"background-color:#fefeff\">ছাড়া</span> <span style=\"background-color:#fffefe\">থাকতে</span> <span style=\"background-color:#fcfcff\">পারে</span> <span style=\"background-color:#fffcfc\">না</span> <span style=\"background-color:#fffefe\">ছি</span> <span style=\"background-color:#fffefe\">ছি</span> <span style=\"background-color:#fffcfc\">ছি</span> <span style=\"background-color:#fffefe\">লক্ষ</span> <span style=\"background-color:#fffcfc\">কোটি</span> <span style=\"background-color:#fffefe\">টাকা</span> <span style=\"background-color:#fff2f2\">দুর্নীতি</span> <span style=\"background-color:#9a9aff\">করে</span> <span style=\"background-color:#c8c8ff\">এরা</span> <span style=\"background-color:#5858ff\">সমাজের</span> <span style=\"background-color:#ff7e7e\">নষ্ট</span> <span style=\"background-color:#ff0000\">করছে</span> \n"
      ],
      "text/plain": [
       "<IPython.core.display.HTML object>"
      ]
     },
     "metadata": {},
     "output_type": "display_data"
    },
    {
     "name": "stdout",
     "output_type": "stream",
     "text": [
      "SA heatmap:\n"
     ]
    },
    {
     "data": {
      "text/html": [
       "<span style=\"background-color:#ffdede\">ভোট</span> <span style=\"background-color:#ff7c7c\">চোর</span> <span style=\"background-color:#ffe8e8\">আওয়ামীলীগ</span> <span style=\"background-color:#ffbcbc\">মাগি</span> <span style=\"background-color:#ff9898\">ছাড়া</span> <span style=\"background-color:#ffb6b6\">থাকতে</span> <span style=\"background-color:#ff6969\">পারে</span> <span style=\"background-color:#ff0000\">না</span> <span style=\"background-color:#ff6e6e\">ছি</span> <span style=\"background-color:#ffaeae\">ছি</span> <span style=\"background-color:#ff5c5c\">ছি</span> <span style=\"background-color:#ff0808\">লক্ষ</span> <span style=\"background-color:#ff9696\">কোটি</span> <span style=\"background-color:#ff8282\">টাকা</span> <span style=\"background-color:#ff7676\">দুর্নীতি</span> <span style=\"background-color:#ffd8d8\">করে</span> <span style=\"background-color:#ff5656\">এরা</span> <span style=\"background-color:#ff0808\">সমাজের</span> <span style=\"background-color:#ff3c3c\">নষ্ট</span> <span style=\"background-color:#ffe0e0\">করছে</span> \n"
      ],
      "text/plain": [
       "<IPython.core.display.HTML object>"
      ]
     },
     "metadata": {},
     "output_type": "display_data"
    },
    {
     "name": "stdout",
     "output_type": "stream",
     "text": [
      "GI heatmap:\n"
     ]
    },
    {
     "data": {
      "text/html": [
       "<span style=\"background-color:#ffa6a6\">ভোট</span> <span style=\"background-color:#8888ff\">চোর</span> <span style=\"background-color:#fff4f4\">আওয়ামীলীগ</span> <span style=\"background-color:#fcfcff\">মাগি</span> <span style=\"background-color:#ffecec\">ছাড়া</span> <span style=\"background-color:#ffe8e8\">থাকতে</span> <span style=\"background-color:#d2d2ff\">পারে</span> <span style=\"background-color:#ffe8e8\">না</span> <span style=\"background-color:#6161ff\">ছি</span> <span style=\"background-color:#ff7171\">ছি</span> <span style=\"background-color:#eeeeff\">ছি</span> <span style=\"background-color:#ffecec\">লক্ষ</span> <span style=\"background-color:#ffd8d8\">কোটি</span> <span style=\"background-color:#e0e0ff\">টাকা</span> <span style=\"background-color:#d3d3ff\">দুর্নীতি</span> <span style=\"background-color:#ffeaea\">করে</span> <span style=\"background-color:#ff2121\">এরা</span> <span style=\"background-color:#ff0000\">সমাজের</span> <span style=\"background-color:#ff7979\">নষ্ট</span> <span style=\"background-color:#ffecec\">করছে</span> \n"
      ],
      "text/plain": [
       "<IPython.core.display.HTML object>"
      ]
     },
     "metadata": {},
     "output_type": "display_data"
    },
    {
     "name": "stdout",
     "output_type": "stream",
     "text": [
      "-----------------------------------------------------------\n",
      "[  87    4   66   48  548 1098  321  216    0    0    0    0    0    0\n",
      "    0    0    0    0    0    0]\n",
      "(20,)\n",
      "[   7   17 5825 2562   97   26  698    0    0    0    0    0    0    0\n",
      "    0    0    0    0    0    0]\n",
      "(20,)\n",
      "[1079  823  707 3902 6329  517  517   42    0    0    0    0    0    0\n",
      "    0    0    0    0    0    0]\n",
      "(20,)\n",
      "[676   7 133  19 726   0   0   0   0   0   0   0   0   0   0   0   0   0\n",
      "   0   0]\n",
      "(20,)\n",
      "[2055   64 5314  102 1024  280 3707  363   48 2385    0    0    0    0\n",
      "    0    0    0    0    0    0]\n",
      "(20,)\n",
      "[  30 2610  181  763  171  370 2577   98   37 1079 1213 1684 8488    0\n",
      "    0    0    0    0    0    0]\n",
      "(20,)\n",
      "[  36   49 1919   43    1   22  463    8    0    0    0    0    0    0\n",
      "    0    0    0    0    0    0]\n",
      "(20,)\n",
      "[2159  214   34  581   96  448    9 3662  393 2254  159  785  800  310\n",
      "   38  370    0    0    0    0]\n",
      "(20,)\n",
      "[ 564 1891 3287  333  496 4688 1805 4823  656 1939    0    0    0    0\n",
      "    0    0    0    0    0    0]\n",
      "(20,)\n",
      "[  57 1076   72 5850 1927 1713    7    0    0    0    0    0    0    0\n",
      "    0    0    0    0    0    0]\n",
      "(20,)\n",
      "[ 256   40  148    7   13  589 1144  342 1924    0    0    0    0    0\n",
      "    0    0    0    0    0    0]\n",
      "(20,)\n",
      "[ 225  364   19   33  406 4777 4930 1495 2761    3   10   19   33  533\n",
      "   22  243 1139 2455 3190   40]\n",
      "(20,)\n",
      "Predicted label: Geopolitical Actual label: Personal\n",
      "LRP heatmap:\n"
     ]
    },
    {
     "data": {
      "text/html": [
       "<span style=\"background-color:#fffafa\">কারন</span> <span style=\"background-color:#fff4f4\">পাকিস্তানের</span> <span style=\"background-color:#fefeff\">সাথে</span> <span style=\"background-color:#f2f2ff\">আছে</span> <span style=\"background-color:#c2c2ff\">চীন</span> <span style=\"background-color:#f3f3ff\">ইরান</span> <span style=\"background-color:#eaeaff\">তুরস্ক</span> <span style=\"background-color:#c0c0ff\">সৌদি</span> <span style=\"background-color:#d8d8ff\">আরব</span> <span style=\"background-color:#babaff\">আর</span> <span style=\"background-color:#fffafa\">ভারতের</span> <span style=\"background-color:#ffb0b0\">সাথে</span> <span style=\"background-color:#5454ff\">আছে</span> <span style=\"background-color:#ff6c6c\">পৃথিবীর</span> <span style=\"background-color:#fff8f8\">সব</span> <span style=\"background-color:#ff0000\">চেয়ে</span> <span style=\"background-color:#a0a0ff\">শক্তি</span> <span style=\"background-color:#ff6666\">ধর</span> <span style=\"background-color:#ffb2b2\">রাষ্ট</span> <span style=\"background-color:#a8a8ff\">বাংলাদেশ</span> \n"
      ],
      "text/plain": [
       "<IPython.core.display.HTML object>"
      ]
     },
     "metadata": {},
     "output_type": "display_data"
    },
    {
     "name": "stdout",
     "output_type": "stream",
     "text": [
      "SA heatmap:\n"
     ]
    },
    {
     "data": {
      "text/html": [
       "<span style=\"background-color:#ffeeee\">কারন</span> <span style=\"background-color:#ff0000\">পাকিস্তানের</span> <span style=\"background-color:#ffc6c6\">সাথে</span> <span style=\"background-color:#ffd2d2\">আছে</span> <span style=\"background-color:#ffcccc\">চীন</span> <span style=\"background-color:#ffdada\">ইরান</span> <span style=\"background-color:#ff4646\">তুরস্ক</span> <span style=\"background-color:#ffcccc\">সৌদি</span> <span style=\"background-color:#ffecec\">আরব</span> <span style=\"background-color:#ffa0a0\">আর</span> <span style=\"background-color:#ffd3d3\">ভারতের</span> <span style=\"background-color:#ffbaba\">সাথে</span> <span style=\"background-color:#fff0f0\">আছে</span> <span style=\"background-color:#ffe4e4\">পৃথিবীর</span> <span style=\"background-color:#ffe4e4\">সব</span> <span style=\"background-color:#ffc6c6\">চেয়ে</span> <span style=\"background-color:#ff2828\">শক্তি</span> <span style=\"background-color:#ffb3b3\">ধর</span> <span style=\"background-color:#ffeeee\">রাষ্ট</span> <span style=\"background-color:#ffaeae\">বাংলাদেশ</span> \n"
      ],
      "text/plain": [
       "<IPython.core.display.HTML object>"
      ]
     },
     "metadata": {},
     "output_type": "display_data"
    },
    {
     "name": "stdout",
     "output_type": "stream",
     "text": [
      "GI heatmap:\n"
     ]
    },
    {
     "data": {
      "text/html": [
       "<span style=\"background-color:#ffc8c8\">কারন</span> <span style=\"background-color:#ececff\">পাকিস্তানের</span> <span style=\"background-color:#cacaff\">সাথে</span> <span style=\"background-color:#bebeff\">আছে</span> <span style=\"background-color:#0000ff\">চীন</span> <span style=\"background-color:#aeaeff\">ইরান</span> <span style=\"background-color:#ff7878\">তুরস্ক</span> <span style=\"background-color:#b3b3ff\">সৌদি</span> <span style=\"background-color:#b2b2ff\">আরব</span> <span style=\"background-color:#ff5050\">আর</span> <span style=\"background-color:#ffaaaa\">ভারতের</span> <span style=\"background-color:#8888ff\">সাথে</span> <span style=\"background-color:#ff7171\">আছে</span> <span style=\"background-color:#ffd2d2\">পৃথিবীর</span> <span style=\"background-color:#ff6c6c\">সব</span> <span style=\"background-color:#ff7676\">চেয়ে</span> <span style=\"background-color:#b6b6ff\">শক্তি</span> <span style=\"background-color:#dadaff\">ধর</span> <span style=\"background-color:#bebeff\">রাষ্ট</span> <span style=\"background-color:#ceceff\">বাংলাদেশ</span> \n"
      ],
      "text/plain": [
       "<IPython.core.display.HTML object>"
      ]
     },
     "metadata": {},
     "output_type": "display_data"
    },
    {
     "name": "stdout",
     "output_type": "stream",
     "text": [
      "-----------------------------------------------------------\n",
      "[  27   13   53   56   41  198 1278  458 3855    5  198  132 1892  187\n",
      " 2336 1334   20   85  868  447]\n",
      "(20,)\n",
      "Predicted label: Geopolitical Actual label: Personal\n",
      "LRP heatmap:\n"
     ]
    },
    {
     "data": {
      "text/html": [
       "<span style=\"background-color:#fffefe\">বলে</span> <span style=\"background-color:#fffefe\">তো</span> <span style=\"background-color:#fefeff\">ভাই</span> <span style=\"background-color:#fffefe\">তাই</span> <span style=\"background-color:#fffefe\">এখন</span> <span style=\"background-color:#fffefe\">জঙ্গি</span> <span style=\"background-color:#fefeff\">বানানোর</span> <span style=\"background-color:#fafaff\">নাটক</span> <span style=\"background-color:#fff8f8\">চলছে।</span> <span style=\"background-color:#fffafa\">এই</span> <span style=\"background-color:#fcfcff\">জঙ্গি</span> <span style=\"background-color:#ffecec\">এরা</span> <span style=\"background-color:#ffe6e6\">এগুলা</span> <span style=\"background-color:#dadaff\">করে।</span> <span style=\"background-color:#ffc2c2\">সুচি</span> <span style=\"background-color:#f8f8ff\">পেয়েছে</span> <span style=\"background-color:#fff2f2\">আমার</span> <span style=\"background-color:#ffeeee\">টা</span> <span style=\"background-color:#0000ff\">করবো</span> <span style=\"background-color:#4646ff\">কেনো</span> \n"
      ],
      "text/plain": [
       "<IPython.core.display.HTML object>"
      ]
     },
     "metadata": {},
     "output_type": "display_data"
    },
    {
     "name": "stdout",
     "output_type": "stream",
     "text": [
      "SA heatmap:\n"
     ]
    },
    {
     "data": {
      "text/html": [
       "<span style=\"background-color:#ffaeae\">বলে</span> <span style=\"background-color:#ff2121\">তো</span> <span style=\"background-color:#ffd2d2\">ভাই</span> <span style=\"background-color:#ffb6b6\">তাই</span> <span style=\"background-color:#ffecec\">এখন</span> <span style=\"background-color:#fffcfc\">জঙ্গি</span> <span style=\"background-color:#fff4f4\">বানানোর</span> <span style=\"background-color:#ffe4e4\">নাটক</span> <span style=\"background-color:#ffecec\">চলছে।</span> <span style=\"background-color:#ffe0e0\">এই</span> <span style=\"background-color:#ffe8e8\">জঙ্গি</span> <span style=\"background-color:#ffdcdc\">এরা</span> <span style=\"background-color:#ffb0b0\">এগুলা</span> <span style=\"background-color:#ffa2a2\">করে।</span> <span style=\"background-color:#ffd6d6\">সুচি</span> <span style=\"background-color:#ffdcdc\">পেয়েছে</span> <span style=\"background-color:#ff0000\">আমার</span> <span style=\"background-color:#ff6666\">টা</span> <span style=\"background-color:#ff4040\">করবো</span> <span style=\"background-color:#fffafa\">কেনো</span> \n"
      ],
      "text/plain": [
       "<IPython.core.display.HTML object>"
      ]
     },
     "metadata": {},
     "output_type": "display_data"
    },
    {
     "name": "stdout",
     "output_type": "stream",
     "text": [
      "GI heatmap:\n"
     ]
    },
    {
     "data": {
      "text/html": [
       "<span style=\"background-color:#fffcfc\">বলে</span> <span style=\"background-color:#4141ff\">তো</span> <span style=\"background-color:#f3f3ff\">ভাই</span> <span style=\"background-color:#e6e6ff\">তাই</span> <span style=\"background-color:#ffa2a2\">এখন</span> <span style=\"background-color:#fffefe\">জঙ্গি</span> <span style=\"background-color:#bebeff\">বানানোর</span> <span style=\"background-color:#8a8aff\">নাটক</span> <span style=\"background-color:#ff6e6e\">চলছে।</span> <span style=\"background-color:#ffacac\">এই</span> <span style=\"background-color:#ffc0c0\">জঙ্গি</span> <span style=\"background-color:#5050ff\">এরা</span> <span style=\"background-color:#ff0404\">এগুলা</span> <span style=\"background-color:#c0c0ff\">করে।</span> <span style=\"background-color:#f8f8ff\">সুচি</span> <span style=\"background-color:#ff6060\">পেয়েছে</span> <span style=\"background-color:#ffaeae\">আমার</span> <span style=\"background-color:#ff1414\">টা</span> <span style=\"background-color:#ff0000\">করবো</span> <span style=\"background-color:#ffc8c8\">কেনো</span> \n"
      ],
      "text/plain": [
       "<IPython.core.display.HTML object>"
      ]
     },
     "metadata": {},
     "output_type": "display_data"
    },
    {
     "name": "stdout",
     "output_type": "stream",
     "text": [
      "-----------------------------------------------------------\n",
      "[  10   19 2081 8704 8943  800  143  113  256 2081  139   18  864 5172\n",
      "   16  961  949  775 1577   11]\n",
      "(20,)\n",
      "Predicted label: Geopolitical Actual label: Personal\n",
      "LRP heatmap:\n"
     ]
    },
    {
     "data": {
      "text/html": [
       "<span style=\"background-color:#fffefe\">ভারতের</span> <span style=\"background-color:#fffefe\">সাথে</span> <span style=\"background-color:#fefeff\">ম্যাচ</span> <span style=\"background-color:#fefeff\">হেরে</span> <span style=\"background-color:#fffefe\">শিখ্যা</span> <span style=\"background-color:#fffefe\">পাওয়া</span> <span style=\"background-color:#fefeff\">উচিত</span> <span style=\"background-color:#fefeff\">ছিল</span> <span style=\"background-color:#fffefe\">কিভাবে</span> <span style=\"background-color:#fffefe\">ম্যাচ</span> <span style=\"background-color:#fefeff\">শেষ</span> <span style=\"background-color:#fefeff\">করতে</span> <span style=\"background-color:#fffefe\">কবে</span> <span style=\"background-color:#fff6f6\">বুদ্ধি</span> <span style=\"background-color:#ececff\">হবে</span> <span style=\"background-color:#f2f2ff\">প্রতিদিন</span> <span style=\"background-color:#ffd8d8\">একই</span> <span style=\"background-color:#dadaff\">খেলে</span> <span style=\"background-color:#0000ff\">আউট</span> <span style=\"background-color:#ff4e4e\">হয়</span> \n"
      ],
      "text/plain": [
       "<IPython.core.display.HTML object>"
      ]
     },
     "metadata": {},
     "output_type": "display_data"
    },
    {
     "name": "stdout",
     "output_type": "stream",
     "text": [
      "SA heatmap:\n"
     ]
    },
    {
     "data": {
      "text/html": [
       "<span style=\"background-color:#ffe4e4\">ভারতের</span> <span style=\"background-color:#ffe0e0\">সাথে</span> <span style=\"background-color:#ff9393\">ম্যাচ</span> <span style=\"background-color:#fff2f2\">হেরে</span> <span style=\"background-color:#ffdede\">শিখ্যা</span> <span style=\"background-color:#ffe0e0\">পাওয়া</span> <span style=\"background-color:#ffcccc\">উচিত</span> <span style=\"background-color:#ff0000\">ছিল</span> <span style=\"background-color:#ff9e9e\">কিভাবে</span> <span style=\"background-color:#ffa6a6\">ম্যাচ</span> <span style=\"background-color:#fff2f2\">শেষ</span> <span style=\"background-color:#ffeaea\">করতে</span> <span style=\"background-color:#ff6060\">কবে</span> <span style=\"background-color:#fff8f8\">বুদ্ধি</span> <span style=\"background-color:#ffc8c8\">হবে</span> <span style=\"background-color:#ffb8b8\">প্রতিদিন</span> <span style=\"background-color:#ffe6e6\">একই</span> <span style=\"background-color:#ffdcdc\">খেলে</span> <span style=\"background-color:#fff4f4\">আউট</span> <span style=\"background-color:#ffb2b2\">হয়</span> \n"
      ],
      "text/plain": [
       "<IPython.core.display.HTML object>"
      ]
     },
     "metadata": {},
     "output_type": "display_data"
    },
    {
     "name": "stdout",
     "output_type": "stream",
     "text": [
      "GI heatmap:\n"
     ]
    },
    {
     "data": {
      "text/html": [
       "<span style=\"background-color:#ffc6c6\">ভারতের</span> <span style=\"background-color:#dadaff\">সাথে</span> <span style=\"background-color:#ffd2d2\">ম্যাচ</span> <span style=\"background-color:#f3f3ff\">হেরে</span> <span style=\"background-color:#f6f6ff\">শিখ্যা</span> <span style=\"background-color:#ff6464\">পাওয়া</span> <span style=\"background-color:#fffafa\">উচিত</span> <span style=\"background-color:#ceceff\">ছিল</span> <span style=\"background-color:#6969ff\">কিভাবে</span> <span style=\"background-color:#0000ff\">ম্যাচ</span> <span style=\"background-color:#8a8aff\">শেষ</span> <span style=\"background-color:#8888ff\">করতে</span> <span style=\"background-color:#ff4949\">কবে</span> <span style=\"background-color:#aaaaff\">বুদ্ধি</span> <span style=\"background-color:#0202ff\">হবে</span> <span style=\"background-color:#ff4c4c\">প্রতিদিন</span> <span style=\"background-color:#b6b6ff\">একই</span> <span style=\"background-color:#ff3e3e\">খেলে</span> <span style=\"background-color:#ffcccc\">আউট</span> <span style=\"background-color:#ff9393\">হয়</span> \n"
      ],
      "text/plain": [
       "<IPython.core.display.HTML object>"
      ]
     },
     "metadata": {},
     "output_type": "display_data"
    },
    {
     "name": "stdout",
     "output_type": "stream",
     "text": [
      "-----------------------------------------------------------\n",
      "[ 251  215   68   33   10 1681  755 1304  257  209    0    0    0    0\n",
      "    0    0    0    0    0    0]\n",
      "(20,)\n",
      "[ 165  165   49 1760   64  285  759   60   10   15  436   72  261   26\n",
      "  170 1164  443  106    8    0]\n",
      "(20,)\n",
      "[  65  274  286    1  195  601 1747   11   32    0    0    0    0    0\n",
      "    0    0    0    0    0    0]\n",
      "(20,)\n",
      "[ 340  201 1679 1451 2801  890    0    0    0    0    0    0    0    0\n",
      "    0    0    0    0    0    0]\n",
      "(20,)\n",
      "[ 289  428   36 9905  204  305   10   35  182  116 3146    0    0    0\n",
      "    0    0    0    0    0    0]\n",
      "(20,)\n",
      "[   9   20  750   85  126   16   44   11 2874 1878   57  763  210   37\n",
      " 8755 1699 2271    0    0    0]\n",
      "(20,)\n",
      "[   7  768 2819  520   61  444 1334  225   50  768  188 2785   46  768\n",
      " 6144  204    0    0    0    0]\n",
      "(20,)\n",
      "[2154 5290 1818    2  122  698    0    0    0    0    0    0    0    0\n",
      "    0    0    0    0    0    0]\n",
      "(20,)\n",
      "[  91    4   57 1937   92   76   29  611 1395 1418 1787    0    0    0\n",
      "    0    0    0    0    0    0]\n",
      "(20,)\n",
      "[6377  941 4086 1621 9020 1645 2657 2758    0    0    0    0    0    0\n",
      "    0    0    0    0    0    0]\n",
      "(20,)\n",
      "[   7 1093 2462  237   81   24 1466  352  858    3  406    0    0    0\n",
      "    0    0    0    0    0    0]\n",
      "(20,)\n",
      "[ 239 2695   10 2699   87  975   38  656   71  416    7   47 2466    2\n",
      "   74   38 2466   61  600   87]\n",
      "(20,)\n",
      "Predicted label: Geopolitical Actual label: Personal\n",
      "LRP heatmap:\n"
     ]
    },
    {
     "data": {
      "text/html": [
       "<span style=\"background-color:#fffefe\">যুদ্ধ</span> <span style=\"background-color:#fffefe\">লাগলে</span> <span style=\"background-color:#fffefe\">ভারতের</span> <span style=\"background-color:#fffefe\">হার</span> <span style=\"background-color:#fffefe\">পাকিস্তান</span> <span style=\"background-color:#fefeff\">মুসলমানরা</span> <span style=\"background-color:#fffefe\">তাদের</span> <span style=\"background-color:#fefeff\">শান্তি</span> <span style=\"background-color:#fcfcff\">দিতে</span> <span style=\"background-color:#fefeff\">সমস্যা</span> <span style=\"background-color:#fff8f8\">ভারত</span> <span style=\"background-color:#fffcfc\">যদি</span> <span style=\"background-color:#fffefe\">অতিরিক্ত</span> <span style=\"background-color:#fcfcff\">করে</span> <span style=\"background-color:#fff0f0\">তাহলে</span> <span style=\"background-color:#ffe8e8\">তাদের</span> <span style=\"background-color:#ffdcdc\">অতিরিক্ত</span> <span style=\"background-color:#c0c0ff\">করার</span> <span style=\"background-color:#f2f2ff\">জবাব</span> <span style=\"background-color:#0000ff\">পাকিস্তান</span> \n"
      ],
      "text/plain": [
       "<IPython.core.display.HTML object>"
      ]
     },
     "metadata": {},
     "output_type": "display_data"
    },
    {
     "name": "stdout",
     "output_type": "stream",
     "text": [
      "SA heatmap:\n"
     ]
    },
    {
     "data": {
      "text/html": [
       "<span style=\"background-color:#fffefe\">যুদ্ধ</span> <span style=\"background-color:#ff8383\">লাগলে</span> <span style=\"background-color:#ffecec\">ভারতের</span> <span style=\"background-color:#ffa6a6\">হার</span> <span style=\"background-color:#ff0000\">পাকিস্তান</span> <span style=\"background-color:#ffb3b3\">মুসলমানরা</span> <span style=\"background-color:#fffafa\">তাদের</span> <span style=\"background-color:#fff8f8\">শান্তি</span> <span style=\"background-color:#fffcfc\">দিতে</span> <span style=\"background-color:#ffcaca\">সমস্যা</span> <span style=\"background-color:#ffecec\">ভারত</span> <span style=\"background-color:#fff0f0\">যদি</span> <span style=\"background-color:#fff8f8\">অতিরিক্ত</span> <span style=\"background-color:#ffe2e2\">করে</span> <span style=\"background-color:#fff6f6\">তাহলে</span> <span style=\"background-color:#ff6464\">তাদের</span> <span style=\"background-color:#ff2e2e\">অতিরিক্ত</span> <span style=\"background-color:#ffb8b8\">করার</span> <span style=\"background-color:#ff8a8a\">জবাব</span> <span style=\"background-color:#ffa3a3\">পাকিস্তান</span> \n"
      ],
      "text/plain": [
       "<IPython.core.display.HTML object>"
      ]
     },
     "metadata": {},
     "output_type": "display_data"
    },
    {
     "name": "stdout",
     "output_type": "stream",
     "text": [
      "GI heatmap:\n"
     ]
    },
    {
     "data": {
      "text/html": [
       "<span style=\"background-color:#ffa0a0\">যুদ্ধ</span> <span style=\"background-color:#5959ff\">লাগলে</span> <span style=\"background-color:#6e6eff\">ভারতের</span> <span style=\"background-color:#ffd2d2\">হার</span> <span style=\"background-color:#8c8cff\">পাকিস্তান</span> <span style=\"background-color:#ffb6b6\">মুসলমানরা</span> <span style=\"background-color:#dcdcff\">তাদের</span> <span style=\"background-color:#1010ff\">শান্তি</span> <span style=\"background-color:#ffeaea\">দিতে</span> <span style=\"background-color:#ffa8a8\">সমস্যা</span> <span style=\"background-color:#ffb3b3\">ভারত</span> <span style=\"background-color:#ff0000\">যদি</span> <span style=\"background-color:#ffb0b0\">অতিরিক্ত</span> <span style=\"background-color:#ffe2e2\">করে</span> <span style=\"background-color:#a3a3ff\">তাহলে</span> <span style=\"background-color:#ffaaaa\">তাদের</span> <span style=\"background-color:#ffa8a8\">অতিরিক্ত</span> <span style=\"background-color:#f2f2ff\">করার</span> <span style=\"background-color:#3a3aff\">জবাব</span> <span style=\"background-color:#ff1616\">পাকিস্তান</span> \n"
      ],
      "text/plain": [
       "<IPython.core.display.HTML object>"
      ]
     },
     "metadata": {},
     "output_type": "display_data"
    },
    {
     "name": "stdout",
     "output_type": "stream",
     "text": [
      "-----------------------------------------------------------\n",
      "[4642 3716  207  817  184  341    0    0    0    0    0    0    0    0\n",
      "    0    0    0    0    0    0]\n",
      "(20,)\n",
      "[  10    5 1041 3658  646 4176  108   80   23    0    0    0    0    0\n",
      "    0    0    0    0    0    0]\n",
      "(20,)\n",
      "[  46    7 2321   17  272   33 1511    0    0    0    0    0    0    0\n",
      "    0    0    0    0    0    0]\n",
      "(20,)\n",
      "[ 36  81 300  41   5 750 149   1   0   0   0   0   0   0   0   0   0   0\n",
      "   0   0]\n",
      "(20,)\n",
      "[  93 1684 3849  722 4222  517 8672   10   75 2909  538    2  239  452\n",
      " 3372    0    0    0    0    0]\n",
      "(20,)\n",
      "[9799 1213   15 3474  898  110 2200  299  480    0    0    0    0    0\n",
      "    0    0    0    0    0    0]\n",
      "(20,)\n",
      "[1642   95    9  159  130 2809 1477 3741 2929    0    0    0    0    0\n",
      "    0    0    0    0    0    0]\n",
      "(20,)\n",
      "[  40    4 2053 4917  557  366  136   34  314    0    0    0    0    0\n",
      "    0    0    0    0    0    0]\n",
      "(20,)\n",
      "[ 662  162 3639  662  239    0    0    0    0    0    0    0    0    0\n",
      "    0    0    0    0    0    0]\n",
      "(20,)\n",
      "[ 228  567   96   59 1754  364   19  434 5304 9479   80  573 2625    7\n",
      " 2461  575  575  139   29  131]\n",
      "(20,)\n",
      "Predicted label: Geopolitical Actual label: Personal\n",
      "LRP heatmap:\n"
     ]
    },
    {
     "data": {
      "text/html": [
       "<span style=\"background-color:#fffafa\">জাতি</span> <span style=\"background-color:#fffcfc\">সীমান্তে</span> <span style=\"background-color:#fcfcff\">হচ্ছে</span> <span style=\"background-color:#fff8f8\">দেশের</span> <span style=\"background-color:#fff8f8\">জনগণের</span> <span style=\"background-color:#fffafa\">পাকিস্তানের</span> <span style=\"background-color:#fffcfc\">সাথে</span> <span style=\"background-color:#ffecec\">সম্পর্ক</span> <span style=\"background-color:#fcfcff\">বজায়</span> <span style=\"background-color:#fefeff\">থাকুক</span> <span style=\"background-color:#e8e8ff\">নেই</span> <span style=\"background-color:#ffecec\">বর্তমান</span> <span style=\"background-color:#ffe8e8\">সরকার।</span> <span style=\"background-color:#d0d0ff\">ভারত</span> <span style=\"background-color:#ff7878\">প্রেমে</span> <span style=\"background-color:#fcfcff\">খেতে</span> <span style=\"background-color:#f2f2ff\">খেতে</span> <span style=\"background-color:#b2b2ff\">শেষ</span> <span style=\"background-color:#fafaff\">হয়ে</span> <span style=\"background-color:#ff0000\">যাবে</span> \n"
      ],
      "text/plain": [
       "<IPython.core.display.HTML object>"
      ]
     },
     "metadata": {},
     "output_type": "display_data"
    },
    {
     "name": "stdout",
     "output_type": "stream",
     "text": [
      "SA heatmap:\n"
     ]
    },
    {
     "data": {
      "text/html": [
       "<span style=\"background-color:#ffe2e2\">জাতি</span> <span style=\"background-color:#ff0000\">সীমান্তে</span> <span style=\"background-color:#ffd3d3\">হচ্ছে</span> <span style=\"background-color:#ffc3c3\">দেশের</span> <span style=\"background-color:#ffdede\">জনগণের</span> <span style=\"background-color:#ffb2b2\">পাকিস্তানের</span> <span style=\"background-color:#ffd2d2\">সাথে</span> <span style=\"background-color:#ffd3d3\">সম্পর্ক</span> <span style=\"background-color:#ffe6e6\">বজায়</span> <span style=\"background-color:#ffbcbc\">থাকুক</span> <span style=\"background-color:#ffd6d6\">নেই</span> <span style=\"background-color:#ffe2e2\">বর্তমান</span> <span style=\"background-color:#ffd0d0\">সরকার।</span> <span style=\"background-color:#ffe4e4\">ভারত</span> <span style=\"background-color:#ff8383\">প্রেমে</span> <span style=\"background-color:#ffe6e6\">খেতে</span> <span style=\"background-color:#fff6f6\">খেতে</span> <span style=\"background-color:#ffbcbc\">শেষ</span> <span style=\"background-color:#ffaeae\">হয়ে</span> <span style=\"background-color:#ffcaca\">যাবে</span> \n"
      ],
      "text/plain": [
       "<IPython.core.display.HTML object>"
      ]
     },
     "metadata": {},
     "output_type": "display_data"
    },
    {
     "name": "stdout",
     "output_type": "stream",
     "text": [
      "GI heatmap:\n"
     ]
    },
    {
     "data": {
      "text/html": [
       "<span style=\"background-color:#ffeaea\">জাতি</span> <span style=\"background-color:#ff2424\">সীমান্তে</span> <span style=\"background-color:#3030ff\">হচ্ছে</span> <span style=\"background-color:#4949ff\">দেশের</span> <span style=\"background-color:#6e6eff\">জনগণের</span> <span style=\"background-color:#9696ff\">পাকিস্তানের</span> <span style=\"background-color:#ff6464\">সাথে</span> <span style=\"background-color:#ffc8c8\">সম্পর্ক</span> <span style=\"background-color:#ff1e1e\">বজায়</span> <span style=\"background-color:#ffe4e4\">থাকুক</span> <span style=\"background-color:#aeaeff\">নেই</span> <span style=\"background-color:#babaff\">বর্তমান</span> <span style=\"background-color:#ff7676\">সরকার।</span> <span style=\"background-color:#d0d0ff\">ভারত</span> <span style=\"background-color:#7c7cff\">প্রেমে</span> <span style=\"background-color:#ff7878\">খেতে</span> <span style=\"background-color:#ff1919\">খেতে</span> <span style=\"background-color:#ff0000\">শেষ</span> <span style=\"background-color:#3434ff\">হয়ে</span> <span style=\"background-color:#ff7979\">যাবে</span> \n"
      ],
      "text/plain": [
       "<IPython.core.display.HTML object>"
      ]
     },
     "metadata": {},
     "output_type": "display_data"
    },
    {
     "name": "stdout",
     "output_type": "stream",
     "text": [
      "-----------------------------------------------------------\n",
      "[1198   41   86  175 1167 1729 1729  166  136    5 2336   21  616   35\n",
      "  184  106    0    0    0    0]\n",
      "(20,)\n",
      "[   5 8668  222   54   22  482  121    8 1405 8790    1  195   13    5\n",
      "  721 6124  570  570 2452    5]\n",
      "(20,)\n",
      "Predicted label: Geopolitical Actual label: Personal\n",
      "LRP heatmap:\n"
     ]
    },
    {
     "data": {
      "text/html": [
       "<span style=\"background-color:#fefeff\">এই</span> <span style=\"background-color:#fefeff\">ছোটলোক</span> <span style=\"background-color:#fffefe\">গুলি</span> <span style=\"background-color:#fefeff\">মত</span> <span style=\"background-color:#fcfcff\">সব</span> <span style=\"background-color:#fefeff\">ভুলে</span> <span style=\"background-color:#fffefe\">গেছে</span> <span style=\"background-color:#fefeff\">।</span> <span style=\"background-color:#f3f3ff\">ইংল্যান্ড</span> <span style=\"background-color:#f3f3ff\">দয়া</span> <span style=\"background-color:#eeeeff\">না</span> <span style=\"background-color:#fff0f0\">করলে</span> <span style=\"background-color:#c3c3ff\">তো</span> <span style=\"background-color:#f6f6ff\">এই</span> <span style=\"background-color:#ffe8e8\">আরও</span> <span style=\"background-color:#ffe4e4\">পিছিয়ে</span> <span style=\"background-color:#e0e0ff\">ছিঃ</span> <span style=\"background-color:#c8c8ff\">ছিঃ</span> <span style=\"background-color:#ff0000\">ফসল</span> <span style=\"background-color:#3232ff\">এই</span> \n"
      ],
      "text/plain": [
       "<IPython.core.display.HTML object>"
      ]
     },
     "metadata": {},
     "output_type": "display_data"
    },
    {
     "name": "stdout",
     "output_type": "stream",
     "text": [
      "SA heatmap:\n"
     ]
    },
    {
     "data": {
      "text/html": [
       "<span style=\"background-color:#fffafa\">এই</span> <span style=\"background-color:#ffd8d8\">ছোটলোক</span> <span style=\"background-color:#ffe8e8\">গুলি</span> <span style=\"background-color:#ff0000\">মত</span> <span style=\"background-color:#fff4f4\">সব</span> <span style=\"background-color:#ff3939\">ভুলে</span> <span style=\"background-color:#ff1010\">গেছে</span> <span style=\"background-color:#ffbcbc\">।</span> <span style=\"background-color:#ff7171\">ইংল্যান্ড</span> <span style=\"background-color:#ff3131\">দয়া</span> <span style=\"background-color:#fff0f0\">না</span> <span style=\"background-color:#ffa6a6\">করলে</span> <span style=\"background-color:#ffdcdc\">তো</span> <span style=\"background-color:#ffecec\">এই</span> <span style=\"background-color:#ffe6e6\">আরও</span> <span style=\"background-color:#fff4f4\">পিছিয়ে</span> <span style=\"background-color:#ffeeee\">ছিঃ</span> <span style=\"background-color:#ff4646\">ছিঃ</span> <span style=\"background-color:#ff7e7e\">ফসল</span> <span style=\"background-color:#ff0404\">এই</span> \n"
      ],
      "text/plain": [
       "<IPython.core.display.HTML object>"
      ]
     },
     "metadata": {},
     "output_type": "display_data"
    },
    {
     "name": "stdout",
     "output_type": "stream",
     "text": [
      "GI heatmap:\n"
     ]
    },
    {
     "data": {
      "text/html": [
       "<span style=\"background-color:#babaff\">এই</span> <span style=\"background-color:#ff9393\">ছোটলোক</span> <span style=\"background-color:#ff6e6e\">গুলি</span> <span style=\"background-color:#fff4f4\">মত</span> <span style=\"background-color:#a3a3ff\">সব</span> <span style=\"background-color:#fafaff\">ভুলে</span> <span style=\"background-color:#f2f2ff\">গেছে</span> <span style=\"background-color:#ff0000\">।</span> <span style=\"background-color:#ffdada\">ইংল্যান্ড</span> <span style=\"background-color:#ccccff\">দয়া</span> <span style=\"background-color:#ffc8c8\">না</span> <span style=\"background-color:#ffaeae\">করলে</span> <span style=\"background-color:#7979ff\">তো</span> <span style=\"background-color:#d3d3ff\">এই</span> <span style=\"background-color:#ff9292\">আরও</span> <span style=\"background-color:#ffbebe\">পিছিয়ে</span> <span style=\"background-color:#ff8383\">ছিঃ</span> <span style=\"background-color:#ffbcbc\">ছিঃ</span> <span style=\"background-color:#6464ff\">ফসল</span> <span style=\"background-color:#d3d3ff\">এই</span> \n"
      ],
      "text/plain": [
       "<IPython.core.display.HTML object>"
      ]
     },
     "metadata": {},
     "output_type": "display_data"
    },
    {
     "name": "stdout",
     "output_type": "stream",
     "text": [
      "-----------------------------------------------------------\n",
      "[   4 3842 8521   57    0    0    0    0    0    0    0    0    0    0\n",
      "    0    0    0    0    0    0]\n",
      "(20,)\n",
      "[  65  139 1243    4    3  362   53    0    0    0    0    0    0    0\n",
      "    0    0    0    0    0    0]\n",
      "(20,)\n",
      "[1592 5420 1108  383  266  296  438  229 2782 6963 3843 6238  430    0\n",
      "    0    0    0    0    0    0]\n",
      "(20,)\n",
      "[ 444  157   65  527  161  412    1 9196    8    0    0    0    0    0\n",
      "    0    0    0    0    0    0]\n",
      "(20,)\n",
      "[2141   88  231 1661 2335  414 1434 1149  234  414   36 4003 5574  563\n",
      "  202  310 5864   45 1179 2379]\n",
      "(20,)\n",
      "Predicted label: Geopolitical Actual label: Personal\n",
      "LRP heatmap:\n"
     ]
    },
    {
     "data": {
      "text/html": [
       "<span style=\"background-color:#fffefe\">নেতৃত্বে</span> <span style=\"background-color:#fffefe\">এবং</span> <span style=\"background-color:#fffefe\">চলে</span> <span style=\"background-color:#fefeff\">স্বাধীনতার</span> <span style=\"background-color:#fcfcff\">জেনারেল</span> <span style=\"background-color:#fffefe\">জিয়ার</span> <span style=\"background-color:#fafaff\">স্ত্রী</span> <span style=\"background-color:#f3f3ff\">বেগম</span> <span style=\"background-color:#ffeeee\">খালেদা</span> <span style=\"background-color:#ffeaea\">জিয়ার</span> <span style=\"background-color:#ffe8e8\">বাংলাদেশের</span> <span style=\"background-color:#fff4f4\">এরাই</span> <span style=\"background-color:#dadaff\">হচ্ছেন</span> <span style=\"background-color:#ffe8e8\">প্রধান</span> <span style=\"background-color:#8383ff\">দেখা</span> <span style=\"background-color:#ffaeae\">যাচ্ছে</span> <span style=\"background-color:#ffe0e0\">ভবিষ্যতে</span> <span style=\"background-color:#8a8aff\">এ</span> <span style=\"background-color:#0000ff\">চলতে</span> <span style=\"background-color:#ff8888\">থাকবে।</span> \n"
      ],
      "text/plain": [
       "<IPython.core.display.HTML object>"
      ]
     },
     "metadata": {},
     "output_type": "display_data"
    },
    {
     "name": "stdout",
     "output_type": "stream",
     "text": [
      "SA heatmap:\n"
     ]
    },
    {
     "data": {
      "text/html": [
       "<span style=\"background-color:#ffe8e8\">নেতৃত্বে</span> <span style=\"background-color:#ffe8e8\">এবং</span> <span style=\"background-color:#ffd0d0\">চলে</span> <span style=\"background-color:#ffe2e2\">স্বাধীনতার</span> <span style=\"background-color:#fff8f8\">জেনারেল</span> <span style=\"background-color:#ffd2d2\">জিয়ার</span> <span style=\"background-color:#ffd6d6\">স্ত্রী</span> <span style=\"background-color:#ffc3c3\">বেগম</span> <span style=\"background-color:#ff0000\">খালেদা</span> <span style=\"background-color:#ff8383\">জিয়ার</span> <span style=\"background-color:#fff8f8\">বাংলাদেশের</span> <span style=\"background-color:#ffd2d2\">এরাই</span> <span style=\"background-color:#ffe6e6\">হচ্ছেন</span> <span style=\"background-color:#ffcccc\">প্রধান</span> <span style=\"background-color:#ffd3d3\">দেখা</span> <span style=\"background-color:#ffcaca\">যাচ্ছে</span> <span style=\"background-color:#fff2f2\">ভবিষ্যতে</span> <span style=\"background-color:#ffcece\">এ</span> <span style=\"background-color:#fffafa\">চলতে</span> <span style=\"background-color:#ff9696\">থাকবে।</span> \n"
      ],
      "text/plain": [
       "<IPython.core.display.HTML object>"
      ]
     },
     "metadata": {},
     "output_type": "display_data"
    },
    {
     "name": "stdout",
     "output_type": "stream",
     "text": [
      "GI heatmap:\n"
     ]
    },
    {
     "data": {
      "text/html": [
       "<span style=\"background-color:#ffe6e6\">নেতৃত্বে</span> <span style=\"background-color:#ffb8b8\">এবং</span> <span style=\"background-color:#ff5151\">চলে</span> <span style=\"background-color:#ff8080\">স্বাধীনতার</span> <span style=\"background-color:#bcbcff\">জেনারেল</span> <span style=\"background-color:#ffc3c3\">জিয়ার</span> <span style=\"background-color:#fff8f8\">স্ত্রী</span> <span style=\"background-color:#ffe8e8\">বেগম</span> <span style=\"background-color:#7878ff\">খালেদা</span> <span style=\"background-color:#ff0000\">জিয়ার</span> <span style=\"background-color:#ffb0b0\">বাংলাদেশের</span> <span style=\"background-color:#4444ff\">এরাই</span> <span style=\"background-color:#ff4848\">হচ্ছেন</span> <span style=\"background-color:#9696ff\">প্রধান</span> <span style=\"background-color:#e0e0ff\">দেখা</span> <span style=\"background-color:#f8f8ff\">যাচ্ছে</span> <span style=\"background-color:#ffbaba\">ভবিষ্যতে</span> <span style=\"background-color:#ff9090\">এ</span> <span style=\"background-color:#e3e3ff\">চলতে</span> <span style=\"background-color:#fffafa\">থাকবে।</span> \n"
      ],
      "text/plain": [
       "<IPython.core.display.HTML object>"
      ]
     },
     "metadata": {},
     "output_type": "display_data"
    },
    {
     "name": "stdout",
     "output_type": "stream",
     "text": [
      "-----------------------------------------------------------\n",
      "[ 628   44   44    3  957 2397   35 2092 5437 1759   88 5956 1139   30\n",
      "  491  283  726  228   35  465]\n",
      "(20,)\n",
      "Predicted label: Geopolitical Actual label: Personal\n",
      "LRP heatmap:\n"
     ]
    },
    {
     "data": {
      "text/html": [
       "<span style=\"background-color:#fefeff\">যাই</span> <span style=\"background-color:#fafaff\">মনে</span> <span style=\"background-color:#fcfcff\">মনে</span> <span style=\"background-color:#fefeff\">আর</span> <span style=\"background-color:#fafaff\">সুযোগ</span> <span style=\"background-color:#fffcfc\">পেলেই</span> <span style=\"background-color:#f3f3ff\">তার</span> <span style=\"background-color:#fffefe\">পৃথিবী</span> <span style=\"background-color:#fff8f8\">জুড়ে</span> <span style=\"background-color:#ffcccc\">সাম্প্রদায়িক</span> <span style=\"background-color:#e2e2ff\">এবং</span> <span style=\"background-color:#d6d6ff\">উগ্র</span> <span style=\"background-color:#bcbcff\">শক্তি</span> <span style=\"background-color:#e3e3ff\">দিয়ে</span> <span style=\"background-color:#8c8cff\">এগুলো</span> <span style=\"background-color:#fff8f8\">আসলে</span> <span style=\"background-color:#c8c8ff\">কিসের</span> <span style=\"background-color:#ff2c2c\">জাতি</span> <span style=\"background-color:#ff0000\">তার</span> <span style=\"background-color:#bebeff\">নয়।</span> \n"
      ],
      "text/plain": [
       "<IPython.core.display.HTML object>"
      ]
     },
     "metadata": {},
     "output_type": "display_data"
    },
    {
     "name": "stdout",
     "output_type": "stream",
     "text": [
      "SA heatmap:\n"
     ]
    },
    {
     "data": {
      "text/html": [
       "<span style=\"background-color:#ffb3b3\">যাই</span> <span style=\"background-color:#ff0808\">মনে</span> <span style=\"background-color:#ff7e7e\">মনে</span> <span style=\"background-color:#ff1111\">আর</span> <span style=\"background-color:#ff4141\">সুযোগ</span> <span style=\"background-color:#ffb2b2\">পেলেই</span> <span style=\"background-color:#ff3e3e\">তার</span> <span style=\"background-color:#ff8383\">পৃথিবী</span> <span style=\"background-color:#ffd3d3\">জুড়ে</span> <span style=\"background-color:#ff8c8c\">সাম্প্রদায়িক</span> <span style=\"background-color:#ff9c9c\">এবং</span> <span style=\"background-color:#ff0000\">উগ্র</span> <span style=\"background-color:#ff3636\">শক্তি</span> <span style=\"background-color:#ffb2b2\">দিয়ে</span> <span style=\"background-color:#fff4f4\">এগুলো</span> <span style=\"background-color:#ff2929\">আসলে</span> <span style=\"background-color:#ffdede\">কিসের</span> <span style=\"background-color:#ffb2b2\">জাতি</span> <span style=\"background-color:#ff8383\">তার</span> <span style=\"background-color:#ffbcbc\">নয়।</span> \n"
      ],
      "text/plain": [
       "<IPython.core.display.HTML object>"
      ]
     },
     "metadata": {},
     "output_type": "display_data"
    },
    {
     "name": "stdout",
     "output_type": "stream",
     "text": [
      "GI heatmap:\n"
     ]
    },
    {
     "data": {
      "text/html": [
       "<span style=\"background-color:#ffcece\">যাই</span> <span style=\"background-color:#0000ff\">মনে</span> <span style=\"background-color:#4e4eff\">মনে</span> <span style=\"background-color:#ffe4e4\">আর</span> <span style=\"background-color:#ffb8b8\">সুযোগ</span> <span style=\"background-color:#ffa3a3\">পেলেই</span> <span style=\"background-color:#4040ff\">তার</span> <span style=\"background-color:#ececff\">পৃথিবী</span> <span style=\"background-color:#ffc8c8\">জুড়ে</span> <span style=\"background-color:#ff5454\">সাম্প্রদায়িক</span> <span style=\"background-color:#9090ff\">এবং</span> <span style=\"background-color:#6161ff\">উগ্র</span> <span style=\"background-color:#c3c3ff\">শক্তি</span> <span style=\"background-color:#a3a3ff\">দিয়ে</span> <span style=\"background-color:#d0d0ff\">এগুলো</span> <span style=\"background-color:#ff4949\">আসলে</span> <span style=\"background-color:#ffd6d6\">কিসের</span> <span style=\"background-color:#ff3838\">জাতি</span> <span style=\"background-color:#ff1414\">তার</span> <span style=\"background-color:#ff0c0c\">নয়।</span> \n"
      ],
      "text/plain": [
       "<IPython.core.display.HTML object>"
      ]
     },
     "metadata": {},
     "output_type": "display_data"
    },
    {
     "name": "stdout",
     "output_type": "stream",
     "text": [
      "-----------------------------------------------------------\n",
      "[ 130  852  626   17  842 2068  572 2783  927 3333 1842    0    0    0\n",
      "    0    0    0    0    0    0]\n",
      "(20,)\n",
      "[6855  916   60   40  490   90 3484 1898    0    0    0    0    0    0\n",
      "    0    0    0    0    0    0]\n",
      "(20,)\n",
      "[ 239  106    1   46  358 1422  292    5 5065   92 5897  360    0    0\n",
      "    0    0    0    0    0    0]\n",
      "(20,)\n",
      "[ 271  980    3   59 1019  200  212    1  134    0    0    0    0    0\n",
      "    0    0    0    0    0    0]\n",
      "(20,)\n",
      "[ 284  802  124 2879  802  124  590 3970   63  802  284  168 9982   20\n",
      "  118    6  837   17    7   38]\n",
      "(20,)\n",
      "Predicted label: Geopolitical Actual label: Personal\n",
      "LRP heatmap:\n"
     ]
    },
    {
     "data": {
      "text/html": [
       "<span style=\"background-color:#fefeff\">রা</span> <span style=\"background-color:#fefeff\">বাংলাদেশি</span> <span style=\"background-color:#fefeff\">দের</span> <span style=\"background-color:#fffefe\">এগিয়ে</span> <span style=\"background-color:#fffefe\">বাংলাদেশি</span> <span style=\"background-color:#fefeff\">দের</span> <span style=\"background-color:#fffefe\">অস্ত্র</span> <span style=\"background-color:#fefeff\">হওয়ার</span> <span style=\"background-color:#fcfcff\">পর</span> <span style=\"background-color:#fffefe\">বাংলাদেশি</span> <span style=\"background-color:#ffe8e8\">রা</span> <span style=\"background-color:#fff8f8\">বলতে</span> <span style=\"background-color:#dcdcff\">লাগল</span> <span style=\"background-color:#f3f3ff\">আমার</span> <span style=\"background-color:#fffcfc\">মা</span> <span style=\"background-color:#ffd6d6\">কে</span> <span style=\"background-color:#ffc0c0\">চুদা</span> <span style=\"background-color:#b6b6ff\">থেকে</span> <span style=\"background-color:#ffe2e2\">ভারত</span> <span style=\"background-color:#0000ff\">তাদের</span> \n"
      ],
      "text/plain": [
       "<IPython.core.display.HTML object>"
      ]
     },
     "metadata": {},
     "output_type": "display_data"
    },
    {
     "name": "stdout",
     "output_type": "stream",
     "text": [
      "SA heatmap:\n"
     ]
    },
    {
     "data": {
      "text/html": [
       "<span style=\"background-color:#ffe4e4\">রা</span> <span style=\"background-color:#fffefe\">বাংলাদেশি</span> <span style=\"background-color:#ff7979\">দের</span> <span style=\"background-color:#ffcece\">এগিয়ে</span> <span style=\"background-color:#ff3939\">বাংলাদেশি</span> <span style=\"background-color:#ffe8e8\">দের</span> <span style=\"background-color:#ff3131\">অস্ত্র</span> <span style=\"background-color:#ffd6d6\">হওয়ার</span> <span style=\"background-color:#fff8f8\">পর</span> <span style=\"background-color:#ff7979\">বাংলাদেশি</span> <span style=\"background-color:#ffeaea\">রা</span> <span style=\"background-color:#ffdede\">বলতে</span> <span style=\"background-color:#ff6e6e\">লাগল</span> <span style=\"background-color:#ffe4e4\">আমার</span> <span style=\"background-color:#ff6161\">মা</span> <span style=\"background-color:#ffd6d6\">কে</span> <span style=\"background-color:#fffefe\">চুদা</span> <span style=\"background-color:#ff7878\">থেকে</span> <span style=\"background-color:#ffd8d8\">ভারত</span> <span style=\"background-color:#ff0000\">তাদের</span> \n"
      ],
      "text/plain": [
       "<IPython.core.display.HTML object>"
      ]
     },
     "metadata": {},
     "output_type": "display_data"
    },
    {
     "name": "stdout",
     "output_type": "stream",
     "text": [
      "GI heatmap:\n"
     ]
    },
    {
     "data": {
      "text/html": [
       "<span style=\"background-color:#9696ff\">রা</span> <span style=\"background-color:#ffb6b6\">বাংলাদেশি</span> <span style=\"background-color:#ffdada\">দের</span> <span style=\"background-color:#5959ff\">এগিয়ে</span> <span style=\"background-color:#7070ff\">বাংলাদেশি</span> <span style=\"background-color:#ff0101\">দের</span> <span style=\"background-color:#4e4eff\">অস্ত্র</span> <span style=\"background-color:#f3f3ff\">হওয়ার</span> <span style=\"background-color:#ff2929\">পর</span> <span style=\"background-color:#1818ff\">বাংলাদেশি</span> <span style=\"background-color:#fffafa\">রা</span> <span style=\"background-color:#aeaeff\">বলতে</span> <span style=\"background-color:#ff5050\">লাগল</span> <span style=\"background-color:#ff6868\">আমার</span> <span style=\"background-color:#0000ff\">মা</span> <span style=\"background-color:#ff6969\">কে</span> <span style=\"background-color:#ffbaba\">চুদা</span> <span style=\"background-color:#ffc0c0\">থেকে</span> <span style=\"background-color:#e8e8ff\">ভারত</span> <span style=\"background-color:#ff0909\">তাদের</span> \n"
      ],
      "text/plain": [
       "<IPython.core.display.HTML object>"
      ]
     },
     "metadata": {},
     "output_type": "display_data"
    },
    {
     "name": "stdout",
     "output_type": "stream",
     "text": [
      "-----------------------------------------------------------\n",
      "[  10  189 1033 1336  127  937   87   29  765 1860   45  353 1464 3658\n",
      "  160    0    0    0    0    0]\n",
      "(20,)\n",
      "[2159 3874   10    9    0    0    0    0    0    0    0    0    0    0\n",
      "    0    0    0    0    0    0]\n",
      "(20,)\n",
      "[ 178   15    4   98   62   18 6125    1   10  887 4419    0    0    0\n",
      "    0    0    0    0    0    0]\n",
      "(20,)\n",
      "[2814  269  134  212    0    0    0    0    0    0    0    0    0    0\n",
      "    0    0    0    0    0    0]\n",
      "(20,)\n",
      "[2501  814   51  162   10 2838  998  340 3825   34  303  346  607    8\n",
      "    0    0    0    0    0    0]\n",
      "(20,)\n",
      "[5625 1801  521   72    0    0    0    0    0    0    0    0    0    0\n",
      "    0    0    0    0    0    0]\n",
      "(20,)\n",
      "[5492 5475 1815   18 1950 1035 3129    2 1453   57    0    0    0    0\n",
      "    0    0    0    0    0    0]\n",
      "(20,)\n",
      "[ 452  266  452 1024   27 1609  271  590   34 7254  159  207    0    0\n",
      "    0    0    0    0    0    0]\n",
      "(20,)\n",
      "[5210 3270   34 2106 1358 3855    0    0    0    0    0    0    0    0\n",
      "    0    0    0    0    0    0]\n",
      "(20,)\n",
      "[ 280   49    6  100  729 6569    2 2657 2758 4849  170  690 1563   15\n",
      "   10 1604  185   51   42 1668]\n",
      "(20,)\n",
      "Predicted label: Geopolitical Actual label: Personal\n",
      "LRP heatmap:\n"
     ]
    },
    {
     "data": {
      "text/html": [
       "<span style=\"background-color:#fffefe\">সকল</span> <span style=\"background-color:#fffefe\">মুসলিম</span> <span style=\"background-color:#fffefe\">কে</span> <span style=\"background-color:#fefeff\">একটি</span> <span style=\"background-color:#fffefe\">ঘরে</span> <span style=\"background-color:#fefeff\">বন্দি</span> <span style=\"background-color:#fffefe\">করে</span> <span style=\"background-color:#fefeff\">৭২</span> <span style=\"background-color:#fffefe\">হুর</span> <span style=\"background-color:#fefeff\">প্রাপ্তি</span> <span style=\"background-color:#fefeff\">হোক</span> <span style=\"background-color:#fffefe\">শুয়োরের</span> <span style=\"background-color:#fcfcff\">বাচ্চাদের</span> <span style=\"background-color:#fff8f8\">জন্য</span> <span style=\"background-color:#fcfcff\">ভারতের</span> <span style=\"background-color:#ffd6d6\">১০০</span> <span style=\"background-color:#ffd8d8\">কোটি</span> <span style=\"background-color:#2020ff\">হিন্দু</span> <span style=\"background-color:#d0d0ff\">কেন</span> <span style=\"background-color:#ff0000\">মরবে</span> \n"
      ],
      "text/plain": [
       "<IPython.core.display.HTML object>"
      ]
     },
     "metadata": {},
     "output_type": "display_data"
    },
    {
     "name": "stdout",
     "output_type": "stream",
     "text": [
      "SA heatmap:\n"
     ]
    },
    {
     "data": {
      "text/html": [
       "<span style=\"background-color:#ffeaea\">সকল</span> <span style=\"background-color:#ff8888\">মুসলিম</span> <span style=\"background-color:#ffcccc\">কে</span> <span style=\"background-color:#ffbcbc\">একটি</span> <span style=\"background-color:#ff8888\">ঘরে</span> <span style=\"background-color:#ff9c9c\">বন্দি</span> <span style=\"background-color:#ffcaca\">করে</span> <span style=\"background-color:#ff8c8c\">৭২</span> <span style=\"background-color:#ff4444\">হুর</span> <span style=\"background-color:#ff2626\">প্রাপ্তি</span> <span style=\"background-color:#ffe8e8\">হোক</span> <span style=\"background-color:#ffbcbc\">শুয়োরের</span> <span style=\"background-color:#ff6666\">বাচ্চাদের</span> <span style=\"background-color:#ffdada\">জন্য</span> <span style=\"background-color:#fff8f8\">ভারতের</span> <span style=\"background-color:#ffdcdc\">১০০</span> <span style=\"background-color:#ff6c6c\">কোটি</span> <span style=\"background-color:#ffb8b8\">হিন্দু</span> <span style=\"background-color:#ff0000\">কেন</span> <span style=\"background-color:#ffbcbc\">মরবে</span> \n"
      ],
      "text/plain": [
       "<IPython.core.display.HTML object>"
      ]
     },
     "metadata": {},
     "output_type": "display_data"
    },
    {
     "name": "stdout",
     "output_type": "stream",
     "text": [
      "GI heatmap:\n"
     ]
    },
    {
     "data": {
      "text/html": [
       "<span style=\"background-color:#c2c2ff\">সকল</span> <span style=\"background-color:#5959ff\">মুসলিম</span> <span style=\"background-color:#8c8cff\">কে</span> <span style=\"background-color:#b3b3ff\">একটি</span> <span style=\"background-color:#5656ff\">ঘরে</span> <span style=\"background-color:#ff6464\">বন্দি</span> <span style=\"background-color:#8282ff\">করে</span> <span style=\"background-color:#ff5050\">৭২</span> <span style=\"background-color:#ff2e2e\">হুর</span> <span style=\"background-color:#1c1cff\">প্রাপ্তি</span> <span style=\"background-color:#b6b6ff\">হোক</span> <span style=\"background-color:#fafaff\">শুয়োরের</span> <span style=\"background-color:#ff5858\">বাচ্চাদের</span> <span style=\"background-color:#fff2f2\">জন্য</span> <span style=\"background-color:#e2e2ff\">ভারতের</span> <span style=\"background-color:#ffa6a6\">১০০</span> <span style=\"background-color:#ff3838\">কোটি</span> <span style=\"background-color:#c6c6ff\">হিন্দু</span> <span style=\"background-color:#ff0000\">কেন</span> <span style=\"background-color:#fff4f4\">মরবে</span> \n"
      ],
      "text/plain": [
       "<IPython.core.display.HTML object>"
      ]
     },
     "metadata": {},
     "output_type": "display_data"
    },
    {
     "name": "stdout",
     "output_type": "stream",
     "text": [
      "-----------------------------------------------------------\n",
      "[   3   10 1381 1908 1411   43 4387 2139  397    0    0    0    0    0\n",
      "    0    0    0    0    0    0]\n",
      "(20,)\n",
      "[9033  581   25 8719   45    1   14  214    7  245   17  199    5  258\n",
      "   45  758    4    0    0    0]\n",
      "(20,)\n",
      "[ 261  642 6115    9 3139    7    0    0    0    0    0    0    0    0\n",
      "    0    0    0    0    0    0]\n",
      "(20,)\n",
      "[  21 4518  265    1    7    0    0    0    0    0    0    0    0    0\n",
      "    0    0    0    0    0    0]\n",
      "(20,)\n",
      "[4298 1098 1629 7117  154 7118 1425 7119  371  254 2374  254    0    0\n",
      "    0    0    0    0    0    0]\n",
      "(20,)\n",
      "[  82 3094  956  196 1258    1   34 1634 7176 7177 7178 7179  196 1258\n",
      "    0    0    0    0    0    0]\n",
      "(20,)\n",
      "[ 358 1153  127 1617    0    0    0    0    0    0    0    0    0    0\n",
      "    0    0    0    0    0    0]\n",
      "(20,)\n",
      "[5740   65 5182 1504 1549  421    0    0    0    0    0    0    0    0\n",
      "    0    0    0    0    0    0]\n",
      "(20,)\n",
      "[ 188 1916    9    7   17 5533  213   40  245   61   95   23  697 9281\n",
      "  156   51 2224  179   71  145]\n",
      "(20,)\n",
      "Predicted label: Geopolitical Actual label: Personal\n",
      "LRP heatmap:\n"
     ]
    },
    {
     "data": {
      "text/html": [
       "<span style=\"background-color:#fefeff\">দালাল</span> <span style=\"background-color:#fefeff\">পাপন</span> <span style=\"background-color:#fefeff\">ও</span> <span style=\"background-color:#fefeff\">ভারত</span> <span style=\"background-color:#fefeff\">থেকে</span> <span style=\"background-color:#fefeff\">আনা</span> <span style=\"background-color:#fffefe\">হয়</span> <span style=\"background-color:#fefeff\">বাংলাদেশ</span> <span style=\"background-color:#fffefe\">দল</span> <span style=\"background-color:#fffefe\">করার</span> <span style=\"background-color:#fefeff\">আগে</span> <span style=\"background-color:#fcfcff\">এর</span> <span style=\"background-color:#fcfcff\">মাঝে</span> <span style=\"background-color:#fafaff\">উল্লেখ</span> <span style=\"background-color:#fff0f0\">থাকে</span> <span style=\"background-color:#fffefe\">হিন্দু</span> <span style=\"background-color:#eeeeff\">কোটা</span> <span style=\"background-color:#ff0000\">জন</span> <span style=\"background-color:#bcbcff\">দিতে</span> <span style=\"background-color:#5151ff\">হবে।</span> \n"
      ],
      "text/plain": [
       "<IPython.core.display.HTML object>"
      ]
     },
     "metadata": {},
     "output_type": "display_data"
    },
    {
     "name": "stdout",
     "output_type": "stream",
     "text": [
      "SA heatmap:\n"
     ]
    },
    {
     "data": {
      "text/html": [
       "<span style=\"background-color:#fff0f0\">দালাল</span> <span style=\"background-color:#ffdcdc\">পাপন</span> <span style=\"background-color:#ffecec\">ও</span> <span style=\"background-color:#fff4f4\">ভারত</span> <span style=\"background-color:#ff9292\">থেকে</span> <span style=\"background-color:#fff0f0\">আনা</span> <span style=\"background-color:#ff3939\">হয়</span> <span style=\"background-color:#ff6c6c\">বাংলাদেশ</span> <span style=\"background-color:#fff2f2\">দল</span> <span style=\"background-color:#ffd2d2\">করার</span> <span style=\"background-color:#ffe8e8\">আগে</span> <span style=\"background-color:#fff6f6\">এর</span> <span style=\"background-color:#ffcccc\">মাঝে</span> <span style=\"background-color:#ffeeee\">উল্লেখ</span> <span style=\"background-color:#fff2f2\">থাকে</span> <span style=\"background-color:#ff9898\">হিন্দু</span> <span style=\"background-color:#ff0000\">কোটা</span> <span style=\"background-color:#ffe4e4\">জন</span> <span style=\"background-color:#ffaaaa\">দিতে</span> <span style=\"background-color:#ff9c9c\">হবে।</span> \n"
      ],
      "text/plain": [
       "<IPython.core.display.HTML object>"
      ]
     },
     "metadata": {},
     "output_type": "display_data"
    },
    {
     "name": "stdout",
     "output_type": "stream",
     "text": [
      "GI heatmap:\n"
     ]
    },
    {
     "data": {
      "text/html": [
       "<span style=\"background-color:#ffb3b3\">দালাল</span> <span style=\"background-color:#a2a2ff\">পাপন</span> <span style=\"background-color:#ff5656\">ও</span> <span style=\"background-color:#5858ff\">ভারত</span> <span style=\"background-color:#0000ff\">থেকে</span> <span style=\"background-color:#ffb0b0\">আনা</span> <span style=\"background-color:#fcfcff\">হয়</span> <span style=\"background-color:#ffc0c0\">বাংলাদেশ</span> <span style=\"background-color:#ff8c8c\">দল</span> <span style=\"background-color:#ff8080\">করার</span> <span style=\"background-color:#a8a8ff\">আগে</span> <span style=\"background-color:#6464ff\">এর</span> <span style=\"background-color:#ff0808\">মাঝে</span> <span style=\"background-color:#ffd6d6\">উল্লেখ</span> <span style=\"background-color:#fff4f4\">থাকে</span> <span style=\"background-color:#ffb0b0\">হিন্দু</span> <span style=\"background-color:#ff1111\">কোটা</span> <span style=\"background-color:#ff6969\">জন</span> <span style=\"background-color:#8a8aff\">দিতে</span> <span style=\"background-color:#acacff\">হবে।</span> \n"
      ],
      "text/plain": [
       "<IPython.core.display.HTML object>"
      ]
     },
     "metadata": {},
     "output_type": "display_data"
    },
    {
     "name": "stdout",
     "output_type": "stream",
     "text": [
      "-----------------------------------------------------------\n",
      "[  87  319 1935  802  974    0    0    0    0    0    0    0    0    0\n",
      "    0    0    0    0    0    0]\n",
      "(20,)\n",
      "[ 408 1601   80   27 7129  699  195  205  546   26  143 2997  102  205\n",
      " 5765  142   40    3  364   15]\n",
      "(20,)\n",
      "Predicted label: Geopolitical Actual label: Personal\n",
      "LRP heatmap:\n"
     ]
    },
    {
     "data": {
      "text/html": [
       "<span style=\"background-color:#fffefe\">যেভাবে</span> <span style=\"background-color:#fffefe\">মানবতা</span> <span style=\"background-color:#fefeff\">নেই</span> <span style=\"background-color:#fffcfc\">বলে</span> <span style=\"background-color:#fefeff\">চিল্লায়</span> <span style=\"background-color:#fffefe\">চিন্তা</span> <span style=\"background-color:#f2f2ff\">করলে</span> <span style=\"background-color:#fff8f8\">ওদের</span> <span style=\"background-color:#ffeeee\">মায়ানমার</span> <span style=\"background-color:#ffeeee\">করা</span> <span style=\"background-color:#fffcfc\">উচিত</span> <span style=\"background-color:#ffe6e6\">ছিলো।</span> <span style=\"background-color:#9898ff\">নাকি</span> <span style=\"background-color:#d3d3ff\">ওদের</span> <span style=\"background-color:#fff0f0\">মায়াকান্না</span> <span style=\"background-color:#8a8aff\">শুধু</span> <span style=\"background-color:#ffc6c6\">বাংলাদেশ</span> <span style=\"background-color:#dadaff\">আর</span> <span style=\"background-color:#d8d8ff\">পাকিস্তানের</span> <span style=\"background-color:#ff0000\">জন্য</span> \n"
      ],
      "text/plain": [
       "<IPython.core.display.HTML object>"
      ]
     },
     "metadata": {},
     "output_type": "display_data"
    },
    {
     "name": "stdout",
     "output_type": "stream",
     "text": [
      "SA heatmap:\n"
     ]
    },
    {
     "data": {
      "text/html": [
       "<span style=\"background-color:#ffc2c2\">যেভাবে</span> <span style=\"background-color:#ffdede\">মানবতা</span> <span style=\"background-color:#ffd0d0\">নেই</span> <span style=\"background-color:#fff6f6\">বলে</span> <span style=\"background-color:#ffcaca\">চিল্লায়</span> <span style=\"background-color:#ffd8d8\">চিন্তা</span> <span style=\"background-color:#ff0000\">করলে</span> <span style=\"background-color:#ffd3d3\">ওদের</span> <span style=\"background-color:#ffdcdc\">মায়ানমার</span> <span style=\"background-color:#ff9292\">করা</span> <span style=\"background-color:#ffe6e6\">উচিত</span> <span style=\"background-color:#ffb8b8\">ছিলো।</span> <span style=\"background-color:#ff7171\">নাকি</span> <span style=\"background-color:#ffaeae\">ওদের</span> <span style=\"background-color:#ff9292\">মায়াকান্না</span> <span style=\"background-color:#ff7171\">শুধু</span> <span style=\"background-color:#ffa0a0\">বাংলাদেশ</span> <span style=\"background-color:#ffe0e0\">আর</span> <span style=\"background-color:#ffcece\">পাকিস্তানের</span> <span style=\"background-color:#ffd8d8\">জন্য</span> \n"
      ],
      "text/plain": [
       "<IPython.core.display.HTML object>"
      ]
     },
     "metadata": {},
     "output_type": "display_data"
    },
    {
     "name": "stdout",
     "output_type": "stream",
     "text": [
      "GI heatmap:\n"
     ]
    },
    {
     "data": {
      "text/html": [
       "<span style=\"background-color:#ff8282\">যেভাবে</span> <span style=\"background-color:#ffdede\">মানবতা</span> <span style=\"background-color:#3232ff\">নেই</span> <span style=\"background-color:#a2a2ff\">বলে</span> <span style=\"background-color:#ff0c0c\">চিল্লায়</span> <span style=\"background-color:#c3c3ff\">চিন্তা</span> <span style=\"background-color:#ff2c2c\">করলে</span> <span style=\"background-color:#6161ff\">ওদের</span> <span style=\"background-color:#fff8f8\">মায়ানমার</span> <span style=\"background-color:#4e4eff\">করা</span> <span style=\"background-color:#ffb0b0\">উচিত</span> <span style=\"background-color:#e2e2ff\">ছিলো।</span> <span style=\"background-color:#ffc3c3\">নাকি</span> <span style=\"background-color:#ff0909\">ওদের</span> <span style=\"background-color:#3a3aff\">মায়াকান্না</span> <span style=\"background-color:#ffe6e6\">শুধু</span> <span style=\"background-color:#0000ff\">বাংলাদেশ</span> <span style=\"background-color:#9696ff\">আর</span> <span style=\"background-color:#d0d0ff\">পাকিস্তানের</span> <span style=\"background-color:#ffe2e2\">জন্য</span> \n"
      ],
      "text/plain": [
       "<IPython.core.display.HTML object>"
      ]
     },
     "metadata": {},
     "output_type": "display_data"
    },
    {
     "name": "stdout",
     "output_type": "stream",
     "text": [
      "-----------------------------------------------------------\n",
      "[2637 3187    7  662  888  145    0    0    0    0    0    0    0    0\n",
      "    0    0    0    0    0    0]\n",
      "(20,)\n",
      "[1592   58   59 6093  549  635   93    3  161   59 3543  187   64  784\n",
      "   10   86    5  945  135  957]\n",
      "(20,)\n",
      "Predicted label: Geopolitical Actual label: Personal\n",
      "LRP heatmap:\n"
     ]
    },
    {
     "data": {
      "text/html": [
       "<span style=\"background-color:#fffefe\">মমতা</span> <span style=\"background-color:#fefeff\">যখন</span> <span style=\"background-color:#fefeff\">দেশের</span> <span style=\"background-color:#fffefe\">সৈনিক</span> <span style=\"background-color:#fffefe\">যুদ্ধে</span> <span style=\"background-color:#fefeff\">মরে</span> <span style=\"background-color:#fefeff\">তখন</span> <span style=\"background-color:#fffefe\">আর</span> <span style=\"background-color:#fefeff\">নিজের</span> <span style=\"background-color:#fffafa\">দেশের</span> <span style=\"background-color:#fff8f8\">বিরোধীতা</span> <span style=\"background-color:#fffcfc\">করে।</span> <span style=\"background-color:#f0f0ff\">সেই</span> <span style=\"background-color:#fffcfc\">জন্যই</span> <span style=\"background-color:#ffe2e2\">ভারতের</span> <span style=\"background-color:#e3e3ff\">আজ</span> <span style=\"background-color:#ffd3d3\">এই</span> <span style=\"background-color:#f3f3ff\">অবস্থা।</span> <span style=\"background-color:#e2e2ff\">যা</span> <span style=\"background-color:#ff0000\">সুযোগ</span> \n"
      ],
      "text/plain": [
       "<IPython.core.display.HTML object>"
      ]
     },
     "metadata": {},
     "output_type": "display_data"
    },
    {
     "name": "stdout",
     "output_type": "stream",
     "text": [
      "SA heatmap:\n"
     ]
    },
    {
     "data": {
      "text/html": [
       "<span style=\"background-color:#fff0f0\">মমতা</span> <span style=\"background-color:#ff7474\">যখন</span> <span style=\"background-color:#ffeaea\">দেশের</span> <span style=\"background-color:#fff0f0\">সৈনিক</span> <span style=\"background-color:#ff0000\">যুদ্ধে</span> <span style=\"background-color:#ffcccc\">মরে</span> <span style=\"background-color:#ffd6d6\">তখন</span> <span style=\"background-color:#ff8888\">আর</span> <span style=\"background-color:#ffecec\">নিজের</span> <span style=\"background-color:#ffa8a8\">দেশের</span> <span style=\"background-color:#ffdcdc\">বিরোধীতা</span> <span style=\"background-color:#ff3838\">করে।</span> <span style=\"background-color:#ff4444\">সেই</span> <span style=\"background-color:#fffafa\">জন্যই</span> <span style=\"background-color:#ffe0e0\">ভারতের</span> <span style=\"background-color:#ffd8d8\">আজ</span> <span style=\"background-color:#ffeeee\">এই</span> <span style=\"background-color:#ffc6c6\">অবস্থা।</span> <span style=\"background-color:#fff4f4\">যা</span> <span style=\"background-color:#ff5656\">সুযোগ</span> \n"
      ],
      "text/plain": [
       "<IPython.core.display.HTML object>"
      ]
     },
     "metadata": {},
     "output_type": "display_data"
    },
    {
     "name": "stdout",
     "output_type": "stream",
     "text": [
      "GI heatmap:\n"
     ]
    },
    {
     "data": {
      "text/html": [
       "<span style=\"background-color:#ffecec\">মমতা</span> <span style=\"background-color:#9a9aff\">যখন</span> <span style=\"background-color:#fff8f8\">দেশের</span> <span style=\"background-color:#ffc0c0\">সৈনিক</span> <span style=\"background-color:#1414ff\">যুদ্ধে</span> <span style=\"background-color:#ffcccc\">মরে</span> <span style=\"background-color:#ffa2a2\">তখন</span> <span style=\"background-color:#ff3939\">আর</span> <span style=\"background-color:#ffeeee\">নিজের</span> <span style=\"background-color:#ff8888\">দেশের</span> <span style=\"background-color:#fefeff\">বিরোধীতা</span> <span style=\"background-color:#ff2121\">করে।</span> <span style=\"background-color:#0000ff\">সেই</span> <span style=\"background-color:#fffafa\">জন্যই</span> <span style=\"background-color:#aeaeff\">ভারতের</span> <span style=\"background-color:#ff9e9e\">আজ</span> <span style=\"background-color:#fcfcff\">এই</span> <span style=\"background-color:#b0b0ff\">অবস্থা।</span> <span style=\"background-color:#eaeaff\">যা</span> <span style=\"background-color:#ffcccc\">সুযোগ</span> \n"
      ],
      "text/plain": [
       "<IPython.core.display.HTML object>"
      ]
     },
     "metadata": {},
     "output_type": "display_data"
    },
    {
     "name": "stdout",
     "output_type": "stream",
     "text": [
      "-----------------------------------------------------------\n",
      "[   7    1  157  146  123  137   87   56  745  358 6086    0    0    0\n",
      "    0    0    0    0    0    0]\n",
      "(20,)\n"
     ]
    }
   ],
   "source": [
    "print(\"The degree to which each word affects the prediction of being politicl hates...\")\n",
    "explainer(poli_list)"
   ]
  },
  {
   "cell_type": "code",
   "execution_count": null,
   "metadata": {},
   "outputs": [],
   "source": []
  },
  {
   "cell_type": "code",
   "execution_count": null,
   "metadata": {},
   "outputs": [],
   "source": []
  }
 ],
 "metadata": {
  "colab": {
   "collapsed_sections": [],
   "name": "190811_LSTM_imdb.ipynb",
   "provenance": [
    {
     "file_id": "1N5TkyWl_Ju2_wP1i1heZ4BdhWlSawYrT",
     "timestamp": 1562863640334
    }
   ],
   "version": "0.3.2"
  },
  "kernelspec": {
   "display_name": "Python 3",
   "language": "python",
   "name": "python3"
  },
  "language_info": {
   "codemirror_mode": {
    "name": "ipython",
    "version": 3
   },
   "file_extension": ".py",
   "mimetype": "text/x-python",
   "name": "python",
   "nbconvert_exporter": "python",
   "pygments_lexer": "ipython3",
   "version": "3.8.5"
  }
 },
 "nbformat": 4,
 "nbformat_minor": 1
}
