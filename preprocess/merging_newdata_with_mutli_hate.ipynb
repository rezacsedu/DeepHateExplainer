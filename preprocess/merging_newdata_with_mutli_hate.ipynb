{
 "cells": [
  {
   "cell_type": "code",
   "execution_count": 93,
   "metadata": {},
   "outputs": [],
   "source": [
    "from bnlp import NLTKTokenizer\n",
    "bnltk = NLTKTokenizer()\n",
    "import pandas as pd\n",
    "import csv\n",
    "import string\n",
    "from sklearn.utils import shuffle\n",
    "pd.set_option('display.max_colwidth', 255)\n",
    "from collections import Counter\n",
    "from tqdm import tqdm\n",
    "from sklearn import model_selection\n",
    "from sklearn import metrics\n",
    "import numpy as np\n",
    "from collections import Counter\n",
    "from wordcloud import WordCloud\n",
    "import matplotlib.pyplot as plt\n",
    "%matplotlib inline\n",
    "from bnlp.corpus import stopwords\n",
    "from bnlp.corpus.util import remove_stopwords\n",
    "stopwords = stopwords()\n",
    "path = '../../DeepHateLingo/'"
   ]
  },
  {
   "cell_type": "code",
   "execution_count": 94,
   "metadata": {},
   "outputs": [
    {
     "data": {
      "text/plain": [
       "(Personal        1336\n",
       " Geopolitical     639\n",
       " Religious        254\n",
       " Political        188\n",
       " Name: label, dtype: int64,\n",
       " 2417)"
      ]
     },
     "execution_count": 94,
     "metadata": {},
     "output_type": "execute_result"
    }
   ],
   "source": [
    "#new multi_hate_data\n",
    "multi_hate_data = pd.read_csv(f\"{path}input/multi_hate_data.csv\")\n",
    "multi_hate_data.label.value_counts(), len(multi_hate_data)"
   ]
  },
  {
   "cell_type": "code",
   "execution_count": 95,
   "metadata": {},
   "outputs": [
    {
     "data": {
      "text/plain": [
       "(Personal        2408\n",
       " Geopolitical    1849\n",
       " Religious       1001\n",
       " Political        857\n",
       " Name: label, dtype: int64,\n",
       " 6115)"
      ]
     },
     "execution_count": 95,
     "metadata": {},
     "output_type": "execute_result"
    }
   ],
   "source": [
    "# previous 6115 datapoint\n",
    "bengali_hate_v3 = pd.read_csv(f\"{path}input/bengali_hate_v3.0.csv\")\n",
    "bengali_hate_v3.label.value_counts(), len(bengali_hate_v3)"
   ]
  },
  {
   "cell_type": "code",
   "execution_count": 96,
   "metadata": {},
   "outputs": [
    {
     "data": {
      "text/html": [
       "<div>\n",
       "<style scoped>\n",
       "    .dataframe tbody tr th:only-of-type {\n",
       "        vertical-align: middle;\n",
       "    }\n",
       "\n",
       "    .dataframe tbody tr th {\n",
       "        vertical-align: top;\n",
       "    }\n",
       "\n",
       "    .dataframe thead th {\n",
       "        text-align: right;\n",
       "    }\n",
       "</style>\n",
       "<table border=\"1\" class=\"dataframe\">\n",
       "  <thead>\n",
       "    <tr style=\"text-align: right;\">\n",
       "      <th></th>\n",
       "      <th>text</th>\n",
       "      <th>label</th>\n",
       "    </tr>\n",
       "  </thead>\n",
       "  <tbody>\n",
       "  </tbody>\n",
       "</table>\n",
       "</div>"
      ],
      "text/plain": [
       "Empty DataFrame\n",
       "Columns: [text, label]\n",
       "Index: []"
      ]
     },
     "execution_count": 96,
     "metadata": {},
     "output_type": "execute_result"
    }
   ],
   "source": [
    "data = pd.concat([multi_hate_data,bengali_hate_v3],axis = 0).reset_index(drop=True)\n",
    "data = data.drop_duplicates(subset=['text','label'],keep='first')\n",
    "data = data.reset_index(drop=True)\n",
    "data[data.isnull().any(axis=1)]"
   ]
  },
  {
   "cell_type": "code",
   "execution_count": 97,
   "metadata": {},
   "outputs": [
    {
     "data": {
      "text/html": [
       "<div>\n",
       "<style scoped>\n",
       "    .dataframe tbody tr th:only-of-type {\n",
       "        vertical-align: middle;\n",
       "    }\n",
       "\n",
       "    .dataframe tbody tr th {\n",
       "        vertical-align: top;\n",
       "    }\n",
       "\n",
       "    .dataframe thead th {\n",
       "        text-align: right;\n",
       "    }\n",
       "</style>\n",
       "<table border=\"1\" class=\"dataframe\">\n",
       "  <thead>\n",
       "    <tr style=\"text-align: right;\">\n",
       "      <th></th>\n",
       "      <th>text</th>\n",
       "      <th>label</th>\n",
       "    </tr>\n",
       "  </thead>\n",
       "  <tbody>\n",
       "    <tr>\n",
       "      <th>711</th>\n",
       "      <td>পড়াশুনা করে মানুষ হবি,আরে না মদ খাবি মানুষ হবি!</td>\n",
       "      <td>Personal</td>\n",
       "    </tr>\n",
       "  </tbody>\n",
       "</table>\n",
       "</div>"
      ],
      "text/plain": [
       "                                                text     label\n",
       "711  পড়াশুনা করে মানুষ হবি,আরে না মদ খাবি মানুষ হবি!  Personal"
      ]
     },
     "execution_count": 97,
     "metadata": {},
     "output_type": "execute_result"
    }
   ],
   "source": [
    "data[data['text'] == 'পড়াশুনা করে মানুষ হবি,আরে না মদ খাবি মানুষ হবি!']"
   ]
  },
  {
   "cell_type": "code",
   "execution_count": 98,
   "metadata": {},
   "outputs": [
    {
     "data": {
      "text/plain": [
       "(Personal        3738\n",
       " Geopolitical    2487\n",
       " Religious       1255\n",
       " Political       1045\n",
       " Name: label, dtype: int64,\n",
       " 8525)"
      ]
     },
     "execution_count": 98,
     "metadata": {},
     "output_type": "execute_result"
    }
   ],
   "source": [
    "data.label.value_counts(), len(data)"
   ]
  },
  {
   "cell_type": "code",
   "execution_count": 99,
   "metadata": {},
   "outputs": [
    {
     "data": {
      "text/plain": [
       "(Personal        3738\n",
       " Geopolitical    2487\n",
       " Religious       1255\n",
       " Political       1045\n",
       " Name: label, dtype: int64,\n",
       " 8525)"
      ]
     },
     "execution_count": 99,
     "metadata": {},
     "output_type": "execute_result"
    }
   ],
   "source": [
    "for _ in range(5000):\n",
    "    data = shuffle(data)\n",
    "    data = data.reset_index(drop=True)\n",
    "data.label.value_counts(), len(data)"
   ]
  },
  {
   "cell_type": "code",
   "execution_count": 100,
   "metadata": {},
   "outputs": [
    {
     "data": {
      "text/plain": [
       "(Personal        3513\n",
       " Geopolitical    2364\n",
       " Religious       1211\n",
       " Political        999\n",
       " Name: label, dtype: int64,\n",
       " 8087)"
      ]
     },
     "execution_count": 100,
     "metadata": {},
     "output_type": "execute_result"
    }
   ],
   "source": [
    "def get_indices(df,col,n):\n",
    "    tmp = []\n",
    "    for i in range(len(df)):\n",
    "        if len(bnltk.word_tokenize(df[col][i])) <= n:\n",
    "            tmp.append(i)\n",
    "    return tmp\n",
    "tmp = get_indices(data, \"text\", 5)\n",
    "data = data.drop(tmp)\n",
    "data = data.reset_index(drop=True)\n",
    "data.label.value_counts(), len(data)"
   ]
  },
  {
   "cell_type": "code",
   "execution_count": 101,
   "metadata": {},
   "outputs": [],
   "source": [
    "train_data = data[: 5887]\n",
    "valid_data = data[5887 : 6887]\n",
    "test_data = data[6887 :]"
   ]
  },
  {
   "cell_type": "code",
   "execution_count": 102,
   "metadata": {},
   "outputs": [
    {
     "data": {
      "text/plain": [
       "8087"
      ]
     },
     "execution_count": 102,
     "metadata": {},
     "output_type": "execute_result"
    }
   ],
   "source": [
    "5887 + 1000 + 1200 = 8087"
   ]
  },
  {
   "cell_type": "code",
   "execution_count": 103,
   "metadata": {},
   "outputs": [
    {
     "data": {
      "text/plain": [
       "(5887, 1000, 1200)"
      ]
     },
     "execution_count": 103,
     "metadata": {},
     "output_type": "execute_result"
    }
   ],
   "source": [
    "len(train_data),len(valid_data), len(test_data)"
   ]
  },
  {
   "cell_type": "code",
   "execution_count": 104,
   "metadata": {},
   "outputs": [
    {
     "data": {
      "text/html": [
       "<div>\n",
       "<style scoped>\n",
       "    .dataframe tbody tr th:only-of-type {\n",
       "        vertical-align: middle;\n",
       "    }\n",
       "\n",
       "    .dataframe tbody tr th {\n",
       "        vertical-align: top;\n",
       "    }\n",
       "\n",
       "    .dataframe thead th {\n",
       "        text-align: right;\n",
       "    }\n",
       "</style>\n",
       "<table border=\"1\" class=\"dataframe\">\n",
       "  <thead>\n",
       "    <tr style=\"text-align: right;\">\n",
       "      <th></th>\n",
       "      <th>text</th>\n",
       "      <th>label</th>\n",
       "    </tr>\n",
       "  </thead>\n",
       "  <tbody>\n",
       "    <tr>\n",
       "      <th>0</th>\n",
       "      <td>৭৫ হামলার আসামী কে এই গডফাদার কালা মন্দির?</td>\n",
       "      <td>Personal</td>\n",
       "    </tr>\n",
       "    <tr>\n",
       "      <th>1</th>\n",
       "      <td>রাজাকারদের মন্ত্রী বানানোর দায়ে তার আরও কঠিন বিচার বাকি আছে</td>\n",
       "      <td>Political</td>\n",
       "    </tr>\n",
       "    <tr>\n",
       "      <th>2</th>\n",
       "      <td>বৃটিশ নাগরিকদের বাংলাদেশ ভ্রমনে সতর্কতা জারী ২৩ আগ্নেয়াস্ত্রসহ যুবলীগ নেতা গ্রেফতার</td>\n",
       "      <td>Geopolitical</td>\n",
       "    </tr>\n",
       "    <tr>\n",
       "      <th>3</th>\n",
       "      <td>বলদ নয়াদিগন্ত কালকে রিপোর্ট করলো হিলারী শপথ নেওয়ার প্রস্তুতি নিচ্ছেন ট্রাম্প শিবিরে হতাশা।</td>\n",
       "      <td>Political</td>\n",
       "    </tr>\n",
       "    <tr>\n",
       "      <th>4</th>\n",
       "      <td>অসভ্য বর্বর বেহায়া ভোট ডাকাত সকল প্রকার খারাপ কাজের চ্যাম্পিয়ন শেখ হাসিনার সরকারের বিকল্প আর নেই</td>\n",
       "      <td>Geopolitical</td>\n",
       "    </tr>\n",
       "    <tr>\n",
       "      <th>...</th>\n",
       "      <td>...</td>\n",
       "      <td>...</td>\n",
       "    </tr>\n",
       "    <tr>\n",
       "      <th>5882</th>\n",
       "      <td>কতটা!জানোয়ার হলে দাদা নামের কুলাঙ্গার তার সাত বছরের নাতনীকে ধর্ষণ করতে পারে</td>\n",
       "      <td>Personal</td>\n",
       "    </tr>\n",
       "    <tr>\n",
       "      <th>5883</th>\n",
       "      <td>ঐ শুয়োরের মুখে কোষে দুটা জুতার বারি মার ঐ খানকি মাগির এত সাহস পাইলো কথা থেকে ট্রাম জিতার পর থেকে এই মাগির এত স্পর্ধা বেড়েছে</td>\n",
       "      <td>Personal</td>\n",
       "    </tr>\n",
       "    <tr>\n",
       "      <th>5884</th>\n",
       "      <td>তাকে বলে দিও, লিঙ্গ মুখে নিলে বাচ্চা হয় না</td>\n",
       "      <td>Personal</td>\n",
       "    </tr>\n",
       "    <tr>\n",
       "      <th>5885</th>\n",
       "      <td>হেসে লাভ নাই, এইবার মাইর খাবা। কোন মাফ পাবা না।</td>\n",
       "      <td>Personal</td>\n",
       "    </tr>\n",
       "    <tr>\n",
       "      <th>5886</th>\n",
       "      <td>মাহি যে ব্যক্তি একটা মেম্বার হওয়ার যোগ্য না বেটা বেশি পটর পটর করে</td>\n",
       "      <td>Political</td>\n",
       "    </tr>\n",
       "  </tbody>\n",
       "</table>\n",
       "<p>5887 rows × 2 columns</p>\n",
       "</div>"
      ],
      "text/plain": [
       "                                                                                                                               text  \\\n",
       "0                                                                                        ৭৫ হামলার আসামী কে এই গডফাদার কালা মন্দির?   \n",
       "1                                                                       রাজাকারদের মন্ত্রী বানানোর দায়ে তার আরও কঠিন বিচার বাকি আছে   \n",
       "2                                              বৃটিশ নাগরিকদের বাংলাদেশ ভ্রমনে সতর্কতা জারী ২৩ আগ্নেয়াস্ত্রসহ যুবলীগ নেতা গ্রেফতার    \n",
       "3                                       বলদ নয়াদিগন্ত কালকে রিপোর্ট করলো হিলারী শপথ নেওয়ার প্রস্তুতি নিচ্ছেন ট্রাম্প শিবিরে হতাশা।    \n",
       "4                                  অসভ্য বর্বর বেহায়া ভোট ডাকাত সকল প্রকার খারাপ কাজের চ্যাম্পিয়ন শেখ হাসিনার সরকারের বিকল্প আর নেই   \n",
       "...                                                                                                                             ...   \n",
       "5882                                                    কতটা!জানোয়ার হলে দাদা নামের কুলাঙ্গার তার সাত বছরের নাতনীকে ধর্ষণ করতে পারে   \n",
       "5883  ঐ শুয়োরের মুখে কোষে দুটা জুতার বারি মার ঐ খানকি মাগির এত সাহস পাইলো কথা থেকে ট্রাম জিতার পর থেকে এই মাগির এত স্পর্ধা বেড়েছে   \n",
       "5884                                                                                    তাকে বলে দিও, লিঙ্গ মুখে নিলে বাচ্চা হয় না    \n",
       "5885                                                                                হেসে লাভ নাই, এইবার মাইর খাবা। কোন মাফ পাবা না।   \n",
       "5886                                                             মাহি যে ব্যক্তি একটা মেম্বার হওয়ার যোগ্য না বেটা বেশি পটর পটর করে    \n",
       "\n",
       "             label  \n",
       "0         Personal  \n",
       "1        Political  \n",
       "2     Geopolitical  \n",
       "3        Political  \n",
       "4     Geopolitical  \n",
       "...            ...  \n",
       "5882      Personal  \n",
       "5883      Personal  \n",
       "5884      Personal  \n",
       "5885      Personal  \n",
       "5886     Political  \n",
       "\n",
       "[5887 rows x 2 columns]"
      ]
     },
     "execution_count": 104,
     "metadata": {},
     "output_type": "execute_result"
    }
   ],
   "source": [
    "train_data"
   ]
  },
  {
   "cell_type": "code",
   "execution_count": 105,
   "metadata": {},
   "outputs": [
    {
     "data": {
      "text/html": [
       "<div>\n",
       "<style scoped>\n",
       "    .dataframe tbody tr th:only-of-type {\n",
       "        vertical-align: middle;\n",
       "    }\n",
       "\n",
       "    .dataframe tbody tr th {\n",
       "        vertical-align: top;\n",
       "    }\n",
       "\n",
       "    .dataframe thead th {\n",
       "        text-align: right;\n",
       "    }\n",
       "</style>\n",
       "<table border=\"1\" class=\"dataframe\">\n",
       "  <thead>\n",
       "    <tr style=\"text-align: right;\">\n",
       "      <th></th>\n",
       "      <th>text</th>\n",
       "      <th>label</th>\n",
       "    </tr>\n",
       "  </thead>\n",
       "  <tbody>\n",
       "    <tr>\n",
       "      <th>5887</th>\n",
       "      <td>বীর্যপাতের আগে সে হিরো, আর পরে সে জিরো</td>\n",
       "      <td>Personal</td>\n",
       "    </tr>\n",
       "    <tr>\n",
       "      <th>5888</th>\n",
       "      <td>এই টাকলা, এদিকে শোন ভদ্র ভাবে কথা বল মাননীয় বাল হীন ব্যক্তি একটু এদিকে শুনবেন?</td>\n",
       "      <td>Personal</td>\n",
       "    </tr>\n",
       "    <tr>\n",
       "      <th>5889</th>\n",
       "      <td>তোদের জ¦লবে আমার তাতেই চলবে। কি বুজলি?</td>\n",
       "      <td>Personal</td>\n",
       "    </tr>\n",
       "    <tr>\n",
       "      <th>5890</th>\n",
       "      <td>আপনার গরম লাগে না শরম লাগে?</td>\n",
       "      <td>Personal</td>\n",
       "    </tr>\n",
       "    <tr>\n",
       "      <th>5891</th>\n",
       "      <td>নিজের আল্লাহ রি চরিত্রটা দেখ ৭২ হুরের লোভে তরা অন্দহয়ে আছিস</td>\n",
       "      <td>Religious</td>\n",
       "    </tr>\n",
       "    <tr>\n",
       "      <th>...</th>\n",
       "      <td>...</td>\n",
       "      <td>...</td>\n",
       "    </tr>\n",
       "    <tr>\n",
       "      <th>6882</th>\n",
       "      <td>আমরা লুটে পুটে খাই, তাই আনন্দের সীমা নাই</td>\n",
       "      <td>Geopolitical</td>\n",
       "    </tr>\n",
       "    <tr>\n",
       "      <th>6883</th>\n",
       "      <td>সব মিমারদের চরিত্র খারাপ, তাতে আমার বাল ছিড়া গেছে</td>\n",
       "      <td>Personal</td>\n",
       "    </tr>\n",
       "    <tr>\n",
       "      <th>6884</th>\n",
       "      <td>এই ম্যাইয়ারে হেমায়েতপুর থেইকা খোলা অবস্থায় ছাইড়া দিছে কেড়ায়!!</td>\n",
       "      <td>Personal</td>\n",
       "    </tr>\n",
       "    <tr>\n",
       "      <th>6885</th>\n",
       "      <td>অভিজিৎ রায় হত্যাকান্ড। খুনিরা দিব্যি চলে গেল, পুলিশ নীরবে দেখল।</td>\n",
       "      <td>Personal</td>\n",
       "    </tr>\n",
       "    <tr>\n",
       "      <th>6886</th>\n",
       "      <td>পুরো আরবরা কেন পরাজিত? আরবদের ইতিহাস জানতে হবে।</td>\n",
       "      <td>Geopolitical</td>\n",
       "    </tr>\n",
       "  </tbody>\n",
       "</table>\n",
       "<p>1000 rows × 2 columns</p>\n",
       "</div>"
      ],
      "text/plain": [
       "                                                                                 text  \\\n",
       "5887                                           বীর্যপাতের আগে সে হিরো, আর পরে সে জিরো   \n",
       "5888  এই টাকলা, এদিকে শোন ভদ্র ভাবে কথা বল মাননীয় বাল হীন ব্যক্তি একটু এদিকে শুনবেন?    \n",
       "5889                                           তোদের জ¦লবে আমার তাতেই চলবে। কি বুজলি?   \n",
       "5890                                                      আপনার গরম লাগে না শরম লাগে?   \n",
       "5891                      নিজের আল্লাহ রি চরিত্রটা দেখ ৭২ হুরের লোভে তরা অন্দহয়ে আছিস   \n",
       "...                                                                               ...   \n",
       "6882                                        আমরা লুটে পুটে খাই, তাই আনন্দের সীমা নাই    \n",
       "6883                               সব মিমারদের চরিত্র খারাপ, তাতে আমার বাল ছিড়া গেছে    \n",
       "6884                    এই ম্যাইয়ারে হেমায়েতপুর থেইকা খোলা অবস্থায় ছাইড়া দিছে কেড়ায়!!   \n",
       "6885                  অভিজিৎ রায় হত্যাকান্ড। খুনিরা দিব্যি চলে গেল, পুলিশ নীরবে দেখল।   \n",
       "6886                                  পুরো আরবরা কেন পরাজিত? আরবদের ইতিহাস জানতে হবে।   \n",
       "\n",
       "             label  \n",
       "5887      Personal  \n",
       "5888      Personal  \n",
       "5889      Personal  \n",
       "5890      Personal  \n",
       "5891     Religious  \n",
       "...            ...  \n",
       "6882  Geopolitical  \n",
       "6883      Personal  \n",
       "6884      Personal  \n",
       "6885      Personal  \n",
       "6886  Geopolitical  \n",
       "\n",
       "[1000 rows x 2 columns]"
      ]
     },
     "execution_count": 105,
     "metadata": {},
     "output_type": "execute_result"
    }
   ],
   "source": [
    "valid_data"
   ]
  },
  {
   "cell_type": "code",
   "execution_count": 106,
   "metadata": {},
   "outputs": [
    {
     "data": {
      "text/html": [
       "<div>\n",
       "<style scoped>\n",
       "    .dataframe tbody tr th:only-of-type {\n",
       "        vertical-align: middle;\n",
       "    }\n",
       "\n",
       "    .dataframe tbody tr th {\n",
       "        vertical-align: top;\n",
       "    }\n",
       "\n",
       "    .dataframe thead th {\n",
       "        text-align: right;\n",
       "    }\n",
       "</style>\n",
       "<table border=\"1\" class=\"dataframe\">\n",
       "  <thead>\n",
       "    <tr style=\"text-align: right;\">\n",
       "      <th></th>\n",
       "      <th>text</th>\n",
       "      <th>label</th>\n",
       "    </tr>\n",
       "  </thead>\n",
       "  <tbody>\n",
       "    <tr>\n",
       "      <th>6887</th>\n",
       "      <td>মুশরিকদের হত্যা কর যেখানেই তাদের পাও এবং তাদের ধরো, ঘেরাও করো এবং তাদের প্রতিটি ঘাঁটিতে তাদের খবরাখবর নেওয়ার জন্য শক্ত হয়ে বসো।</td>\n",
       "      <td>Religious</td>\n",
       "    </tr>\n",
       "    <tr>\n",
       "      <th>6888</th>\n",
       "      <td>কোথায় মহারানী আর কোথায় চুতমারানী?</td>\n",
       "      <td>Personal</td>\n",
       "    </tr>\n",
       "    <tr>\n",
       "      <th>6889</th>\n",
       "      <td>হিন্দু বা কাফের দের সাতে হাত মিলিয়ে সারা দুনিয়াতে ফেতনা লাগায়ে নিজেরা শেষ হয়ে জাচ্ছে</td>\n",
       "      <td>Religious</td>\n",
       "    </tr>\n",
       "    <tr>\n",
       "      <th>6890</th>\n",
       "      <td>নিজের তো সব গেছেই এখন মেয়েটার জীবন শেষ করতে আকাটা বিয়া করছে খুব বেশী না, মাস নয় থেকে ছয় মিথিলার হবে পরাজয়</td>\n",
       "      <td>Personal</td>\n",
       "    </tr>\n",
       "    <tr>\n",
       "      <th>6891</th>\n",
       "      <td>এই ছবি পুরো জাতীকে লজ্জা দেয়, আজ ঢাকায় ট্রাক থেকে পেঁয়াজ কিনতে এসে এভাবে ছোট্ট বাচ্চাটাকে কোলে নিয়ে অসহায় চেহারায় টাকা দিচ্ছেন বিক্রেতাকে।</td>\n",
       "      <td>Political</td>\n",
       "    </tr>\n",
       "    <tr>\n",
       "      <th>...</th>\n",
       "      <td>...</td>\n",
       "      <td>...</td>\n",
       "    </tr>\n",
       "    <tr>\n",
       "      <th>8082</th>\n",
       "      <td>কুদ্দুস বলতো গরু আমাদের কি দেয়? স্যার, গরু আমাদের গুতা দেয়।</td>\n",
       "      <td>Personal</td>\n",
       "    </tr>\n",
       "    <tr>\n",
       "      <th>8083</th>\n",
       "      <td>ওরা দুজন আগের জন্মে মুসলমান ছিল এই জন্মে হিন্দু হয়েও ভুলতে পারেনি তাই মাসতুতো ভাই বোন প্রেম করেছে কারন ভাই বোনের বিবাহ মুসলমানদের মধ্যেই হয়</td>\n",
       "      <td>Personal</td>\n",
       "    </tr>\n",
       "    <tr>\n",
       "      <th>8084</th>\n",
       "      <td>মুহম্মদ দুনিয়াতেই মাগিবাজি লম্পটগিরি করল তার উন্মত জন্নতে মাগীবাজি করবে।</td>\n",
       "      <td>Religious</td>\n",
       "    </tr>\n",
       "    <tr>\n",
       "      <th>8085</th>\n",
       "      <td>কেনেন, লাগান, ভুলে যান। আরাম করে চুদে দেন।</td>\n",
       "      <td>Personal</td>\n",
       "    </tr>\n",
       "    <tr>\n",
       "      <th>8086</th>\n",
       "      <td>এক পক্ষ হয়রানির শিকার সময়ের সাহসী শিক্ষক হালিমা খাতুন পুতুল, অপরপক্ষ অন্যায়কারী অফিস সহায়ক। আপনি কার পক্ষে?</td>\n",
       "      <td>Personal</td>\n",
       "    </tr>\n",
       "  </tbody>\n",
       "</table>\n",
       "<p>1200 rows × 2 columns</p>\n",
       "</div>"
      ],
      "text/plain": [
       "                                                                                                                                              text  \\\n",
       "6887              মুশরিকদের হত্যা কর যেখানেই তাদের পাও এবং তাদের ধরো, ঘেরাও করো এবং তাদের প্রতিটি ঘাঁটিতে তাদের খবরাখবর নেওয়ার জন্য শক্ত হয়ে বসো।    \n",
       "6888                                                                                                            কোথায় মহারানী আর কোথায় চুতমারানী?    \n",
       "6889                                                         হিন্দু বা কাফের দের সাতে হাত মিলিয়ে সারা দুনিয়াতে ফেতনা লাগায়ে নিজেরা শেষ হয়ে জাচ্ছে    \n",
       "6890                                    নিজের তো সব গেছেই এখন মেয়েটার জীবন শেষ করতে আকাটা বিয়া করছে খুব বেশী না, মাস নয় থেকে ছয় মিথিলার হবে পরাজয়    \n",
       "6891    এই ছবি পুরো জাতীকে লজ্জা দেয়, আজ ঢাকায় ট্রাক থেকে পেঁয়াজ কিনতে এসে এভাবে ছোট্ট বাচ্চাটাকে কোলে নিয়ে অসহায় চেহারায় টাকা দিচ্ছেন বিক্রেতাকে।   \n",
       "...                                                                                                                                            ...   \n",
       "8082                                                                                   কুদ্দুস বলতো গরু আমাদের কি দেয়? স্যার, গরু আমাদের গুতা দেয়।   \n",
       "8083  ওরা দুজন আগের জন্মে মুসলমান ছিল এই জন্মে হিন্দু হয়েও ভুলতে পারেনি তাই মাসতুতো ভাই বোন প্রেম করেছে কারন ভাই বোনের বিবাহ মুসলমানদের মধ্যেই হয়    \n",
       "8084                                                                      মুহম্মদ দুনিয়াতেই মাগিবাজি লম্পটগিরি করল তার উন্মত জন্নতে মাগীবাজি করবে।   \n",
       "8085                                                                                                    কেনেন, লাগান, ভুলে যান। আরাম করে চুদে দেন।   \n",
       "8086                                   এক পক্ষ হয়রানির শিকার সময়ের সাহসী শিক্ষক হালিমা খাতুন পুতুল, অপরপক্ষ অন্যায়কারী অফিস সহায়ক। আপনি কার পক্ষে?   \n",
       "\n",
       "          label  \n",
       "6887  Religious  \n",
       "6888   Personal  \n",
       "6889  Religious  \n",
       "6890   Personal  \n",
       "6891  Political  \n",
       "...         ...  \n",
       "8082   Personal  \n",
       "8083   Personal  \n",
       "8084  Religious  \n",
       "8085   Personal  \n",
       "8086   Personal  \n",
       "\n",
       "[1200 rows x 2 columns]"
      ]
     },
     "execution_count": 106,
     "metadata": {},
     "output_type": "execute_result"
    }
   ],
   "source": [
    "test_data"
   ]
  },
  {
   "cell_type": "code",
   "execution_count": 107,
   "metadata": {},
   "outputs": [],
   "source": [
    "train_data = train_data.reset_index(drop=True)\n",
    "valid_data = valid_data.reset_index(drop=True)\n",
    "test_data = test_data.reset_index(drop=True)"
   ]
  },
  {
   "cell_type": "code",
   "execution_count": 108,
   "metadata": {},
   "outputs": [
    {
     "data": {
      "text/html": [
       "<div>\n",
       "<style scoped>\n",
       "    .dataframe tbody tr th:only-of-type {\n",
       "        vertical-align: middle;\n",
       "    }\n",
       "\n",
       "    .dataframe tbody tr th {\n",
       "        vertical-align: top;\n",
       "    }\n",
       "\n",
       "    .dataframe thead th {\n",
       "        text-align: right;\n",
       "    }\n",
       "</style>\n",
       "<table border=\"1\" class=\"dataframe\">\n",
       "  <thead>\n",
       "    <tr style=\"text-align: right;\">\n",
       "      <th></th>\n",
       "      <th>text</th>\n",
       "      <th>label</th>\n",
       "    </tr>\n",
       "  </thead>\n",
       "  <tbody>\n",
       "  </tbody>\n",
       "</table>\n",
       "</div>"
      ],
      "text/plain": [
       "Empty DataFrame\n",
       "Columns: [text, label]\n",
       "Index: []"
      ]
     },
     "execution_count": 108,
     "metadata": {},
     "output_type": "execute_result"
    }
   ],
   "source": [
    "test_data[test_data.isnull().any(axis=1)]"
   ]
  },
  {
   "cell_type": "code",
   "execution_count": 115,
   "metadata": {},
   "outputs": [
    {
     "data": {
      "text/plain": [
       "(Personal        2561\n",
       " Geopolitical    1691\n",
       " Religious        908\n",
       " Political        727\n",
       " Name: label, dtype: int64,\n",
       " 5887)"
      ]
     },
     "execution_count": 115,
     "metadata": {},
     "output_type": "execute_result"
    }
   ],
   "source": [
    "train_data.label.value_counts(), len(train_data)"
   ]
  },
  {
   "cell_type": "code",
   "execution_count": 116,
   "metadata": {},
   "outputs": [
    {
     "data": {
      "text/plain": [
       "(Personal        428\n",
       " Geopolitical    313\n",
       " Religious       144\n",
       " Political       115\n",
       " Name: label, dtype: int64,\n",
       " 1000)"
      ]
     },
     "execution_count": 116,
     "metadata": {},
     "output_type": "execute_result"
    }
   ],
   "source": [
    "valid_data.label.value_counts(), len(valid_data)"
   ]
  },
  {
   "cell_type": "code",
   "execution_count": 117,
   "metadata": {},
   "outputs": [
    {
     "data": {
      "text/plain": [
       "(Personal        524\n",
       " Geopolitical    360\n",
       " Religious       159\n",
       " Political       157\n",
       " Name: label, dtype: int64,\n",
       " 1200)"
      ]
     },
     "execution_count": 117,
     "metadata": {},
     "output_type": "execute_result"
    }
   ],
   "source": [
    "test_data.label.value_counts(), len(test_data)"
   ]
  },
  {
   "cell_type": "code",
   "execution_count": 124,
   "metadata": {},
   "outputs": [
    {
     "data": {
      "text/plain": [
       "(0    2561\n",
       " 3    1691\n",
       " 2     908\n",
       " 1     727\n",
       " Name: target, dtype: int64,\n",
       " 5887)"
      ]
     },
     "execution_count": 124,
     "metadata": {},
     "output_type": "execute_result"
    }
   ],
   "source": [
    "def making_label(st):\n",
    "    if(st=='Personal'):\n",
    "        return 0\n",
    "    elif(st=='Political'):\n",
    "        return 1\n",
    "    elif(st=='Religious'):\n",
    "        return 2\n",
    "    elif(st=='Geopolitical'):\n",
    "        return 3\n",
    "train_data['target'] = train_data['label'].apply(making_label)\n",
    "train_data.target.value_counts(), len(train_data)"
   ]
  },
  {
   "cell_type": "code",
   "execution_count": 125,
   "metadata": {},
   "outputs": [
    {
     "data": {
      "text/plain": [
       "(0    524\n",
       " 3    360\n",
       " 2    159\n",
       " 1    157\n",
       " Name: target, dtype: int64,\n",
       " 1200)"
      ]
     },
     "execution_count": 125,
     "metadata": {},
     "output_type": "execute_result"
    }
   ],
   "source": [
    "test_data['target'] = test_data['label'].apply(making_label)\n",
    "test_data.target.value_counts(), len(test_data)"
   ]
  },
  {
   "cell_type": "code",
   "execution_count": 126,
   "metadata": {},
   "outputs": [
    {
     "data": {
      "text/plain": [
       "(0    428\n",
       " 3    313\n",
       " 2    144\n",
       " 1    115\n",
       " Name: target, dtype: int64,\n",
       " 1000)"
      ]
     },
     "execution_count": 126,
     "metadata": {},
     "output_type": "execute_result"
    }
   ],
   "source": [
    "valid_data['target'] = valid_data['label'].apply(making_label)\n",
    "valid_data.target.value_counts(), len(valid_data)"
   ]
  },
  {
   "cell_type": "code",
   "execution_count": 127,
   "metadata": {},
   "outputs": [],
   "source": [
    "train_data.to_csv(f\"{path}input/train.csv\",index = False)\n",
    "test_data.to_csv(f\"{path}input/test.csv\",index = False)\n",
    "valid_data.to_csv(f\"{path}input/validation.csv\",index = False)"
   ]
  }
 ],
 "metadata": {
  "kernelspec": {
   "display_name": "Python 3",
   "language": "python",
   "name": "python3"
  },
  "language_info": {
   "codemirror_mode": {
    "name": "ipython",
    "version": 3
   },
   "file_extension": ".py",
   "mimetype": "text/x-python",
   "name": "python",
   "nbconvert_exporter": "python",
   "pygments_lexer": "ipython3",
   "version": "3.8.5"
  }
 },
 "nbformat": 4,
 "nbformat_minor": 4
}
